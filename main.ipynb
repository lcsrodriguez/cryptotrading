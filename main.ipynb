{
 "cells": [
  {
   "cell_type": "markdown",
   "metadata": {},
   "source": [
    "# Crypto Trading strategies & Transfer learning - ML/DL project\n",
    "\n",
    "\n",
    "- **Arian NAJAFY ABRANDABADY - Lucas RODRIGUEZ - Bastien TRIDON**\n",
    "- *Academic works (March - April 2023)*"
   ]
  },
  {
   "cell_type": "markdown",
   "metadata": {},
   "source": [
    "**Original dataset**:\n",
    "- https://www.kaggle.com/competitions/g-research-crypto-forecasting"
   ]
  },
  {
   "cell_type": "markdown",
   "metadata": {},
   "source": [
    "First, please check your project architecture:\n",
    "\n",
    "```\n",
    ".\n",
    "├── README.md\n",
    "├── data\n",
    "│   ├── asset_details.csv\n",
    "│   ├── example_test.csv\n",
    "│   ├── supplemental_train.csv\n",
    "│   └── train.csv\n",
    "├── main.ipynb\n",
    "└── requirements.txt\n",
    "```"
   ]
  },
  {
   "cell_type": "markdown",
   "metadata": {},
   "source": [
    "Then, please make sure you have installed each dependency:"
   ]
  },
  {
   "cell_type": "code",
   "execution_count": 329,
   "metadata": {
    "ExecuteTime": {
     "end_time": "2023-04-07T13:18:34.648678Z",
     "start_time": "2023-04-07T13:18:34.643709Z"
    }
   },
   "outputs": [],
   "source": [
    "# Un-comment this cell and run it\n",
    "#!pip3 install -r requirements.txt"
   ]
  },
  {
   "cell_type": "markdown",
   "metadata": {},
   "source": [
    "# Pre-processing"
   ]
  },
  {
   "cell_type": "markdown",
   "metadata": {},
   "source": [
    "<span style=\"color:red\">**WARNING**: The `tablib` module requires an additional dependency. Please refer to the official [documentation](https://ta-lib.github.io/ta-lib-python/install.html).</span>"
   ]
  },
  {
   "cell_type": "code",
   "execution_count": 330,
   "metadata": {
    "ExecuteTime": {
     "end_time": "2023-03-24T17:27:34.506215Z",
     "start_time": "2023-03-24T17:27:34.498505Z"
    }
   },
   "outputs": [],
   "source": [
    "# Importing necessary modules\n",
    "import pandas as pd\n",
    "import numpy as np\n",
    "import glob\n",
    "import warnings\n",
    "import scikitplot as skplt\n",
    "import matplotlib\n",
    "import missingno as msn\n",
    "import matplotlib.pyplot as plt\n",
    "import seaborn as sns\n",
    "import yfinance as yf\n",
    "import pandas_datareader as pdr\n",
    "import talib as tl\n",
    "from sklearn.model_selection import train_test_split, TimeSeriesSplit\n",
    "from sklearn.metrics import (precision_recall_curve,\n",
    "                             plot_precision_recall_curve,\n",
    "                             plot_confusion_matrix,\n",
    "                             plot_roc_curve,\n",
    "                             roc_auc_score)\n",
    "\n",
    "# Plotting options\n",
    "#matplotlib.use(\"nbagg\")\n",
    "#from plotly.offline import init_notebook_mode, iplot\n",
    "#from plotly.graph_objs import *\n",
    "#import mplfinance as mpf\n",
    "#init_notebook_mode(connected=True) \n",
    "#pd.options.plotting.backend = \"plotly\"\n",
    "\n",
    "# Setting default parameters\n",
    "plt.rcParams[\"figure.figsize\"] = [12, 5] # Figure sizes for Matplotlib \n",
    "plt.rcParams[\"axes.prop_cycle\"] = plt.cycler(color=[\"blue\", \"green\", \"red\", \"orange\", \"purple\", \"magenta\"]) # Color for plotting\n",
    "\n",
    "# Silencing all warnings for a better UX\n",
    "warnings.filterwarnings(\"ignore\")"
   ]
  },
  {
   "cell_type": "markdown",
   "metadata": {},
   "source": [
    "## Utils & Necessary functions"
   ]
  },
  {
   "cell_type": "code",
   "execution_count": 331,
   "metadata": {
    "ExecuteTime": {
     "end_time": "2023-03-24T16:13:58.073970Z",
     "start_time": "2023-03-24T16:13:58.068869Z"
    }
   },
   "outputs": [],
   "source": [
    "# Declaring the column labels\n",
    "OHLC = [\"Open\", \"High\", \"Low\", \"Close\"]\n",
    "OHLCV = OHLC + [\"Volume\"]\n",
    "TRADING_ACTIVITY = [\"Count\"]\n",
    "VWAP = [\"VWAP\"]\n",
    "TARGET = [\"Target\"]"
   ]
  },
  {
   "cell_type": "code",
   "execution_count": 332,
   "metadata": {
    "ExecuteTime": {
     "end_time": "2023-03-24T16:13:58.412373Z",
     "start_time": "2023-03-24T16:13:58.400813Z"
    }
   },
   "outputs": [
    {
     "data": {
      "text/plain": [
       "['data/asset_details.csv',\n",
       " 'data/supplemental_train.csv',\n",
       " 'data/train.csv',\n",
       " 'data/example_test.csv']"
      ]
     },
     "execution_count": 332,
     "metadata": {},
     "output_type": "execute_result"
    }
   ],
   "source": [
    "# Checking data filenames\n",
    "DATA_FILENAMES = glob.glob(\"data/*.csv\")\n",
    "DATA_FILENAMES"
   ]
  },
  {
   "cell_type": "code",
   "execution_count": 333,
   "metadata": {
    "ExecuteTime": {
     "end_time": "2023-03-24T16:13:59.574264Z",
     "start_time": "2023-03-24T16:13:59.570360Z"
    }
   },
   "outputs": [],
   "source": [
    "# Checking that we only have the 4 files\n",
    "assert len(DATA_FILENAMES) == 4"
   ]
  },
  {
   "cell_type": "code",
   "execution_count": 334,
   "metadata": {
    "ExecuteTime": {
     "end_time": "2023-03-24T16:13:59.803072Z",
     "start_time": "2023-03-24T16:13:59.783390Z"
    }
   },
   "outputs": [
    {
     "data": {
      "text/html": [
       "<div>\n",
       "<style scoped>\n",
       "    .dataframe tbody tr th:only-of-type {\n",
       "        vertical-align: middle;\n",
       "    }\n",
       "\n",
       "    .dataframe tbody tr th {\n",
       "        vertical-align: top;\n",
       "    }\n",
       "\n",
       "    .dataframe thead th {\n",
       "        text-align: right;\n",
       "    }\n",
       "</style>\n",
       "<table border=\"1\" class=\"dataframe\">\n",
       "  <thead>\n",
       "    <tr style=\"text-align: right;\">\n",
       "      <th>Asset_ID</th>\n",
       "      <th>2</th>\n",
       "      <th>0</th>\n",
       "      <th>1</th>\n",
       "      <th>5</th>\n",
       "      <th>7</th>\n",
       "      <th>6</th>\n",
       "      <th>9</th>\n",
       "      <th>11</th>\n",
       "      <th>13</th>\n",
       "      <th>12</th>\n",
       "      <th>3</th>\n",
       "      <th>8</th>\n",
       "      <th>10</th>\n",
       "      <th>4</th>\n",
       "    </tr>\n",
       "  </thead>\n",
       "  <tbody>\n",
       "    <tr>\n",
       "      <th>Weight</th>\n",
       "      <td>2.397895</td>\n",
       "      <td>4.304065</td>\n",
       "      <td>6.779922</td>\n",
       "      <td>1.386294</td>\n",
       "      <td>2.079442</td>\n",
       "      <td>5.894403</td>\n",
       "      <td>2.397895</td>\n",
       "      <td>1.609438</td>\n",
       "      <td>1.791759</td>\n",
       "      <td>2.079442</td>\n",
       "      <td>4.406719</td>\n",
       "      <td>1.098612</td>\n",
       "      <td>1.098612</td>\n",
       "      <td>3.555348</td>\n",
       "    </tr>\n",
       "    <tr>\n",
       "      <th>Asset_Name</th>\n",
       "      <td>Bitcoin Cash</td>\n",
       "      <td>Binance Coin</td>\n",
       "      <td>Bitcoin</td>\n",
       "      <td>EOS.IO</td>\n",
       "      <td>Ethereum Classic</td>\n",
       "      <td>Ethereum</td>\n",
       "      <td>Litecoin</td>\n",
       "      <td>Monero</td>\n",
       "      <td>TRON</td>\n",
       "      <td>Stellar</td>\n",
       "      <td>Cardano</td>\n",
       "      <td>IOTA</td>\n",
       "      <td>Maker</td>\n",
       "      <td>Dogecoin</td>\n",
       "    </tr>\n",
       "  </tbody>\n",
       "</table>\n",
       "</div>"
      ],
      "text/plain": [
       "Asset_ID              2             0         1         5                 7   \\\n",
       "Weight          2.397895      4.304065  6.779922  1.386294          2.079442   \n",
       "Asset_Name  Bitcoin Cash  Binance Coin   Bitcoin    EOS.IO  Ethereum Classic   \n",
       "\n",
       "Asset_ID          6         9         11        13        12        3   \\\n",
       "Weight      5.894403  2.397895  1.609438  1.791759  2.079442  4.406719   \n",
       "Asset_Name  Ethereum  Litecoin    Monero      TRON   Stellar   Cardano   \n",
       "\n",
       "Asset_ID          8         10        4   \n",
       "Weight      1.098612  1.098612  3.555348  \n",
       "Asset_Name      IOTA     Maker  Dogecoin  "
      ]
     },
     "execution_count": 334,
     "metadata": {},
     "output_type": "execute_result"
    }
   ],
   "source": [
    "# Importing and storing asset details\n",
    "ASSET_DETAILS = pd.read_csv(filepath_or_buffer=\"data/asset_details.csv\", index_col=\"Asset_ID\")\n",
    "ASSET_DETAILS.T"
   ]
  },
  {
   "cell_type": "code",
   "execution_count": 335,
   "metadata": {
    "ExecuteTime": {
     "end_time": "2023-03-24T16:14:00.960926Z",
     "start_time": "2023-03-24T16:14:00.954567Z"
    }
   },
   "outputs": [
    {
     "data": {
      "text/plain": [
       "[0, 1, 2, 3, 4, 5, 6, 7, 8, 9, 10, 11, 12, 13]"
      ]
     },
     "execution_count": 335,
     "metadata": {},
     "output_type": "execute_result"
    }
   ],
   "source": [
    "# Retrieving asset ids\n",
    "ASSET_IDS = sorted(list(ASSET_DETAILS.index))\n",
    "ASSET_IDS"
   ]
  },
  {
   "cell_type": "code",
   "execution_count": 336,
   "metadata": {
    "ExecuteTime": {
     "end_time": "2023-03-24T16:14:01.867229Z",
     "start_time": "2023-03-24T16:14:01.861820Z"
    }
   },
   "outputs": [],
   "source": [
    "# Declaring utils functions\n",
    "\n",
    "def get_asset_id(asset_name: str) -> int:\n",
    "    \"\"\"\n",
    "    Function returning the asset id from a given asset name\n",
    "    \"\"\"\n",
    "    # Getting the list of asset names\n",
    "    LIST_ASSET_NAMES = ASSET_DETAILS['Asset_Name'].to_numpy()\n",
    "    \n",
    "    # Checking if the asset name is correct\n",
    "    if str(asset_name) not in LIST_ASSET_NAMES:\n",
    "        raise Exception(f\"The given asset name is unknown\\nPlease use one from: {LIST_ASSET_NAMES}\")\n",
    "    \n",
    "    # Returning the corresponding asset id\n",
    "    return list(ASSET_DETAILS.index[ASSET_DETAILS[\"Asset_Name\"] == str(asset_name)])[0]\n",
    "\n",
    "def get_asset_name(asset_id: int) -> str:\n",
    "    \"\"\"\n",
    "    Function returning the asset name from a given asset id\n",
    "    \"\"\"\n",
    "    if int(asset_id) not in ASSET_IDS:\n",
    "        raise Exception(f\"The given asset id is unknown\\nPlease use one from: {ASSET_IDS}\")\n",
    "    \n",
    "    return ASSET_DETAILS[\"Asset_Name\"][asset_id]"
   ]
  },
  {
   "cell_type": "code",
   "execution_count": 337,
   "metadata": {
    "ExecuteTime": {
     "end_time": "2023-03-24T16:14:02.513010Z",
     "start_time": "2023-03-24T16:14:02.504707Z"
    }
   },
   "outputs": [
    {
     "data": {
      "text/plain": [
       "['Binance Coin',\n",
       " 'Bitcoin',\n",
       " 'Bitcoin Cash',\n",
       " 'Cardano',\n",
       " 'Dogecoin',\n",
       " 'EOS.IO',\n",
       " 'Ethereum',\n",
       " 'Ethereum Classic',\n",
       " 'IOTA',\n",
       " 'Litecoin',\n",
       " 'Maker',\n",
       " 'Monero',\n",
       " 'Stellar',\n",
       " 'TRON']"
      ]
     },
     "execution_count": 337,
     "metadata": {},
     "output_type": "execute_result"
    }
   ],
   "source": [
    "ASSET_NAMES = [str(get_asset_name(k)) for k in ASSET_IDS]\n",
    "ASSET_NAMES"
   ]
  },
  {
   "cell_type": "code",
   "execution_count": 338,
   "metadata": {
    "ExecuteTime": {
     "end_time": "2023-03-24T16:14:03.392840Z",
     "start_time": "2023-03-24T16:14:03.386817Z"
    }
   },
   "outputs": [
    {
     "data": {
      "text/plain": [
       "1"
      ]
     },
     "execution_count": 338,
     "metadata": {},
     "output_type": "execute_result"
    }
   ],
   "source": [
    "# Example\n",
    "get_asset_id(\"Bitcoin\")"
   ]
  },
  {
   "cell_type": "markdown",
   "metadata": {},
   "source": [
    "## Datasets imports (TRAIN/TEST)"
   ]
  },
  {
   "cell_type": "markdown",
   "metadata": {},
   "source": [
    "**TRAIN/TRAIN_2 datasets**"
   ]
  },
  {
   "cell_type": "code",
   "execution_count": 339,
   "metadata": {
    "ExecuteTime": {
     "end_time": "2023-03-24T16:14:24.215165Z",
     "start_time": "2023-03-24T16:14:04.647931Z"
    }
   },
   "outputs": [],
   "source": [
    "# Importing training dataset\n",
    "TRAIN = pd.read_csv(filepath_or_buffer=\"data/train.csv\")"
   ]
  },
  {
   "cell_type": "code",
   "execution_count": 340,
   "metadata": {
    "ExecuteTime": {
     "end_time": "2023-03-24T16:14:26.309499Z",
     "start_time": "2023-03-24T16:14:24.217833Z"
    }
   },
   "outputs": [],
   "source": [
    "# Importing second training dataset\n",
    "TRAIN_2 = pd.read_csv(filepath_or_buffer=\"data/supplemental_train.csv\")"
   ]
  },
  {
   "cell_type": "code",
   "execution_count": 341,
   "metadata": {},
   "outputs": [],
   "source": [
    "# Verify the continuity of the time series\n",
    "#TRAIN.tail()\n",
    "#TRAIN_2.head()"
   ]
  },
  {
   "cell_type": "markdown",
   "metadata": {},
   "source": [
    "**TEST dataset**"
   ]
  },
  {
   "cell_type": "code",
   "execution_count": 342,
   "metadata": {
    "ExecuteTime": {
     "end_time": "2023-03-24T16:14:32.945407Z",
     "start_time": "2023-03-24T16:14:32.836142Z"
    }
   },
   "outputs": [
    {
     "data": {
      "text/plain": [
       "(14, 10)"
      ]
     },
     "execution_count": 342,
     "metadata": {},
     "output_type": "execute_result"
    }
   ],
   "source": [
    "# Importing test dataset\n",
    "TEST = pd.read_csv(filepath_or_buffer=\"data/example_test.csv\")\n",
    "TEST.head()\n",
    "TRAIN[TRAIN[\"timestamp\"] == TEST.iloc[0][\"timestamp\"]].shape\n",
    "\n",
    "# TODO: explanation"
   ]
  },
  {
   "cell_type": "markdown",
   "metadata": {},
   "source": [
    "**Comment**: The `TEST` table contains duplicate rows from the `TRAIN` table. It can be removed properly."
   ]
  },
  {
   "cell_type": "code",
   "execution_count": 343,
   "metadata": {
    "ExecuteTime": {
     "end_time": "2023-03-24T16:14:34.023899Z",
     "start_time": "2023-03-24T16:14:34.004770Z"
    }
   },
   "outputs": [
    {
     "data": {
      "text/html": [
       "<div>\n",
       "<style scoped>\n",
       "    .dataframe tbody tr th:only-of-type {\n",
       "        vertical-align: middle;\n",
       "    }\n",
       "\n",
       "    .dataframe tbody tr th {\n",
       "        vertical-align: top;\n",
       "    }\n",
       "\n",
       "    .dataframe thead th {\n",
       "        text-align: right;\n",
       "    }\n",
       "</style>\n",
       "<table border=\"1\" class=\"dataframe\">\n",
       "  <thead>\n",
       "    <tr style=\"text-align: right;\">\n",
       "      <th></th>\n",
       "      <th>timestamp</th>\n",
       "      <th>Asset_ID</th>\n",
       "      <th>Count</th>\n",
       "      <th>Open</th>\n",
       "      <th>High</th>\n",
       "      <th>Low</th>\n",
       "      <th>Close</th>\n",
       "      <th>Volume</th>\n",
       "      <th>VWAP</th>\n",
       "      <th>Target</th>\n",
       "    </tr>\n",
       "  </thead>\n",
       "  <tbody>\n",
       "    <tr>\n",
       "      <th>0</th>\n",
       "      <td>1514764860</td>\n",
       "      <td>2</td>\n",
       "      <td>40.0</td>\n",
       "      <td>2376.5800</td>\n",
       "      <td>2399.5000</td>\n",
       "      <td>2357.1400</td>\n",
       "      <td>2374.5900</td>\n",
       "      <td>19.233005</td>\n",
       "      <td>2373.116392</td>\n",
       "      <td>-0.004218</td>\n",
       "    </tr>\n",
       "    <tr>\n",
       "      <th>1</th>\n",
       "      <td>1514764860</td>\n",
       "      <td>0</td>\n",
       "      <td>5.0</td>\n",
       "      <td>8.5300</td>\n",
       "      <td>8.5300</td>\n",
       "      <td>8.5300</td>\n",
       "      <td>8.5300</td>\n",
       "      <td>78.380000</td>\n",
       "      <td>8.530000</td>\n",
       "      <td>-0.014399</td>\n",
       "    </tr>\n",
       "    <tr>\n",
       "      <th>2</th>\n",
       "      <td>1514764860</td>\n",
       "      <td>1</td>\n",
       "      <td>229.0</td>\n",
       "      <td>13835.1940</td>\n",
       "      <td>14013.8000</td>\n",
       "      <td>13666.1100</td>\n",
       "      <td>13850.1760</td>\n",
       "      <td>31.550062</td>\n",
       "      <td>13827.062093</td>\n",
       "      <td>-0.014643</td>\n",
       "    </tr>\n",
       "    <tr>\n",
       "      <th>3</th>\n",
       "      <td>1514764860</td>\n",
       "      <td>5</td>\n",
       "      <td>32.0</td>\n",
       "      <td>7.6596</td>\n",
       "      <td>7.6596</td>\n",
       "      <td>7.6567</td>\n",
       "      <td>7.6576</td>\n",
       "      <td>6626.713370</td>\n",
       "      <td>7.657713</td>\n",
       "      <td>-0.013922</td>\n",
       "    </tr>\n",
       "    <tr>\n",
       "      <th>4</th>\n",
       "      <td>1514764860</td>\n",
       "      <td>7</td>\n",
       "      <td>5.0</td>\n",
       "      <td>25.9200</td>\n",
       "      <td>25.9200</td>\n",
       "      <td>25.8740</td>\n",
       "      <td>25.8770</td>\n",
       "      <td>121.087310</td>\n",
       "      <td>25.891363</td>\n",
       "      <td>-0.008264</td>\n",
       "    </tr>\n",
       "  </tbody>\n",
       "</table>\n",
       "</div>"
      ],
      "text/plain": [
       "    timestamp  Asset_ID  Count        Open        High         Low  \\\n",
       "0  1514764860         2   40.0   2376.5800   2399.5000   2357.1400   \n",
       "1  1514764860         0    5.0      8.5300      8.5300      8.5300   \n",
       "2  1514764860         1  229.0  13835.1940  14013.8000  13666.1100   \n",
       "3  1514764860         5   32.0      7.6596      7.6596      7.6567   \n",
       "4  1514764860         7    5.0     25.9200     25.9200     25.8740   \n",
       "\n",
       "        Close       Volume          VWAP    Target  \n",
       "0   2374.5900    19.233005   2373.116392 -0.004218  \n",
       "1      8.5300    78.380000      8.530000 -0.014399  \n",
       "2  13850.1760    31.550062  13827.062093 -0.014643  \n",
       "3      7.6576  6626.713370      7.657713 -0.013922  \n",
       "4     25.8770   121.087310     25.891363 -0.008264  "
      ]
     },
     "execution_count": 343,
     "metadata": {},
     "output_type": "execute_result"
    }
   ],
   "source": [
    "TRAIN.head()"
   ]
  },
  {
   "cell_type": "code",
   "execution_count": 344,
   "metadata": {
    "ExecuteTime": {
     "end_time": "2023-03-24T16:14:36.126427Z",
     "start_time": "2023-03-24T16:14:36.114938Z"
    }
   },
   "outputs": [
    {
     "name": "stdout",
     "output_type": "stream",
     "text": [
      "<class 'pandas.core.frame.DataFrame'>\n",
      "RangeIndex: 24236806 entries, 0 to 24236805\n",
      "Data columns (total 10 columns):\n",
      " #   Column     Dtype  \n",
      "---  ------     -----  \n",
      " 0   timestamp  int64  \n",
      " 1   Asset_ID   int64  \n",
      " 2   Count      float64\n",
      " 3   Open       float64\n",
      " 4   High       float64\n",
      " 5   Low        float64\n",
      " 6   Close      float64\n",
      " 7   Volume     float64\n",
      " 8   VWAP       float64\n",
      " 9   Target     float64\n",
      "dtypes: float64(8), int64(2)\n",
      "memory usage: 1.8 GB\n"
     ]
    }
   ],
   "source": [
    "TRAIN.info()"
   ]
  },
  {
   "cell_type": "code",
   "execution_count": 345,
   "metadata": {
    "ExecuteTime": {
     "end_time": "2023-03-24T16:14:38.189056Z",
     "start_time": "2023-03-24T16:14:38.172948Z"
    }
   },
   "outputs": [
    {
     "data": {
      "text/html": [
       "<div>\n",
       "<style scoped>\n",
       "    .dataframe tbody tr th:only-of-type {\n",
       "        vertical-align: middle;\n",
       "    }\n",
       "\n",
       "    .dataframe tbody tr th {\n",
       "        vertical-align: top;\n",
       "    }\n",
       "\n",
       "    .dataframe thead th {\n",
       "        text-align: right;\n",
       "    }\n",
       "</style>\n",
       "<table border=\"1\" class=\"dataframe\">\n",
       "  <thead>\n",
       "    <tr style=\"text-align: right;\">\n",
       "      <th></th>\n",
       "      <th>timestamp</th>\n",
       "      <th>Asset_ID</th>\n",
       "      <th>Count</th>\n",
       "      <th>Open</th>\n",
       "      <th>High</th>\n",
       "      <th>Low</th>\n",
       "      <th>Close</th>\n",
       "      <th>Volume</th>\n",
       "      <th>VWAP</th>\n",
       "      <th>Target</th>\n",
       "    </tr>\n",
       "  </thead>\n",
       "  <tbody>\n",
       "    <tr>\n",
       "      <th>0</th>\n",
       "      <td>1632182460</td>\n",
       "      <td>3</td>\n",
       "      <td>561.0</td>\n",
       "      <td>2.079028</td>\n",
       "      <td>2.080605</td>\n",
       "      <td>2.0720</td>\n",
       "      <td>2.076458</td>\n",
       "      <td>2.804627e+05</td>\n",
       "      <td>2.075869</td>\n",
       "      <td>0.003085</td>\n",
       "    </tr>\n",
       "    <tr>\n",
       "      <th>1</th>\n",
       "      <td>1632182460</td>\n",
       "      <td>2</td>\n",
       "      <td>169.0</td>\n",
       "      <td>541.006000</td>\n",
       "      <td>541.200000</td>\n",
       "      <td>539.7000</td>\n",
       "      <td>540.722000</td>\n",
       "      <td>1.889432e+02</td>\n",
       "      <td>540.716930</td>\n",
       "      <td>-0.000607</td>\n",
       "    </tr>\n",
       "    <tr>\n",
       "      <th>2</th>\n",
       "      <td>1632182460</td>\n",
       "      <td>0</td>\n",
       "      <td>400.0</td>\n",
       "      <td>363.737500</td>\n",
       "      <td>363.900000</td>\n",
       "      <td>363.0000</td>\n",
       "      <td>363.654000</td>\n",
       "      <td>8.792685e+02</td>\n",
       "      <td>363.499554</td>\n",
       "      <td>-0.019375</td>\n",
       "    </tr>\n",
       "    <tr>\n",
       "      <th>3</th>\n",
       "      <td>1632182460</td>\n",
       "      <td>1</td>\n",
       "      <td>1933.0</td>\n",
       "      <td>42986.143333</td>\n",
       "      <td>43001.000000</td>\n",
       "      <td>42898.0000</td>\n",
       "      <td>42947.065566</td>\n",
       "      <td>9.183861e+01</td>\n",
       "      <td>42942.976718</td>\n",
       "      <td>-0.000374</td>\n",
       "    </tr>\n",
       "    <tr>\n",
       "      <th>4</th>\n",
       "      <td>1632182460</td>\n",
       "      <td>4</td>\n",
       "      <td>348.0</td>\n",
       "      <td>0.208326</td>\n",
       "      <td>0.208400</td>\n",
       "      <td>0.2078</td>\n",
       "      <td>0.208200</td>\n",
       "      <td>1.051337e+06</td>\n",
       "      <td>0.208077</td>\n",
       "      <td>-0.001233</td>\n",
       "    </tr>\n",
       "  </tbody>\n",
       "</table>\n",
       "</div>"
      ],
      "text/plain": [
       "    timestamp  Asset_ID   Count          Open          High         Low  \\\n",
       "0  1632182460         3   561.0      2.079028      2.080605      2.0720   \n",
       "1  1632182460         2   169.0    541.006000    541.200000    539.7000   \n",
       "2  1632182460         0   400.0    363.737500    363.900000    363.0000   \n",
       "3  1632182460         1  1933.0  42986.143333  43001.000000  42898.0000   \n",
       "4  1632182460         4   348.0      0.208326      0.208400      0.2078   \n",
       "\n",
       "          Close        Volume          VWAP    Target  \n",
       "0      2.076458  2.804627e+05      2.075869  0.003085  \n",
       "1    540.722000  1.889432e+02    540.716930 -0.000607  \n",
       "2    363.654000  8.792685e+02    363.499554 -0.019375  \n",
       "3  42947.065566  9.183861e+01  42942.976718 -0.000374  \n",
       "4      0.208200  1.051337e+06      0.208077 -0.001233  "
      ]
     },
     "execution_count": 345,
     "metadata": {},
     "output_type": "execute_result"
    }
   ],
   "source": [
    "TRAIN_2.head()"
   ]
  },
  {
   "cell_type": "code",
   "execution_count": 346,
   "metadata": {
    "ExecuteTime": {
     "end_time": "2023-03-24T16:14:38.534064Z",
     "start_time": "2023-03-24T16:14:38.525730Z"
    }
   },
   "outputs": [
    {
     "name": "stdout",
     "output_type": "stream",
     "text": [
      "<class 'pandas.core.frame.DataFrame'>\n",
      "RangeIndex: 2518278 entries, 0 to 2518277\n",
      "Data columns (total 10 columns):\n",
      " #   Column     Dtype  \n",
      "---  ------     -----  \n",
      " 0   timestamp  int64  \n",
      " 1   Asset_ID   int64  \n",
      " 2   Count      float64\n",
      " 3   Open       float64\n",
      " 4   High       float64\n",
      " 5   Low        float64\n",
      " 6   Close      float64\n",
      " 7   Volume     float64\n",
      " 8   VWAP       float64\n",
      " 9   Target     float64\n",
      "dtypes: float64(8), int64(2)\n",
      "memory usage: 192.1 MB\n"
     ]
    }
   ],
   "source": [
    "TRAIN_2.info()"
   ]
  },
  {
   "cell_type": "code",
   "execution_count": 347,
   "metadata": {
    "ExecuteTime": {
     "end_time": "2023-03-24T16:14:41.138354Z",
     "start_time": "2023-03-24T16:14:39.887771Z"
    }
   },
   "outputs": [],
   "source": [
    "# Merging TRAIN and TRAIN_2 as df\n",
    "df = pd.concat([TRAIN, TRAIN_2], axis = 0)"
   ]
  },
  {
   "cell_type": "code",
   "execution_count": 348,
   "metadata": {},
   "outputs": [],
   "source": [
    "# Première date: 2018-01-01 00:01:00\n",
    "# Dernière date: 2022-01-24 00:00:00"
   ]
  },
  {
   "cell_type": "code",
   "execution_count": 349,
   "metadata": {
    "ExecuteTime": {
     "end_time": "2023-03-24T16:15:16.080192Z",
     "start_time": "2023-03-24T16:14:44.949434Z"
    }
   },
   "outputs": [
    {
     "name": "stdout",
     "output_type": "stream",
     "text": [
      "--> Processing Asset #0 \t (Binance Coin)\n",
      "--> Processing Asset #1 \t (Bitcoin)\n",
      "--> Processing Asset #2 \t (Bitcoin Cash)\n",
      "--> Processing Asset #3 \t (Cardano)\n",
      "--> Processing Asset #4 \t (Dogecoin)\n",
      "--> Processing Asset #5 \t (EOS.IO)\n",
      "--> Processing Asset #6 \t (Ethereum)\n",
      "--> Processing Asset #7 \t (Ethereum Classic)\n",
      "--> Processing Asset #8 \t (IOTA)\n",
      "--> Processing Asset #9 \t (Litecoin)\n",
      "--> Processing Asset #10 \t (Maker)\n",
      "--> Processing Asset #11 \t (Monero)\n",
      "--> Processing Asset #12 \t (Stellar)\n",
      "--> Processing Asset #13 \t (TRON)\n"
     ]
    }
   ],
   "source": [
    "# Hashmap of train datasets for each asset id\n",
    "df_dict = {asset_id: None for asset_id in ASSET_IDS}\n",
    "\n",
    "# For each asset id, perform the pre-processing\n",
    "for asset_id in ASSET_IDS:\n",
    "    print(f\"--> Processing Asset #{asset_id} \\t ({get_asset_name(asset_id)})\")\n",
    "    \n",
    "    # Retrieving the corresponding data rows\n",
    "    df_dict[asset_id] = df[df[\"Asset_ID\"] == asset_id]\n",
    "    \n",
    "    # Removing the Asset_ID column (useless now)\n",
    "    try:\n",
    "        df_dict[asset_id].drop([\"Asset_ID\", \"Target\"], axis=1, inplace=True)\n",
    "    except:\n",
    "        pass\n",
    "    \n",
    "    # Converting the timestamp column\n",
    "    df_dict[asset_id][\"timestamp\"] = pd.to_datetime(arg=df_dict[asset_id][\"timestamp\"], \n",
    "                                                     unit=\"s\", \n",
    "                                                     errors=\"ignore\")\n",
    "    # Setting the timestamp column as index column\n",
    "    df_dict[asset_id].set_index([\"timestamp\"], inplace=True)"
   ]
  },
  {
   "cell_type": "code",
   "execution_count": 350,
   "metadata": {
    "ExecuteTime": {
     "end_time": "2023-03-24T16:15:18.276452Z",
     "start_time": "2023-03-24T16:15:18.258528Z"
    }
   },
   "outputs": [
    {
     "data": {
      "text/html": [
       "<div>\n",
       "<style scoped>\n",
       "    .dataframe tbody tr th:only-of-type {\n",
       "        vertical-align: middle;\n",
       "    }\n",
       "\n",
       "    .dataframe tbody tr th {\n",
       "        vertical-align: top;\n",
       "    }\n",
       "\n",
       "    .dataframe thead th {\n",
       "        text-align: right;\n",
       "    }\n",
       "</style>\n",
       "<table border=\"1\" class=\"dataframe\">\n",
       "  <thead>\n",
       "    <tr style=\"text-align: right;\">\n",
       "      <th></th>\n",
       "      <th>Count</th>\n",
       "      <th>Open</th>\n",
       "      <th>High</th>\n",
       "      <th>Low</th>\n",
       "      <th>Close</th>\n",
       "      <th>Volume</th>\n",
       "      <th>VWAP</th>\n",
       "    </tr>\n",
       "    <tr>\n",
       "      <th>timestamp</th>\n",
       "      <th></th>\n",
       "      <th></th>\n",
       "      <th></th>\n",
       "      <th></th>\n",
       "      <th></th>\n",
       "      <th></th>\n",
       "      <th></th>\n",
       "    </tr>\n",
       "  </thead>\n",
       "  <tbody>\n",
       "    <tr>\n",
       "      <th>2018-01-01 00:01:00</th>\n",
       "      <td>229.0</td>\n",
       "      <td>13835.194000</td>\n",
       "      <td>14013.8</td>\n",
       "      <td>13666.11</td>\n",
       "      <td>13850.176000</td>\n",
       "      <td>31.550062</td>\n",
       "      <td>13827.062093</td>\n",
       "    </tr>\n",
       "    <tr>\n",
       "      <th>2018-01-01 00:02:00</th>\n",
       "      <td>235.0</td>\n",
       "      <td>13835.036000</td>\n",
       "      <td>14052.3</td>\n",
       "      <td>13680.00</td>\n",
       "      <td>13828.102000</td>\n",
       "      <td>31.046432</td>\n",
       "      <td>13840.362591</td>\n",
       "    </tr>\n",
       "    <tr>\n",
       "      <th>2018-01-01 00:03:00</th>\n",
       "      <td>528.0</td>\n",
       "      <td>13823.900000</td>\n",
       "      <td>14000.4</td>\n",
       "      <td>13601.00</td>\n",
       "      <td>13801.314000</td>\n",
       "      <td>55.061820</td>\n",
       "      <td>13806.068014</td>\n",
       "    </tr>\n",
       "    <tr>\n",
       "      <th>2018-01-01 00:04:00</th>\n",
       "      <td>435.0</td>\n",
       "      <td>13802.512000</td>\n",
       "      <td>13999.0</td>\n",
       "      <td>13576.28</td>\n",
       "      <td>13768.040000</td>\n",
       "      <td>38.780529</td>\n",
       "      <td>13783.598101</td>\n",
       "    </tr>\n",
       "    <tr>\n",
       "      <th>2018-01-01 00:05:00</th>\n",
       "      <td>742.0</td>\n",
       "      <td>13766.000000</td>\n",
       "      <td>13955.9</td>\n",
       "      <td>13554.44</td>\n",
       "      <td>13724.914000</td>\n",
       "      <td>108.501637</td>\n",
       "      <td>13735.586842</td>\n",
       "    </tr>\n",
       "    <tr>\n",
       "      <th>...</th>\n",
       "      <td>...</td>\n",
       "      <td>...</td>\n",
       "      <td>...</td>\n",
       "      <td>...</td>\n",
       "      <td>...</td>\n",
       "      <td>...</td>\n",
       "      <td>...</td>\n",
       "    </tr>\n",
       "    <tr>\n",
       "      <th>2022-01-23 23:56:00</th>\n",
       "      <td>1221.0</td>\n",
       "      <td>36278.361667</td>\n",
       "      <td>36331.0</td>\n",
       "      <td>36249.00</td>\n",
       "      <td>36293.123333</td>\n",
       "      <td>30.247067</td>\n",
       "      <td>36289.796806</td>\n",
       "    </tr>\n",
       "    <tr>\n",
       "      <th>2022-01-23 23:57:00</th>\n",
       "      <td>1634.0</td>\n",
       "      <td>36289.681667</td>\n",
       "      <td>36328.0</td>\n",
       "      <td>36230.72</td>\n",
       "      <td>36261.708333</td>\n",
       "      <td>35.647000</td>\n",
       "      <td>36276.229399</td>\n",
       "    </tr>\n",
       "    <tr>\n",
       "      <th>2022-01-23 23:58:00</th>\n",
       "      <td>1570.0</td>\n",
       "      <td>36262.841667</td>\n",
       "      <td>36319.0</td>\n",
       "      <td>36230.30</td>\n",
       "      <td>36276.223333</td>\n",
       "      <td>49.867700</td>\n",
       "      <td>36274.441548</td>\n",
       "    </tr>\n",
       "    <tr>\n",
       "      <th>2022-01-23 23:59:00</th>\n",
       "      <td>1459.0</td>\n",
       "      <td>36268.849570</td>\n",
       "      <td>36313.0</td>\n",
       "      <td>36231.71</td>\n",
       "      <td>36276.623333</td>\n",
       "      <td>43.030556</td>\n",
       "      <td>36274.613301</td>\n",
       "    </tr>\n",
       "    <tr>\n",
       "      <th>2022-01-24 00:00:00</th>\n",
       "      <td>2917.0</td>\n",
       "      <td>36262.038571</td>\n",
       "      <td>36302.0</td>\n",
       "      <td>36176.45</td>\n",
       "      <td>36221.987143</td>\n",
       "      <td>110.053151</td>\n",
       "      <td>36247.575361</td>\n",
       "    </tr>\n",
       "  </tbody>\n",
       "</table>\n",
       "<p>2136278 rows × 7 columns</p>\n",
       "</div>"
      ],
      "text/plain": [
       "                      Count          Open     High       Low         Close  \\\n",
       "timestamp                                                                    \n",
       "2018-01-01 00:01:00   229.0  13835.194000  14013.8  13666.11  13850.176000   \n",
       "2018-01-01 00:02:00   235.0  13835.036000  14052.3  13680.00  13828.102000   \n",
       "2018-01-01 00:03:00   528.0  13823.900000  14000.4  13601.00  13801.314000   \n",
       "2018-01-01 00:04:00   435.0  13802.512000  13999.0  13576.28  13768.040000   \n",
       "2018-01-01 00:05:00   742.0  13766.000000  13955.9  13554.44  13724.914000   \n",
       "...                     ...           ...      ...       ...           ...   \n",
       "2022-01-23 23:56:00  1221.0  36278.361667  36331.0  36249.00  36293.123333   \n",
       "2022-01-23 23:57:00  1634.0  36289.681667  36328.0  36230.72  36261.708333   \n",
       "2022-01-23 23:58:00  1570.0  36262.841667  36319.0  36230.30  36276.223333   \n",
       "2022-01-23 23:59:00  1459.0  36268.849570  36313.0  36231.71  36276.623333   \n",
       "2022-01-24 00:00:00  2917.0  36262.038571  36302.0  36176.45  36221.987143   \n",
       "\n",
       "                         Volume          VWAP  \n",
       "timestamp                                      \n",
       "2018-01-01 00:01:00   31.550062  13827.062093  \n",
       "2018-01-01 00:02:00   31.046432  13840.362591  \n",
       "2018-01-01 00:03:00   55.061820  13806.068014  \n",
       "2018-01-01 00:04:00   38.780529  13783.598101  \n",
       "2018-01-01 00:05:00  108.501637  13735.586842  \n",
       "...                         ...           ...  \n",
       "2022-01-23 23:56:00   30.247067  36289.796806  \n",
       "2022-01-23 23:57:00   35.647000  36276.229399  \n",
       "2022-01-23 23:58:00   49.867700  36274.441548  \n",
       "2022-01-23 23:59:00   43.030556  36274.613301  \n",
       "2022-01-24 00:00:00  110.053151  36247.575361  \n",
       "\n",
       "[2136278 rows x 7 columns]"
      ]
     },
     "execution_count": 350,
     "metadata": {},
     "output_type": "execute_result"
    }
   ],
   "source": [
    "# Displaying a DataFrame\n",
    "df_dict[get_asset_id(\"Bitcoin\")]"
   ]
  },
  {
   "cell_type": "markdown",
   "metadata": {},
   "source": [
    "**Checking the loss of informations**"
   ]
  },
  {
   "cell_type": "code",
   "execution_count": 351,
   "metadata": {
    "ExecuteTime": {
     "end_time": "2023-03-24T16:15:21.762611Z",
     "start_time": "2023-03-24T16:15:21.758446Z"
    }
   },
   "outputs": [],
   "source": [
    "# Checking the sum of the number of rows for each asset id is equal to the number of rows from the original dataset\n",
    "# ==> No loss\n",
    "assert sum([df_dict[k].shape[0] for k in ASSET_IDS]) == df.shape[0]"
   ]
  },
  {
   "cell_type": "markdown",
   "metadata": {},
   "source": [
    "**Checking the memory usage for each dataframe**"
   ]
  },
  {
   "cell_type": "code",
   "execution_count": 352,
   "metadata": {
    "ExecuteTime": {
     "end_time": "2023-03-24T16:15:22.937449Z",
     "start_time": "2023-03-24T16:15:22.917584Z"
    }
   },
   "outputs": [
    {
     "name": "stdout",
     "output_type": "stream",
     "text": [
      "Global mem. usage: \t 1.7 GB\n"
     ]
    }
   ],
   "source": [
    "# Getting memory usage\n",
    "\n",
    "# Computing the memory usage of each DataFrame\n",
    "MEM_USAGE = {asset_id: df_dict[asset_id].memory_usage(index=True).sum()/10**6 for asset_id in ASSET_IDS}\n",
    "\n",
    "# Computing the global memory usage\n",
    "GLOBAL_MEM_USAGE = sum(list(MEM_USAGE.values()))/10**3\n",
    "print(f\"Global mem. usage: \\t {GLOBAL_MEM_USAGE :.1f} GB\")"
   ]
  },
  {
   "cell_type": "markdown",
   "metadata": {},
   "source": [
    "## Data visualization & EDA"
   ]
  },
  {
   "cell_type": "code",
   "execution_count": 353,
   "metadata": {
    "ExecuteTime": {
     "end_time": "2023-03-24T16:15:28.858804Z",
     "start_time": "2023-03-24T16:15:24.499815Z"
    }
   },
   "outputs": [
    {
     "data": {
      "image/png": "[encoded data removed]",
      "text/plain": [
       "<Figure size 864x360 with 1 Axes>"
      ]
     },
     "metadata": {
      "needs_background": "light"
     },
     "output_type": "display_data"
    }
   ],
   "source": [
    "# Displaying a random dataframe (train)\n",
    "_ = df_dict[get_asset_id(\"Bitcoin\")][\"Open\"].plot(label=\"Open price\", color=\"red\")\n",
    "_ = plt.grid()\n",
    "_ = plt.title(\"Evolution of the Bitcoin Open price\")\n",
    "_ = plt.legend()\n",
    "_ = plt.xlabel(\"Date/Time\")\n",
    "_ = plt.ylabel(\"Open price\")"
   ]
  },
  {
   "cell_type": "code",
   "execution_count": 354,
   "metadata": {
    "ExecuteTime": {
     "end_time": "2023-03-24T16:15:33.042000Z",
     "start_time": "2023-03-24T16:15:28.861356Z"
    }
   },
   "outputs": [
    {
     "data": {
      "image/png": "[encoded data removed]",
      "text/plain": [
       "<Figure size 864x360 with 1 Axes>"
      ]
     },
     "metadata": {
      "needs_background": "light"
     },
     "output_type": "display_data"
    }
   ],
   "source": [
    "# Plotting trading activity\n",
    "_ = df_dict[get_asset_id(\"Bitcoin\")][TRADING_ACTIVITY].plot(color=\"magenta\")\n",
    "_ = plt.grid()\n",
    "_ = plt.title(\"Trading activity for Bitcoin\")\n",
    "_ = plt.legend([\"Number of trades per 1-min\"])\n",
    "_ = plt.xlabel(\"Date/Time\")\n",
    "_ = plt.ylabel(\"Number of trades per 1-min bin\")"
   ]
  },
  {
   "cell_type": "code",
   "execution_count": 355,
   "metadata": {
    "ExecuteTime": {
     "end_time": "2023-03-24T16:15:39.977210Z",
     "start_time": "2023-03-24T16:15:33.044412Z"
    }
   },
   "outputs": [
    {
     "data": {
      "image/png": "[encoded data removed]",
      "text/plain": [
       "<Figure size 864x360 with 2 Axes>"
      ]
     },
     "metadata": {
      "needs_background": "light"
     },
     "output_type": "display_data"
    }
   ],
   "source": [
    "# Computing the correlation matrix of a given metric\n",
    "X = pd.concat([df_dict[k][\"Volume\"] for k in ASSET_IDS], axis=1)\n",
    "X.columns = ASSET_NAMES\n",
    "\n",
    "# Plot this correlation matrix\n",
    "_ = sns.heatmap(X.corr(), annot=True, cmap=\"autumn\")\n",
    "_ = plt.title(\"Correlation of open price between each asset type\")"
   ]
  },
  {
   "cell_type": "code",
   "execution_count": 356,
   "metadata": {
    "ExecuteTime": {
     "end_time": "2023-03-24T16:15:39.984000Z",
     "start_time": "2023-03-24T16:15:39.980850Z"
    }
   },
   "outputs": [
    {
     "data": {
      "text/plain": [
       "'\\ns = mpf.make_mpf_style(base_mpf_style=\"yahoo\", rc={\\'font.size\\': 10})\\nfig = mpf.figure(figsize=(20, 15), style=s)\\nax = fig.add_subplot(2,1,1)\\nmpf.plot(df_train[4][OHLC][1:100], type=\"candle\", ax=ax)\\n_ = plt.title(\"Candlestick representation for a tiny data sample\")\\n_ = plt.xlabel(\"Date/Time\")\\n'"
      ]
     },
     "execution_count": 356,
     "metadata": {},
     "output_type": "execute_result"
    }
   ],
   "source": [
    "# Plot candlestick representation\n",
    "\"\"\"\n",
    "s = mpf.make_mpf_style(base_mpf_style=\"yahoo\", rc={'font.size': 10})\n",
    "fig = mpf.figure(figsize=(20, 15), style=s)\n",
    "ax = fig.add_subplot(2,1,1)\n",
    "mpf.plot(df_train[4][OHLC][1:100], type=\"candle\", ax=ax)\n",
    "_ = plt.title(\"Candlestick representation for a tiny data sample\")\n",
    "_ = plt.xlabel(\"Date/Time\")\n",
    "\"\"\""
   ]
  },
  {
   "cell_type": "markdown",
   "metadata": {},
   "source": [
    "## NaN values & Other processing operations"
   ]
  },
  {
   "cell_type": "code",
   "execution_count": 357,
   "metadata": {
    "ExecuteTime": {
     "end_time": "2023-03-24T16:15:46.529330Z",
     "start_time": "2023-03-24T16:15:42.826501Z"
    }
   },
   "outputs": [
    {
     "data": {
      "image/png": "[encoded data removed]",
      "text/plain": [
       "<Figure size 1800x720 with 2 Axes>"
      ]
     },
     "metadata": {
      "needs_background": "light"
     },
     "output_type": "display_data"
    }
   ],
   "source": [
    "# Checking the NaN values distribution\n",
    "_ = msn.matrix(df_dict[get_asset_id(\"Bitcoin\")])"
   ]
  },
  {
   "cell_type": "code",
   "execution_count": 358,
   "metadata": {
    "ExecuteTime": {
     "end_time": "2023-03-24T16:15:46.955884Z",
     "start_time": "2023-03-24T16:15:46.531831Z"
    }
   },
   "outputs": [
    {
     "data": {
      "image/png": "[encoded data removed]",
      "text/plain": [
       "<Figure size 864x360 with 1 Axes>"
      ]
     },
     "metadata": {
      "needs_background": "light"
     },
     "output_type": "display_data"
    }
   ],
   "source": [
    "sns.boxplot(data=df_dict[get_asset_id(\"Bitcoin\")][OHLC], showfliers=True);"
   ]
  },
  {
   "cell_type": "markdown",
   "metadata": {},
   "source": [
    "# Bitcoin price movement prediction"
   ]
  },
  {
   "cell_type": "markdown",
   "metadata": {},
   "source": [
    "## Data pre-processing"
   ]
  },
  {
   "cell_type": "code",
   "execution_count": 359,
   "metadata": {
    "ExecuteTime": {
     "end_time": "2023-03-24T16:15:51.527275Z",
     "start_time": "2023-03-24T16:15:51.523231Z"
    }
   },
   "outputs": [],
   "source": [
    "df_btc = df_dict[get_asset_id(\"Bitcoin\")]"
   ]
  },
  {
   "cell_type": "code",
   "execution_count": 360,
   "metadata": {
    "ExecuteTime": {
     "end_time": "2023-03-24T16:15:51.970062Z",
     "start_time": "2023-03-24T16:15:51.957671Z"
    }
   },
   "outputs": [
    {
     "data": {
      "text/html": [
       "<div>\n",
       "<style scoped>\n",
       "    .dataframe tbody tr th:only-of-type {\n",
       "        vertical-align: middle;\n",
       "    }\n",
       "\n",
       "    .dataframe tbody tr th {\n",
       "        vertical-align: top;\n",
       "    }\n",
       "\n",
       "    .dataframe thead th {\n",
       "        text-align: right;\n",
       "    }\n",
       "</style>\n",
       "<table border=\"1\" class=\"dataframe\">\n",
       "  <thead>\n",
       "    <tr style=\"text-align: right;\">\n",
       "      <th></th>\n",
       "      <th>Count</th>\n",
       "      <th>Open</th>\n",
       "      <th>High</th>\n",
       "      <th>Low</th>\n",
       "      <th>Close</th>\n",
       "      <th>Volume</th>\n",
       "      <th>VWAP</th>\n",
       "    </tr>\n",
       "    <tr>\n",
       "      <th>timestamp</th>\n",
       "      <th></th>\n",
       "      <th></th>\n",
       "      <th></th>\n",
       "      <th></th>\n",
       "      <th></th>\n",
       "      <th></th>\n",
       "      <th></th>\n",
       "    </tr>\n",
       "  </thead>\n",
       "  <tbody>\n",
       "    <tr>\n",
       "      <th>2018-01-01 00:01:00</th>\n",
       "      <td>229.0</td>\n",
       "      <td>13835.194</td>\n",
       "      <td>14013.8</td>\n",
       "      <td>13666.11</td>\n",
       "      <td>13850.176</td>\n",
       "      <td>31.550062</td>\n",
       "      <td>13827.062093</td>\n",
       "    </tr>\n",
       "    <tr>\n",
       "      <th>2018-01-01 00:02:00</th>\n",
       "      <td>235.0</td>\n",
       "      <td>13835.036</td>\n",
       "      <td>14052.3</td>\n",
       "      <td>13680.00</td>\n",
       "      <td>13828.102</td>\n",
       "      <td>31.046432</td>\n",
       "      <td>13840.362591</td>\n",
       "    </tr>\n",
       "    <tr>\n",
       "      <th>2018-01-01 00:03:00</th>\n",
       "      <td>528.0</td>\n",
       "      <td>13823.900</td>\n",
       "      <td>14000.4</td>\n",
       "      <td>13601.00</td>\n",
       "      <td>13801.314</td>\n",
       "      <td>55.061820</td>\n",
       "      <td>13806.068014</td>\n",
       "    </tr>\n",
       "    <tr>\n",
       "      <th>2018-01-01 00:04:00</th>\n",
       "      <td>435.0</td>\n",
       "      <td>13802.512</td>\n",
       "      <td>13999.0</td>\n",
       "      <td>13576.28</td>\n",
       "      <td>13768.040</td>\n",
       "      <td>38.780529</td>\n",
       "      <td>13783.598101</td>\n",
       "    </tr>\n",
       "    <tr>\n",
       "      <th>2018-01-01 00:05:00</th>\n",
       "      <td>742.0</td>\n",
       "      <td>13766.000</td>\n",
       "      <td>13955.9</td>\n",
       "      <td>13554.44</td>\n",
       "      <td>13724.914</td>\n",
       "      <td>108.501637</td>\n",
       "      <td>13735.586842</td>\n",
       "    </tr>\n",
       "  </tbody>\n",
       "</table>\n",
       "</div>"
      ],
      "text/plain": [
       "                     Count       Open     High       Low      Close  \\\n",
       "timestamp                                                             \n",
       "2018-01-01 00:01:00  229.0  13835.194  14013.8  13666.11  13850.176   \n",
       "2018-01-01 00:02:00  235.0  13835.036  14052.3  13680.00  13828.102   \n",
       "2018-01-01 00:03:00  528.0  13823.900  14000.4  13601.00  13801.314   \n",
       "2018-01-01 00:04:00  435.0  13802.512  13999.0  13576.28  13768.040   \n",
       "2018-01-01 00:05:00  742.0  13766.000  13955.9  13554.44  13724.914   \n",
       "\n",
       "                         Volume          VWAP  \n",
       "timestamp                                      \n",
       "2018-01-01 00:01:00   31.550062  13827.062093  \n",
       "2018-01-01 00:02:00   31.046432  13840.362591  \n",
       "2018-01-01 00:03:00   55.061820  13806.068014  \n",
       "2018-01-01 00:04:00   38.780529  13783.598101  \n",
       "2018-01-01 00:05:00  108.501637  13735.586842  "
      ]
     },
     "execution_count": 360,
     "metadata": {},
     "output_type": "execute_result"
    }
   ],
   "source": [
    "df_btc.head()"
   ]
  },
  {
   "cell_type": "markdown",
   "metadata": {},
   "source": [
    "TODO:\n",
    "- Add explanation on target/close price movement\n",
    "- Why we choose the Close price $\\longrightarrow$ \"The last transation price is the simplest definition of the price of a financial asset.\""
   ]
  },
  {
   "cell_type": "code",
   "execution_count": 361,
   "metadata": {
    "ExecuteTime": {
     "end_time": "2023-03-24T16:15:55.231674Z",
     "start_time": "2023-03-24T16:15:55.211819Z"
    }
   },
   "outputs": [],
   "source": [
    "# Defining the target variable\n",
    "df_btc[\"Target\"] = np.where(df_btc[\"Close\"].shift(-1) > df_btc[\"Close\"], 1, 0)"
   ]
  },
  {
   "cell_type": "code",
   "execution_count": 362,
   "metadata": {
    "ExecuteTime": {
     "end_time": "2023-03-24T16:16:03.444548Z",
     "start_time": "2023-03-24T16:16:03.426237Z"
    }
   },
   "outputs": [
    {
     "data": {
      "text/html": [
       "<div>\n",
       "<style scoped>\n",
       "    .dataframe tbody tr th:only-of-type {\n",
       "        vertical-align: middle;\n",
       "    }\n",
       "\n",
       "    .dataframe tbody tr th {\n",
       "        vertical-align: top;\n",
       "    }\n",
       "\n",
       "    .dataframe thead th {\n",
       "        text-align: right;\n",
       "    }\n",
       "</style>\n",
       "<table border=\"1\" class=\"dataframe\">\n",
       "  <thead>\n",
       "    <tr style=\"text-align: right;\">\n",
       "      <th></th>\n",
       "      <th>Count</th>\n",
       "      <th>Open</th>\n",
       "      <th>High</th>\n",
       "      <th>Low</th>\n",
       "      <th>Close</th>\n",
       "      <th>Volume</th>\n",
       "      <th>VWAP</th>\n",
       "      <th>Target</th>\n",
       "    </tr>\n",
       "    <tr>\n",
       "      <th>timestamp</th>\n",
       "      <th></th>\n",
       "      <th></th>\n",
       "      <th></th>\n",
       "      <th></th>\n",
       "      <th></th>\n",
       "      <th></th>\n",
       "      <th></th>\n",
       "      <th></th>\n",
       "    </tr>\n",
       "  </thead>\n",
       "  <tbody>\n",
       "    <tr>\n",
       "      <th>2018-01-01 00:01:00</th>\n",
       "      <td>229.0</td>\n",
       "      <td>13835.194000</td>\n",
       "      <td>14013.8</td>\n",
       "      <td>13666.11</td>\n",
       "      <td>13850.176000</td>\n",
       "      <td>31.550062</td>\n",
       "      <td>13827.062093</td>\n",
       "      <td>0</td>\n",
       "    </tr>\n",
       "    <tr>\n",
       "      <th>2018-01-01 00:02:00</th>\n",
       "      <td>235.0</td>\n",
       "      <td>13835.036000</td>\n",
       "      <td>14052.3</td>\n",
       "      <td>13680.00</td>\n",
       "      <td>13828.102000</td>\n",
       "      <td>31.046432</td>\n",
       "      <td>13840.362591</td>\n",
       "      <td>0</td>\n",
       "    </tr>\n",
       "    <tr>\n",
       "      <th>2018-01-01 00:03:00</th>\n",
       "      <td>528.0</td>\n",
       "      <td>13823.900000</td>\n",
       "      <td>14000.4</td>\n",
       "      <td>13601.00</td>\n",
       "      <td>13801.314000</td>\n",
       "      <td>55.061820</td>\n",
       "      <td>13806.068014</td>\n",
       "      <td>0</td>\n",
       "    </tr>\n",
       "    <tr>\n",
       "      <th>2018-01-01 00:04:00</th>\n",
       "      <td>435.0</td>\n",
       "      <td>13802.512000</td>\n",
       "      <td>13999.0</td>\n",
       "      <td>13576.28</td>\n",
       "      <td>13768.040000</td>\n",
       "      <td>38.780529</td>\n",
       "      <td>13783.598101</td>\n",
       "      <td>0</td>\n",
       "    </tr>\n",
       "    <tr>\n",
       "      <th>2018-01-01 00:05:00</th>\n",
       "      <td>742.0</td>\n",
       "      <td>13766.000000</td>\n",
       "      <td>13955.9</td>\n",
       "      <td>13554.44</td>\n",
       "      <td>13724.914000</td>\n",
       "      <td>108.501637</td>\n",
       "      <td>13735.586842</td>\n",
       "      <td>0</td>\n",
       "    </tr>\n",
       "    <tr>\n",
       "      <th>...</th>\n",
       "      <td>...</td>\n",
       "      <td>...</td>\n",
       "      <td>...</td>\n",
       "      <td>...</td>\n",
       "      <td>...</td>\n",
       "      <td>...</td>\n",
       "      <td>...</td>\n",
       "      <td>...</td>\n",
       "    </tr>\n",
       "    <tr>\n",
       "      <th>2022-01-23 23:56:00</th>\n",
       "      <td>1221.0</td>\n",
       "      <td>36278.361667</td>\n",
       "      <td>36331.0</td>\n",
       "      <td>36249.00</td>\n",
       "      <td>36293.123333</td>\n",
       "      <td>30.247067</td>\n",
       "      <td>36289.796806</td>\n",
       "      <td>0</td>\n",
       "    </tr>\n",
       "    <tr>\n",
       "      <th>2022-01-23 23:57:00</th>\n",
       "      <td>1634.0</td>\n",
       "      <td>36289.681667</td>\n",
       "      <td>36328.0</td>\n",
       "      <td>36230.72</td>\n",
       "      <td>36261.708333</td>\n",
       "      <td>35.647000</td>\n",
       "      <td>36276.229399</td>\n",
       "      <td>1</td>\n",
       "    </tr>\n",
       "    <tr>\n",
       "      <th>2022-01-23 23:58:00</th>\n",
       "      <td>1570.0</td>\n",
       "      <td>36262.841667</td>\n",
       "      <td>36319.0</td>\n",
       "      <td>36230.30</td>\n",
       "      <td>36276.223333</td>\n",
       "      <td>49.867700</td>\n",
       "      <td>36274.441548</td>\n",
       "      <td>1</td>\n",
       "    </tr>\n",
       "    <tr>\n",
       "      <th>2022-01-23 23:59:00</th>\n",
       "      <td>1459.0</td>\n",
       "      <td>36268.849570</td>\n",
       "      <td>36313.0</td>\n",
       "      <td>36231.71</td>\n",
       "      <td>36276.623333</td>\n",
       "      <td>43.030556</td>\n",
       "      <td>36274.613301</td>\n",
       "      <td>0</td>\n",
       "    </tr>\n",
       "    <tr>\n",
       "      <th>2022-01-24 00:00:00</th>\n",
       "      <td>2917.0</td>\n",
       "      <td>36262.038571</td>\n",
       "      <td>36302.0</td>\n",
       "      <td>36176.45</td>\n",
       "      <td>36221.987143</td>\n",
       "      <td>110.053151</td>\n",
       "      <td>36247.575361</td>\n",
       "      <td>0</td>\n",
       "    </tr>\n",
       "  </tbody>\n",
       "</table>\n",
       "<p>2136278 rows × 8 columns</p>\n",
       "</div>"
      ],
      "text/plain": [
       "                      Count          Open     High       Low         Close  \\\n",
       "timestamp                                                                    \n",
       "2018-01-01 00:01:00   229.0  13835.194000  14013.8  13666.11  13850.176000   \n",
       "2018-01-01 00:02:00   235.0  13835.036000  14052.3  13680.00  13828.102000   \n",
       "2018-01-01 00:03:00   528.0  13823.900000  14000.4  13601.00  13801.314000   \n",
       "2018-01-01 00:04:00   435.0  13802.512000  13999.0  13576.28  13768.040000   \n",
       "2018-01-01 00:05:00   742.0  13766.000000  13955.9  13554.44  13724.914000   \n",
       "...                     ...           ...      ...       ...           ...   \n",
       "2022-01-23 23:56:00  1221.0  36278.361667  36331.0  36249.00  36293.123333   \n",
       "2022-01-23 23:57:00  1634.0  36289.681667  36328.0  36230.72  36261.708333   \n",
       "2022-01-23 23:58:00  1570.0  36262.841667  36319.0  36230.30  36276.223333   \n",
       "2022-01-23 23:59:00  1459.0  36268.849570  36313.0  36231.71  36276.623333   \n",
       "2022-01-24 00:00:00  2917.0  36262.038571  36302.0  36176.45  36221.987143   \n",
       "\n",
       "                         Volume          VWAP  Target  \n",
       "timestamp                                              \n",
       "2018-01-01 00:01:00   31.550062  13827.062093       0  \n",
       "2018-01-01 00:02:00   31.046432  13840.362591       0  \n",
       "2018-01-01 00:03:00   55.061820  13806.068014       0  \n",
       "2018-01-01 00:04:00   38.780529  13783.598101       0  \n",
       "2018-01-01 00:05:00  108.501637  13735.586842       0  \n",
       "...                         ...           ...     ...  \n",
       "2022-01-23 23:56:00   30.247067  36289.796806       0  \n",
       "2022-01-23 23:57:00   35.647000  36276.229399       1  \n",
       "2022-01-23 23:58:00   49.867700  36274.441548       1  \n",
       "2022-01-23 23:59:00   43.030556  36274.613301       0  \n",
       "2022-01-24 00:00:00  110.053151  36247.575361       0  \n",
       "\n",
       "[2136278 rows x 8 columns]"
      ]
     },
     "execution_count": 362,
     "metadata": {},
     "output_type": "execute_result"
    }
   ],
   "source": [
    "df_btc"
   ]
  },
  {
   "cell_type": "code",
   "execution_count": 363,
   "metadata": {
    "ExecuteTime": {
     "end_time": "2023-03-24T17:05:25.865769Z",
     "start_time": "2023-03-24T17:05:25.128860Z"
    }
   },
   "outputs": [],
   "source": [
    "# Splitting the dataset into X/Y\n",
    "# X = features, Y = target\n",
    "X = df_btc.copy() # X as a deep copy for security reason\n",
    "Y = X.pop(\"Target\")"
   ]
  },
  {
   "cell_type": "code",
   "execution_count": 364,
   "metadata": {
    "ExecuteTime": {
     "end_time": "2023-03-24T17:05:26.613145Z",
     "start_time": "2023-03-24T17:05:26.579606Z"
    }
   },
   "outputs": [
    {
     "data": {
      "text/html": [
       "<div>\n",
       "<style scoped>\n",
       "    .dataframe tbody tr th:only-of-type {\n",
       "        vertical-align: middle;\n",
       "    }\n",
       "\n",
       "    .dataframe tbody tr th {\n",
       "        vertical-align: top;\n",
       "    }\n",
       "\n",
       "    .dataframe thead th {\n",
       "        text-align: right;\n",
       "    }\n",
       "</style>\n",
       "<table border=\"1\" class=\"dataframe\">\n",
       "  <thead>\n",
       "    <tr style=\"text-align: right;\">\n",
       "      <th></th>\n",
       "      <th>Count</th>\n",
       "      <th>Open</th>\n",
       "      <th>High</th>\n",
       "      <th>Low</th>\n",
       "      <th>Close</th>\n",
       "      <th>Volume</th>\n",
       "      <th>VWAP</th>\n",
       "    </tr>\n",
       "    <tr>\n",
       "      <th>timestamp</th>\n",
       "      <th></th>\n",
       "      <th></th>\n",
       "      <th></th>\n",
       "      <th></th>\n",
       "      <th></th>\n",
       "      <th></th>\n",
       "      <th></th>\n",
       "    </tr>\n",
       "  </thead>\n",
       "  <tbody>\n",
       "    <tr>\n",
       "      <th>2018-01-01 00:01:00</th>\n",
       "      <td>229.0</td>\n",
       "      <td>13835.194</td>\n",
       "      <td>14013.8</td>\n",
       "      <td>13666.11</td>\n",
       "      <td>13850.176</td>\n",
       "      <td>31.550062</td>\n",
       "      <td>13827.062093</td>\n",
       "    </tr>\n",
       "    <tr>\n",
       "      <th>2018-01-01 00:02:00</th>\n",
       "      <td>235.0</td>\n",
       "      <td>13835.036</td>\n",
       "      <td>14052.3</td>\n",
       "      <td>13680.00</td>\n",
       "      <td>13828.102</td>\n",
       "      <td>31.046432</td>\n",
       "      <td>13840.362591</td>\n",
       "    </tr>\n",
       "    <tr>\n",
       "      <th>2018-01-01 00:03:00</th>\n",
       "      <td>528.0</td>\n",
       "      <td>13823.900</td>\n",
       "      <td>14000.4</td>\n",
       "      <td>13601.00</td>\n",
       "      <td>13801.314</td>\n",
       "      <td>55.061820</td>\n",
       "      <td>13806.068014</td>\n",
       "    </tr>\n",
       "    <tr>\n",
       "      <th>2018-01-01 00:04:00</th>\n",
       "      <td>435.0</td>\n",
       "      <td>13802.512</td>\n",
       "      <td>13999.0</td>\n",
       "      <td>13576.28</td>\n",
       "      <td>13768.040</td>\n",
       "      <td>38.780529</td>\n",
       "      <td>13783.598101</td>\n",
       "    </tr>\n",
       "    <tr>\n",
       "      <th>2018-01-01 00:05:00</th>\n",
       "      <td>742.0</td>\n",
       "      <td>13766.000</td>\n",
       "      <td>13955.9</td>\n",
       "      <td>13554.44</td>\n",
       "      <td>13724.914</td>\n",
       "      <td>108.501637</td>\n",
       "      <td>13735.586842</td>\n",
       "    </tr>\n",
       "  </tbody>\n",
       "</table>\n",
       "</div>"
      ],
      "text/plain": [
       "                     Count       Open     High       Low      Close  \\\n",
       "timestamp                                                             \n",
       "2018-01-01 00:01:00  229.0  13835.194  14013.8  13666.11  13850.176   \n",
       "2018-01-01 00:02:00  235.0  13835.036  14052.3  13680.00  13828.102   \n",
       "2018-01-01 00:03:00  528.0  13823.900  14000.4  13601.00  13801.314   \n",
       "2018-01-01 00:04:00  435.0  13802.512  13999.0  13576.28  13768.040   \n",
       "2018-01-01 00:05:00  742.0  13766.000  13955.9  13554.44  13724.914   \n",
       "\n",
       "                         Volume          VWAP  \n",
       "timestamp                                      \n",
       "2018-01-01 00:01:00   31.550062  13827.062093  \n",
       "2018-01-01 00:02:00   31.046432  13840.362591  \n",
       "2018-01-01 00:03:00   55.061820  13806.068014  \n",
       "2018-01-01 00:04:00   38.780529  13783.598101  \n",
       "2018-01-01 00:05:00  108.501637  13735.586842  "
      ]
     },
     "execution_count": 364,
     "metadata": {},
     "output_type": "execute_result"
    }
   ],
   "source": [
    "X.head()"
   ]
  },
  {
   "cell_type": "code",
   "execution_count": 365,
   "metadata": {
    "ExecuteTime": {
     "end_time": "2023-03-24T17:05:27.337849Z",
     "start_time": "2023-03-24T17:05:27.328127Z"
    }
   },
   "outputs": [
    {
     "data": {
      "text/plain": [
       "timestamp\n",
       "2018-01-01 00:01:00    0\n",
       "2018-01-01 00:02:00    0\n",
       "2018-01-01 00:03:00    0\n",
       "2018-01-01 00:04:00    0\n",
       "2018-01-01 00:05:00    0\n",
       "Name: Target, dtype: int64"
      ]
     },
     "execution_count": 365,
     "metadata": {},
     "output_type": "execute_result"
    }
   ],
   "source": [
    "Y.head()"
   ]
  },
  {
   "cell_type": "code",
   "execution_count": 366,
   "metadata": {
    "ExecuteTime": {
     "end_time": "2023-03-24T17:05:59.976879Z",
     "start_time": "2023-03-24T17:05:59.614244Z"
    }
   },
   "outputs": [],
   "source": [
    "# Splitting into Train/Test split\n",
    "tss = TimeSeriesSplit(n_splits = 3)\n",
    "\n",
    "# Retrieving X_train, X_test, Y_train & Y_test\n",
    "for train_index, test_index in tss.split(X):\n",
    "    X_train, X_test = X.iloc[train_index, :], X.iloc[test_index,:]\n",
    "    Y_train, Y_test = Y.iloc[train_index], Y.iloc[test_index]"
   ]
  },
  {
   "cell_type": "code",
   "execution_count": 367,
   "metadata": {
    "ExecuteTime": {
     "end_time": "2023-03-24T17:06:02.230335Z",
     "start_time": "2023-03-24T17:06:02.205603Z"
    }
   },
   "outputs": [
    {
     "data": {
      "text/html": [
       "<div>\n",
       "<style scoped>\n",
       "    .dataframe tbody tr th:only-of-type {\n",
       "        vertical-align: middle;\n",
       "    }\n",
       "\n",
       "    .dataframe tbody tr th {\n",
       "        vertical-align: top;\n",
       "    }\n",
       "\n",
       "    .dataframe thead th {\n",
       "        text-align: right;\n",
       "    }\n",
       "</style>\n",
       "<table border=\"1\" class=\"dataframe\">\n",
       "  <thead>\n",
       "    <tr style=\"text-align: right;\">\n",
       "      <th></th>\n",
       "      <th>Count</th>\n",
       "      <th>Open</th>\n",
       "      <th>High</th>\n",
       "      <th>Low</th>\n",
       "      <th>Close</th>\n",
       "      <th>Volume</th>\n",
       "      <th>VWAP</th>\n",
       "    </tr>\n",
       "    <tr>\n",
       "      <th>timestamp</th>\n",
       "      <th></th>\n",
       "      <th></th>\n",
       "      <th></th>\n",
       "      <th></th>\n",
       "      <th></th>\n",
       "      <th></th>\n",
       "      <th></th>\n",
       "    </tr>\n",
       "  </thead>\n",
       "  <tbody>\n",
       "    <tr>\n",
       "      <th>2018-01-01 00:01:00</th>\n",
       "      <td>229.0</td>\n",
       "      <td>13835.194000</td>\n",
       "      <td>14013.8</td>\n",
       "      <td>13666.11</td>\n",
       "      <td>13850.176000</td>\n",
       "      <td>31.550062</td>\n",
       "      <td>13827.062093</td>\n",
       "    </tr>\n",
       "    <tr>\n",
       "      <th>2018-01-01 00:02:00</th>\n",
       "      <td>235.0</td>\n",
       "      <td>13835.036000</td>\n",
       "      <td>14052.3</td>\n",
       "      <td>13680.00</td>\n",
       "      <td>13828.102000</td>\n",
       "      <td>31.046432</td>\n",
       "      <td>13840.362591</td>\n",
       "    </tr>\n",
       "    <tr>\n",
       "      <th>2018-01-01 00:03:00</th>\n",
       "      <td>528.0</td>\n",
       "      <td>13823.900000</td>\n",
       "      <td>14000.4</td>\n",
       "      <td>13601.00</td>\n",
       "      <td>13801.314000</td>\n",
       "      <td>55.061820</td>\n",
       "      <td>13806.068014</td>\n",
       "    </tr>\n",
       "    <tr>\n",
       "      <th>2018-01-01 00:04:00</th>\n",
       "      <td>435.0</td>\n",
       "      <td>13802.512000</td>\n",
       "      <td>13999.0</td>\n",
       "      <td>13576.28</td>\n",
       "      <td>13768.040000</td>\n",
       "      <td>38.780529</td>\n",
       "      <td>13783.598101</td>\n",
       "    </tr>\n",
       "    <tr>\n",
       "      <th>2018-01-01 00:05:00</th>\n",
       "      <td>742.0</td>\n",
       "      <td>13766.000000</td>\n",
       "      <td>13955.9</td>\n",
       "      <td>13554.44</td>\n",
       "      <td>13724.914000</td>\n",
       "      <td>108.501637</td>\n",
       "      <td>13735.586842</td>\n",
       "    </tr>\n",
       "    <tr>\n",
       "      <th>...</th>\n",
       "      <td>...</td>\n",
       "      <td>...</td>\n",
       "      <td>...</td>\n",
       "      <td>...</td>\n",
       "      <td>...</td>\n",
       "      <td>...</td>\n",
       "      <td>...</td>\n",
       "    </tr>\n",
       "    <tr>\n",
       "      <th>2021-01-18 02:34:00</th>\n",
       "      <td>3971.0</td>\n",
       "      <td>35942.280000</td>\n",
       "      <td>35980.0</td>\n",
       "      <td>35806.39</td>\n",
       "      <td>35828.222857</td>\n",
       "      <td>117.819204</td>\n",
       "      <td>35879.060140</td>\n",
       "    </tr>\n",
       "    <tr>\n",
       "      <th>2021-01-18 02:35:00</th>\n",
       "      <td>3211.0</td>\n",
       "      <td>35664.910000</td>\n",
       "      <td>35904.0</td>\n",
       "      <td>34500.00</td>\n",
       "      <td>35651.209956</td>\n",
       "      <td>106.882001</td>\n",
       "      <td>35660.859150</td>\n",
       "    </tr>\n",
       "    <tr>\n",
       "      <th>2021-01-18 02:36:00</th>\n",
       "      <td>2509.0</td>\n",
       "      <td>35819.511429</td>\n",
       "      <td>35862.0</td>\n",
       "      <td>35771.00</td>\n",
       "      <td>35803.075714</td>\n",
       "      <td>83.633094</td>\n",
       "      <td>35811.293395</td>\n",
       "    </tr>\n",
       "    <tr>\n",
       "      <th>2021-01-18 02:37:00</th>\n",
       "      <td>2117.0</td>\n",
       "      <td>35800.758571</td>\n",
       "      <td>35863.0</td>\n",
       "      <td>35773.27</td>\n",
       "      <td>35810.699702</td>\n",
       "      <td>63.840867</td>\n",
       "      <td>35804.779350</td>\n",
       "    </tr>\n",
       "    <tr>\n",
       "      <th>2021-01-18 02:38:00</th>\n",
       "      <td>1811.0</td>\n",
       "      <td>35812.988571</td>\n",
       "      <td>35868.0</td>\n",
       "      <td>35783.27</td>\n",
       "      <td>35817.260000</td>\n",
       "      <td>51.596861</td>\n",
       "      <td>35817.553455</td>\n",
       "    </tr>\n",
       "  </tbody>\n",
       "</table>\n",
       "<p>1602209 rows × 7 columns</p>\n",
       "</div>"
      ],
      "text/plain": [
       "                      Count          Open     High       Low         Close  \\\n",
       "timestamp                                                                    \n",
       "2018-01-01 00:01:00   229.0  13835.194000  14013.8  13666.11  13850.176000   \n",
       "2018-01-01 00:02:00   235.0  13835.036000  14052.3  13680.00  13828.102000   \n",
       "2018-01-01 00:03:00   528.0  13823.900000  14000.4  13601.00  13801.314000   \n",
       "2018-01-01 00:04:00   435.0  13802.512000  13999.0  13576.28  13768.040000   \n",
       "2018-01-01 00:05:00   742.0  13766.000000  13955.9  13554.44  13724.914000   \n",
       "...                     ...           ...      ...       ...           ...   \n",
       "2021-01-18 02:34:00  3971.0  35942.280000  35980.0  35806.39  35828.222857   \n",
       "2021-01-18 02:35:00  3211.0  35664.910000  35904.0  34500.00  35651.209956   \n",
       "2021-01-18 02:36:00  2509.0  35819.511429  35862.0  35771.00  35803.075714   \n",
       "2021-01-18 02:37:00  2117.0  35800.758571  35863.0  35773.27  35810.699702   \n",
       "2021-01-18 02:38:00  1811.0  35812.988571  35868.0  35783.27  35817.260000   \n",
       "\n",
       "                         Volume          VWAP  \n",
       "timestamp                                      \n",
       "2018-01-01 00:01:00   31.550062  13827.062093  \n",
       "2018-01-01 00:02:00   31.046432  13840.362591  \n",
       "2018-01-01 00:03:00   55.061820  13806.068014  \n",
       "2018-01-01 00:04:00   38.780529  13783.598101  \n",
       "2018-01-01 00:05:00  108.501637  13735.586842  \n",
       "...                         ...           ...  \n",
       "2021-01-18 02:34:00  117.819204  35879.060140  \n",
       "2021-01-18 02:35:00  106.882001  35660.859150  \n",
       "2021-01-18 02:36:00   83.633094  35811.293395  \n",
       "2021-01-18 02:37:00   63.840867  35804.779350  \n",
       "2021-01-18 02:38:00   51.596861  35817.553455  \n",
       "\n",
       "[1602209 rows x 7 columns]"
      ]
     },
     "execution_count": 367,
     "metadata": {},
     "output_type": "execute_result"
    }
   ],
   "source": [
    "X_train"
   ]
  },
  {
   "cell_type": "code",
   "execution_count": 368,
   "metadata": {
    "ExecuteTime": {
     "end_time": "2023-03-24T17:06:04.042240Z",
     "start_time": "2023-03-24T17:06:04.019358Z"
    }
   },
   "outputs": [
    {
     "data": {
      "text/html": [
       "<div>\n",
       "<style scoped>\n",
       "    .dataframe tbody tr th:only-of-type {\n",
       "        vertical-align: middle;\n",
       "    }\n",
       "\n",
       "    .dataframe tbody tr th {\n",
       "        vertical-align: top;\n",
       "    }\n",
       "\n",
       "    .dataframe thead th {\n",
       "        text-align: right;\n",
       "    }\n",
       "</style>\n",
       "<table border=\"1\" class=\"dataframe\">\n",
       "  <thead>\n",
       "    <tr style=\"text-align: right;\">\n",
       "      <th></th>\n",
       "      <th>Count</th>\n",
       "      <th>Open</th>\n",
       "      <th>High</th>\n",
       "      <th>Low</th>\n",
       "      <th>Close</th>\n",
       "      <th>Volume</th>\n",
       "      <th>VWAP</th>\n",
       "    </tr>\n",
       "    <tr>\n",
       "      <th>timestamp</th>\n",
       "      <th></th>\n",
       "      <th></th>\n",
       "      <th></th>\n",
       "      <th></th>\n",
       "      <th></th>\n",
       "      <th></th>\n",
       "      <th></th>\n",
       "    </tr>\n",
       "  </thead>\n",
       "  <tbody>\n",
       "    <tr>\n",
       "      <th>2021-01-18 02:39:00</th>\n",
       "      <td>2253.0</td>\n",
       "      <td>35822.537143</td>\n",
       "      <td>35934.0</td>\n",
       "      <td>35806.60</td>\n",
       "      <td>35852.995714</td>\n",
       "      <td>84.762343</td>\n",
       "      <td>35858.398313</td>\n",
       "    </tr>\n",
       "    <tr>\n",
       "      <th>2021-01-18 02:40:00</th>\n",
       "      <td>1735.0</td>\n",
       "      <td>35849.415714</td>\n",
       "      <td>35912.0</td>\n",
       "      <td>35810.30</td>\n",
       "      <td>35874.985714</td>\n",
       "      <td>46.545962</td>\n",
       "      <td>35857.016658</td>\n",
       "    </tr>\n",
       "    <tr>\n",
       "      <th>2021-01-18 02:41:00</th>\n",
       "      <td>1524.0</td>\n",
       "      <td>35869.542857</td>\n",
       "      <td>35929.0</td>\n",
       "      <td>35826.37</td>\n",
       "      <td>35871.412412</td>\n",
       "      <td>55.691964</td>\n",
       "      <td>35862.753869</td>\n",
       "    </tr>\n",
       "    <tr>\n",
       "      <th>2021-01-18 02:42:00</th>\n",
       "      <td>1135.0</td>\n",
       "      <td>35869.262857</td>\n",
       "      <td>35936.0</td>\n",
       "      <td>35843.91</td>\n",
       "      <td>35889.624286</td>\n",
       "      <td>36.432007</td>\n",
       "      <td>35877.562847</td>\n",
       "    </tr>\n",
       "    <tr>\n",
       "      <th>2021-01-18 02:43:00</th>\n",
       "      <td>1281.0</td>\n",
       "      <td>35888.857143</td>\n",
       "      <td>35951.0</td>\n",
       "      <td>35857.40</td>\n",
       "      <td>35903.960000</td>\n",
       "      <td>34.816070</td>\n",
       "      <td>35895.228109</td>\n",
       "    </tr>\n",
       "    <tr>\n",
       "      <th>...</th>\n",
       "      <td>...</td>\n",
       "      <td>...</td>\n",
       "      <td>...</td>\n",
       "      <td>...</td>\n",
       "      <td>...</td>\n",
       "      <td>...</td>\n",
       "      <td>...</td>\n",
       "    </tr>\n",
       "    <tr>\n",
       "      <th>2022-01-23 23:56:00</th>\n",
       "      <td>1221.0</td>\n",
       "      <td>36278.361667</td>\n",
       "      <td>36331.0</td>\n",
       "      <td>36249.00</td>\n",
       "      <td>36293.123333</td>\n",
       "      <td>30.247067</td>\n",
       "      <td>36289.796806</td>\n",
       "    </tr>\n",
       "    <tr>\n",
       "      <th>2022-01-23 23:57:00</th>\n",
       "      <td>1634.0</td>\n",
       "      <td>36289.681667</td>\n",
       "      <td>36328.0</td>\n",
       "      <td>36230.72</td>\n",
       "      <td>36261.708333</td>\n",
       "      <td>35.647000</td>\n",
       "      <td>36276.229399</td>\n",
       "    </tr>\n",
       "    <tr>\n",
       "      <th>2022-01-23 23:58:00</th>\n",
       "      <td>1570.0</td>\n",
       "      <td>36262.841667</td>\n",
       "      <td>36319.0</td>\n",
       "      <td>36230.30</td>\n",
       "      <td>36276.223333</td>\n",
       "      <td>49.867700</td>\n",
       "      <td>36274.441548</td>\n",
       "    </tr>\n",
       "    <tr>\n",
       "      <th>2022-01-23 23:59:00</th>\n",
       "      <td>1459.0</td>\n",
       "      <td>36268.849570</td>\n",
       "      <td>36313.0</td>\n",
       "      <td>36231.71</td>\n",
       "      <td>36276.623333</td>\n",
       "      <td>43.030556</td>\n",
       "      <td>36274.613301</td>\n",
       "    </tr>\n",
       "    <tr>\n",
       "      <th>2022-01-24 00:00:00</th>\n",
       "      <td>2917.0</td>\n",
       "      <td>36262.038571</td>\n",
       "      <td>36302.0</td>\n",
       "      <td>36176.45</td>\n",
       "      <td>36221.987143</td>\n",
       "      <td>110.053151</td>\n",
       "      <td>36247.575361</td>\n",
       "    </tr>\n",
       "  </tbody>\n",
       "</table>\n",
       "<p>534069 rows × 7 columns</p>\n",
       "</div>"
      ],
      "text/plain": [
       "                      Count          Open     High       Low         Close  \\\n",
       "timestamp                                                                    \n",
       "2021-01-18 02:39:00  2253.0  35822.537143  35934.0  35806.60  35852.995714   \n",
       "2021-01-18 02:40:00  1735.0  35849.415714  35912.0  35810.30  35874.985714   \n",
       "2021-01-18 02:41:00  1524.0  35869.542857  35929.0  35826.37  35871.412412   \n",
       "2021-01-18 02:42:00  1135.0  35869.262857  35936.0  35843.91  35889.624286   \n",
       "2021-01-18 02:43:00  1281.0  35888.857143  35951.0  35857.40  35903.960000   \n",
       "...                     ...           ...      ...       ...           ...   \n",
       "2022-01-23 23:56:00  1221.0  36278.361667  36331.0  36249.00  36293.123333   \n",
       "2022-01-23 23:57:00  1634.0  36289.681667  36328.0  36230.72  36261.708333   \n",
       "2022-01-23 23:58:00  1570.0  36262.841667  36319.0  36230.30  36276.223333   \n",
       "2022-01-23 23:59:00  1459.0  36268.849570  36313.0  36231.71  36276.623333   \n",
       "2022-01-24 00:00:00  2917.0  36262.038571  36302.0  36176.45  36221.987143   \n",
       "\n",
       "                         Volume          VWAP  \n",
       "timestamp                                      \n",
       "2021-01-18 02:39:00   84.762343  35858.398313  \n",
       "2021-01-18 02:40:00   46.545962  35857.016658  \n",
       "2021-01-18 02:41:00   55.691964  35862.753869  \n",
       "2021-01-18 02:42:00   36.432007  35877.562847  \n",
       "2021-01-18 02:43:00   34.816070  35895.228109  \n",
       "...                         ...           ...  \n",
       "2022-01-23 23:56:00   30.247067  36289.796806  \n",
       "2022-01-23 23:57:00   35.647000  36276.229399  \n",
       "2022-01-23 23:58:00   49.867700  36274.441548  \n",
       "2022-01-23 23:59:00   43.030556  36274.613301  \n",
       "2022-01-24 00:00:00  110.053151  36247.575361  \n",
       "\n",
       "[534069 rows x 7 columns]"
      ]
     },
     "execution_count": 368,
     "metadata": {},
     "output_type": "execute_result"
    }
   ],
   "source": [
    "X_test"
   ]
  },
  {
   "cell_type": "code",
   "execution_count": 369,
   "metadata": {
    "ExecuteTime": {
     "end_time": "2023-03-24T17:06:06.761336Z",
     "start_time": "2023-03-24T17:06:06.751374Z"
    }
   },
   "outputs": [
    {
     "data": {
      "text/plain": [
       "timestamp\n",
       "2018-01-01 00:01:00    0\n",
       "2018-01-01 00:02:00    0\n",
       "2018-01-01 00:03:00    0\n",
       "2018-01-01 00:04:00    0\n",
       "2018-01-01 00:05:00    0\n",
       "                      ..\n",
       "2021-01-18 02:34:00    0\n",
       "2021-01-18 02:35:00    1\n",
       "2021-01-18 02:36:00    1\n",
       "2021-01-18 02:37:00    1\n",
       "2021-01-18 02:38:00    1\n",
       "Name: Target, Length: 1602209, dtype: int64"
      ]
     },
     "execution_count": 369,
     "metadata": {},
     "output_type": "execute_result"
    }
   ],
   "source": [
    "Y_train"
   ]
  },
  {
   "cell_type": "code",
   "execution_count": 370,
   "metadata": {
    "ExecuteTime": {
     "end_time": "2023-03-24T17:06:08.161128Z",
     "start_time": "2023-03-24T17:06:08.150979Z"
    }
   },
   "outputs": [
    {
     "data": {
      "text/plain": [
       "timestamp\n",
       "2021-01-18 02:39:00    1\n",
       "2021-01-18 02:40:00    0\n",
       "2021-01-18 02:41:00    1\n",
       "2021-01-18 02:42:00    1\n",
       "2021-01-18 02:43:00    1\n",
       "                      ..\n",
       "2022-01-23 23:56:00    0\n",
       "2022-01-23 23:57:00    1\n",
       "2022-01-23 23:58:00    1\n",
       "2022-01-23 23:59:00    0\n",
       "2022-01-24 00:00:00    0\n",
       "Name: Target, Length: 534069, dtype: int64"
      ]
     },
     "execution_count": 370,
     "metadata": {},
     "output_type": "execute_result"
    }
   ],
   "source": [
    "Y_test"
   ]
  },
  {
   "cell_type": "markdown",
   "metadata": {},
   "source": [
    "## Prediction of the price movement <span style=\"color:red\">[ML methods]</span>"
   ]
  },
  {
   "cell_type": "markdown",
   "metadata": {},
   "source": [
    "### Logistic regression <span style=\"background:magenta; padding: 4px 6px\">BASELINE</span>"
   ]
  },
  {
   "cell_type": "code",
   "execution_count": 371,
   "metadata": {
    "ExecuteTime": {
     "end_time": "2023-03-24T17:11:43.038388Z",
     "start_time": "2023-03-24T17:11:42.626483Z"
    }
   },
   "outputs": [],
   "source": [
    "from sklearn.linear_model import LogisticRegression"
   ]
  },
  {
   "cell_type": "code",
   "execution_count": 372,
   "metadata": {
    "ExecuteTime": {
     "end_time": "2023-03-24T17:12:10.320122Z",
     "start_time": "2023-03-24T17:12:10.315997Z"
    }
   },
   "outputs": [],
   "source": [
    "# Defining the classifier\n",
    "clf = LogisticRegression()"
   ]
  },
  {
   "cell_type": "code",
   "execution_count": 373,
   "metadata": {
    "ExecuteTime": {
     "end_time": "2023-03-24T17:12:14.756275Z",
     "start_time": "2023-03-24T17:12:11.283380Z"
    }
   },
   "outputs": [
    {
     "data": {
      "text/html": [
       "<style>#sk-container-id-5 {color: black;background-color: white;}#sk-container-id-5 pre{padding: 0;}#sk-container-id-5 div.sk-toggleable {background-color: white;}#sk-container-id-5 label.sk-toggleable__label {cursor: pointer;display: block;width: 100%;margin-bottom: 0;padding: 0.3em;box-sizing: border-box;text-align: center;}#sk-container-id-5 label.sk-toggleable__label-arrow:before {content: \"▸\";float: left;margin-right: 0.25em;color: #696969;}#sk-container-id-5 label.sk-toggleable__label-arrow:hover:before {color: black;}#sk-container-id-5 div.sk-estimator:hover label.sk-toggleable__label-arrow:before {color: black;}#sk-container-id-5 div.sk-toggleable__content {max-height: 0;max-width: 0;overflow: hidden;text-align: left;background-color: #f0f8ff;}#sk-container-id-5 div.sk-toggleable__content pre {margin: 0.2em;color: black;border-radius: 0.25em;background-color: #f0f8ff;}#sk-container-id-5 input.sk-toggleable__control:checked~div.sk-toggleable__content {max-height: 200px;max-width: 100%;overflow: auto;}#sk-container-id-5 input.sk-toggleable__control:checked~label.sk-toggleable__label-arrow:before {content: \"▾\";}#sk-container-id-5 div.sk-estimator input.sk-toggleable__control:checked~label.sk-toggleable__label {background-color: #d4ebff;}#sk-container-id-5 div.sk-label input.sk-toggleable__control:checked~label.sk-toggleable__label {background-color: #d4ebff;}#sk-container-id-5 input.sk-hidden--visually {border: 0;clip: rect(1px 1px 1px 1px);clip: rect(1px, 1px, 1px, 1px);height: 1px;margin: -1px;overflow: hidden;padding: 0;position: absolute;width: 1px;}#sk-container-id-5 div.sk-estimator {font-family: monospace;background-color: #f0f8ff;border: 1px dotted black;border-radius: 0.25em;box-sizing: border-box;margin-bottom: 0.5em;}#sk-container-id-5 div.sk-estimator:hover {background-color: #d4ebff;}#sk-container-id-5 div.sk-parallel-item::after {content: \"\";width: 100%;border-bottom: 1px solid gray;flex-grow: 1;}#sk-container-id-5 div.sk-label:hover label.sk-toggleable__label {background-color: #d4ebff;}#sk-container-id-5 div.sk-serial::before {content: \"\";position: absolute;border-left: 1px solid gray;box-sizing: border-box;top: 0;bottom: 0;left: 50%;z-index: 0;}#sk-container-id-5 div.sk-serial {display: flex;flex-direction: column;align-items: center;background-color: white;padding-right: 0.2em;padding-left: 0.2em;position: relative;}#sk-container-id-5 div.sk-item {position: relative;z-index: 1;}#sk-container-id-5 div.sk-parallel {display: flex;align-items: stretch;justify-content: center;background-color: white;position: relative;}#sk-container-id-5 div.sk-item::before, #sk-container-id-5 div.sk-parallel-item::before {content: \"\";position: absolute;border-left: 1px solid gray;box-sizing: border-box;top: 0;bottom: 0;left: 50%;z-index: -1;}#sk-container-id-5 div.sk-parallel-item {display: flex;flex-direction: column;z-index: 1;position: relative;background-color: white;}#sk-container-id-5 div.sk-parallel-item:first-child::after {align-self: flex-end;width: 50%;}#sk-container-id-5 div.sk-parallel-item:last-child::after {align-self: flex-start;width: 50%;}#sk-container-id-5 div.sk-parallel-item:only-child::after {width: 0;}#sk-container-id-5 div.sk-dashed-wrapped {border: 1px dashed gray;margin: 0 0.4em 0.5em 0.4em;box-sizing: border-box;padding-bottom: 0.4em;background-color: white;}#sk-container-id-5 div.sk-label label {font-family: monospace;font-weight: bold;display: inline-block;line-height: 1.2em;}#sk-container-id-5 div.sk-label-container {text-align: center;}#sk-container-id-5 div.sk-container {/* jupyter's `normalize.less` sets `[hidden] { display: none; }` but bootstrap.min.css set `[hidden] { display: none !important; }` so we also need the `!important` here to be able to override the default hidden behavior on the sphinx rendered scikit-learn.org. See: https://github.com/scikit-learn/scikit-learn/issues/21755 */display: inline-block !important;position: relative;}#sk-container-id-5 div.sk-text-repr-fallback {display: none;}</style><div id=\"sk-container-id-5\" class=\"sk-top-container\"><div class=\"sk-text-repr-fallback\"><pre>LogisticRegression()</pre><b>In a Jupyter environment, please rerun this cell to show the HTML representation or trust the notebook. <br />On GitHub, the HTML representation is unable to render, please try loading this page with nbviewer.org.</b></div><div class=\"sk-container\" hidden><div class=\"sk-item\"><div class=\"sk-estimator sk-toggleable\"><input class=\"sk-toggleable__control sk-hidden--visually\" id=\"sk-estimator-id-5\" type=\"checkbox\" checked><label for=\"sk-estimator-id-5\" class=\"sk-toggleable__label sk-toggleable__label-arrow\">LogisticRegression</label><div class=\"sk-toggleable__content\"><pre>LogisticRegression()</pre></div></div></div></div></div>"
      ],
      "text/plain": [
       "LogisticRegression()"
      ]
     },
     "execution_count": 373,
     "metadata": {},
     "output_type": "execute_result"
    }
   ],
   "source": [
    "# Fitting the data with the classifier\n",
    "clf.fit(X_train, Y_train)"
   ]
  },
  {
   "cell_type": "code",
   "execution_count": 374,
   "metadata": {
    "ExecuteTime": {
     "end_time": "2023-03-24T17:22:43.983897Z",
     "start_time": "2023-03-24T17:22:43.972567Z"
    }
   },
   "outputs": [],
   "source": [
    "# Making prediction based on samples within X_test\n",
    "Y_pred = clf.predict(X_test)"
   ]
  },
  {
   "cell_type": "code",
   "execution_count": 375,
   "metadata": {
    "ExecuteTime": {
     "end_time": "2023-03-24T17:23:00.385572Z",
     "start_time": "2023-03-24T17:23:00.369024Z"
    }
   },
   "outputs": [],
   "source": [
    "Y_prob = clf.predict_proba(X_test)"
   ]
  },
  {
   "cell_type": "code",
   "execution_count": 376,
   "metadata": {
    "ExecuteTime": {
     "end_time": "2023-03-24T17:13:57.825408Z",
     "start_time": "2023-03-24T17:13:57.815980Z"
    }
   },
   "outputs": [],
   "source": [
    "assert np.all(np.unique(Y_pred) == np.array([0, 1]))"
   ]
  },
  {
   "cell_type": "code",
   "execution_count": 377,
   "metadata": {
    "ExecuteTime": {
     "end_time": "2023-03-24T17:18:23.395145Z",
     "start_time": "2023-03-24T17:18:23.129772Z"
    }
   },
   "outputs": [
    {
     "data": {
      "image/png": "[encoded data removed]",
      "text/plain": [
       "<Figure size 864x360 with 2 Axes>"
      ]
     },
     "metadata": {
      "needs_background": "light"
     },
     "output_type": "display_data"
    }
   ],
   "source": [
    "# Generate confusion matrix\n",
    "matrix = plot_confusion_matrix(clf, \n",
    "                               X_test, Y_test,\n",
    "                               cmap=plt.cm.Reds,\n",
    "                               normalize='true')\n",
    "_ = plt.title('Confusion matrix for the ML classifier : Logistic Regresion')"
   ]
  },
  {
   "cell_type": "code",
   "execution_count": 378,
   "metadata": {
    "ExecuteTime": {
     "end_time": "2023-03-24T17:27:54.325945Z",
     "start_time": "2023-03-24T17:27:50.987502Z"
    }
   },
   "outputs": [
    {
     "data": {
      "image/png": "[encoded data removed]",
      "text/plain": [
       "<Figure size 504x288 with 1 Axes>"
      ]
     },
     "metadata": {
      "needs_background": "light"
     },
     "output_type": "display_data"
    }
   ],
   "source": [
    "# Plotting Precision-Recall curve\n",
    "fig, ax = plt.subplots(figsize=(7, 4))\n",
    "_ = skplt.metrics.plot_precision_recall(Y_test, Y_prob, ax=ax)\n",
    "_ = plt.ylim([0.45, 0.55])"
   ]
  },
  {
   "cell_type": "code",
   "execution_count": 379,
   "metadata": {
    "ExecuteTime": {
     "end_time": "2023-03-24T17:29:12.208939Z",
     "start_time": "2023-03-24T17:29:11.347713Z"
    }
   },
   "outputs": [
    {
     "data": {
      "image/png": "[encoded data removed]",
      "text/plain": [
       "<Figure size 504x288 with 1 Axes>"
      ]
     },
     "metadata": {
      "needs_background": "light"
     },
     "output_type": "display_data"
    }
   ],
   "source": [
    "# Plotting ROC curve\n",
    "fig, ax = plt.subplots(figsize=(7, 4))\n",
    "_ = skplt.metrics.plot_roc_curve(Y_test, Y_prob, ax=ax)"
   ]
  },
  {
   "cell_type": "markdown",
   "metadata": {},
   "source": [
    "### KNN"
   ]
  },
  {
   "cell_type": "code",
   "execution_count": 380,
   "metadata": {
    "ExecuteTime": {
     "end_time": "2023-03-24T17:32:55.527547Z",
     "start_time": "2023-03-24T17:32:55.460698Z"
    }
   },
   "outputs": [],
   "source": [
    "from sklearn.neighbors import KNeighborsClassifier"
   ]
  },
  {
   "cell_type": "code",
   "execution_count": 381,
   "metadata": {
    "ExecuteTime": {
     "end_time": "2023-03-24T17:35:59.453488Z",
     "start_time": "2023-03-24T17:35:59.449492Z"
    }
   },
   "outputs": [],
   "source": [
    "# Defining the classifier\n",
    "clf = KNeighborsClassifier(n_neighbors=4)"
   ]
  },
  {
   "cell_type": "code",
   "execution_count": 382,
   "metadata": {
    "ExecuteTime": {
     "end_time": "2023-03-24T17:36:01.728016Z",
     "start_time": "2023-03-24T17:35:59.949319Z"
    }
   },
   "outputs": [
    {
     "data": {
      "text/html": [
       "<style>#sk-container-id-6 {color: black;background-color: white;}#sk-container-id-6 pre{padding: 0;}#sk-container-id-6 div.sk-toggleable {background-color: white;}#sk-container-id-6 label.sk-toggleable__label {cursor: pointer;display: block;width: 100%;margin-bottom: 0;padding: 0.3em;box-sizing: border-box;text-align: center;}#sk-container-id-6 label.sk-toggleable__label-arrow:before {content: \"▸\";float: left;margin-right: 0.25em;color: #696969;}#sk-container-id-6 label.sk-toggleable__label-arrow:hover:before {color: black;}#sk-container-id-6 div.sk-estimator:hover label.sk-toggleable__label-arrow:before {color: black;}#sk-container-id-6 div.sk-toggleable__content {max-height: 0;max-width: 0;overflow: hidden;text-align: left;background-color: #f0f8ff;}#sk-container-id-6 div.sk-toggleable__content pre {margin: 0.2em;color: black;border-radius: 0.25em;background-color: #f0f8ff;}#sk-container-id-6 input.sk-toggleable__control:checked~div.sk-toggleable__content {max-height: 200px;max-width: 100%;overflow: auto;}#sk-container-id-6 input.sk-toggleable__control:checked~label.sk-toggleable__label-arrow:before {content: \"▾\";}#sk-container-id-6 div.sk-estimator input.sk-toggleable__control:checked~label.sk-toggleable__label {background-color: #d4ebff;}#sk-container-id-6 div.sk-label input.sk-toggleable__control:checked~label.sk-toggleable__label {background-color: #d4ebff;}#sk-container-id-6 input.sk-hidden--visually {border: 0;clip: rect(1px 1px 1px 1px);clip: rect(1px, 1px, 1px, 1px);height: 1px;margin: -1px;overflow: hidden;padding: 0;position: absolute;width: 1px;}#sk-container-id-6 div.sk-estimator {font-family: monospace;background-color: #f0f8ff;border: 1px dotted black;border-radius: 0.25em;box-sizing: border-box;margin-bottom: 0.5em;}#sk-container-id-6 div.sk-estimator:hover {background-color: #d4ebff;}#sk-container-id-6 div.sk-parallel-item::after {content: \"\";width: 100%;border-bottom: 1px solid gray;flex-grow: 1;}#sk-container-id-6 div.sk-label:hover label.sk-toggleable__label {background-color: #d4ebff;}#sk-container-id-6 div.sk-serial::before {content: \"\";position: absolute;border-left: 1px solid gray;box-sizing: border-box;top: 0;bottom: 0;left: 50%;z-index: 0;}#sk-container-id-6 div.sk-serial {display: flex;flex-direction: column;align-items: center;background-color: white;padding-right: 0.2em;padding-left: 0.2em;position: relative;}#sk-container-id-6 div.sk-item {position: relative;z-index: 1;}#sk-container-id-6 div.sk-parallel {display: flex;align-items: stretch;justify-content: center;background-color: white;position: relative;}#sk-container-id-6 div.sk-item::before, #sk-container-id-6 div.sk-parallel-item::before {content: \"\";position: absolute;border-left: 1px solid gray;box-sizing: border-box;top: 0;bottom: 0;left: 50%;z-index: -1;}#sk-container-id-6 div.sk-parallel-item {display: flex;flex-direction: column;z-index: 1;position: relative;background-color: white;}#sk-container-id-6 div.sk-parallel-item:first-child::after {align-self: flex-end;width: 50%;}#sk-container-id-6 div.sk-parallel-item:last-child::after {align-self: flex-start;width: 50%;}#sk-container-id-6 div.sk-parallel-item:only-child::after {width: 0;}#sk-container-id-6 div.sk-dashed-wrapped {border: 1px dashed gray;margin: 0 0.4em 0.5em 0.4em;box-sizing: border-box;padding-bottom: 0.4em;background-color: white;}#sk-container-id-6 div.sk-label label {font-family: monospace;font-weight: bold;display: inline-block;line-height: 1.2em;}#sk-container-id-6 div.sk-label-container {text-align: center;}#sk-container-id-6 div.sk-container {/* jupyter's `normalize.less` sets `[hidden] { display: none; }` but bootstrap.min.css set `[hidden] { display: none !important; }` so we also need the `!important` here to be able to override the default hidden behavior on the sphinx rendered scikit-learn.org. See: https://github.com/scikit-learn/scikit-learn/issues/21755 */display: inline-block !important;position: relative;}#sk-container-id-6 div.sk-text-repr-fallback {display: none;}</style><div id=\"sk-container-id-6\" class=\"sk-top-container\"><div class=\"sk-text-repr-fallback\"><pre>KNeighborsClassifier(n_neighbors=4)</pre><b>In a Jupyter environment, please rerun this cell to show the HTML representation or trust the notebook. <br />On GitHub, the HTML representation is unable to render, please try loading this page with nbviewer.org.</b></div><div class=\"sk-container\" hidden><div class=\"sk-item\"><div class=\"sk-estimator sk-toggleable\"><input class=\"sk-toggleable__control sk-hidden--visually\" id=\"sk-estimator-id-6\" type=\"checkbox\" checked><label for=\"sk-estimator-id-6\" class=\"sk-toggleable__label sk-toggleable__label-arrow\">KNeighborsClassifier</label><div class=\"sk-toggleable__content\"><pre>KNeighborsClassifier(n_neighbors=4)</pre></div></div></div></div></div>"
      ],
      "text/plain": [
       "KNeighborsClassifier(n_neighbors=4)"
      ]
     },
     "execution_count": 382,
     "metadata": {},
     "output_type": "execute_result"
    }
   ],
   "source": [
    "# Fitting the data with the classifier\n",
    "clf.fit(X_train, Y_train)"
   ]
  },
  {
   "cell_type": "code",
   "execution_count": 383,
   "metadata": {
    "ExecuteTime": {
     "end_time": "2023-03-24T17:36:13.592239Z",
     "start_time": "2023-03-24T17:36:01.730150Z"
    }
   },
   "outputs": [],
   "source": [
    "# Making prediction based on samples within X_test\n",
    "Y_pred = clf.predict(X_test)"
   ]
  },
  {
   "cell_type": "code",
   "execution_count": 384,
   "metadata": {},
   "outputs": [
    {
     "name": "stdout",
     "output_type": "stream",
     "text": [
      "Accuracy: 0.5021354918559212\n"
     ]
    }
   ],
   "source": [
    "from sklearn.metrics import accuracy_score\n",
    "\n",
    "# Getting the accuracy score of the model\n",
    "accuracy = accuracy_score(Y_test, Y_pred)\n",
    "print(\"Accuracy:\", accuracy)"
   ]
  },
  {
   "cell_type": "code",
   "execution_count": 385,
   "metadata": {},
   "outputs": [],
   "source": [
    "import plotly.graph_objects as go\n",
    "\n",
    "# Implementing a first trading algorithm using a fixed transaction cost\n",
    "def trading_algorithm(Y_pred, X_test, transaction_cost=0.005, candlestick_chart = False, candlestick_chart_daily = False):\n",
    "    shares = 0\n",
    "    cash = 100000\n",
    "    pnl = []\n",
    "    buy_signals = []\n",
    "    sell_signals = []\n",
    "    \n",
    "    for i in range(len(Y_pred)):  # looping through each prediction in Y_pred\n",
    "        # if (prediction is 1) and (we don't have any shares) then buy 1 share\n",
    "        if Y_pred[i] == 1 and shares == 0:\n",
    "            shares += 1\n",
    "            cost = X_test[\"Close\"].iloc[i] * (1 + transaction_cost)\n",
    "            cash -= cost\n",
    "            buy_signals.append(i)\n",
    "        # if (prediction is 0) and (we have shares) then sell 1 share\n",
    "        elif Y_pred[i] == 0 and shares > 0:\n",
    "            shares -= 1\n",
    "            revenue = X_test[\"Close\"].iloc[i] * (1 - transaction_cost)\n",
    "            cash += revenue\n",
    "            sell_signals.append(i)\n",
    "        # if (prediction is 1) and (we already have shares) then continue to hold\n",
    "        elif Y_pred[i] == 1 and shares > 0:\n",
    "            continue\n",
    "        \n",
    "        pnl.append(shares * X_test[\"Close\"].iloc[i] + cash)  # append the PnL to the PnL list\n",
    "    \n",
    "    # Plot the PnL\n",
    "    plt.plot(pnl)\n",
    "    plt.xlabel(\"Time\")\n",
    "    plt.ylabel(\"PnL\")\n",
    "    plt.title(\"Trading Algorithm PnL\")\n",
    "    plt.show()\n",
    "    \n",
    "    if (candlestick_chart):\n",
    "        \n",
    "        if (candlestick_chart_daily):\n",
    "            # Resample data to daily frequency\n",
    "            X_test_plot = X_test.resample('D').agg({'Open':'first', 'High':'max', 'Low':'min', 'Close':'last'})\n",
    "            # Plot a daily candlestick chart with buy and sell markers\n",
    "            fig = go.Figure()\n",
    "\n",
    "            fig.add_trace(go.Candlestick(x=X_test_plot.index,\n",
    "                                         open=X_test_plot['Open'],\n",
    "                                         high=X_test_plot['High'],\n",
    "                                         low=X_test_plot['Low'],\n",
    "                                         close=X_test_plot['Close'],\n",
    "                                         name='Market Data'))\n",
    "\n",
    "            fig.update_layout(title='Daily Candlestick Chart',\n",
    "                              yaxis=dict(title='Price'),\n",
    "                              xaxis=dict(title='Date'))\n",
    "\n",
    "            fig.show()\n",
    "            \n",
    "        else:\n",
    "            # Plot a candlestick chart with buy and sell markers\n",
    "            # Please note that plotly may experience performance issues or crashes when handling large input datasets. \n",
    "            # If you encounter any issues, you may need to reduce the size of your input data or use data downsampling techniques to improve performance.\n",
    "            print(\"Please note that plotly may experience performance issues or crashes when handling large input datasets. If you encounter any issues, you may need to reduce the size of your input data or use data downsampling techniques to improve performance.\")\n",
    "            fig = go.Figure()\n",
    "\n",
    "            fig.add_trace(go.Candlestick(x=X_test.index,\n",
    "                                         open=X_test['Open'],\n",
    "                                         high=X_test['High'],\n",
    "                                         low=X_test['Low'],\n",
    "                                         close=X_test['Close'],\n",
    "                                         name='Market Data'))\n",
    "\n",
    "            fig.add_trace(go.Scatter(x=X_test.iloc[buy_signals].index,\n",
    "                                     y=X_test.iloc[buy_signals]['Close'],\n",
    "                                     mode='markers',\n",
    "                                     marker=dict(symbol='circle', size=10, color='green'),\n",
    "                                     name='Buy Signals'))\n",
    "\n",
    "            fig.add_trace(go.Scatter(x=X_test.iloc[sell_signals].index,\n",
    "                                     y=X_test.iloc[sell_signals]['Close'],\n",
    "                                     mode='markers',\n",
    "                                     marker=dict(symbol='circle', size=10, color='red'),\n",
    "                                     name='Sell Signals'))\n",
    "\n",
    "            fig.update_layout(title='Trading Algorithm with Buy and Sell signals',\n",
    "                              yaxis=dict(title='Price'),\n",
    "                              xaxis=dict(title='Date'))\n",
    "\n",
    "            fig.show()\n",
    "\n",
    "    return"
   ]
  },
  {
   "cell_type": "code",
   "execution_count": 387,
   "metadata": {},
   "outputs": [
    {
     "name": "stdout",
     "output_type": "stream",
     "text": [
      "Full data + no candlestick chart plot:\n"
     ]
    },
    {
     "data": {
      "image/png": "[encoded data removed]",
      "text/plain": [
       "<Figure size 864x360 with 1 Axes>"
      ]
     },
     "metadata": {
      "needs_background": "light"
     },
     "output_type": "display_data"
    },
    {
     "name": "stdout",
     "output_type": "stream",
     "text": [
      "Full data + daily candlestick chart plot:\n"
     ]
    },
    {
     "data": {
      "image/png": "[encoded data removed]",
      "text/plain": [
       "<Figure size 864x360 with 1 Axes>"
      ]
     },
     "metadata": {
      "needs_background": "light"
     },
     "output_type": "display_data"
    },
    {
     "data": {
      "application/vnd.plotly.v1+json": {
       "config": {
        "plotlyServerURL": "https://plot.ly"
       },
       "data": [
        {
         "close": [
          36634.468571428566,
          35912.99,
          35491.71,
          30850.051428571427,
          32987.614285714284,
          32093.42428571428,
          32280.48285714285,
          32266.119999999995,
          32491.85,
          30392.78105114286,
          33406.834285714285,
          34253.11571428571,
          34296.2,
          33118.98285714286,
          33534.30142857142,
          35505.70857142857,
          37651.86571428572,
          36961.19547328572,
          38296.70428571429,
          39245.980082087495,
          38834.32571428572,
          46411.595,
          46470.70857142856,
          44830.69857142858,
          47976.35428571428,
          47381.76625,
          47185.24714285714,
          48619.338571428576,
          47921.19857142858,
          49166.93,
          52135.318571428565,
          51574.95571428572,
          55925.08714285715,
          55873.31857142859,
          57439.70571428572,
          54113.23428571428,
          48894.841428571424,
          49711.27375,
          47079.87500000001,
          46305.62285714286,
          46147.23142857144,
          45204.01,
          49605.86142857144,
          48481.5,
          50371.65820344287,
          48377.74142857143,
          48764.19714285714,
          48886.92285714286,
          50969.45428571429,
          52389.69285714285,
          54908.97969529143,
          55878.59428571428,
          57800.50714285714,
          57245.13857142857,
          61182.196716285725,
          58996.35375,
          55637.7975,
          56902.41499999999,
          58906.565,
          57644.62428571429,
          58049.241139897145,
          58105.91857142858,
          57361.694285714286,
          54100.075,
          54356.51872856,
          52309.895,
          51319.08571428572,
          55042.22571428572,
          55841.87714285716,
          55780.735714285714,
          57632.83482285715,
          58773.92571428571,
          58771.60571428573,
          58729.37857142858,
          58979.31,
          57074.12875,
          58210.117026674285,
          59124.40625,
          58002.718571428566,
          55950.96000000001,
          58080.724285714285,
          58122.75125,
          59780.77571428572,
          59993.395714285725,
          59848.84714285715,
          63570.902857142864,
          62960.588571428576,
          63192.16,
          61386.31833333332,
          60020.24195666286,
          56199.58,
          55661.88,
          56465.15881628572,
          53796.979598714286,
          51706.53694842571,
          51146.055714285714,
          50083.121428571416,
          49099.17142857143,
          54039.23285714287,
          55047.35571428571,
          54866.73428571429,
          53570.08,
          57723.667142857135,
          57819.908571428576,
          56600.17142857143,
          57180.78142857144,
          53223.76,
          57474.86571428571,
          56420.72714285714,
          57345.76714285714,
          58912.12428571428,
          58273.52857142857,
          55842.88446171429,
          56715.36780057144,
          49414.81625,
          49689.928530790006,
          49876.51571428571,
          46776.494285714274,
          46464.30285714287,
          43553.938571428575,
          42870.292857142864,
          36718.78714285714,
          40574.42203960286,
          37309.544446417145,
          37479.21571428572,
          34706.457142857136,
          38830.035714285725,
          38366.30099577125,
          39272.99857142857,
          38527.95813732428,
          35672.01142857143,
          34608.031428571434,
          35651.28571428572,
          37281.59857142857,
          36686.467142857146,
          37578.13714285714,
          39232.59142857143,
          36846.37857142858,
          35525.45857142857,
          35797.6075,
          33571.86714285715,
          33397.099337600004,
          37388.55285714286,
          36682.47571428571,
          37334.81285714286,
          35551.520000000004,
          39016.027568015714,
          40526.43,
          40155.69,
          38347.72571428572,
          38088.03142857144,
          35830.61571428571,
          35500.864285714284,
          35600.37714285714,
          31637.26390228144,
          32527.92571428572,
          33677.49428571429,
          34659.84285714286,
          31588.374635020005,
          32287.080529535,
          34704.99611329572,
          34489.41476867858,
          35910.47106169428,
          35048.54714285715,
          33520.42284674875,
          33799.79142857143,
          34678.4,
          35286.48142857143,
          33694.27831104625,
          34236.19125,
          33874.012857142865,
          32876.79142857143,
          33808.502857142856,
          33511.599890001424,
          34256.36714285714,
          33094.17,
          32728.054285714286,
          32818.78798488285,
          31863.977142857144,
          31396.660000000003,
          31527.021428571432,
          31785.34,
          30837.672857142858,
          29790.982857142862,
          32140.304285714286,
          32295.53833333334,
          33644.77285714286,
          34274.305714285714,
          35407.28125,
          37259.74285714285,
          39477.31714285714,
          40022.68142857143,
          40025.5644625,
          42219.51114473286,
          41454.75875,
          39857.66857142857,
          39152.180893935714,
          38195.56,
          39733.05857142857,
          40875.98333333333,
          42837.91,
          44594.108571428565,
          43814.26,
          46278.33264446141,
          45594.42285714285,
          45535.985714285714,
          44414.92714285715,
          47822.755714285726,
          47091.85285714286,
          47003.26,
          45911.69857142858,
          44686.25714285714,
          44711.63000000001,
          46764.84666666667,
          49335.51101872,
          48846.46142857144,
          49271.07750000001,
          49508.875714285714,
          47692.55571428572,
          48983.6761598225,
          46845.315,
          49072.40714285715,
          48909.84000000001,
          48785.097142857136,
          46989.66612593001,
          47124.13571428572,
          48833.45571428572,
          49278.47875,
          50009.00749999999,
          49918.70166666666,
          51776.87,
          52679.1725,
          46867.82,
          46064.75342324,
          46393.33428571428,
          44848.18875,
          45166.28142857144,
          46032.933474182864,
          44946.60142857144,
          47121.792857142864,
          48137.71,
          47759.54,
          47295.47,
          48307.06875,
          47243.39875,
          43017.277142857136,
          40697.76848767571,
          43566.90666666667,
          44884.42220222667,
          42833.60166666666,
          42699.84,
          43184.79,
          42168.05,
          41040.71571428572,
          41531.572857142855,
          43816.22857142857,
          48156.56,
          47653.51714285714,
          48224.895714285725,
          49240,
          51493.99142857143,
          55333.36166666667,
          53793.92885123001,
          53957.02,
          54960.80333333334,
          54688.64,
          57483.41857142858,
          56003.73666666666,
          57370.87833333333,
          57353.84285714286,
          61672.54500000001,
          60873.84166666667,
          61524.292857142864,
          62024.4,
          64274.02857142857,
          66014.12999999999,
          62207.36744275,
          60693.008,
          61307.48,
          60858.04,
          63088.05833333332,
          60320.40833333332,
          58452.898527995705,
          60587.97166666666,
          62266.364,
          61880.73333333334,
          61334.43833333333,
          60932.92833333334,
          63247.61,
          62916.585,
          61427.091585005,
          60997.45857142857,
          61508.46731446333,
          63284.16999999999,
          67539.16166666668,
          66949.55714285714,
          64915.09428571428,
          64807.58142857142,
          64147.10142857144,
          64393.22166666666,
          65491.90571428572,
          63604.41833333334,
          60095.86000000001,
          60355.94099324834,
          56917.67714285715,
          58096.84166666665,
          59742.83870021168,
          58669.597142857136,
          56273.96061692,
          57562.7,
          57167.707142857136,
          58966.89605169,
          53768.68571428571,
          54757.55666666667,
          57285.597142857136,
          57817.83666666668,
          56963.36285714285,
          57221.25833333334,
          56513.61333333334,
          53662.01166666666,
          49225.40714285714,
          49442.758571428574,
          50507.69666666666,
          50618.025,
          50499.498200284994,
          47582.80381692285,
          47174.51,
          49393.847142857136,
          50093.20333333333,
          46721.603753735,
          48374.62333333333,
          48880.38333333333,
          47637.23714285715,
          46165.57730726999,
          46856.075,
          46692.20571428572,
          46908.575,
          48912.625,
          48608.16166666667,
          50826.03999999999,
          50827.64142857144,
          50424.55568553333,
          50789.04833333333,
          50700.402857142864,
          47545.49285714286,
          46470.64166666666,
          47135.97833333333,
          46205.73285714286,
          47739.65428571428,
          47296.73,
          46448.25666666666,
          45832.02166666667,
          43440.79500000001,
          43096.27360188167,
          41550.05333333334,
          41686.792857142864,
          41868.90833333333,
          41835.09666666666,
          42737.311106155015,
          43918.572857142855,
          42569.38333333334,
          43080.63,
          43091.55285714286,
          43092.465,
          42224.66666666667,
          42368.072192075,
          41674.28,
          40692.91283028,
          36469.61142857143,
          35074.85946917572,
          36276.62333333334,
          36221.98714285715
         ],
         "high": [
          37555,
          37936.5743351,
          36440.1,
          35628.24,
          33867,
          33554,
          33174,
          34918,
          32971,
          32596,
          34000,
          39150,
          34934.5,
          34407.005674,
          34736.1,
          36053.96796779,
          37732.87,
          38769,
          38366,
          41025.48,
          39737.83,
          46794.45,
          48277,
          47383,
          48703.6,
          49092.55,
          48224.1,
          49714.66,
          49093.44,
          50689.18,
          52779.6,
          52566.98,
          56399.99,
          57700.46,
          58367,
          58230.01,
          55499.2,
          51459.51,
          52189,
          48476.62,
          48407,
          46706.2,
          49831.52,
          50250,
          52666,
          51820.4,
          49539.3,
          49255.1,
          51477.53,
          52444,
          54955.30786704,
          57444,
          58266,
          58159,
          61844,
          61724.79,
          60637.93,
          56970,
          59128,
          60190,
          59480,
          60000,
          58835.6,
          58525,
          55866.44,
          57212,
          53287,
          55125.13,
          56700.36,
          56609,
          58619.7,
          59523,
          59899,
          59497.14,
          60200,
          59867.1,
          58501,
          59280,
          59500,
          58700.04,
          58159.1,
          58933.75,
          61500,
          60722,
          61338,
          63882.5,
          64900,
          63855.37,
          63604.34,
          62636.4,
          60499,
          57633,
          57119,
          56850,
          55521.48,
          52136.58,
          51260.61,
          50671,
          54419.5,
          55519.37,
          56500,
          55246.3,
          58075.01,
          58550,
          57972.26,
          59000.12,
          57250.85,
          58069.82,
          58420.83,
          58743.85,
          59564.24,
          59300.62,
          59603,
          56972.33,
          58041,
          57223,
          51572,
          50827.3,
          49870,
          46796,
          45872.05,
          43601.63,
          43000,
          42298.12038263,
          38956,
          38384,
          39989.9,
          40000,
          40904,
          40500,
          38905.12,
          37381,
          36516.99,
          37540.96,
          37934.3,
          38256.3,
          39490,
          39291.24,
          37935.8,
          36510.58,
          36900,
          34085.61,
          37573.99,
          38506.98,
          37695,
          37463.63,
          39409.4,
          41076.03,
          41567,
          40527.14,
          39565,
          38216.22,
          36656.31,
          36226.37661535,
          35832,
          33368,
          35000,
          36284.16,
          35517.22,
          32733,
          34794,
          36180,
          36675,
          36100,
          35049.37,
          34000,
          35000,
          36152.1,
          35305.1,
          35196,
          35091,
          33946.8,
          34115.44,
          34267.14,
          34666,
          34678.92,
          33341,
          33170,
          33200,
          32271,
          32000,
          32453,
          31928,
          31079,
          32875.42,
          32611.84,
          33684.17,
          34534.32,
          35451.04,
          40595,
          39589,
          40927.53,
          40662.8,
          42335.5,
          42448,
          42614.85,
          40480.01,
          39792.83,
          39973.94,
          41447.89,
          43401.9,
          44763.14,
          45363.83,
          46529.02,
          46759,
          46787.6,
          46236.7,
          47967,
          48190.68,
          47424,
          48076.52,
          47183.37,
          46041.62,
          47114.99,
          49436.1,
          49833.02,
          49540.01,
          50562.11,
          49897.1,
          49277,
          49387.6,
          49187,
          49325,
          49667.1,
          48924.66460268,
          48270.33,
          49156,
          50450.13,
          51142,
          50570.94,
          51907.08,
          52827.3,
          52956.47,
          47386.72,
          47419.95,
          47044,
          45993.32,
          46491.63,
          46900,
          47274.92,
          48500,
          48557,
          48185.9,
          48843.2,
          48389.52,
          47358.92,
          43648,
          44035.44,
          45013.17,
          45200,
          43021.7,
          43963,
          44377.7,
          42787.38,
          42638.99,
          44141.37,
          48500,
          48361.83,
          49300,
          49536.12,
          51922,
          56000,
          55360.32,
          56168,
          55515.1,
          56561.31,
          57855.79,
          57701,
          57777,
          58580.4,
          62975.12,
          62400,
          61744.17,
          62695.78,
          64500,
          67016.5,
          66664.1,
          63757.9,
          61764,
          61500,
          63733.93,
          63332.60744575,
          61496,
          62524,
          62980,
          62379.2,
          62438.85,
          62500,
          64327,
          63568.36,
          63154.52,
          62666.52,
          61609.5,
          63327.96,
          67867.45,
          68568.85,
          69024.2,
          65625.44,
          65497.53,
          65000,
          65550.51,
          66401.82,
          63628,
          60888.5,
          60978.39,
          58412.12,
          59900,
          60090.55,
          59526.51,
          58009.99,
          57762,
          59445.99,
          59238,
          55382,
          57490,
          58931.07,
          59250,
          59118.84,
          57423.69,
          57688.9,
          53893.4,
          49783,
          51105,
          51995,
          51275,
          50844.86,
          50212,
          49539.4,
          50828.13,
          50234,
          48700.41,
          49520,
          49480,
          48038,
          47483,
          48364,
          47549.8,
          49369,
          49600,
          51413.12295813,
          51878.6,
          51179.36,
          51300,
          52111,
          50720.35,
          48166,
          47953.32,
          48650,
          47967.12,
          48012,
          47586.58,
          47671.86280513,
          47076.55,
          43817.3,
          43149.3,
          42319.82508013,
          42831.12,
          42270,
          43144.74,
          44348.5,
          44500,
          43473.98,
          43826.8,
          43497.24,
          43209.47,
          42694.14,
          42596,
          43591,
          41132,
          36861.57424928,
          36663,
          36302
         ],
         "low": [
          34600,
          35844.06,
          33303,
          30011,
          28732,
          31350,
          30900,
          31906.16,
          30816.2,
          29150.49,
          29832.71,
          31915.4,
          32810,
          32120.9,
          32281.42,
          33411.4,
          35362.38,
          36155.4,
          36570,
          38205,
          37341.4,
          37947,
          44961.09,
          43687.5,
          43917.41935602,
          45851.95356552,
          46133,
          47014.17,
          42841.6,
          47003.62,
          48896.19,
          50863,
          50627.32,
          53463.3,
          55386,
          43456.78,
          44000,
          46902,
          46624.4,
          44027,
          44836.5,
          43000,
          44949.85,
          47047.6,
          48100,
          47500,
          46189.8,
          47001,
          48879.99,
          49240.69,
          51789.41,
          52911.4,
          54238,
          54962.84,
          56059.3,
          55001,
          54525.6,
          52500,
          53752,
          56996.15,
          56071,
          57545.2,
          55357,
          53250.03,
          52812,
          51500,
          50305,
          51214.6,
          53948.35,
          54666.6,
          54800.01,
          57000,
          56686.9,
          57913.9,
          58327.98689380001,
          56721.2,
          56368.42,
          56501,
          57216,
          55401.99,
          55680.4,
          57538.3,
          57870,
          59165.15,
          59350.59,
          59780,
          61000,
          61998.9,
          59930.8,
          59580.91,
          49001,
          54187.85,
          53328,
          53536.02,
          50400,
          47442.16,
          48657.14,
          46930,
          48753.44,
          53222,
          53807.34,
          52330.94,
          53013.01,
          56956.14,
          56035.25,
          56435,
          53046.69,
          52888,
          55200,
          55233.78,
          56897.74,
          56210.32,
          52709.9,
          54300,
          48378.2,
          40000,
          48799.75,
          46448.53,
          43769.4,
          42001,
          42023.69,
          29000,
          31111.11,
          33444.2,
          35200.62,
          31078.7,
          32836.33,
          36419.62,
          37800.44,
          37134.27,
          33500,
          33617,
          33333,
          34127.8,
          35659,
          35920,
          37159.1,
          35555.15,
          34800,
          35218,
          33280.58,
          31000,
          32393.9,
          35782,
          35926.2,
          34600.36,
          34757,
          38730,
          39416.31,
          38083.52,
          37000,
          35117.3,
          33111,
          33335,
          31111,
          28600,
          31670.89,
          32286.57,
          31264,
          30082.79,
          31500,
          33860,
          34225.43,
          33204.66,
          32111.01,
          32699,
          33313.91,
          34349.9,
          33080.3,
          33300,
          33770.01,
          31903.01,
          32237,
          32968.2,
          33306.47,
          32600,
          32190,
          31550,
          31064.77,
          31012.93,
          31164.31,
          31100,
          30400,
          29278,
          29021,
          31703.15,
          31924.32,
          33399.9,
          33842.8,
          31325,
          36345,
          38746.8,
          39200,
          38313.23,
          40895.13,
          39389.89,
          38687.62,
          37614.34,
          37481,
          37300,
          39853.86,
          41111,
          42000,
          41111.36,
          41200.01,
          45336.76,
          43714.36,
          44217.39,
          45935,
          43370,
          45627.7,
          44000,
          44000,
          43913.34,
          46622.99,
          48195.9,
          48021.1,
          49002.8,
          45000,
          47100,
          46250,
          46333.97,
          48244.88,
          47698.7,
          46833.1,
          46688.9,
          46503.8,
          48584.06,
          47001.02,
          49363.6,
          49450,
          50969.3,
          39818.18,
          44408,
          45488.6,
          44119.1,
          44722.22,
          44738.1,
          40000,
          44000,
          46702.26,
          47012.4,
          46699.56,
          47030,
          46816.2,
          42453.97,
          35000.02,
          40565.39,
          41000,
          40380,
          41631.2,
          40750,
          42060.89,
          40875,
          40750,
          41409.67,
          43283.03,
          47430.18,
          47088,
          45000.05,
          49022.4,
          50366.4,
          53289.57,
          53613,
          52656,
          51000,
          54411.54,
          50005,
          54167.19,
          56793.54,
          56850,
          60100.27,
          55257.33,
          59013,
          61316.38,
          63481.4,
          54100,
          59953.74,
          59562.15,
          59510,
          60632,
          59761.11,
          57950,
          56425,
          60154.53,
          60405.25,
          59945.36,
          59400,
          60624.68,
          57500,
          60644.2,
          60721,
          59250,
          61322.78,
          63266.05,
          66171.6,
          62500,
          64079,
          62255,
          63360.22,
          63564,
          63116.06,
          58557.5,
          58368,
          54524.64,
          55600,
          57353,
          58486.65,
          55610,
          55128.6,
          55837,
          57000,
          53500,
          53600,
          53241.2,
          56664.5,
          55875.55,
          56456.4,
          55757.5,
          51333,
          40150.1,
          47726,
          47100,
          50026.6,
          48579.3,
          47298.4,
          46852,
          46714.6,
          48638,
          45672.75,
          46285,
          46530,
          47506.21,
          45425.6,
          45500,
          46406.91,
          45558.85,
          46630,
          48421.1,
          47920.42,
          50384.43,
          49952.39,
          49412,
          50446.5,
          47289.6,
          46039.5,
          45900,
          45530.3,
          46199.9,
          46633.36,
          45689,
          45500,
          42413.59,
          42412,
          40571.53,
          40501,
          41200,
          39558.7,
          41257.1,
          42450,
          42311,
          41713,
          42387.86,
          42581.79,
          41465,
          41204,
          41126,
          40553.31,
          35409.7,
          33854.97502491,
          34600.8,
          36176.45
         ],
         "name": "Market Data",
         "open": [
          35822.537142857145,
          36640.154285714285,
          35907.55,
          35492.32285714285,
          30842.59495033876,
          32981.412857142874,
          32090.43,
          32279.05875,
          32233.0325,
          32493.32946268375,
          30395.47236425857,
          33417.317500000005,
          34261.76571428571,
          34291.47571428571,
          33069.01,
          33528.35285714286,
          35501.52285714286,
          37653.75571428572,
          36955.58285714287,
          38299.979990242864,
          39232.135,
          38836.10571428571,
          46417.15,
          46471.37939217428,
          44828.55,
          47988.68428571429,
          47363.24714285715,
          47191.99714285715,
          48613.34571428572,
          47929.58,
          49152.468571428566,
          52128.90571428572,
          51570.82,
          55928.037142857145,
          55871.974285714285,
          57439.29428571429,
          54107.28745346,
          48900.402857142864,
          49702.68142857141,
          47085.86857142857,
          46297.217142857146,
          46141.5,
          45317.48875,
          49607.89571428571,
          48462.50125,
          50375.35285714285,
          48363.06571428572,
          48771.79714285716,
          48899.051428571416,
          50968.80874999999,
          52391.66,
          54903.27223338001,
          55882.71142857144,
          57816.62,
          57245.80428571429,
          61184.535714285725,
          58982.2425,
          55629.79875,
          56905.925089714285,
          58923.96875,
          57643.75428571429,
          58036.717142857146,
          58093.88714285714,
          57363.50142857143,
          54094.93248366285,
          54345.577142857146,
          52301.2925,
          51316.73416442286,
          55051.73,
          55835.568571428565,
          55781.44857142856,
          57634.78285714285,
          58773.90571428571,
          58813.31999999999,
          58732.44571428572,
          58972.78074142856,
          57066.41428571428,
          58210.63857142857,
          59130.53428571428,
          58004.18714285714,
          55950.18285714285,
          58075.85857142857,
          58126.735714285714,
          59779.31142857143,
          59995.28000000001,
          59847.65714285714,
          63585.64375,
          62993.78875,
          63197.78142857143,
          61386.84666666666,
          60022.10857142857,
          56193.14285714286,
          55660.88285714287,
          56459.80857142858,
          53816.071973125,
          51702.48857142856,
          51145.2,
          50084.904285714285,
          49099.32900028571,
          54029.08999999999,
          55046.918571428585,
          54863.89192615428,
          53568.95857142856,
          57572.02916006285,
          57825.75000000001,
          56596.36714285713,
          57180.66285714288,
          53216.85142857144,
          57477.9075555,
          56418.16714285715,
          57344.042857142864,
          58909.24714285714,
          58286.542760945726,
          55840.45285714285,
          56715.76571428571,
          49471.44211768375,
          49691.10142857144,
          49877.28399249,
          46776.424285714274,
          46461.266172792864,
          43551.16516897571,
          42883.02488002752,
          36720.26030817143,
          40565.57,
          37303.81142857143,
          37479.84857142857,
          34717.067180797145,
          38833.15142857143,
          38361.6975,
          39272.70285714285,
          38542.50802558143,
          35671.81864681,
          34614.99857142857,
          35649.39571428571,
          37140.20857142857,
          36687.472857142864,
          37578.212980534285,
          39238.05495001429,
          36844.68,
          35526.01285714285,
          35795.758571428574,
          33571.205,
          33397.24714285714,
          37392.86857142857,
          36688.69142857143,
          37333.21142857144,
          35554.289631921434,
          39019.17756801572,
          40527.85142857144,
          40154.210000000014,
          38349.904285714285,
          38092.55,
          35832.45142857143,
          35497.64267864714,
          35594.31125000001,
          31633.7525,
          32522.32351030375,
          33684.70798595571,
          34659.66285714286,
          31585.407142857144,
          32295.257142857143,
          34705.314999999995,
          34491.093189785715,
          35904.98304809572,
          34991.422857142854,
          33513.659635622855,
          33802.50875,
          34677.282857142854,
          35268.133749999986,
          33694.438913415725,
          34222.11650743,
          33863.59125,
          32872.33625,
          33812.720000000016,
          33511.30285714286,
          34258.26857142857,
          33087.631803445714,
          32729.40571428572,
          32817.974285714285,
          31878.995463625717,
          31393.56,
          31523.01428571428,
          31789.058571428573,
          30838.40285714286,
          29792.94571428572,
          32142.2175,
          32296.57501705833,
          33645.64125,
          34276.33571428572,
          35406.904285714285,
          37255.94907080572,
          39466.60142857144,
          40022.338571428576,
          40027.514285714286,
          42215.30056942143,
          41444.92,
          39863.02142857143,
          39151.56000000001,
          38194.29857142857,
          39730.36,
          40879.2,
          42851.10625,
          44595.248571428565,
          43810.77557591714,
          46272.917927988565,
          45594.95,
          45532.73142857144,
          44408.58,
          47822.59,
          47092.968571428566,
          47003.55142857144,
          45910.51758225144,
          44677.88,
          44713.62,
          46764.80714285714,
          49334.124285714286,
          48846.545714285705,
          49270.81250000001,
          49502.32428571429,
          47679.05943830625,
          48988.68759604376,
          46841.76625000001,
          49075.05714285715,
          48912.08813684288,
          48729.66500000001,
          46985.19672327144,
          47067.85,
          48829.99,
          49268.67969245429,
          50010.43250000001,
          49927.86142857141,
          51776.74142857143,
          52682.13142857143,
          46874.535714285725,
          46052.77625,
          46390.00142857144,
          44849.358571428565,
          45166.32276311429,
          46034.09142857144,
          44952.05499999999,
          47115.91857142856,
          48142.54544282429,
          47759.26142857144,
          47297.76949454143,
          48304.2375,
          47247.514285714286,
          43009.96125,
          40723.32571428572,
          43566.32,
          44883.835,
          42831.9,
          42695.84,
          43170.98166666666,
          42160.488333333335,
          41025.45571428572,
          41530.54714285715,
          43831.94890731001,
          48161.037142857145,
          47647.858571428565,
          48222.97714285714,
          49244.14000000001,
          51490.97500000001,
          55336.99166666667,
          53795.76714285714,
          53955.21166666667,
          54965.23333333334,
          54673.13285714285,
          57478.67000000001,
          55999.93666666668,
          57375.23166666668,
          57350.457142857136,
          61682.91428571429,
          60873.64833333334,
          61522.45,
          62017.10333333333,
          64284.47696012,
          66019.25142857143,
          62201.84500000001,
          60693.625,
          61297.20166666666,
          60855.84833333332,
          63087.79500000001,
          60322.28333333333,
          58454.70428571429,
          60590.624285714286,
          62262.96000000001,
          61883.588571428576,
          61318.19166666668,
          60932.18411106834,
          63249.62833333333,
          62917.02833333332,
          61420.30333333334,
          60993.22000000001,
          61508.31564779668,
          63291.374285714286,
          67534.58428571429,
          66940.85670439499,
          64914.77142857143,
          64795.76142857142,
          64136.17,
          64390.59166666668,
          65491.89428571429,
          63605.93166666668,
          60090.165,
          60356.91296319666,
          56909.737142857135,
          58097.35166666666,
          59752.328571428574,
          58680.037142857145,
          56284.974285714285,
          57567.89665942715,
          57155.647142857146,
          58975.52052071285,
          53763.82285714285,
          54746.99142857142,
          57280.328571428574,
          57817.70666666668,
          56870.03963256571,
          57217.83166666668,
          56517.34571428572,
          53645.52333333334,
          49222.75142857144,
          49446.31040797856,
          50506.20025465286,
          50620.57666666666,
          50505.09666666666,
          47567.78000000001,
          47175.20571428572,
          49404.83142857144,
          50086.087587535,
          46722.31678153,
          48370.855,
          48874.629662098574,
          47636.524285714295,
          46154.93428571429,
          46849.87160123833,
          46687.68428571429,
          46911.61285714285,
          48908.98676192667,
          48607.97833333334,
          50829.52142857144,
          50834.15333333333,
          50421.09327841833,
          50800.19714285715,
          50703.08123170714,
          47555.50571428571,
          46470.222857142864,
          47127.92666666666,
          46241.348571428585,
          47734.318571428565,
          47295.25418424833,
          46454.17285714286,
          45834.43142857144,
          43443.415,
          43094.90753102834,
          41558.67524147715,
          41687.16873449666,
          41860.16857142857,
          41831.52,
          42739.87333333333,
          43919.48428571428,
          42568.97142857143,
          43078.66428571429,
          43087.81166666667,
          43091.028333333335,
          42218.973333333335,
          42368.91857142857,
          41689.17428571428,
          40677.449848058575,
          36452.784394397146,
          35079.26833333333,
          36262.038571428566
         ],
         "type": "candlestick",
         "x": [
          "2021-01-18T00:00:00",
          "2021-01-19T00:00:00",
          "2021-01-20T00:00:00",
          "2021-01-21T00:00:00",
          "2021-01-22T00:00:00",
          "2021-01-23T00:00:00",
          "2021-01-24T00:00:00",
          "2021-01-25T00:00:00",
          "2021-01-26T00:00:00",
          "2021-01-27T00:00:00",
          "2021-01-28T00:00:00",
          "2021-01-29T00:00:00",
          "2021-01-30T00:00:00",
          "2021-01-31T00:00:00",
          "2021-02-01T00:00:00",
          "2021-02-02T00:00:00",
          "2021-02-03T00:00:00",
          "2021-02-04T00:00:00",
          "2021-02-05T00:00:00",
          "2021-02-06T00:00:00",
          "2021-02-07T00:00:00",
          "2021-02-08T00:00:00",
          "2021-02-09T00:00:00",
          "2021-02-10T00:00:00",
          "2021-02-11T00:00:00",
          "2021-02-12T00:00:00",
          "2021-02-13T00:00:00",
          "2021-02-14T00:00:00",
          "2021-02-15T00:00:00",
          "2021-02-16T00:00:00",
          "2021-02-17T00:00:00",
          "2021-02-18T00:00:00",
          "2021-02-19T00:00:00",
          "2021-02-20T00:00:00",
          "2021-02-21T00:00:00",
          "2021-02-22T00:00:00",
          "2021-02-23T00:00:00",
          "2021-02-24T00:00:00",
          "2021-02-25T00:00:00",
          "2021-02-26T00:00:00",
          "2021-02-27T00:00:00",
          "2021-02-28T00:00:00",
          "2021-03-01T00:00:00",
          "2021-03-02T00:00:00",
          "2021-03-03T00:00:00",
          "2021-03-04T00:00:00",
          "2021-03-05T00:00:00",
          "2021-03-06T00:00:00",
          "2021-03-07T00:00:00",
          "2021-03-08T00:00:00",
          "2021-03-09T00:00:00",
          "2021-03-10T00:00:00",
          "2021-03-11T00:00:00",
          "2021-03-12T00:00:00",
          "2021-03-13T00:00:00",
          "2021-03-14T00:00:00",
          "2021-03-15T00:00:00",
          "2021-03-16T00:00:00",
          "2021-03-17T00:00:00",
          "2021-03-18T00:00:00",
          "2021-03-19T00:00:00",
          "2021-03-20T00:00:00",
          "2021-03-21T00:00:00",
          "2021-03-22T00:00:00",
          "2021-03-23T00:00:00",
          "2021-03-24T00:00:00",
          "2021-03-25T00:00:00",
          "2021-03-26T00:00:00",
          "2021-03-27T00:00:00",
          "2021-03-28T00:00:00",
          "2021-03-29T00:00:00",
          "2021-03-30T00:00:00",
          "2021-03-31T00:00:00",
          "2021-04-01T00:00:00",
          "2021-04-02T00:00:00",
          "2021-04-03T00:00:00",
          "2021-04-04T00:00:00",
          "2021-04-05T00:00:00",
          "2021-04-06T00:00:00",
          "2021-04-07T00:00:00",
          "2021-04-08T00:00:00",
          "2021-04-09T00:00:00",
          "2021-04-10T00:00:00",
          "2021-04-11T00:00:00",
          "2021-04-12T00:00:00",
          "2021-04-13T00:00:00",
          "2021-04-14T00:00:00",
          "2021-04-15T00:00:00",
          "2021-04-16T00:00:00",
          "2021-04-17T00:00:00",
          "2021-04-18T00:00:00",
          "2021-04-19T00:00:00",
          "2021-04-20T00:00:00",
          "2021-04-21T00:00:00",
          "2021-04-22T00:00:00",
          "2021-04-23T00:00:00",
          "2021-04-24T00:00:00",
          "2021-04-25T00:00:00",
          "2021-04-26T00:00:00",
          "2021-04-27T00:00:00",
          "2021-04-28T00:00:00",
          "2021-04-29T00:00:00",
          "2021-04-30T00:00:00",
          "2021-05-01T00:00:00",
          "2021-05-02T00:00:00",
          "2021-05-03T00:00:00",
          "2021-05-04T00:00:00",
          "2021-05-05T00:00:00",
          "2021-05-06T00:00:00",
          "2021-05-07T00:00:00",
          "2021-05-08T00:00:00",
          "2021-05-09T00:00:00",
          "2021-05-10T00:00:00",
          "2021-05-11T00:00:00",
          "2021-05-12T00:00:00",
          "2021-05-13T00:00:00",
          "2021-05-14T00:00:00",
          "2021-05-15T00:00:00",
          "2021-05-16T00:00:00",
          "2021-05-17T00:00:00",
          "2021-05-18T00:00:00",
          "2021-05-19T00:00:00",
          "2021-05-20T00:00:00",
          "2021-05-21T00:00:00",
          "2021-05-22T00:00:00",
          "2021-05-23T00:00:00",
          "2021-05-24T00:00:00",
          "2021-05-25T00:00:00",
          "2021-05-26T00:00:00",
          "2021-05-27T00:00:00",
          "2021-05-28T00:00:00",
          "2021-05-29T00:00:00",
          "2021-05-30T00:00:00",
          "2021-05-31T00:00:00",
          "2021-06-01T00:00:00",
          "2021-06-02T00:00:00",
          "2021-06-03T00:00:00",
          "2021-06-04T00:00:00",
          "2021-06-05T00:00:00",
          "2021-06-06T00:00:00",
          "2021-06-07T00:00:00",
          "2021-06-08T00:00:00",
          "2021-06-09T00:00:00",
          "2021-06-10T00:00:00",
          "2021-06-11T00:00:00",
          "2021-06-12T00:00:00",
          "2021-06-13T00:00:00",
          "2021-06-14T00:00:00",
          "2021-06-15T00:00:00",
          "2021-06-16T00:00:00",
          "2021-06-17T00:00:00",
          "2021-06-18T00:00:00",
          "2021-06-19T00:00:00",
          "2021-06-20T00:00:00",
          "2021-06-21T00:00:00",
          "2021-06-22T00:00:00",
          "2021-06-23T00:00:00",
          "2021-06-24T00:00:00",
          "2021-06-25T00:00:00",
          "2021-06-26T00:00:00",
          "2021-06-27T00:00:00",
          "2021-06-28T00:00:00",
          "2021-06-29T00:00:00",
          "2021-06-30T00:00:00",
          "2021-07-01T00:00:00",
          "2021-07-02T00:00:00",
          "2021-07-03T00:00:00",
          "2021-07-04T00:00:00",
          "2021-07-05T00:00:00",
          "2021-07-06T00:00:00",
          "2021-07-07T00:00:00",
          "2021-07-08T00:00:00",
          "2021-07-09T00:00:00",
          "2021-07-10T00:00:00",
          "2021-07-11T00:00:00",
          "2021-07-12T00:00:00",
          "2021-07-13T00:00:00",
          "2021-07-14T00:00:00",
          "2021-07-15T00:00:00",
          "2021-07-16T00:00:00",
          "2021-07-17T00:00:00",
          "2021-07-18T00:00:00",
          "2021-07-19T00:00:00",
          "2021-07-20T00:00:00",
          "2021-07-21T00:00:00",
          "2021-07-22T00:00:00",
          "2021-07-23T00:00:00",
          "2021-07-24T00:00:00",
          "2021-07-25T00:00:00",
          "2021-07-26T00:00:00",
          "2021-07-27T00:00:00",
          "2021-07-28T00:00:00",
          "2021-07-29T00:00:00",
          "2021-07-30T00:00:00",
          "2021-07-31T00:00:00",
          "2021-08-01T00:00:00",
          "2021-08-02T00:00:00",
          "2021-08-03T00:00:00",
          "2021-08-04T00:00:00",
          "2021-08-05T00:00:00",
          "2021-08-06T00:00:00",
          "2021-08-07T00:00:00",
          "2021-08-08T00:00:00",
          "2021-08-09T00:00:00",
          "2021-08-10T00:00:00",
          "2021-08-11T00:00:00",
          "2021-08-12T00:00:00",
          "2021-08-13T00:00:00",
          "2021-08-14T00:00:00",
          "2021-08-15T00:00:00",
          "2021-08-16T00:00:00",
          "2021-08-17T00:00:00",
          "2021-08-18T00:00:00",
          "2021-08-19T00:00:00",
          "2021-08-20T00:00:00",
          "2021-08-21T00:00:00",
          "2021-08-22T00:00:00",
          "2021-08-23T00:00:00",
          "2021-08-24T00:00:00",
          "2021-08-25T00:00:00",
          "2021-08-26T00:00:00",
          "2021-08-27T00:00:00",
          "2021-08-28T00:00:00",
          "2021-08-29T00:00:00",
          "2021-08-30T00:00:00",
          "2021-08-31T00:00:00",
          "2021-09-01T00:00:00",
          "2021-09-02T00:00:00",
          "2021-09-03T00:00:00",
          "2021-09-04T00:00:00",
          "2021-09-05T00:00:00",
          "2021-09-06T00:00:00",
          "2021-09-07T00:00:00",
          "2021-09-08T00:00:00",
          "2021-09-09T00:00:00",
          "2021-09-10T00:00:00",
          "2021-09-11T00:00:00",
          "2021-09-12T00:00:00",
          "2021-09-13T00:00:00",
          "2021-09-14T00:00:00",
          "2021-09-15T00:00:00",
          "2021-09-16T00:00:00",
          "2021-09-17T00:00:00",
          "2021-09-18T00:00:00",
          "2021-09-19T00:00:00",
          "2021-09-20T00:00:00",
          "2021-09-21T00:00:00",
          "2021-09-22T00:00:00",
          "2021-09-23T00:00:00",
          "2021-09-24T00:00:00",
          "2021-09-25T00:00:00",
          "2021-09-26T00:00:00",
          "2021-09-27T00:00:00",
          "2021-09-28T00:00:00",
          "2021-09-29T00:00:00",
          "2021-09-30T00:00:00",
          "2021-10-01T00:00:00",
          "2021-10-02T00:00:00",
          "2021-10-03T00:00:00",
          "2021-10-04T00:00:00",
          "2021-10-05T00:00:00",
          "2021-10-06T00:00:00",
          "2021-10-07T00:00:00",
          "2021-10-08T00:00:00",
          "2021-10-09T00:00:00",
          "2021-10-10T00:00:00",
          "2021-10-11T00:00:00",
          "2021-10-12T00:00:00",
          "2021-10-13T00:00:00",
          "2021-10-14T00:00:00",
          "2021-10-15T00:00:00",
          "2021-10-16T00:00:00",
          "2021-10-17T00:00:00",
          "2021-10-18T00:00:00",
          "2021-10-19T00:00:00",
          "2021-10-20T00:00:00",
          "2021-10-21T00:00:00",
          "2021-10-22T00:00:00",
          "2021-10-23T00:00:00",
          "2021-10-24T00:00:00",
          "2021-10-25T00:00:00",
          "2021-10-26T00:00:00",
          "2021-10-27T00:00:00",
          "2021-10-28T00:00:00",
          "2021-10-29T00:00:00",
          "2021-10-30T00:00:00",
          "2021-10-31T00:00:00",
          "2021-11-01T00:00:00",
          "2021-11-02T00:00:00",
          "2021-11-03T00:00:00",
          "2021-11-04T00:00:00",
          "2021-11-05T00:00:00",
          "2021-11-06T00:00:00",
          "2021-11-07T00:00:00",
          "2021-11-08T00:00:00",
          "2021-11-09T00:00:00",
          "2021-11-10T00:00:00",
          "2021-11-11T00:00:00",
          "2021-11-12T00:00:00",
          "2021-11-13T00:00:00",
          "2021-11-14T00:00:00",
          "2021-11-15T00:00:00",
          "2021-11-16T00:00:00",
          "2021-11-17T00:00:00",
          "2021-11-18T00:00:00",
          "2021-11-19T00:00:00",
          "2021-11-20T00:00:00",
          "2021-11-21T00:00:00",
          "2021-11-22T00:00:00",
          "2021-11-23T00:00:00",
          "2021-11-24T00:00:00",
          "2021-11-25T00:00:00",
          "2021-11-26T00:00:00",
          "2021-11-27T00:00:00",
          "2021-11-28T00:00:00",
          "2021-11-29T00:00:00",
          "2021-11-30T00:00:00",
          "2021-12-01T00:00:00",
          "2021-12-02T00:00:00",
          "2021-12-03T00:00:00",
          "2021-12-04T00:00:00",
          "2021-12-05T00:00:00",
          "2021-12-06T00:00:00",
          "2021-12-07T00:00:00",
          "2021-12-08T00:00:00",
          "2021-12-09T00:00:00",
          "2021-12-10T00:00:00",
          "2021-12-11T00:00:00",
          "2021-12-12T00:00:00",
          "2021-12-13T00:00:00",
          "2021-12-14T00:00:00",
          "2021-12-15T00:00:00",
          "2021-12-16T00:00:00",
          "2021-12-17T00:00:00",
          "2021-12-18T00:00:00",
          "2021-12-19T00:00:00",
          "2021-12-20T00:00:00",
          "2021-12-21T00:00:00",
          "2021-12-22T00:00:00",
          "2021-12-23T00:00:00",
          "2021-12-24T00:00:00",
          "2021-12-25T00:00:00",
          "2021-12-26T00:00:00",
          "2021-12-27T00:00:00",
          "2021-12-28T00:00:00",
          "2021-12-29T00:00:00",
          "2021-12-30T00:00:00",
          "2021-12-31T00:00:00",
          "2022-01-01T00:00:00",
          "2022-01-02T00:00:00",
          "2022-01-03T00:00:00",
          "2022-01-04T00:00:00",
          "2022-01-05T00:00:00",
          "2022-01-06T00:00:00",
          "2022-01-07T00:00:00",
          "2022-01-08T00:00:00",
          "2022-01-09T00:00:00",
          "2022-01-10T00:00:00",
          "2022-01-11T00:00:00",
          "2022-01-12T00:00:00",
          "2022-01-13T00:00:00",
          "2022-01-14T00:00:00",
          "2022-01-15T00:00:00",
          "2022-01-16T00:00:00",
          "2022-01-17T00:00:00",
          "2022-01-18T00:00:00",
          "2022-01-19T00:00:00",
          "2022-01-20T00:00:00",
          "2022-01-21T00:00:00",
          "2022-01-22T00:00:00",
          "2022-01-23T00:00:00",
          "2022-01-24T00:00:00"
         ]
        }
       ],
       "layout": {
        "template": {
         "data": {
          "bar": [
           {
            "error_x": {
             "color": "#2a3f5f"
            },
            "error_y": {
             "color": "#2a3f5f"
            },
            "marker": {
             "line": {
              "color": "#E5ECF6",
              "width": 0.5
             },
             "pattern": {
              "fillmode": "overlay",
              "size": 10,
              "solidity": 0.2
             }
            },
            "type": "bar"
           }
          ],
          "barpolar": [
           {
            "marker": {
             "line": {
              "color": "#E5ECF6",
              "width": 0.5
             },
             "pattern": {
              "fillmode": "overlay",
              "size": 10,
              "solidity": 0.2
             }
            },
            "type": "barpolar"
           }
          ],
          "carpet": [
           {
            "aaxis": {
             "endlinecolor": "#2a3f5f",
             "gridcolor": "white",
             "linecolor": "white",
             "minorgridcolor": "white",
             "startlinecolor": "#2a3f5f"
            },
            "baxis": {
             "endlinecolor": "#2a3f5f",
             "gridcolor": "white",
             "linecolor": "white",
             "minorgridcolor": "white",
             "startlinecolor": "#2a3f5f"
            },
            "type": "carpet"
           }
          ],
          "choropleth": [
           {
            "colorbar": {
             "outlinewidth": 0,
             "ticks": ""
            },
            "type": "choropleth"
           }
          ],
          "contour": [
           {
            "colorbar": {
             "outlinewidth": 0,
             "ticks": ""
            },
            "colorscale": [
             [
              0,
              "#0d0887"
             ],
             [
              0.1111111111111111,
              "#46039f"
             ],
             [
              0.2222222222222222,
              "#7201a8"
             ],
             [
              0.3333333333333333,
              "#9c179e"
             ],
             [
              0.4444444444444444,
              "#bd3786"
             ],
             [
              0.5555555555555556,
              "#d8576b"
             ],
             [
              0.6666666666666666,
              "#ed7953"
             ],
             [
              0.7777777777777778,
              "#fb9f3a"
             ],
             [
              0.8888888888888888,
              "#fdca26"
             ],
             [
              1,
              "#f0f921"
             ]
            ],
            "type": "contour"
           }
          ],
          "contourcarpet": [
           {
            "colorbar": {
             "outlinewidth": 0,
             "ticks": ""
            },
            "type": "contourcarpet"
           }
          ],
          "heatmap": [
           {
            "colorbar": {
             "outlinewidth": 0,
             "ticks": ""
            },
            "colorscale": [
             [
              0,
              "#0d0887"
             ],
             [
              0.1111111111111111,
              "#46039f"
             ],
             [
              0.2222222222222222,
              "#7201a8"
             ],
             [
              0.3333333333333333,
              "#9c179e"
             ],
             [
              0.4444444444444444,
              "#bd3786"
             ],
             [
              0.5555555555555556,
              "#d8576b"
             ],
             [
              0.6666666666666666,
              "#ed7953"
             ],
             [
              0.7777777777777778,
              "#fb9f3a"
             ],
             [
              0.8888888888888888,
              "#fdca26"
             ],
             [
              1,
              "#f0f921"
             ]
            ],
            "type": "heatmap"
           }
          ],
          "heatmapgl": [
           {
            "colorbar": {
             "outlinewidth": 0,
             "ticks": ""
            },
            "colorscale": [
             [
              0,
              "#0d0887"
             ],
             [
              0.1111111111111111,
              "#46039f"
             ],
             [
              0.2222222222222222,
              "#7201a8"
             ],
             [
              0.3333333333333333,
              "#9c179e"
             ],
             [
              0.4444444444444444,
              "#bd3786"
             ],
             [
              0.5555555555555556,
              "#d8576b"
             ],
             [
              0.6666666666666666,
              "#ed7953"
             ],
             [
              0.7777777777777778,
              "#fb9f3a"
             ],
             [
              0.8888888888888888,
              "#fdca26"
             ],
             [
              1,
              "#f0f921"
             ]
            ],
            "type": "heatmapgl"
           }
          ],
          "histogram": [
           {
            "marker": {
             "pattern": {
              "fillmode": "overlay",
              "size": 10,
              "solidity": 0.2
             }
            },
            "type": "histogram"
           }
          ],
          "histogram2d": [
           {
            "colorbar": {
             "outlinewidth": 0,
             "ticks": ""
            },
            "colorscale": [
             [
              0,
              "#0d0887"
             ],
             [
              0.1111111111111111,
              "#46039f"
             ],
             [
              0.2222222222222222,
              "#7201a8"
             ],
             [
              0.3333333333333333,
              "#9c179e"
             ],
             [
              0.4444444444444444,
              "#bd3786"
             ],
             [
              0.5555555555555556,
              "#d8576b"
             ],
             [
              0.6666666666666666,
              "#ed7953"
             ],
             [
              0.7777777777777778,
              "#fb9f3a"
             ],
             [
              0.8888888888888888,
              "#fdca26"
             ],
             [
              1,
              "#f0f921"
             ]
            ],
            "type": "histogram2d"
           }
          ],
          "histogram2dcontour": [
           {
            "colorbar": {
             "outlinewidth": 0,
             "ticks": ""
            },
            "colorscale": [
             [
              0,
              "#0d0887"
             ],
             [
              0.1111111111111111,
              "#46039f"
             ],
             [
              0.2222222222222222,
              "#7201a8"
             ],
             [
              0.3333333333333333,
              "#9c179e"
             ],
             [
              0.4444444444444444,
              "#bd3786"
             ],
             [
              0.5555555555555556,
              "#d8576b"
             ],
             [
              0.6666666666666666,
              "#ed7953"
             ],
             [
              0.7777777777777778,
              "#fb9f3a"
             ],
             [
              0.8888888888888888,
              "#fdca26"
             ],
             [
              1,
              "#f0f921"
             ]
            ],
            "type": "histogram2dcontour"
           }
          ],
          "mesh3d": [
           {
            "colorbar": {
             "outlinewidth": 0,
             "ticks": ""
            },
            "type": "mesh3d"
           }
          ],
          "parcoords": [
           {
            "line": {
             "colorbar": {
              "outlinewidth": 0,
              "ticks": ""
             }
            },
            "type": "parcoords"
           }
          ],
          "pie": [
           {
            "automargin": true,
            "type": "pie"
           }
          ],
          "scatter": [
           {
            "fillpattern": {
             "fillmode": "overlay",
             "size": 10,
             "solidity": 0.2
            },
            "type": "scatter"
           }
          ],
          "scatter3d": [
           {
            "line": {
             "colorbar": {
              "outlinewidth": 0,
              "ticks": ""
             }
            },
            "marker": {
             "colorbar": {
              "outlinewidth": 0,
              "ticks": ""
             }
            },
            "type": "scatter3d"
           }
          ],
          "scattercarpet": [
           {
            "marker": {
             "colorbar": {
              "outlinewidth": 0,
              "ticks": ""
             }
            },
            "type": "scattercarpet"
           }
          ],
          "scattergeo": [
           {
            "marker": {
             "colorbar": {
              "outlinewidth": 0,
              "ticks": ""
             }
            },
            "type": "scattergeo"
           }
          ],
          "scattergl": [
           {
            "marker": {
             "colorbar": {
              "outlinewidth": 0,
              "ticks": ""
             }
            },
            "type": "scattergl"
           }
          ],
          "scattermapbox": [
           {
            "marker": {
             "colorbar": {
              "outlinewidth": 0,
              "ticks": ""
             }
            },
            "type": "scattermapbox"
           }
          ],
          "scatterpolar": [
           {
            "marker": {
             "colorbar": {
              "outlinewidth": 0,
              "ticks": ""
             }
            },
            "type": "scatterpolar"
           }
          ],
          "scatterpolargl": [
           {
            "marker": {
             "colorbar": {
              "outlinewidth": 0,
              "ticks": ""
             }
            },
            "type": "scatterpolargl"
           }
          ],
          "scatterternary": [
           {
            "marker": {
             "colorbar": {
              "outlinewidth": 0,
              "ticks": ""
             }
            },
            "type": "scatterternary"
           }
          ],
          "surface": [
           {
            "colorbar": {
             "outlinewidth": 0,
             "ticks": ""
            },
            "colorscale": [
             [
              0,
              "#0d0887"
             ],
             [
              0.1111111111111111,
              "#46039f"
             ],
             [
              0.2222222222222222,
              "#7201a8"
             ],
             [
              0.3333333333333333,
              "#9c179e"
             ],
             [
              0.4444444444444444,
              "#bd3786"
             ],
             [
              0.5555555555555556,
              "#d8576b"
             ],
             [
              0.6666666666666666,
              "#ed7953"
             ],
             [
              0.7777777777777778,
              "#fb9f3a"
             ],
             [
              0.8888888888888888,
              "#fdca26"
             ],
             [
              1,
              "#f0f921"
             ]
            ],
            "type": "surface"
           }
          ],
          "table": [
           {
            "cells": {
             "fill": {
              "color": "#EBF0F8"
             },
             "line": {
              "color": "white"
             }
            },
            "header": {
             "fill": {
              "color": "#C8D4E3"
             },
             "line": {
              "color": "white"
             }
            },
            "type": "table"
           }
          ]
         },
         "layout": {
          "annotationdefaults": {
           "arrowcolor": "#2a3f5f",
           "arrowhead": 0,
           "arrowwidth": 1
          },
          "autotypenumbers": "strict",
          "coloraxis": {
           "colorbar": {
            "outlinewidth": 0,
            "ticks": ""
           }
          },
          "colorscale": {
           "diverging": [
            [
             0,
             "#8e0152"
            ],
            [
             0.1,
             "#c51b7d"
            ],
            [
             0.2,
             "#de77ae"
            ],
            [
             0.3,
             "#f1b6da"
            ],
            [
             0.4,
             "#fde0ef"
            ],
            [
             0.5,
             "#f7f7f7"
            ],
            [
             0.6,
             "#e6f5d0"
            ],
            [
             0.7,
             "#b8e186"
            ],
            [
             0.8,
             "#7fbc41"
            ],
            [
             0.9,
             "#4d9221"
            ],
            [
             1,
             "#276419"
            ]
           ],
           "sequential": [
            [
             0,
             "#0d0887"
            ],
            [
             0.1111111111111111,
             "#46039f"
            ],
            [
             0.2222222222222222,
             "#7201a8"
            ],
            [
             0.3333333333333333,
             "#9c179e"
            ],
            [
             0.4444444444444444,
             "#bd3786"
            ],
            [
             0.5555555555555556,
             "#d8576b"
            ],
            [
             0.6666666666666666,
             "#ed7953"
            ],
            [
             0.7777777777777778,
             "#fb9f3a"
            ],
            [
             0.8888888888888888,
             "#fdca26"
            ],
            [
             1,
             "#f0f921"
            ]
           ],
           "sequentialminus": [
            [
             0,
             "#0d0887"
            ],
            [
             0.1111111111111111,
             "#46039f"
            ],
            [
             0.2222222222222222,
             "#7201a8"
            ],
            [
             0.3333333333333333,
             "#9c179e"
            ],
            [
             0.4444444444444444,
             "#bd3786"
            ],
            [
             0.5555555555555556,
             "#d8576b"
            ],
            [
             0.6666666666666666,
             "#ed7953"
            ],
            [
             0.7777777777777778,
             "#fb9f3a"
            ],
            [
             0.8888888888888888,
             "#fdca26"
            ],
            [
             1,
             "#f0f921"
            ]
           ]
          },
          "colorway": [
           "#636efa",
           "#EF553B",
           "#00cc96",
           "#ab63fa",
           "#FFA15A",
           "#19d3f3",
           "#FF6692",
           "#B6E880",
           "#FF97FF",
           "#FECB52"
          ],
          "font": {
           "color": "#2a3f5f"
          },
          "geo": {
           "bgcolor": "white",
           "lakecolor": "white",
           "landcolor": "#E5ECF6",
           "showlakes": true,
           "showland": true,
           "subunitcolor": "white"
          },
          "hoverlabel": {
           "align": "left"
          },
          "hovermode": "closest",
          "mapbox": {
           "style": "light"
          },
          "paper_bgcolor": "white",
          "plot_bgcolor": "#E5ECF6",
          "polar": {
           "angularaxis": {
            "gridcolor": "white",
            "linecolor": "white",
            "ticks": ""
           },
           "bgcolor": "#E5ECF6",
           "radialaxis": {
            "gridcolor": "white",
            "linecolor": "white",
            "ticks": ""
           }
          },
          "scene": {
           "xaxis": {
            "backgroundcolor": "#E5ECF6",
            "gridcolor": "white",
            "gridwidth": 2,
            "linecolor": "white",
            "showbackground": true,
            "ticks": "",
            "zerolinecolor": "white"
           },
           "yaxis": {
            "backgroundcolor": "#E5ECF6",
            "gridcolor": "white",
            "gridwidth": 2,
            "linecolor": "white",
            "showbackground": true,
            "ticks": "",
            "zerolinecolor": "white"
           },
           "zaxis": {
            "backgroundcolor": "#E5ECF6",
            "gridcolor": "white",
            "gridwidth": 2,
            "linecolor": "white",
            "showbackground": true,
            "ticks": "",
            "zerolinecolor": "white"
           }
          },
          "shapedefaults": {
           "line": {
            "color": "#2a3f5f"
           }
          },
          "ternary": {
           "aaxis": {
            "gridcolor": "white",
            "linecolor": "white",
            "ticks": ""
           },
           "baxis": {
            "gridcolor": "white",
            "linecolor": "white",
            "ticks": ""
           },
           "bgcolor": "#E5ECF6",
           "caxis": {
            "gridcolor": "white",
            "linecolor": "white",
            "ticks": ""
           }
          },
          "title": {
           "x": 0.05
          },
          "xaxis": {
           "automargin": true,
           "gridcolor": "white",
           "linecolor": "white",
           "ticks": "",
           "title": {
            "standoff": 15
           },
           "zerolinecolor": "white",
           "zerolinewidth": 2
          },
          "yaxis": {
           "automargin": true,
           "gridcolor": "white",
           "linecolor": "white",
           "ticks": "",
           "title": {
            "standoff": 15
           },
           "zerolinecolor": "white",
           "zerolinewidth": 2
          }
         }
        },
        "title": {
         "text": "Daily Candlestick Chart"
        },
        "xaxis": {
         "title": {
          "text": "Date"
         }
        },
        "yaxis": {
         "title": {
          "text": "Price"
         }
        }
       }
      },
      "text/html": [
       "<div>                            <div id=\"8f1cece1-9b7e-45d6-b74e-5918f37e177a\" class=\"plotly-graph-div\" style=\"height:525px; width:100%;\"></div>            <script type=\"text/javascript\">                require([\"plotly\"], function(Plotly) {                    window.PLOTLYENV=window.PLOTLYENV || {};                                    if (document.getElementById(\"8f1cece1-9b7e-45d6-b74e-5918f37e177a\")) {                    Plotly.newPlot(                        \"8f1cece1-9b7e-45d6-b74e-5918f37e177a\",                        [{\"close\":[36634.468571428566,35912.99,35491.71,30850.051428571427,32987.614285714284,32093.42428571428,32280.48285714285,32266.119999999995,32491.85,30392.78105114286,33406.834285714285,34253.11571428571,34296.2,33118.98285714286,33534.30142857142,35505.70857142857,37651.86571428572,36961.19547328572,38296.70428571429,39245.980082087495,38834.32571428572,46411.595,46470.70857142856,44830.69857142858,47976.35428571428,47381.76625,47185.24714285714,48619.338571428576,47921.19857142858,49166.93,52135.318571428565,51574.95571428572,55925.08714285715,55873.31857142859,57439.70571428572,54113.23428571428,48894.841428571424,49711.27375,47079.87500000001,46305.62285714286,46147.23142857144,45204.01,49605.86142857144,48481.5,50371.65820344287,48377.74142857143,48764.19714285714,48886.92285714286,50969.45428571429,52389.69285714285,54908.97969529143,55878.59428571428,57800.50714285714,57245.13857142857,61182.196716285725,58996.35375,55637.7975,56902.41499999999,58906.565,57644.62428571429,58049.241139897145,58105.91857142858,57361.694285714286,54100.075,54356.51872856,52309.895,51319.08571428572,55042.22571428572,55841.87714285716,55780.735714285714,57632.83482285715,58773.92571428571,58771.60571428573,58729.37857142858,58979.31,57074.12875,58210.117026674285,59124.40625,58002.718571428566,55950.96000000001,58080.724285714285,58122.75125,59780.77571428572,59993.395714285725,59848.84714285715,63570.902857142864,62960.588571428576,63192.16,61386.31833333332,60020.24195666286,56199.58,55661.88,56465.15881628572,53796.979598714286,51706.53694842571,51146.055714285714,50083.121428571416,49099.17142857143,54039.23285714287,55047.35571428571,54866.73428571429,53570.08,57723.667142857135,57819.908571428576,56600.17142857143,57180.78142857144,53223.76,57474.86571428571,56420.72714285714,57345.76714285714,58912.12428571428,58273.52857142857,55842.88446171429,56715.36780057144,49414.81625,49689.928530790006,49876.51571428571,46776.494285714274,46464.30285714287,43553.938571428575,42870.292857142864,36718.78714285714,40574.42203960286,37309.544446417145,37479.21571428572,34706.457142857136,38830.035714285725,38366.30099577125,39272.99857142857,38527.95813732428,35672.01142857143,34608.031428571434,35651.28571428572,37281.59857142857,36686.467142857146,37578.13714285714,39232.59142857143,36846.37857142858,35525.45857142857,35797.6075,33571.86714285715,33397.099337600004,37388.55285714286,36682.47571428571,37334.81285714286,35551.520000000004,39016.027568015714,40526.43,40155.69,38347.72571428572,38088.03142857144,35830.61571428571,35500.864285714284,35600.37714285714,31637.26390228144,32527.92571428572,33677.49428571429,34659.84285714286,31588.374635020005,32287.080529535,34704.99611329572,34489.41476867858,35910.47106169428,35048.54714285715,33520.42284674875,33799.79142857143,34678.4,35286.48142857143,33694.27831104625,34236.19125,33874.012857142865,32876.79142857143,33808.502857142856,33511.599890001424,34256.36714285714,33094.17,32728.054285714286,32818.78798488285,31863.977142857144,31396.660000000003,31527.021428571432,31785.34,30837.672857142858,29790.982857142862,32140.304285714286,32295.53833333334,33644.77285714286,34274.305714285714,35407.28125,37259.74285714285,39477.31714285714,40022.68142857143,40025.5644625,42219.51114473286,41454.75875,39857.66857142857,39152.180893935714,38195.56,39733.05857142857,40875.98333333333,42837.91,44594.108571428565,43814.26,46278.33264446141,45594.42285714285,45535.985714285714,44414.92714285715,47822.755714285726,47091.85285714286,47003.26,45911.69857142858,44686.25714285714,44711.63000000001,46764.84666666667,49335.51101872,48846.46142857144,49271.07750000001,49508.875714285714,47692.55571428572,48983.6761598225,46845.315,49072.40714285715,48909.84000000001,48785.097142857136,46989.66612593001,47124.13571428572,48833.45571428572,49278.47875,50009.00749999999,49918.70166666666,51776.87,52679.1725,46867.82,46064.75342324,46393.33428571428,44848.18875,45166.28142857144,46032.933474182864,44946.60142857144,47121.792857142864,48137.71,47759.54,47295.47,48307.06875,47243.39875,43017.277142857136,40697.76848767571,43566.90666666667,44884.42220222667,42833.60166666666,42699.84,43184.79,42168.05,41040.71571428572,41531.572857142855,43816.22857142857,48156.56,47653.51714285714,48224.895714285725,49240.0,51493.99142857143,55333.36166666667,53793.92885123001,53957.02,54960.80333333334,54688.64,57483.41857142858,56003.73666666666,57370.87833333333,57353.84285714286,61672.54500000001,60873.84166666667,61524.292857142864,62024.4,64274.02857142857,66014.12999999999,62207.36744275,60693.008,61307.48,60858.04,63088.05833333332,60320.40833333332,58452.898527995705,60587.97166666666,62266.364,61880.73333333334,61334.43833333333,60932.92833333334,63247.61,62916.585,61427.091585005,60997.45857142857,61508.46731446333,63284.16999999999,67539.16166666668,66949.55714285714,64915.09428571428,64807.58142857142,64147.10142857144,64393.22166666666,65491.90571428572,63604.41833333334,60095.86000000001,60355.94099324834,56917.67714285715,58096.84166666665,59742.83870021168,58669.597142857136,56273.96061692,57562.7,57167.707142857136,58966.89605169,53768.68571428571,54757.55666666667,57285.597142857136,57817.83666666668,56963.36285714285,57221.25833333334,56513.61333333334,53662.01166666666,49225.40714285714,49442.758571428574,50507.69666666666,50618.025,50499.498200284994,47582.80381692285,47174.51,49393.847142857136,50093.20333333333,46721.603753735,48374.62333333333,48880.38333333333,47637.23714285715,46165.57730726999,46856.075,46692.20571428572,46908.575,48912.625,48608.16166666667,50826.03999999999,50827.64142857144,50424.55568553333,50789.04833333333,50700.402857142864,47545.49285714286,46470.64166666666,47135.97833333333,46205.73285714286,47739.65428571428,47296.73,46448.25666666666,45832.02166666667,43440.79500000001,43096.27360188167,41550.05333333334,41686.792857142864,41868.90833333333,41835.09666666666,42737.311106155015,43918.572857142855,42569.38333333334,43080.63,43091.55285714286,43092.465,42224.66666666667,42368.072192075,41674.28,40692.91283028,36469.61142857143,35074.85946917572,36276.62333333334,36221.98714285715],\"high\":[37555.0,37936.5743351,36440.1,35628.24,33867.0,33554.0,33174.0,34918.0,32971.0,32596.0,34000.0,39150.0,34934.5,34407.005674,34736.1,36053.96796779,37732.87,38769.0,38366.0,41025.48,39737.83,46794.45,48277.0,47383.0,48703.6,49092.55,48224.1,49714.66,49093.44,50689.18,52779.6,52566.98,56399.99,57700.46,58367.0,58230.01,55499.2,51459.51,52189.0,48476.62,48407.0,46706.2,49831.52,50250.0,52666.0,51820.4,49539.3,49255.1,51477.53,52444.0,54955.30786704,57444.0,58266.0,58159.0,61844.0,61724.79,60637.93,56970.0,59128.0,60190.0,59480.0,60000.0,58835.6,58525.0,55866.44,57212.0,53287.0,55125.13,56700.36,56609.0,58619.7,59523.0,59899.0,59497.14,60200.0,59867.1,58501.0,59280.0,59500.0,58700.04,58159.1,58933.75,61500.0,60722.0,61338.0,63882.5,64900.0,63855.37,63604.34,62636.4,60499.0,57633.0,57119.0,56850.0,55521.48,52136.58,51260.61,50671.0,54419.5,55519.37,56500.0,55246.3,58075.01,58550.0,57972.26,59000.12,57250.85,58069.82,58420.83,58743.85,59564.24,59300.62,59603.0,56972.33,58041.0,57223.0,51572.0,50827.3,49870.0,46796.0,45872.05,43601.63,43000.0,42298.12038263,38956.0,38384.0,39989.9,40000.0,40904.0,40500.0,38905.12,37381.0,36516.99,37540.96,37934.3,38256.3,39490.0,39291.24,37935.8,36510.58,36900.0,34085.61,37573.99,38506.98,37695.0,37463.63,39409.4,41076.03,41567.0,40527.14,39565.0,38216.22,36656.31,36226.37661535,35832.0,33368.0,35000.0,36284.16,35517.22,32733.0,34794.0,36180.0,36675.0,36100.0,35049.37,34000.0,35000.0,36152.1,35305.1,35196.0,35091.0,33946.8,34115.44,34267.14,34666.0,34678.92,33341.0,33170.0,33200.0,32271.0,32000.0,32453.0,31928.0,31079.0,32875.42,32611.84,33684.17,34534.32,35451.04,40595.0,39589.0,40927.53,40662.8,42335.5,42448.0,42614.85,40480.01,39792.83,39973.94,41447.89,43401.9,44763.14,45363.83,46529.02,46759.0,46787.6,46236.7,47967.0,48190.68,47424.0,48076.52,47183.37,46041.62,47114.99,49436.1,49833.02,49540.01,50562.11,49897.1,49277.0,49387.6,49187.0,49325.0,49667.1,48924.66460268,48270.33,49156.0,50450.13,51142.0,50570.94,51907.08,52827.3,52956.47,47386.72,47419.95,47044.0,45993.32,46491.63,46900.0,47274.92,48500.0,48557.0,48185.9,48843.2,48389.52,47358.92,43648.0,44035.44,45013.17,45200.0,43021.7,43963.0,44377.7,42787.38,42638.99,44141.37,48500.0,48361.83,49300.0,49536.12,51922.0,56000.0,55360.32,56168.0,55515.1,56561.31,57855.79,57701.0,57777.0,58580.4,62975.12,62400.0,61744.17,62695.78,64500.0,67016.5,66664.1,63757.9,61764.0,61500.0,63733.93,63332.60744575,61496.0,62524.0,62980.0,62379.2,62438.85,62500.0,64327.0,63568.36,63154.52,62666.52,61609.5,63327.96,67867.45,68568.85,69024.2,65625.44,65497.53,65000.0,65550.51,66401.82,63628.0,60888.5,60978.39,58412.12,59900.0,60090.55,59526.51,58009.99,57762.0,59445.99,59238.0,55382.0,57490.0,58931.07,59250.0,59118.84,57423.69,57688.9,53893.4,49783.0,51105.0,51995.0,51275.0,50844.86,50212.0,49539.4,50828.13,50234.0,48700.41,49520.0,49480.0,48038.0,47483.0,48364.0,47549.8,49369.0,49600.0,51413.12295813,51878.6,51179.36,51300.0,52111.0,50720.35,48166.0,47953.32,48650.0,47967.12,48012.0,47586.58,47671.86280513,47076.55,43817.3,43149.3,42319.82508013,42831.12,42270.0,43144.74,44348.5,44500.0,43473.98,43826.8,43497.24,43209.47,42694.14,42596.0,43591.0,41132.0,36861.57424928,36663.0,36302.0],\"low\":[34600.0,35844.06,33303.0,30011.0,28732.0,31350.0,30900.0,31906.16,30816.2,29150.49,29832.71,31915.4,32810.0,32120.9,32281.42,33411.4,35362.38,36155.4,36570.0,38205.0,37341.4,37947.0,44961.09,43687.5,43917.41935602,45851.95356552,46133.0,47014.17,42841.6,47003.62,48896.19,50863.0,50627.32,53463.3,55386.0,43456.78,44000.0,46902.0,46624.4,44027.0,44836.5,43000.0,44949.85,47047.6,48100.0,47500.0,46189.8,47001.0,48879.99,49240.69,51789.41,52911.4,54238.0,54962.84,56059.3,55001.0,54525.6,52500.0,53752.0,56996.15,56071.0,57545.2,55357.0,53250.03,52812.0,51500.0,50305.0,51214.6,53948.35,54666.6,54800.01,57000.0,56686.9,57913.9,58327.98689380001,56721.2,56368.42,56501.0,57216.0,55401.99,55680.4,57538.3,57870.0,59165.15,59350.59,59780.0,61000.0,61998.9,59930.8,59580.91,49001.0,54187.85,53328.0,53536.02,50400.0,47442.16,48657.14,46930.0,48753.44,53222.0,53807.34,52330.94,53013.01,56956.14,56035.25,56435.0,53046.69,52888.0,55200.0,55233.78,56897.74,56210.32,52709.9,54300.0,48378.2,40000.0,48799.75,46448.53,43769.4,42001.0,42023.69,29000.0,31111.11,33444.2,35200.62,31078.7,32836.33,36419.62,37800.44,37134.27,33500.0,33617.0,33333.0,34127.8,35659.0,35920.0,37159.1,35555.15,34800.0,35218.0,33280.58,31000.0,32393.9,35782.0,35926.2,34600.36,34757.0,38730.0,39416.31,38083.52,37000.0,35117.3,33111.0,33335.0,31111.0,28600.0,31670.89,32286.57,31264.0,30082.79,31500.0,33860.0,34225.43,33204.66,32111.01,32699.0,33313.91,34349.9,33080.3,33300.0,33770.01,31903.01,32237.0,32968.2,33306.47,32600.0,32190.0,31550.0,31064.77,31012.93,31164.31,31100.0,30400.0,29278.0,29021.0,31703.15,31924.32,33399.9,33842.8,31325.0,36345.0,38746.8,39200.0,38313.23,40895.13,39389.89,38687.62,37614.34,37481.0,37300.0,39853.86,41111.0,42000.0,41111.36,41200.01,45336.76,43714.36,44217.39,45935.0,43370.0,45627.7,44000.0,44000.0,43913.34,46622.99,48195.9,48021.1,49002.8,45000.0,47100.0,46250.0,46333.97,48244.88,47698.7,46833.1,46688.9,46503.8,48584.06,47001.02,49363.6,49450.0,50969.3,39818.18,44408.0,45488.6,44119.1,44722.22,44738.1,40000.0,44000.0,46702.26,47012.4,46699.56,47030.0,46816.2,42453.97,35000.02,40565.39,41000.0,40380.0,41631.2,40750.0,42060.89,40875.0,40750.0,41409.67,43283.03,47430.18,47088.0,45000.05,49022.4,50366.4,53289.57,53613.0,52656.0,51000.0,54411.54,50005.0,54167.19,56793.54,56850.0,60100.27,55257.33,59013.0,61316.38,63481.4,54100.0,59953.74,59562.15,59510.0,60632.0,59761.11,57950.0,56425.0,60154.53,60405.25,59945.36,59400.0,60624.68,57500.0,60644.2,60721.0,59250.0,61322.78,63266.05,66171.6,62500.0,64079.0,62255.0,63360.22,63564.0,63116.06,58557.5,58368.0,54524.64,55600.0,57353.0,58486.65,55610.0,55128.6,55837.0,57000.0,53500.0,53600.0,53241.2,56664.5,55875.55,56456.4,55757.5,51333.0,40150.1,47726.0,47100.0,50026.6,48579.3,47298.4,46852.0,46714.6,48638.0,45672.75,46285.0,46530.0,47506.21,45425.6,45500.0,46406.91,45558.85,46630.0,48421.1,47920.42,50384.43,49952.39,49412.0,50446.5,47289.6,46039.5,45900.0,45530.3,46199.9,46633.36,45689.0,45500.0,42413.59,42412.0,40571.53,40501.0,41200.0,39558.7,41257.1,42450.0,42311.0,41713.0,42387.86,42581.79,41465.0,41204.0,41126.0,40553.31,35409.7,33854.97502491,34600.8,36176.45],\"name\":\"Market Data\",\"open\":[35822.537142857145,36640.154285714285,35907.55,35492.32285714285,30842.59495033876,32981.412857142874,32090.43,32279.05875,32233.0325,32493.32946268375,30395.47236425857,33417.317500000005,34261.76571428571,34291.47571428571,33069.01,33528.35285714286,35501.52285714286,37653.75571428572,36955.58285714287,38299.979990242864,39232.135,38836.10571428571,46417.15,46471.37939217428,44828.55,47988.68428571429,47363.24714285715,47191.99714285715,48613.34571428572,47929.58,49152.468571428566,52128.90571428572,51570.82,55928.037142857145,55871.974285714285,57439.29428571429,54107.28745346,48900.402857142864,49702.68142857141,47085.86857142857,46297.217142857146,46141.5,45317.48875,49607.89571428571,48462.50125,50375.35285714285,48363.06571428572,48771.79714285716,48899.051428571416,50968.80874999999,52391.66,54903.27223338001,55882.71142857144,57816.62,57245.80428571429,61184.535714285725,58982.2425,55629.79875,56905.925089714285,58923.96875,57643.75428571429,58036.717142857146,58093.88714285714,57363.50142857143,54094.93248366285,54345.577142857146,52301.2925,51316.73416442286,55051.73,55835.568571428565,55781.44857142856,57634.78285714285,58773.90571428571,58813.31999999999,58732.44571428572,58972.78074142856,57066.41428571428,58210.63857142857,59130.53428571428,58004.18714285714,55950.18285714285,58075.85857142857,58126.735714285714,59779.31142857143,59995.28000000001,59847.65714285714,63585.64375,62993.78875,63197.78142857143,61386.84666666666,60022.10857142857,56193.14285714286,55660.88285714287,56459.80857142858,53816.071973125,51702.48857142856,51145.2,50084.904285714285,49099.32900028571,54029.08999999999,55046.918571428585,54863.89192615428,53568.95857142856,57572.02916006285,57825.75000000001,56596.36714285713,57180.66285714288,53216.85142857144,57477.9075555,56418.16714285715,57344.042857142864,58909.24714285714,58286.542760945726,55840.45285714285,56715.76571428571,49471.44211768375,49691.10142857144,49877.28399249,46776.424285714274,46461.266172792864,43551.16516897571,42883.02488002752,36720.26030817143,40565.57,37303.81142857143,37479.84857142857,34717.067180797145,38833.15142857143,38361.6975,39272.70285714285,38542.50802558143,35671.81864681,34614.99857142857,35649.39571428571,37140.20857142857,36687.472857142864,37578.212980534285,39238.05495001429,36844.68,35526.01285714285,35795.758571428574,33571.205,33397.24714285714,37392.86857142857,36688.69142857143,37333.21142857144,35554.289631921434,39019.17756801572,40527.85142857144,40154.210000000014,38349.904285714285,38092.55,35832.45142857143,35497.64267864714,35594.31125000001,31633.7525,32522.32351030375,33684.70798595571,34659.66285714286,31585.407142857144,32295.257142857143,34705.314999999995,34491.093189785715,35904.98304809572,34991.422857142854,33513.659635622855,33802.50875,34677.282857142854,35268.133749999986,33694.438913415725,34222.11650743,33863.59125,32872.33625,33812.720000000016,33511.30285714286,34258.26857142857,33087.631803445714,32729.40571428572,32817.974285714285,31878.995463625717,31393.56,31523.01428571428,31789.058571428573,30838.40285714286,29792.94571428572,32142.2175,32296.57501705833,33645.64125,34276.33571428572,35406.904285714285,37255.94907080572,39466.60142857144,40022.338571428576,40027.514285714286,42215.30056942143,41444.92,39863.02142857143,39151.56000000001,38194.29857142857,39730.36,40879.2,42851.10625,44595.248571428565,43810.77557591714,46272.917927988565,45594.95,45532.73142857144,44408.58,47822.59,47092.968571428566,47003.55142857144,45910.51758225144,44677.88,44713.62,46764.80714285714,49334.124285714286,48846.545714285705,49270.81250000001,49502.32428571429,47679.05943830625,48988.68759604376,46841.76625000001,49075.05714285715,48912.08813684288,48729.66500000001,46985.19672327144,47067.85,48829.99,49268.67969245429,50010.43250000001,49927.86142857141,51776.74142857143,52682.13142857143,46874.535714285725,46052.77625,46390.00142857144,44849.358571428565,45166.32276311429,46034.09142857144,44952.05499999999,47115.91857142856,48142.54544282429,47759.26142857144,47297.76949454143,48304.2375,47247.514285714286,43009.96125,40723.32571428572,43566.32,44883.835,42831.9,42695.84,43170.98166666666,42160.488333333335,41025.45571428572,41530.54714285715,43831.94890731001,48161.037142857145,47647.858571428565,48222.97714285714,49244.14000000001,51490.97500000001,55336.99166666667,53795.76714285714,53955.21166666667,54965.23333333334,54673.13285714285,57478.67000000001,55999.93666666668,57375.23166666668,57350.457142857136,61682.91428571429,60873.64833333334,61522.45,62017.10333333333,64284.47696012,66019.25142857143,62201.84500000001,60693.625,61297.20166666666,60855.84833333332,63087.79500000001,60322.28333333333,58454.70428571429,60590.624285714286,62262.96000000001,61883.588571428576,61318.19166666668,60932.18411106834,63249.62833333333,62917.02833333332,61420.30333333334,60993.22000000001,61508.31564779668,63291.374285714286,67534.58428571429,66940.85670439499,64914.77142857143,64795.76142857142,64136.17,64390.59166666668,65491.89428571429,63605.93166666668,60090.165,60356.91296319666,56909.737142857135,58097.35166666666,59752.328571428574,58680.037142857145,56284.974285714285,57567.89665942715,57155.647142857146,58975.52052071285,53763.82285714285,54746.99142857142,57280.328571428574,57817.70666666668,56870.03963256571,57217.83166666668,56517.34571428572,53645.52333333334,49222.75142857144,49446.31040797856,50506.20025465286,50620.57666666666,50505.09666666666,47567.78000000001,47175.20571428572,49404.83142857144,50086.087587535,46722.31678153,48370.855,48874.629662098574,47636.524285714295,46154.93428571429,46849.87160123833,46687.68428571429,46911.61285714285,48908.98676192667,48607.97833333334,50829.52142857144,50834.15333333333,50421.09327841833,50800.19714285715,50703.08123170714,47555.50571428571,46470.222857142864,47127.92666666666,46241.348571428585,47734.318571428565,47295.25418424833,46454.17285714286,45834.43142857144,43443.415,43094.90753102834,41558.67524147715,41687.16873449666,41860.16857142857,41831.52,42739.87333333333,43919.48428571428,42568.97142857143,43078.66428571429,43087.81166666667,43091.028333333335,42218.973333333335,42368.91857142857,41689.17428571428,40677.449848058575,36452.784394397146,35079.26833333333,36262.038571428566],\"x\":[\"2021-01-18T00:00:00\",\"2021-01-19T00:00:00\",\"2021-01-20T00:00:00\",\"2021-01-21T00:00:00\",\"2021-01-22T00:00:00\",\"2021-01-23T00:00:00\",\"2021-01-24T00:00:00\",\"2021-01-25T00:00:00\",\"2021-01-26T00:00:00\",\"2021-01-27T00:00:00\",\"2021-01-28T00:00:00\",\"2021-01-29T00:00:00\",\"2021-01-30T00:00:00\",\"2021-01-31T00:00:00\",\"2021-02-01T00:00:00\",\"2021-02-02T00:00:00\",\"2021-02-03T00:00:00\",\"2021-02-04T00:00:00\",\"2021-02-05T00:00:00\",\"2021-02-06T00:00:00\",\"2021-02-07T00:00:00\",\"2021-02-08T00:00:00\",\"2021-02-09T00:00:00\",\"2021-02-10T00:00:00\",\"2021-02-11T00:00:00\",\"2021-02-12T00:00:00\",\"2021-02-13T00:00:00\",\"2021-02-14T00:00:00\",\"2021-02-15T00:00:00\",\"2021-02-16T00:00:00\",\"2021-02-17T00:00:00\",\"2021-02-18T00:00:00\",\"2021-02-19T00:00:00\",\"2021-02-20T00:00:00\",\"2021-02-21T00:00:00\",\"2021-02-22T00:00:00\",\"2021-02-23T00:00:00\",\"2021-02-24T00:00:00\",\"2021-02-25T00:00:00\",\"2021-02-26T00:00:00\",\"2021-02-27T00:00:00\",\"2021-02-28T00:00:00\",\"2021-03-01T00:00:00\",\"2021-03-02T00:00:00\",\"2021-03-03T00:00:00\",\"2021-03-04T00:00:00\",\"2021-03-05T00:00:00\",\"2021-03-06T00:00:00\",\"2021-03-07T00:00:00\",\"2021-03-08T00:00:00\",\"2021-03-09T00:00:00\",\"2021-03-10T00:00:00\",\"2021-03-11T00:00:00\",\"2021-03-12T00:00:00\",\"2021-03-13T00:00:00\",\"2021-03-14T00:00:00\",\"2021-03-15T00:00:00\",\"2021-03-16T00:00:00\",\"2021-03-17T00:00:00\",\"2021-03-18T00:00:00\",\"2021-03-19T00:00:00\",\"2021-03-20T00:00:00\",\"2021-03-21T00:00:00\",\"2021-03-22T00:00:00\",\"2021-03-23T00:00:00\",\"2021-03-24T00:00:00\",\"2021-03-25T00:00:00\",\"2021-03-26T00:00:00\",\"2021-03-27T00:00:00\",\"2021-03-28T00:00:00\",\"2021-03-29T00:00:00\",\"2021-03-30T00:00:00\",\"2021-03-31T00:00:00\",\"2021-04-01T00:00:00\",\"2021-04-02T00:00:00\",\"2021-04-03T00:00:00\",\"2021-04-04T00:00:00\",\"2021-04-05T00:00:00\",\"2021-04-06T00:00:00\",\"2021-04-07T00:00:00\",\"2021-04-08T00:00:00\",\"2021-04-09T00:00:00\",\"2021-04-10T00:00:00\",\"2021-04-11T00:00:00\",\"2021-04-12T00:00:00\",\"2021-04-13T00:00:00\",\"2021-04-14T00:00:00\",\"2021-04-15T00:00:00\",\"2021-04-16T00:00:00\",\"2021-04-17T00:00:00\",\"2021-04-18T00:00:00\",\"2021-04-19T00:00:00\",\"2021-04-20T00:00:00\",\"2021-04-21T00:00:00\",\"2021-04-22T00:00:00\",\"2021-04-23T00:00:00\",\"2021-04-24T00:00:00\",\"2021-04-25T00:00:00\",\"2021-04-26T00:00:00\",\"2021-04-27T00:00:00\",\"2021-04-28T00:00:00\",\"2021-04-29T00:00:00\",\"2021-04-30T00:00:00\",\"2021-05-01T00:00:00\",\"2021-05-02T00:00:00\",\"2021-05-03T00:00:00\",\"2021-05-04T00:00:00\",\"2021-05-05T00:00:00\",\"2021-05-06T00:00:00\",\"2021-05-07T00:00:00\",\"2021-05-08T00:00:00\",\"2021-05-09T00:00:00\",\"2021-05-10T00:00:00\",\"2021-05-11T00:00:00\",\"2021-05-12T00:00:00\",\"2021-05-13T00:00:00\",\"2021-05-14T00:00:00\",\"2021-05-15T00:00:00\",\"2021-05-16T00:00:00\",\"2021-05-17T00:00:00\",\"2021-05-18T00:00:00\",\"2021-05-19T00:00:00\",\"2021-05-20T00:00:00\",\"2021-05-21T00:00:00\",\"2021-05-22T00:00:00\",\"2021-05-23T00:00:00\",\"2021-05-24T00:00:00\",\"2021-05-25T00:00:00\",\"2021-05-26T00:00:00\",\"2021-05-27T00:00:00\",\"2021-05-28T00:00:00\",\"2021-05-29T00:00:00\",\"2021-05-30T00:00:00\",\"2021-05-31T00:00:00\",\"2021-06-01T00:00:00\",\"2021-06-02T00:00:00\",\"2021-06-03T00:00:00\",\"2021-06-04T00:00:00\",\"2021-06-05T00:00:00\",\"2021-06-06T00:00:00\",\"2021-06-07T00:00:00\",\"2021-06-08T00:00:00\",\"2021-06-09T00:00:00\",\"2021-06-10T00:00:00\",\"2021-06-11T00:00:00\",\"2021-06-12T00:00:00\",\"2021-06-13T00:00:00\",\"2021-06-14T00:00:00\",\"2021-06-15T00:00:00\",\"2021-06-16T00:00:00\",\"2021-06-17T00:00:00\",\"2021-06-18T00:00:00\",\"2021-06-19T00:00:00\",\"2021-06-20T00:00:00\",\"2021-06-21T00:00:00\",\"2021-06-22T00:00:00\",\"2021-06-23T00:00:00\",\"2021-06-24T00:00:00\",\"2021-06-25T00:00:00\",\"2021-06-26T00:00:00\",\"2021-06-27T00:00:00\",\"2021-06-28T00:00:00\",\"2021-06-29T00:00:00\",\"2021-06-30T00:00:00\",\"2021-07-01T00:00:00\",\"2021-07-02T00:00:00\",\"2021-07-03T00:00:00\",\"2021-07-04T00:00:00\",\"2021-07-05T00:00:00\",\"2021-07-06T00:00:00\",\"2021-07-07T00:00:00\",\"2021-07-08T00:00:00\",\"2021-07-09T00:00:00\",\"2021-07-10T00:00:00\",\"2021-07-11T00:00:00\",\"2021-07-12T00:00:00\",\"2021-07-13T00:00:00\",\"2021-07-14T00:00:00\",\"2021-07-15T00:00:00\",\"2021-07-16T00:00:00\",\"2021-07-17T00:00:00\",\"2021-07-18T00:00:00\",\"2021-07-19T00:00:00\",\"2021-07-20T00:00:00\",\"2021-07-21T00:00:00\",\"2021-07-22T00:00:00\",\"2021-07-23T00:00:00\",\"2021-07-24T00:00:00\",\"2021-07-25T00:00:00\",\"2021-07-26T00:00:00\",\"2021-07-27T00:00:00\",\"2021-07-28T00:00:00\",\"2021-07-29T00:00:00\",\"2021-07-30T00:00:00\",\"2021-07-31T00:00:00\",\"2021-08-01T00:00:00\",\"2021-08-02T00:00:00\",\"2021-08-03T00:00:00\",\"2021-08-04T00:00:00\",\"2021-08-05T00:00:00\",\"2021-08-06T00:00:00\",\"2021-08-07T00:00:00\",\"2021-08-08T00:00:00\",\"2021-08-09T00:00:00\",\"2021-08-10T00:00:00\",\"2021-08-11T00:00:00\",\"2021-08-12T00:00:00\",\"2021-08-13T00:00:00\",\"2021-08-14T00:00:00\",\"2021-08-15T00:00:00\",\"2021-08-16T00:00:00\",\"2021-08-17T00:00:00\",\"2021-08-18T00:00:00\",\"2021-08-19T00:00:00\",\"2021-08-20T00:00:00\",\"2021-08-21T00:00:00\",\"2021-08-22T00:00:00\",\"2021-08-23T00:00:00\",\"2021-08-24T00:00:00\",\"2021-08-25T00:00:00\",\"2021-08-26T00:00:00\",\"2021-08-27T00:00:00\",\"2021-08-28T00:00:00\",\"2021-08-29T00:00:00\",\"2021-08-30T00:00:00\",\"2021-08-31T00:00:00\",\"2021-09-01T00:00:00\",\"2021-09-02T00:00:00\",\"2021-09-03T00:00:00\",\"2021-09-04T00:00:00\",\"2021-09-05T00:00:00\",\"2021-09-06T00:00:00\",\"2021-09-07T00:00:00\",\"2021-09-08T00:00:00\",\"2021-09-09T00:00:00\",\"2021-09-10T00:00:00\",\"2021-09-11T00:00:00\",\"2021-09-12T00:00:00\",\"2021-09-13T00:00:00\",\"2021-09-14T00:00:00\",\"2021-09-15T00:00:00\",\"2021-09-16T00:00:00\",\"2021-09-17T00:00:00\",\"2021-09-18T00:00:00\",\"2021-09-19T00:00:00\",\"2021-09-20T00:00:00\",\"2021-09-21T00:00:00\",\"2021-09-22T00:00:00\",\"2021-09-23T00:00:00\",\"2021-09-24T00:00:00\",\"2021-09-25T00:00:00\",\"2021-09-26T00:00:00\",\"2021-09-27T00:00:00\",\"2021-09-28T00:00:00\",\"2021-09-29T00:00:00\",\"2021-09-30T00:00:00\",\"2021-10-01T00:00:00\",\"2021-10-02T00:00:00\",\"2021-10-03T00:00:00\",\"2021-10-04T00:00:00\",\"2021-10-05T00:00:00\",\"2021-10-06T00:00:00\",\"2021-10-07T00:00:00\",\"2021-10-08T00:00:00\",\"2021-10-09T00:00:00\",\"2021-10-10T00:00:00\",\"2021-10-11T00:00:00\",\"2021-10-12T00:00:00\",\"2021-10-13T00:00:00\",\"2021-10-14T00:00:00\",\"2021-10-15T00:00:00\",\"2021-10-16T00:00:00\",\"2021-10-17T00:00:00\",\"2021-10-18T00:00:00\",\"2021-10-19T00:00:00\",\"2021-10-20T00:00:00\",\"2021-10-21T00:00:00\",\"2021-10-22T00:00:00\",\"2021-10-23T00:00:00\",\"2021-10-24T00:00:00\",\"2021-10-25T00:00:00\",\"2021-10-26T00:00:00\",\"2021-10-27T00:00:00\",\"2021-10-28T00:00:00\",\"2021-10-29T00:00:00\",\"2021-10-30T00:00:00\",\"2021-10-31T00:00:00\",\"2021-11-01T00:00:00\",\"2021-11-02T00:00:00\",\"2021-11-03T00:00:00\",\"2021-11-04T00:00:00\",\"2021-11-05T00:00:00\",\"2021-11-06T00:00:00\",\"2021-11-07T00:00:00\",\"2021-11-08T00:00:00\",\"2021-11-09T00:00:00\",\"2021-11-10T00:00:00\",\"2021-11-11T00:00:00\",\"2021-11-12T00:00:00\",\"2021-11-13T00:00:00\",\"2021-11-14T00:00:00\",\"2021-11-15T00:00:00\",\"2021-11-16T00:00:00\",\"2021-11-17T00:00:00\",\"2021-11-18T00:00:00\",\"2021-11-19T00:00:00\",\"2021-11-20T00:00:00\",\"2021-11-21T00:00:00\",\"2021-11-22T00:00:00\",\"2021-11-23T00:00:00\",\"2021-11-24T00:00:00\",\"2021-11-25T00:00:00\",\"2021-11-26T00:00:00\",\"2021-11-27T00:00:00\",\"2021-11-28T00:00:00\",\"2021-11-29T00:00:00\",\"2021-11-30T00:00:00\",\"2021-12-01T00:00:00\",\"2021-12-02T00:00:00\",\"2021-12-03T00:00:00\",\"2021-12-04T00:00:00\",\"2021-12-05T00:00:00\",\"2021-12-06T00:00:00\",\"2021-12-07T00:00:00\",\"2021-12-08T00:00:00\",\"2021-12-09T00:00:00\",\"2021-12-10T00:00:00\",\"2021-12-11T00:00:00\",\"2021-12-12T00:00:00\",\"2021-12-13T00:00:00\",\"2021-12-14T00:00:00\",\"2021-12-15T00:00:00\",\"2021-12-16T00:00:00\",\"2021-12-17T00:00:00\",\"2021-12-18T00:00:00\",\"2021-12-19T00:00:00\",\"2021-12-20T00:00:00\",\"2021-12-21T00:00:00\",\"2021-12-22T00:00:00\",\"2021-12-23T00:00:00\",\"2021-12-24T00:00:00\",\"2021-12-25T00:00:00\",\"2021-12-26T00:00:00\",\"2021-12-27T00:00:00\",\"2021-12-28T00:00:00\",\"2021-12-29T00:00:00\",\"2021-12-30T00:00:00\",\"2021-12-31T00:00:00\",\"2022-01-01T00:00:00\",\"2022-01-02T00:00:00\",\"2022-01-03T00:00:00\",\"2022-01-04T00:00:00\",\"2022-01-05T00:00:00\",\"2022-01-06T00:00:00\",\"2022-01-07T00:00:00\",\"2022-01-08T00:00:00\",\"2022-01-09T00:00:00\",\"2022-01-10T00:00:00\",\"2022-01-11T00:00:00\",\"2022-01-12T00:00:00\",\"2022-01-13T00:00:00\",\"2022-01-14T00:00:00\",\"2022-01-15T00:00:00\",\"2022-01-16T00:00:00\",\"2022-01-17T00:00:00\",\"2022-01-18T00:00:00\",\"2022-01-19T00:00:00\",\"2022-01-20T00:00:00\",\"2022-01-21T00:00:00\",\"2022-01-22T00:00:00\",\"2022-01-23T00:00:00\",\"2022-01-24T00:00:00\"],\"type\":\"candlestick\"}],                        {\"template\":{\"data\":{\"histogram2dcontour\":[{\"type\":\"histogram2dcontour\",\"colorbar\":{\"outlinewidth\":0,\"ticks\":\"\"},\"colorscale\":[[0.0,\"#0d0887\"],[0.1111111111111111,\"#46039f\"],[0.2222222222222222,\"#7201a8\"],[0.3333333333333333,\"#9c179e\"],[0.4444444444444444,\"#bd3786\"],[0.5555555555555556,\"#d8576b\"],[0.6666666666666666,\"#ed7953\"],[0.7777777777777778,\"#fb9f3a\"],[0.8888888888888888,\"#fdca26\"],[1.0,\"#f0f921\"]]}],\"choropleth\":[{\"type\":\"choropleth\",\"colorbar\":{\"outlinewidth\":0,\"ticks\":\"\"}}],\"histogram2d\":[{\"type\":\"histogram2d\",\"colorbar\":{\"outlinewidth\":0,\"ticks\":\"\"},\"colorscale\":[[0.0,\"#0d0887\"],[0.1111111111111111,\"#46039f\"],[0.2222222222222222,\"#7201a8\"],[0.3333333333333333,\"#9c179e\"],[0.4444444444444444,\"#bd3786\"],[0.5555555555555556,\"#d8576b\"],[0.6666666666666666,\"#ed7953\"],[0.7777777777777778,\"#fb9f3a\"],[0.8888888888888888,\"#fdca26\"],[1.0,\"#f0f921\"]]}],\"heatmap\":[{\"type\":\"heatmap\",\"colorbar\":{\"outlinewidth\":0,\"ticks\":\"\"},\"colorscale\":[[0.0,\"#0d0887\"],[0.1111111111111111,\"#46039f\"],[0.2222222222222222,\"#7201a8\"],[0.3333333333333333,\"#9c179e\"],[0.4444444444444444,\"#bd3786\"],[0.5555555555555556,\"#d8576b\"],[0.6666666666666666,\"#ed7953\"],[0.7777777777777778,\"#fb9f3a\"],[0.8888888888888888,\"#fdca26\"],[1.0,\"#f0f921\"]]}],\"heatmapgl\":[{\"type\":\"heatmapgl\",\"colorbar\":{\"outlinewidth\":0,\"ticks\":\"\"},\"colorscale\":[[0.0,\"#0d0887\"],[0.1111111111111111,\"#46039f\"],[0.2222222222222222,\"#7201a8\"],[0.3333333333333333,\"#9c179e\"],[0.4444444444444444,\"#bd3786\"],[0.5555555555555556,\"#d8576b\"],[0.6666666666666666,\"#ed7953\"],[0.7777777777777778,\"#fb9f3a\"],[0.8888888888888888,\"#fdca26\"],[1.0,\"#f0f921\"]]}],\"contourcarpet\":[{\"type\":\"contourcarpet\",\"colorbar\":{\"outlinewidth\":0,\"ticks\":\"\"}}],\"contour\":[{\"type\":\"contour\",\"colorbar\":{\"outlinewidth\":0,\"ticks\":\"\"},\"colorscale\":[[0.0,\"#0d0887\"],[0.1111111111111111,\"#46039f\"],[0.2222222222222222,\"#7201a8\"],[0.3333333333333333,\"#9c179e\"],[0.4444444444444444,\"#bd3786\"],[0.5555555555555556,\"#d8576b\"],[0.6666666666666666,\"#ed7953\"],[0.7777777777777778,\"#fb9f3a\"],[0.8888888888888888,\"#fdca26\"],[1.0,\"#f0f921\"]]}],\"surface\":[{\"type\":\"surface\",\"colorbar\":{\"outlinewidth\":0,\"ticks\":\"\"},\"colorscale\":[[0.0,\"#0d0887\"],[0.1111111111111111,\"#46039f\"],[0.2222222222222222,\"#7201a8\"],[0.3333333333333333,\"#9c179e\"],[0.4444444444444444,\"#bd3786\"],[0.5555555555555556,\"#d8576b\"],[0.6666666666666666,\"#ed7953\"],[0.7777777777777778,\"#fb9f3a\"],[0.8888888888888888,\"#fdca26\"],[1.0,\"#f0f921\"]]}],\"mesh3d\":[{\"type\":\"mesh3d\",\"colorbar\":{\"outlinewidth\":0,\"ticks\":\"\"}}],\"scatter\":[{\"fillpattern\":{\"fillmode\":\"overlay\",\"size\":10,\"solidity\":0.2},\"type\":\"scatter\"}],\"parcoords\":[{\"type\":\"parcoords\",\"line\":{\"colorbar\":{\"outlinewidth\":0,\"ticks\":\"\"}}}],\"scatterpolargl\":[{\"type\":\"scatterpolargl\",\"marker\":{\"colorbar\":{\"outlinewidth\":0,\"ticks\":\"\"}}}],\"bar\":[{\"error_x\":{\"color\":\"#2a3f5f\"},\"error_y\":{\"color\":\"#2a3f5f\"},\"marker\":{\"line\":{\"color\":\"#E5ECF6\",\"width\":0.5},\"pattern\":{\"fillmode\":\"overlay\",\"size\":10,\"solidity\":0.2}},\"type\":\"bar\"}],\"scattergeo\":[{\"type\":\"scattergeo\",\"marker\":{\"colorbar\":{\"outlinewidth\":0,\"ticks\":\"\"}}}],\"scatterpolar\":[{\"type\":\"scatterpolar\",\"marker\":{\"colorbar\":{\"outlinewidth\":0,\"ticks\":\"\"}}}],\"histogram\":[{\"marker\":{\"pattern\":{\"fillmode\":\"overlay\",\"size\":10,\"solidity\":0.2}},\"type\":\"histogram\"}],\"scattergl\":[{\"type\":\"scattergl\",\"marker\":{\"colorbar\":{\"outlinewidth\":0,\"ticks\":\"\"}}}],\"scatter3d\":[{\"type\":\"scatter3d\",\"line\":{\"colorbar\":{\"outlinewidth\":0,\"ticks\":\"\"}},\"marker\":{\"colorbar\":{\"outlinewidth\":0,\"ticks\":\"\"}}}],\"scattermapbox\":[{\"type\":\"scattermapbox\",\"marker\":{\"colorbar\":{\"outlinewidth\":0,\"ticks\":\"\"}}}],\"scatterternary\":[{\"type\":\"scatterternary\",\"marker\":{\"colorbar\":{\"outlinewidth\":0,\"ticks\":\"\"}}}],\"scattercarpet\":[{\"type\":\"scattercarpet\",\"marker\":{\"colorbar\":{\"outlinewidth\":0,\"ticks\":\"\"}}}],\"carpet\":[{\"aaxis\":{\"endlinecolor\":\"#2a3f5f\",\"gridcolor\":\"white\",\"linecolor\":\"white\",\"minorgridcolor\":\"white\",\"startlinecolor\":\"#2a3f5f\"},\"baxis\":{\"endlinecolor\":\"#2a3f5f\",\"gridcolor\":\"white\",\"linecolor\":\"white\",\"minorgridcolor\":\"white\",\"startlinecolor\":\"#2a3f5f\"},\"type\":\"carpet\"}],\"table\":[{\"cells\":{\"fill\":{\"color\":\"#EBF0F8\"},\"line\":{\"color\":\"white\"}},\"header\":{\"fill\":{\"color\":\"#C8D4E3\"},\"line\":{\"color\":\"white\"}},\"type\":\"table\"}],\"barpolar\":[{\"marker\":{\"line\":{\"color\":\"#E5ECF6\",\"width\":0.5},\"pattern\":{\"fillmode\":\"overlay\",\"size\":10,\"solidity\":0.2}},\"type\":\"barpolar\"}],\"pie\":[{\"automargin\":true,\"type\":\"pie\"}]},\"layout\":{\"autotypenumbers\":\"strict\",\"colorway\":[\"#636efa\",\"#EF553B\",\"#00cc96\",\"#ab63fa\",\"#FFA15A\",\"#19d3f3\",\"#FF6692\",\"#B6E880\",\"#FF97FF\",\"#FECB52\"],\"font\":{\"color\":\"#2a3f5f\"},\"hovermode\":\"closest\",\"hoverlabel\":{\"align\":\"left\"},\"paper_bgcolor\":\"white\",\"plot_bgcolor\":\"#E5ECF6\",\"polar\":{\"bgcolor\":\"#E5ECF6\",\"angularaxis\":{\"gridcolor\":\"white\",\"linecolor\":\"white\",\"ticks\":\"\"},\"radialaxis\":{\"gridcolor\":\"white\",\"linecolor\":\"white\",\"ticks\":\"\"}},\"ternary\":{\"bgcolor\":\"#E5ECF6\",\"aaxis\":{\"gridcolor\":\"white\",\"linecolor\":\"white\",\"ticks\":\"\"},\"baxis\":{\"gridcolor\":\"white\",\"linecolor\":\"white\",\"ticks\":\"\"},\"caxis\":{\"gridcolor\":\"white\",\"linecolor\":\"white\",\"ticks\":\"\"}},\"coloraxis\":{\"colorbar\":{\"outlinewidth\":0,\"ticks\":\"\"}},\"colorscale\":{\"sequential\":[[0.0,\"#0d0887\"],[0.1111111111111111,\"#46039f\"],[0.2222222222222222,\"#7201a8\"],[0.3333333333333333,\"#9c179e\"],[0.4444444444444444,\"#bd3786\"],[0.5555555555555556,\"#d8576b\"],[0.6666666666666666,\"#ed7953\"],[0.7777777777777778,\"#fb9f3a\"],[0.8888888888888888,\"#fdca26\"],[1.0,\"#f0f921\"]],\"sequentialminus\":[[0.0,\"#0d0887\"],[0.1111111111111111,\"#46039f\"],[0.2222222222222222,\"#7201a8\"],[0.3333333333333333,\"#9c179e\"],[0.4444444444444444,\"#bd3786\"],[0.5555555555555556,\"#d8576b\"],[0.6666666666666666,\"#ed7953\"],[0.7777777777777778,\"#fb9f3a\"],[0.8888888888888888,\"#fdca26\"],[1.0,\"#f0f921\"]],\"diverging\":[[0,\"#8e0152\"],[0.1,\"#c51b7d\"],[0.2,\"#de77ae\"],[0.3,\"#f1b6da\"],[0.4,\"#fde0ef\"],[0.5,\"#f7f7f7\"],[0.6,\"#e6f5d0\"],[0.7,\"#b8e186\"],[0.8,\"#7fbc41\"],[0.9,\"#4d9221\"],[1,\"#276419\"]]},\"xaxis\":{\"gridcolor\":\"white\",\"linecolor\":\"white\",\"ticks\":\"\",\"title\":{\"standoff\":15},\"zerolinecolor\":\"white\",\"automargin\":true,\"zerolinewidth\":2},\"yaxis\":{\"gridcolor\":\"white\",\"linecolor\":\"white\",\"ticks\":\"\",\"title\":{\"standoff\":15},\"zerolinecolor\":\"white\",\"automargin\":true,\"zerolinewidth\":2},\"scene\":{\"xaxis\":{\"backgroundcolor\":\"#E5ECF6\",\"gridcolor\":\"white\",\"linecolor\":\"white\",\"showbackground\":true,\"ticks\":\"\",\"zerolinecolor\":\"white\",\"gridwidth\":2},\"yaxis\":{\"backgroundcolor\":\"#E5ECF6\",\"gridcolor\":\"white\",\"linecolor\":\"white\",\"showbackground\":true,\"ticks\":\"\",\"zerolinecolor\":\"white\",\"gridwidth\":2},\"zaxis\":{\"backgroundcolor\":\"#E5ECF6\",\"gridcolor\":\"white\",\"linecolor\":\"white\",\"showbackground\":true,\"ticks\":\"\",\"zerolinecolor\":\"white\",\"gridwidth\":2}},\"shapedefaults\":{\"line\":{\"color\":\"#2a3f5f\"}},\"annotationdefaults\":{\"arrowcolor\":\"#2a3f5f\",\"arrowhead\":0,\"arrowwidth\":1},\"geo\":{\"bgcolor\":\"white\",\"landcolor\":\"#E5ECF6\",\"subunitcolor\":\"white\",\"showland\":true,\"showlakes\":true,\"lakecolor\":\"white\"},\"title\":{\"x\":0.05},\"mapbox\":{\"style\":\"light\"}}},\"title\":{\"text\":\"Daily Candlestick Chart\"},\"yaxis\":{\"title\":{\"text\":\"Price\"}},\"xaxis\":{\"title\":{\"text\":\"Date\"}}},                        {\"responsive\": true}                    ).then(function(){\n",
       "                            \n",
       "var gd = document.getElementById('8f1cece1-9b7e-45d6-b74e-5918f37e177a');\n",
       "var x = new MutationObserver(function (mutations, observer) {{\n",
       "        var display = window.getComputedStyle(gd).display;\n",
       "        if (!display || display === 'none') {{\n",
       "            console.log([gd, 'removed!']);\n",
       "            Plotly.purge(gd);\n",
       "            observer.disconnect();\n",
       "        }}\n",
       "}});\n",
       "\n",
       "// Listen for the removal of the full notebook cells\n",
       "var notebookContainer = gd.closest('#notebook-container');\n",
       "if (notebookContainer) {{\n",
       "    x.observe(notebookContainer, {childList: true});\n",
       "}}\n",
       "\n",
       "// Listen for the clearing of the current output cell\n",
       "var outputEl = gd.closest('.output');\n",
       "if (outputEl) {{\n",
       "    x.observe(outputEl, {childList: true});\n",
       "}}\n",
       "\n",
       "                        })                };                });            </script>        </div>"
      ]
     },
     "metadata": {},
     "output_type": "display_data"
    },
    {
     "name": "stdout",
     "output_type": "stream",
     "text": [
      "Small subset of data + full candlestick chart plot:\n"
     ]
    },
    {
     "data": {
      "image/png": "[encoded data removed]",
      "text/plain": [
       "<Figure size 864x360 with 1 Axes>"
      ]
     },
     "metadata": {
      "needs_background": "light"
     },
     "output_type": "display_data"
    },
    {
     "name": "stdout",
     "output_type": "stream",
     "text": [
      "Please note that plotly may experience performance issues or crashes when handling large input datasets. If you encounter any issues, you may need to reduce the size of your input data or use data downsampling techniques to improve performance.\n"
     ]
    },
    {
     "data": {
      "application/vnd.plotly.v1+json": {
       "config": {
        "plotlyServerURL": "https://plot.ly"
       },
       "data": [
        {
         "close": [
          35852.99571428571,
          35874.985714285714,
          35871.41241157143,
          35889.624285714286,
          35903.96,
          35913.26,
          35900.481857714294,
          35873.88,
          35952.927142857145,
          35836.01571428571,
          35813.53285714286,
          35794.70255377143,
          35802.71571428571,
          35806.78000000001,
          35749.10428571429,
          35750.56428571429,
          35776.88285714285,
          35778.182857142856,
          35726.09142857143,
          35780.512857142865,
          35764.71571428572,
          35822.09428571429,
          35694.69142857143,
          35727.42571428572,
          35735.25,
          35726.44714285714,
          35778.49857142857,
          35779.560000000005,
          35708.65769841667,
          35757.61472414286,
          35785.294285714284,
          35764.43,
          35755.44714285714,
          35765.24,
          35754.98857142857,
          35783.667142857135,
          35757.538571428566,
          35769.03428571429,
          35672.87142857142,
          35617.54714285715,
          35596.38285714285,
          35309.47125,
          35466.05285714286,
          35450.542857142864,
          35387.63029171429,
          35238.2,
          35256.02857142857,
          35251.53428571429,
          35168.539999999986,
          35224.48,
          35159.40571428571,
          35044.76857142857,
          35174.868571428575,
          35120.097142857136,
          35161.46491739714,
          35043.58714285715,
          34984.497142857144,
          35082.527142857136,
          35082.94142857143,
          35158.934285714284,
          35068.597142857136,
          35070.86142857142,
          35100.98002076858,
          35114.142857142855,
          35060.68142857143,
          35081.88285714285,
          35108.07857142857,
          35098.42125,
          35055.09747769428,
          35025.794285714284,
          34968.624285714286,
          35047.55811657143,
          35033.17571428571,
          34954.71,
          34895.502857142856,
          35014.30142857142,
          35087.647142857146,
          35179.555714285714,
          35149.75714285713,
          35091.81571428572,
          35097.15714285715,
          35181.39285714286,
          35207.18857142857,
          35179.09879596714,
          35171.25142857143,
          35188.58142857143,
          35172.89,
          35143.654999999984,
          35180.874285714286,
          35134.397142857146,
          35065.491428571426,
          35039.539999999986,
          35063.33142857143,
          35118.64125,
          35143.329999999994,
          35163.775714285715,
          35181.03428571428,
          35170.36571428571,
          35098.345714285715,
          35083.497142857144
         ],
         "high": [
          35934,
          35912,
          35929,
          35936,
          35951,
          35965,
          35953,
          35944,
          36004,
          35997.182144,
          35903,
          35874.709948,
          35854,
          35854.09468,
          35854,
          35804,
          35814,
          35832.3466192,
          35837,
          35823,
          35823,
          35869,
          35890,
          35771,
          35783,
          35785,
          35834,
          35834,
          35827,
          35801.673069,
          35831,
          35830,
          35809,
          35810,
          35806,
          35835,
          35824,
          35802.05967,
          35826,
          35702,
          35654,
          35640,
          35493,
          35486,
          35475,
          35403.97,
          35343.17,
          35305,
          35266,
          35272,
          35300,
          35184.32,
          35253.61,
          35219,
          35196,
          35199,
          35086,
          35117,
          35114.8,
          35198,
          35186.30316972,
          35121,
          35130,
          35177,
          35155.2689015,
          35096,
          35158,
          35159,
          35155,
          35132.2,
          35056,
          35120.73775608,
          35091,
          35067.99,
          34989,
          35046,
          35153,
          35239,
          35244,
          35192,
          35130,
          35220,
          35257,
          35278,
          35227,
          35267,
          35252,
          35221,
          35247,
          35235,
          35196,
          35128,
          35130,
          35199,
          35200.2279174,
          35218,
          35237,
          35239,
          35220,
          35177
         ],
         "low": [
          35806.6,
          35810.3,
          35826.37,
          35843.91,
          35857.4,
          35886.4,
          35885.1,
          35838.85,
          35851.34,
          35810.23,
          35798.03,
          35781.2,
          35755.6,
          35788.8,
          35707.64,
          35712.67,
          35734.5,
          35755.2,
          35679.3,
          35694.32,
          35720,
          35729.99,
          35668.07,
          35656.86,
          35543.34,
          35700.58,
          35709.25,
          35751.23,
          35673.84,
          35681.75,
          35732,
          35733.76,
          35718.11,
          35727.76,
          35714.8,
          35735.17,
          35729.38,
          35708.26,
          35650,
          35569.03,
          35561.02,
          34600,
          35307.94,
          35410.91,
          35359.62,
          35212.53,
          35217.68,
          35200,
          35096.74,
          35155,
          35122.2,
          35005.86,
          34999,
          35000,
          35110.75,
          35013.12,
          34953.82,
          34924.89,
          35032.41,
          35072.95,
          35028.55,
          35023.88,
          35050.5,
          35077.03,
          35042.82,
          35006.65,
          35048.52,
          34601,
          35032.04,
          35000,
          34870.8,
          34957.4,
          34995.13,
          34910,
          34794.28,
          34819.97,
          34986.5,
          35072.76,
          35123.67,
          35069.22,
          35058.47,
          35030.53,
          35157.56,
          35134.82,
          35137.3,
          35148.51,
          35148.7,
          35100,
          35122.97,
          34994.82,
          35025.12,
          34982.87,
          34998.63,
          34900,
          35107.46,
          35130.8,
          35133.91,
          35143.47,
          35076.05,
          35050
         ],
         "name": "Market Data",
         "open": [
          35822.537142857145,
          35849.415714285715,
          35869.542857142864,
          35869.262857142865,
          35888.85714285714,
          35904.99,
          35907.19105028572,
          35896.434285714284,
          35873.667142857135,
          35942.297449142854,
          35838.237142857135,
          35813.55607942857,
          35796.59428571429,
          35809.07142857143,
          35804.87571428572,
          35748.36446228572,
          35753.47,
          35779.50714285714,
          35780.521428571425,
          35726.76714285714,
          35778.862857142856,
          35767.29571428571,
          35829.04605665714,
          35690.85571428572,
          35726.527142857136,
          35739.152857142864,
          35730.21714285714,
          35786.12142857142,
          35780.37833333333,
          35706.00204605714,
          35760.94857142858,
          35785.091428571424,
          35759.987142857135,
          35759.78428571429,
          35765.26142857143,
          35760.90571428571,
          35785.13489742857,
          35755.828304571434,
          35767.89,
          35667.112857142856,
          35616.508571428574,
          35469.76125,
          35391.55857142857,
          35460.677142857145,
          35449.68,
          35384.07285714285,
          35242.176559142856,
          35258.237142857135,
          35245.91,
          35182.80714285714,
          35220.97571428572,
          35163.14571428571,
          35041.30142857142,
          35175.95285714286,
          35141.45857142857,
          35159.097142857136,
          35042.82,
          34981.555714285714,
          35085.587142857126,
          35087.69714285714,
          35157.219024245715,
          35057.49571428571,
          35064.63714285714,
          35111.74714285714,
          35113.707142857136,
          35055.25142857143,
          35086.457142857136,
          35045.071249999986,
          35128.352857142854,
          35064.91,
          35029.23,
          34976.44142857143,
          35051.29571428571,
          35036.14428571428,
          34957.520000000004,
          34897.141428571435,
          35019.415714285715,
          35092.37857142858,
          35178.67571428572,
          35147.24857142857,
          35085.44714285714,
          35101.69285714285,
          35185.36714285715,
          35208.124285714286,
          35180.89285714286,
          35177.444285714286,
          35187.26,
          35174.57333333333,
          35146.700000000004,
          35170.70285714286,
          35143.40714285714,
          35063.76857142857,
          35041.612857142856,
          35054.40186828,
          35152.34255962857,
          35146.95285714285,
          35164.1989084,
          35182.89144014857,
          35171.06285714286,
          35100.417142857135
         ],
         "type": "candlestick",
         "x": [
          "2021-01-18T02:39:00",
          "2021-01-18T02:40:00",
          "2021-01-18T02:41:00",
          "2021-01-18T02:42:00",
          "2021-01-18T02:43:00",
          "2021-01-18T02:44:00",
          "2021-01-18T02:45:00",
          "2021-01-18T02:46:00",
          "2021-01-18T02:47:00",
          "2021-01-18T02:48:00",
          "2021-01-18T02:49:00",
          "2021-01-18T02:50:00",
          "2021-01-18T02:51:00",
          "2021-01-18T02:52:00",
          "2021-01-18T02:53:00",
          "2021-01-18T02:54:00",
          "2021-01-18T02:55:00",
          "2021-01-18T02:56:00",
          "2021-01-18T02:57:00",
          "2021-01-18T02:58:00",
          "2021-01-18T02:59:00",
          "2021-01-18T03:00:00",
          "2021-01-18T03:01:00",
          "2021-01-18T03:02:00",
          "2021-01-18T03:03:00",
          "2021-01-18T03:04:00",
          "2021-01-18T03:05:00",
          "2021-01-18T03:06:00",
          "2021-01-18T03:07:00",
          "2021-01-18T03:08:00",
          "2021-01-18T03:09:00",
          "2021-01-18T03:10:00",
          "2021-01-18T03:11:00",
          "2021-01-18T03:12:00",
          "2021-01-18T03:13:00",
          "2021-01-18T03:14:00",
          "2021-01-18T03:15:00",
          "2021-01-18T03:16:00",
          "2021-01-18T03:17:00",
          "2021-01-18T03:18:00",
          "2021-01-18T03:19:00",
          "2021-01-18T03:20:00",
          "2021-01-18T03:21:00",
          "2021-01-18T03:22:00",
          "2021-01-18T03:23:00",
          "2021-01-18T03:24:00",
          "2021-01-18T03:25:00",
          "2021-01-18T03:26:00",
          "2021-01-18T03:27:00",
          "2021-01-18T03:28:00",
          "2021-01-18T03:29:00",
          "2021-01-18T03:30:00",
          "2021-01-18T03:31:00",
          "2021-01-18T03:32:00",
          "2021-01-18T03:33:00",
          "2021-01-18T03:34:00",
          "2021-01-18T03:35:00",
          "2021-01-18T03:36:00",
          "2021-01-18T03:37:00",
          "2021-01-18T03:38:00",
          "2021-01-18T03:39:00",
          "2021-01-18T03:40:00",
          "2021-01-18T03:41:00",
          "2021-01-18T03:42:00",
          "2021-01-18T03:43:00",
          "2021-01-18T03:44:00",
          "2021-01-18T03:45:00",
          "2021-01-18T03:46:00",
          "2021-01-18T03:47:00",
          "2021-01-18T03:48:00",
          "2021-01-18T03:49:00",
          "2021-01-18T03:50:00",
          "2021-01-18T03:51:00",
          "2021-01-18T03:52:00",
          "2021-01-18T03:53:00",
          "2021-01-18T03:54:00",
          "2021-01-18T03:55:00",
          "2021-01-18T03:56:00",
          "2021-01-18T03:57:00",
          "2021-01-18T03:58:00",
          "2021-01-18T03:59:00",
          "2021-01-18T04:00:00",
          "2021-01-18T04:01:00",
          "2021-01-18T04:02:00",
          "2021-01-18T04:03:00",
          "2021-01-18T04:04:00",
          "2021-01-18T04:05:00",
          "2021-01-18T04:06:00",
          "2021-01-18T04:07:00",
          "2021-01-18T04:08:00",
          "2021-01-18T04:09:00",
          "2021-01-18T04:10:00",
          "2021-01-18T04:11:00",
          "2021-01-18T04:12:00",
          "2021-01-18T04:13:00",
          "2021-01-18T04:14:00",
          "2021-01-18T04:15:00",
          "2021-01-18T04:16:00",
          "2021-01-18T04:17:00",
          "2021-01-18T04:18:00"
         ]
        },
        {
         "marker": {
          "color": "green",
          "size": 10,
          "symbol": "circle"
         },
         "mode": "markers",
         "name": "Buy Signals",
         "type": "scatter",
         "x": [
          "2021-01-18T02:39:00",
          "2021-01-18T02:42:00",
          "2021-01-18T02:45:00",
          "2021-01-18T02:49:00",
          "2021-01-18T02:56:00",
          "2021-01-18T03:02:00",
          "2021-01-18T03:09:00",
          "2021-01-18T03:15:00",
          "2021-01-18T03:18:00",
          "2021-01-18T03:23:00",
          "2021-01-18T03:31:00",
          "2021-01-18T03:35:00",
          "2021-01-18T03:41:00",
          "2021-01-18T03:44:00",
          "2021-01-18T03:46:00",
          "2021-01-18T03:49:00",
          "2021-01-18T03:51:00",
          "2021-01-18T03:54:00",
          "2021-01-18T03:59:00",
          "2021-01-18T04:01:00",
          "2021-01-18T04:05:00",
          "2021-01-18T04:14:00",
          "2021-01-18T04:16:00"
         ],
         "y": [
          35852.99571428571,
          35889.624285714286,
          35900.481857714294,
          35813.53285714286,
          35778.182857142856,
          35727.42571428572,
          35785.294285714284,
          35757.538571428566,
          35617.54714285715,
          35387.63029171429,
          35174.868571428575,
          34984.497142857144,
          35100.98002076858,
          35081.88285714285,
          35098.42125,
          34968.624285714286,
          35033.17571428571,
          35014.30142857142,
          35097.15714285715,
          35207.18857142857,
          35172.89,
          35163.775714285715,
          35170.36571428571
         ]
        },
        {
         "marker": {
          "color": "red",
          "size": 10,
          "symbol": "circle"
         },
         "mode": "markers",
         "name": "Sell Signals",
         "type": "scatter",
         "x": [
          "2021-01-18T02:40:00",
          "2021-01-18T02:44:00",
          "2021-01-18T02:47:00",
          "2021-01-18T02:51:00",
          "2021-01-18T02:57:00",
          "2021-01-18T03:05:00",
          "2021-01-18T03:13:00",
          "2021-01-18T03:16:00",
          "2021-01-18T03:19:00",
          "2021-01-18T03:24:00",
          "2021-01-18T03:33:00",
          "2021-01-18T03:37:00",
          "2021-01-18T03:42:00",
          "2021-01-18T03:45:00",
          "2021-01-18T03:47:00",
          "2021-01-18T03:50:00",
          "2021-01-18T03:52:00",
          "2021-01-18T03:55:00",
          "2021-01-18T04:00:00",
          "2021-01-18T04:02:00",
          "2021-01-18T04:06:00",
          "2021-01-18T04:15:00",
          "2021-01-18T04:17:00"
         ],
         "y": [
          35874.985714285714,
          35913.26,
          35952.927142857145,
          35802.71571428571,
          35726.09142857143,
          35778.49857142857,
          35754.98857142857,
          35769.03428571429,
          35596.38285714285,
          35238.2,
          35161.46491739714,
          35082.94142857143,
          35114.142857142855,
          35108.07857142857,
          35055.09747769428,
          35047.55811657143,
          34954.71,
          35087.647142857146,
          35181.39285714286,
          35179.09879596714,
          35143.654999999984,
          35181.03428571428,
          35098.345714285715
         ]
        }
       ],
       "layout": {
        "template": {
         "data": {
          "bar": [
           {
            "error_x": {
             "color": "#2a3f5f"
            },
            "error_y": {
             "color": "#2a3f5f"
            },
            "marker": {
             "line": {
              "color": "#E5ECF6",
              "width": 0.5
             },
             "pattern": {
              "fillmode": "overlay",
              "size": 10,
              "solidity": 0.2
             }
            },
            "type": "bar"
           }
          ],
          "barpolar": [
           {
            "marker": {
             "line": {
              "color": "#E5ECF6",
              "width": 0.5
             },
             "pattern": {
              "fillmode": "overlay",
              "size": 10,
              "solidity": 0.2
             }
            },
            "type": "barpolar"
           }
          ],
          "carpet": [
           {
            "aaxis": {
             "endlinecolor": "#2a3f5f",
             "gridcolor": "white",
             "linecolor": "white",
             "minorgridcolor": "white",
             "startlinecolor": "#2a3f5f"
            },
            "baxis": {
             "endlinecolor": "#2a3f5f",
             "gridcolor": "white",
             "linecolor": "white",
             "minorgridcolor": "white",
             "startlinecolor": "#2a3f5f"
            },
            "type": "carpet"
           }
          ],
          "choropleth": [
           {
            "colorbar": {
             "outlinewidth": 0,
             "ticks": ""
            },
            "type": "choropleth"
           }
          ],
          "contour": [
           {
            "colorbar": {
             "outlinewidth": 0,
             "ticks": ""
            },
            "colorscale": [
             [
              0,
              "#0d0887"
             ],
             [
              0.1111111111111111,
              "#46039f"
             ],
             [
              0.2222222222222222,
              "#7201a8"
             ],
             [
              0.3333333333333333,
              "#9c179e"
             ],
             [
              0.4444444444444444,
              "#bd3786"
             ],
             [
              0.5555555555555556,
              "#d8576b"
             ],
             [
              0.6666666666666666,
              "#ed7953"
             ],
             [
              0.7777777777777778,
              "#fb9f3a"
             ],
             [
              0.8888888888888888,
              "#fdca26"
             ],
             [
              1,
              "#f0f921"
             ]
            ],
            "type": "contour"
           }
          ],
          "contourcarpet": [
           {
            "colorbar": {
             "outlinewidth": 0,
             "ticks": ""
            },
            "type": "contourcarpet"
           }
          ],
          "heatmap": [
           {
            "colorbar": {
             "outlinewidth": 0,
             "ticks": ""
            },
            "colorscale": [
             [
              0,
              "#0d0887"
             ],
             [
              0.1111111111111111,
              "#46039f"
             ],
             [
              0.2222222222222222,
              "#7201a8"
             ],
             [
              0.3333333333333333,
              "#9c179e"
             ],
             [
              0.4444444444444444,
              "#bd3786"
             ],
             [
              0.5555555555555556,
              "#d8576b"
             ],
             [
              0.6666666666666666,
              "#ed7953"
             ],
             [
              0.7777777777777778,
              "#fb9f3a"
             ],
             [
              0.8888888888888888,
              "#fdca26"
             ],
             [
              1,
              "#f0f921"
             ]
            ],
            "type": "heatmap"
           }
          ],
          "heatmapgl": [
           {
            "colorbar": {
             "outlinewidth": 0,
             "ticks": ""
            },
            "colorscale": [
             [
              0,
              "#0d0887"
             ],
             [
              0.1111111111111111,
              "#46039f"
             ],
             [
              0.2222222222222222,
              "#7201a8"
             ],
             [
              0.3333333333333333,
              "#9c179e"
             ],
             [
              0.4444444444444444,
              "#bd3786"
             ],
             [
              0.5555555555555556,
              "#d8576b"
             ],
             [
              0.6666666666666666,
              "#ed7953"
             ],
             [
              0.7777777777777778,
              "#fb9f3a"
             ],
             [
              0.8888888888888888,
              "#fdca26"
             ],
             [
              1,
              "#f0f921"
             ]
            ],
            "type": "heatmapgl"
           }
          ],
          "histogram": [
           {
            "marker": {
             "pattern": {
              "fillmode": "overlay",
              "size": 10,
              "solidity": 0.2
             }
            },
            "type": "histogram"
           }
          ],
          "histogram2d": [
           {
            "colorbar": {
             "outlinewidth": 0,
             "ticks": ""
            },
            "colorscale": [
             [
              0,
              "#0d0887"
             ],
             [
              0.1111111111111111,
              "#46039f"
             ],
             [
              0.2222222222222222,
              "#7201a8"
             ],
             [
              0.3333333333333333,
              "#9c179e"
             ],
             [
              0.4444444444444444,
              "#bd3786"
             ],
             [
              0.5555555555555556,
              "#d8576b"
             ],
             [
              0.6666666666666666,
              "#ed7953"
             ],
             [
              0.7777777777777778,
              "#fb9f3a"
             ],
             [
              0.8888888888888888,
              "#fdca26"
             ],
             [
              1,
              "#f0f921"
             ]
            ],
            "type": "histogram2d"
           }
          ],
          "histogram2dcontour": [
           {
            "colorbar": {
             "outlinewidth": 0,
             "ticks": ""
            },
            "colorscale": [
             [
              0,
              "#0d0887"
             ],
             [
              0.1111111111111111,
              "#46039f"
             ],
             [
              0.2222222222222222,
              "#7201a8"
             ],
             [
              0.3333333333333333,
              "#9c179e"
             ],
             [
              0.4444444444444444,
              "#bd3786"
             ],
             [
              0.5555555555555556,
              "#d8576b"
             ],
             [
              0.6666666666666666,
              "#ed7953"
             ],
             [
              0.7777777777777778,
              "#fb9f3a"
             ],
             [
              0.8888888888888888,
              "#fdca26"
             ],
             [
              1,
              "#f0f921"
             ]
            ],
            "type": "histogram2dcontour"
           }
          ],
          "mesh3d": [
           {
            "colorbar": {
             "outlinewidth": 0,
             "ticks": ""
            },
            "type": "mesh3d"
           }
          ],
          "parcoords": [
           {
            "line": {
             "colorbar": {
              "outlinewidth": 0,
              "ticks": ""
             }
            },
            "type": "parcoords"
           }
          ],
          "pie": [
           {
            "automargin": true,
            "type": "pie"
           }
          ],
          "scatter": [
           {
            "fillpattern": {
             "fillmode": "overlay",
             "size": 10,
             "solidity": 0.2
            },
            "type": "scatter"
           }
          ],
          "scatter3d": [
           {
            "line": {
             "colorbar": {
              "outlinewidth": 0,
              "ticks": ""
             }
            },
            "marker": {
             "colorbar": {
              "outlinewidth": 0,
              "ticks": ""
             }
            },
            "type": "scatter3d"
           }
          ],
          "scattercarpet": [
           {
            "marker": {
             "colorbar": {
              "outlinewidth": 0,
              "ticks": ""
             }
            },
            "type": "scattercarpet"
           }
          ],
          "scattergeo": [
           {
            "marker": {
             "colorbar": {
              "outlinewidth": 0,
              "ticks": ""
             }
            },
            "type": "scattergeo"
           }
          ],
          "scattergl": [
           {
            "marker": {
             "colorbar": {
              "outlinewidth": 0,
              "ticks": ""
             }
            },
            "type": "scattergl"
           }
          ],
          "scattermapbox": [
           {
            "marker": {
             "colorbar": {
              "outlinewidth": 0,
              "ticks": ""
             }
            },
            "type": "scattermapbox"
           }
          ],
          "scatterpolar": [
           {
            "marker": {
             "colorbar": {
              "outlinewidth": 0,
              "ticks": ""
             }
            },
            "type": "scatterpolar"
           }
          ],
          "scatterpolargl": [
           {
            "marker": {
             "colorbar": {
              "outlinewidth": 0,
              "ticks": ""
             }
            },
            "type": "scatterpolargl"
           }
          ],
          "scatterternary": [
           {
            "marker": {
             "colorbar": {
              "outlinewidth": 0,
              "ticks": ""
             }
            },
            "type": "scatterternary"
           }
          ],
          "surface": [
           {
            "colorbar": {
             "outlinewidth": 0,
             "ticks": ""
            },
            "colorscale": [
             [
              0,
              "#0d0887"
             ],
             [
              0.1111111111111111,
              "#46039f"
             ],
             [
              0.2222222222222222,
              "#7201a8"
             ],
             [
              0.3333333333333333,
              "#9c179e"
             ],
             [
              0.4444444444444444,
              "#bd3786"
             ],
             [
              0.5555555555555556,
              "#d8576b"
             ],
             [
              0.6666666666666666,
              "#ed7953"
             ],
             [
              0.7777777777777778,
              "#fb9f3a"
             ],
             [
              0.8888888888888888,
              "#fdca26"
             ],
             [
              1,
              "#f0f921"
             ]
            ],
            "type": "surface"
           }
          ],
          "table": [
           {
            "cells": {
             "fill": {
              "color": "#EBF0F8"
             },
             "line": {
              "color": "white"
             }
            },
            "header": {
             "fill": {
              "color": "#C8D4E3"
             },
             "line": {
              "color": "white"
             }
            },
            "type": "table"
           }
          ]
         },
         "layout": {
          "annotationdefaults": {
           "arrowcolor": "#2a3f5f",
           "arrowhead": 0,
           "arrowwidth": 1
          },
          "autotypenumbers": "strict",
          "coloraxis": {
           "colorbar": {
            "outlinewidth": 0,
            "ticks": ""
           }
          },
          "colorscale": {
           "diverging": [
            [
             0,
             "#8e0152"
            ],
            [
             0.1,
             "#c51b7d"
            ],
            [
             0.2,
             "#de77ae"
            ],
            [
             0.3,
             "#f1b6da"
            ],
            [
             0.4,
             "#fde0ef"
            ],
            [
             0.5,
             "#f7f7f7"
            ],
            [
             0.6,
             "#e6f5d0"
            ],
            [
             0.7,
             "#b8e186"
            ],
            [
             0.8,
             "#7fbc41"
            ],
            [
             0.9,
             "#4d9221"
            ],
            [
             1,
             "#276419"
            ]
           ],
           "sequential": [
            [
             0,
             "#0d0887"
            ],
            [
             0.1111111111111111,
             "#46039f"
            ],
            [
             0.2222222222222222,
             "#7201a8"
            ],
            [
             0.3333333333333333,
             "#9c179e"
            ],
            [
             0.4444444444444444,
             "#bd3786"
            ],
            [
             0.5555555555555556,
             "#d8576b"
            ],
            [
             0.6666666666666666,
             "#ed7953"
            ],
            [
             0.7777777777777778,
             "#fb9f3a"
            ],
            [
             0.8888888888888888,
             "#fdca26"
            ],
            [
             1,
             "#f0f921"
            ]
           ],
           "sequentialminus": [
            [
             0,
             "#0d0887"
            ],
            [
             0.1111111111111111,
             "#46039f"
            ],
            [
             0.2222222222222222,
             "#7201a8"
            ],
            [
             0.3333333333333333,
             "#9c179e"
            ],
            [
             0.4444444444444444,
             "#bd3786"
            ],
            [
             0.5555555555555556,
             "#d8576b"
            ],
            [
             0.6666666666666666,
             "#ed7953"
            ],
            [
             0.7777777777777778,
             "#fb9f3a"
            ],
            [
             0.8888888888888888,
             "#fdca26"
            ],
            [
             1,
             "#f0f921"
            ]
           ]
          },
          "colorway": [
           "#636efa",
           "#EF553B",
           "#00cc96",
           "#ab63fa",
           "#FFA15A",
           "#19d3f3",
           "#FF6692",
           "#B6E880",
           "#FF97FF",
           "#FECB52"
          ],
          "font": {
           "color": "#2a3f5f"
          },
          "geo": {
           "bgcolor": "white",
           "lakecolor": "white",
           "landcolor": "#E5ECF6",
           "showlakes": true,
           "showland": true,
           "subunitcolor": "white"
          },
          "hoverlabel": {
           "align": "left"
          },
          "hovermode": "closest",
          "mapbox": {
           "style": "light"
          },
          "paper_bgcolor": "white",
          "plot_bgcolor": "#E5ECF6",
          "polar": {
           "angularaxis": {
            "gridcolor": "white",
            "linecolor": "white",
            "ticks": ""
           },
           "bgcolor": "#E5ECF6",
           "radialaxis": {
            "gridcolor": "white",
            "linecolor": "white",
            "ticks": ""
           }
          },
          "scene": {
           "xaxis": {
            "backgroundcolor": "#E5ECF6",
            "gridcolor": "white",
            "gridwidth": 2,
            "linecolor": "white",
            "showbackground": true,
            "ticks": "",
            "zerolinecolor": "white"
           },
           "yaxis": {
            "backgroundcolor": "#E5ECF6",
            "gridcolor": "white",
            "gridwidth": 2,
            "linecolor": "white",
            "showbackground": true,
            "ticks": "",
            "zerolinecolor": "white"
           },
           "zaxis": {
            "backgroundcolor": "#E5ECF6",
            "gridcolor": "white",
            "gridwidth": 2,
            "linecolor": "white",
            "showbackground": true,
            "ticks": "",
            "zerolinecolor": "white"
           }
          },
          "shapedefaults": {
           "line": {
            "color": "#2a3f5f"
           }
          },
          "ternary": {
           "aaxis": {
            "gridcolor": "white",
            "linecolor": "white",
            "ticks": ""
           },
           "baxis": {
            "gridcolor": "white",
            "linecolor": "white",
            "ticks": ""
           },
           "bgcolor": "#E5ECF6",
           "caxis": {
            "gridcolor": "white",
            "linecolor": "white",
            "ticks": ""
           }
          },
          "title": {
           "x": 0.05
          },
          "xaxis": {
           "automargin": true,
           "gridcolor": "white",
           "linecolor": "white",
           "ticks": "",
           "title": {
            "standoff": 15
           },
           "zerolinecolor": "white",
           "zerolinewidth": 2
          },
          "yaxis": {
           "automargin": true,
           "gridcolor": "white",
           "linecolor": "white",
           "ticks": "",
           "title": {
            "standoff": 15
           },
           "zerolinecolor": "white",
           "zerolinewidth": 2
          }
         }
        },
        "title": {
         "text": "Trading Algorithm with Buy and Sell signals"
        },
        "xaxis": {
         "title": {
          "text": "Date"
         }
        },
        "yaxis": {
         "title": {
          "text": "Price"
         }
        }
       }
      },
      "text/html": [
       "<div>                            <div id=\"07a364fd-fef7-4501-8996-3b4cc0fd185f\" class=\"plotly-graph-div\" style=\"height:525px; width:100%;\"></div>            <script type=\"text/javascript\">                require([\"plotly\"], function(Plotly) {                    window.PLOTLYENV=window.PLOTLYENV || {};                                    if (document.getElementById(\"07a364fd-fef7-4501-8996-3b4cc0fd185f\")) {                    Plotly.newPlot(                        \"07a364fd-fef7-4501-8996-3b4cc0fd185f\",                        [{\"close\":[35852.99571428571,35874.985714285714,35871.41241157143,35889.624285714286,35903.96,35913.26,35900.481857714294,35873.88,35952.927142857145,35836.01571428571,35813.53285714286,35794.70255377143,35802.71571428571,35806.78000000001,35749.10428571429,35750.56428571429,35776.88285714285,35778.182857142856,35726.09142857143,35780.512857142865,35764.71571428572,35822.09428571429,35694.69142857143,35727.42571428572,35735.25,35726.44714285714,35778.49857142857,35779.560000000005,35708.65769841667,35757.61472414286,35785.294285714284,35764.43,35755.44714285714,35765.24,35754.98857142857,35783.667142857135,35757.538571428566,35769.03428571429,35672.87142857142,35617.54714285715,35596.38285714285,35309.47125,35466.05285714286,35450.542857142864,35387.63029171429,35238.2,35256.02857142857,35251.53428571429,35168.539999999986,35224.48,35159.40571428571,35044.76857142857,35174.868571428575,35120.097142857136,35161.46491739714,35043.58714285715,34984.497142857144,35082.527142857136,35082.94142857143,35158.934285714284,35068.597142857136,35070.86142857142,35100.98002076858,35114.142857142855,35060.68142857143,35081.88285714285,35108.07857142857,35098.42125,35055.09747769428,35025.794285714284,34968.624285714286,35047.55811657143,35033.17571428571,34954.71,34895.502857142856,35014.30142857142,35087.647142857146,35179.555714285714,35149.75714285713,35091.81571428572,35097.15714285715,35181.39285714286,35207.18857142857,35179.09879596714,35171.25142857143,35188.58142857143,35172.89,35143.654999999984,35180.874285714286,35134.397142857146,35065.491428571426,35039.539999999986,35063.33142857143,35118.64125,35143.329999999994,35163.775714285715,35181.03428571428,35170.36571428571,35098.345714285715,35083.497142857144],\"high\":[35934.0,35912.0,35929.0,35936.0,35951.0,35965.0,35953.0,35944.0,36004.0,35997.182144,35903.0,35874.709948,35854.0,35854.09468,35854.0,35804.0,35814.0,35832.3466192,35837.0,35823.0,35823.0,35869.0,35890.0,35771.0,35783.0,35785.0,35834.0,35834.0,35827.0,35801.673069,35831.0,35830.0,35809.0,35810.0,35806.0,35835.0,35824.0,35802.05967,35826.0,35702.0,35654.0,35640.0,35493.0,35486.0,35475.0,35403.97,35343.17,35305.0,35266.0,35272.0,35300.0,35184.32,35253.61,35219.0,35196.0,35199.0,35086.0,35117.0,35114.8,35198.0,35186.30316972,35121.0,35130.0,35177.0,35155.2689015,35096.0,35158.0,35159.0,35155.0,35132.2,35056.0,35120.73775608,35091.0,35067.99,34989.0,35046.0,35153.0,35239.0,35244.0,35192.0,35130.0,35220.0,35257.0,35278.0,35227.0,35267.0,35252.0,35221.0,35247.0,35235.0,35196.0,35128.0,35130.0,35199.0,35200.2279174,35218.0,35237.0,35239.0,35220.0,35177.0],\"low\":[35806.6,35810.3,35826.37,35843.91,35857.4,35886.4,35885.1,35838.85,35851.34,35810.23,35798.03,35781.2,35755.6,35788.8,35707.64,35712.67,35734.5,35755.2,35679.3,35694.32,35720.0,35729.99,35668.07,35656.86,35543.34,35700.58,35709.25,35751.23,35673.84,35681.75,35732.0,35733.76,35718.11,35727.76,35714.8,35735.17,35729.38,35708.26,35650.0,35569.03,35561.02,34600.0,35307.94,35410.91,35359.62,35212.53,35217.68,35200.0,35096.74,35155.0,35122.2,35005.86,34999.0,35000.0,35110.75,35013.12,34953.82,34924.89,35032.41,35072.95,35028.55,35023.88,35050.5,35077.03,35042.82,35006.65,35048.52,34601.0,35032.04,35000.0,34870.8,34957.4,34995.13,34910.0,34794.28,34819.97,34986.5,35072.76,35123.67,35069.22,35058.47,35030.53,35157.56,35134.82,35137.3,35148.51,35148.7,35100.0,35122.97,34994.82,35025.12,34982.87,34998.63,34900.0,35107.46,35130.8,35133.91,35143.47,35076.05,35050.0],\"name\":\"Market Data\",\"open\":[35822.537142857145,35849.415714285715,35869.542857142864,35869.262857142865,35888.85714285714,35904.99,35907.19105028572,35896.434285714284,35873.667142857135,35942.297449142854,35838.237142857135,35813.55607942857,35796.59428571429,35809.07142857143,35804.87571428572,35748.36446228572,35753.47,35779.50714285714,35780.521428571425,35726.76714285714,35778.862857142856,35767.29571428571,35829.04605665714,35690.85571428572,35726.527142857136,35739.152857142864,35730.21714285714,35786.12142857142,35780.37833333333,35706.00204605714,35760.94857142858,35785.091428571424,35759.987142857135,35759.78428571429,35765.26142857143,35760.90571428571,35785.13489742857,35755.828304571434,35767.89,35667.112857142856,35616.508571428574,35469.76125,35391.55857142857,35460.677142857145,35449.68,35384.07285714285,35242.176559142856,35258.237142857135,35245.91,35182.80714285714,35220.97571428572,35163.14571428571,35041.30142857142,35175.95285714286,35141.45857142857,35159.097142857136,35042.82,34981.555714285714,35085.587142857126,35087.69714285714,35157.219024245715,35057.49571428571,35064.63714285714,35111.74714285714,35113.707142857136,35055.25142857143,35086.457142857136,35045.071249999986,35128.352857142854,35064.91,35029.23,34976.44142857143,35051.29571428571,35036.14428571428,34957.520000000004,34897.141428571435,35019.415714285715,35092.37857142858,35178.67571428572,35147.24857142857,35085.44714285714,35101.69285714285,35185.36714285715,35208.124285714286,35180.89285714286,35177.444285714286,35187.26,35174.57333333333,35146.700000000004,35170.70285714286,35143.40714285714,35063.76857142857,35041.612857142856,35054.40186828,35152.34255962857,35146.95285714285,35164.1989084,35182.89144014857,35171.06285714286,35100.417142857135],\"x\":[\"2021-01-18T02:39:00\",\"2021-01-18T02:40:00\",\"2021-01-18T02:41:00\",\"2021-01-18T02:42:00\",\"2021-01-18T02:43:00\",\"2021-01-18T02:44:00\",\"2021-01-18T02:45:00\",\"2021-01-18T02:46:00\",\"2021-01-18T02:47:00\",\"2021-01-18T02:48:00\",\"2021-01-18T02:49:00\",\"2021-01-18T02:50:00\",\"2021-01-18T02:51:00\",\"2021-01-18T02:52:00\",\"2021-01-18T02:53:00\",\"2021-01-18T02:54:00\",\"2021-01-18T02:55:00\",\"2021-01-18T02:56:00\",\"2021-01-18T02:57:00\",\"2021-01-18T02:58:00\",\"2021-01-18T02:59:00\",\"2021-01-18T03:00:00\",\"2021-01-18T03:01:00\",\"2021-01-18T03:02:00\",\"2021-01-18T03:03:00\",\"2021-01-18T03:04:00\",\"2021-01-18T03:05:00\",\"2021-01-18T03:06:00\",\"2021-01-18T03:07:00\",\"2021-01-18T03:08:00\",\"2021-01-18T03:09:00\",\"2021-01-18T03:10:00\",\"2021-01-18T03:11:00\",\"2021-01-18T03:12:00\",\"2021-01-18T03:13:00\",\"2021-01-18T03:14:00\",\"2021-01-18T03:15:00\",\"2021-01-18T03:16:00\",\"2021-01-18T03:17:00\",\"2021-01-18T03:18:00\",\"2021-01-18T03:19:00\",\"2021-01-18T03:20:00\",\"2021-01-18T03:21:00\",\"2021-01-18T03:22:00\",\"2021-01-18T03:23:00\",\"2021-01-18T03:24:00\",\"2021-01-18T03:25:00\",\"2021-01-18T03:26:00\",\"2021-01-18T03:27:00\",\"2021-01-18T03:28:00\",\"2021-01-18T03:29:00\",\"2021-01-18T03:30:00\",\"2021-01-18T03:31:00\",\"2021-01-18T03:32:00\",\"2021-01-18T03:33:00\",\"2021-01-18T03:34:00\",\"2021-01-18T03:35:00\",\"2021-01-18T03:36:00\",\"2021-01-18T03:37:00\",\"2021-01-18T03:38:00\",\"2021-01-18T03:39:00\",\"2021-01-18T03:40:00\",\"2021-01-18T03:41:00\",\"2021-01-18T03:42:00\",\"2021-01-18T03:43:00\",\"2021-01-18T03:44:00\",\"2021-01-18T03:45:00\",\"2021-01-18T03:46:00\",\"2021-01-18T03:47:00\",\"2021-01-18T03:48:00\",\"2021-01-18T03:49:00\",\"2021-01-18T03:50:00\",\"2021-01-18T03:51:00\",\"2021-01-18T03:52:00\",\"2021-01-18T03:53:00\",\"2021-01-18T03:54:00\",\"2021-01-18T03:55:00\",\"2021-01-18T03:56:00\",\"2021-01-18T03:57:00\",\"2021-01-18T03:58:00\",\"2021-01-18T03:59:00\",\"2021-01-18T04:00:00\",\"2021-01-18T04:01:00\",\"2021-01-18T04:02:00\",\"2021-01-18T04:03:00\",\"2021-01-18T04:04:00\",\"2021-01-18T04:05:00\",\"2021-01-18T04:06:00\",\"2021-01-18T04:07:00\",\"2021-01-18T04:08:00\",\"2021-01-18T04:09:00\",\"2021-01-18T04:10:00\",\"2021-01-18T04:11:00\",\"2021-01-18T04:12:00\",\"2021-01-18T04:13:00\",\"2021-01-18T04:14:00\",\"2021-01-18T04:15:00\",\"2021-01-18T04:16:00\",\"2021-01-18T04:17:00\",\"2021-01-18T04:18:00\"],\"type\":\"candlestick\"},{\"marker\":{\"color\":\"green\",\"size\":10,\"symbol\":\"circle\"},\"mode\":\"markers\",\"name\":\"Buy Signals\",\"x\":[\"2021-01-18T02:39:00\",\"2021-01-18T02:42:00\",\"2021-01-18T02:45:00\",\"2021-01-18T02:49:00\",\"2021-01-18T02:56:00\",\"2021-01-18T03:02:00\",\"2021-01-18T03:09:00\",\"2021-01-18T03:15:00\",\"2021-01-18T03:18:00\",\"2021-01-18T03:23:00\",\"2021-01-18T03:31:00\",\"2021-01-18T03:35:00\",\"2021-01-18T03:41:00\",\"2021-01-18T03:44:00\",\"2021-01-18T03:46:00\",\"2021-01-18T03:49:00\",\"2021-01-18T03:51:00\",\"2021-01-18T03:54:00\",\"2021-01-18T03:59:00\",\"2021-01-18T04:01:00\",\"2021-01-18T04:05:00\",\"2021-01-18T04:14:00\",\"2021-01-18T04:16:00\"],\"y\":[35852.99571428571,35889.624285714286,35900.481857714294,35813.53285714286,35778.182857142856,35727.42571428572,35785.294285714284,35757.538571428566,35617.54714285715,35387.63029171429,35174.868571428575,34984.497142857144,35100.98002076858,35081.88285714285,35098.42125,34968.624285714286,35033.17571428571,35014.30142857142,35097.15714285715,35207.18857142857,35172.89,35163.775714285715,35170.36571428571],\"type\":\"scatter\"},{\"marker\":{\"color\":\"red\",\"size\":10,\"symbol\":\"circle\"},\"mode\":\"markers\",\"name\":\"Sell Signals\",\"x\":[\"2021-01-18T02:40:00\",\"2021-01-18T02:44:00\",\"2021-01-18T02:47:00\",\"2021-01-18T02:51:00\",\"2021-01-18T02:57:00\",\"2021-01-18T03:05:00\",\"2021-01-18T03:13:00\",\"2021-01-18T03:16:00\",\"2021-01-18T03:19:00\",\"2021-01-18T03:24:00\",\"2021-01-18T03:33:00\",\"2021-01-18T03:37:00\",\"2021-01-18T03:42:00\",\"2021-01-18T03:45:00\",\"2021-01-18T03:47:00\",\"2021-01-18T03:50:00\",\"2021-01-18T03:52:00\",\"2021-01-18T03:55:00\",\"2021-01-18T04:00:00\",\"2021-01-18T04:02:00\",\"2021-01-18T04:06:00\",\"2021-01-18T04:15:00\",\"2021-01-18T04:17:00\"],\"y\":[35874.985714285714,35913.26,35952.927142857145,35802.71571428571,35726.09142857143,35778.49857142857,35754.98857142857,35769.03428571429,35596.38285714285,35238.2,35161.46491739714,35082.94142857143,35114.142857142855,35108.07857142857,35055.09747769428,35047.55811657143,34954.71,35087.647142857146,35181.39285714286,35179.09879596714,35143.654999999984,35181.03428571428,35098.345714285715],\"type\":\"scatter\"}],                        {\"template\":{\"data\":{\"histogram2dcontour\":[{\"type\":\"histogram2dcontour\",\"colorbar\":{\"outlinewidth\":0,\"ticks\":\"\"},\"colorscale\":[[0.0,\"#0d0887\"],[0.1111111111111111,\"#46039f\"],[0.2222222222222222,\"#7201a8\"],[0.3333333333333333,\"#9c179e\"],[0.4444444444444444,\"#bd3786\"],[0.5555555555555556,\"#d8576b\"],[0.6666666666666666,\"#ed7953\"],[0.7777777777777778,\"#fb9f3a\"],[0.8888888888888888,\"#fdca26\"],[1.0,\"#f0f921\"]]}],\"choropleth\":[{\"type\":\"choropleth\",\"colorbar\":{\"outlinewidth\":0,\"ticks\":\"\"}}],\"histogram2d\":[{\"type\":\"histogram2d\",\"colorbar\":{\"outlinewidth\":0,\"ticks\":\"\"},\"colorscale\":[[0.0,\"#0d0887\"],[0.1111111111111111,\"#46039f\"],[0.2222222222222222,\"#7201a8\"],[0.3333333333333333,\"#9c179e\"],[0.4444444444444444,\"#bd3786\"],[0.5555555555555556,\"#d8576b\"],[0.6666666666666666,\"#ed7953\"],[0.7777777777777778,\"#fb9f3a\"],[0.8888888888888888,\"#fdca26\"],[1.0,\"#f0f921\"]]}],\"heatmap\":[{\"type\":\"heatmap\",\"colorbar\":{\"outlinewidth\":0,\"ticks\":\"\"},\"colorscale\":[[0.0,\"#0d0887\"],[0.1111111111111111,\"#46039f\"],[0.2222222222222222,\"#7201a8\"],[0.3333333333333333,\"#9c179e\"],[0.4444444444444444,\"#bd3786\"],[0.5555555555555556,\"#d8576b\"],[0.6666666666666666,\"#ed7953\"],[0.7777777777777778,\"#fb9f3a\"],[0.8888888888888888,\"#fdca26\"],[1.0,\"#f0f921\"]]}],\"heatmapgl\":[{\"type\":\"heatmapgl\",\"colorbar\":{\"outlinewidth\":0,\"ticks\":\"\"},\"colorscale\":[[0.0,\"#0d0887\"],[0.1111111111111111,\"#46039f\"],[0.2222222222222222,\"#7201a8\"],[0.3333333333333333,\"#9c179e\"],[0.4444444444444444,\"#bd3786\"],[0.5555555555555556,\"#d8576b\"],[0.6666666666666666,\"#ed7953\"],[0.7777777777777778,\"#fb9f3a\"],[0.8888888888888888,\"#fdca26\"],[1.0,\"#f0f921\"]]}],\"contourcarpet\":[{\"type\":\"contourcarpet\",\"colorbar\":{\"outlinewidth\":0,\"ticks\":\"\"}}],\"contour\":[{\"type\":\"contour\",\"colorbar\":{\"outlinewidth\":0,\"ticks\":\"\"},\"colorscale\":[[0.0,\"#0d0887\"],[0.1111111111111111,\"#46039f\"],[0.2222222222222222,\"#7201a8\"],[0.3333333333333333,\"#9c179e\"],[0.4444444444444444,\"#bd3786\"],[0.5555555555555556,\"#d8576b\"],[0.6666666666666666,\"#ed7953\"],[0.7777777777777778,\"#fb9f3a\"],[0.8888888888888888,\"#fdca26\"],[1.0,\"#f0f921\"]]}],\"surface\":[{\"type\":\"surface\",\"colorbar\":{\"outlinewidth\":0,\"ticks\":\"\"},\"colorscale\":[[0.0,\"#0d0887\"],[0.1111111111111111,\"#46039f\"],[0.2222222222222222,\"#7201a8\"],[0.3333333333333333,\"#9c179e\"],[0.4444444444444444,\"#bd3786\"],[0.5555555555555556,\"#d8576b\"],[0.6666666666666666,\"#ed7953\"],[0.7777777777777778,\"#fb9f3a\"],[0.8888888888888888,\"#fdca26\"],[1.0,\"#f0f921\"]]}],\"mesh3d\":[{\"type\":\"mesh3d\",\"colorbar\":{\"outlinewidth\":0,\"ticks\":\"\"}}],\"scatter\":[{\"fillpattern\":{\"fillmode\":\"overlay\",\"size\":10,\"solidity\":0.2},\"type\":\"scatter\"}],\"parcoords\":[{\"type\":\"parcoords\",\"line\":{\"colorbar\":{\"outlinewidth\":0,\"ticks\":\"\"}}}],\"scatterpolargl\":[{\"type\":\"scatterpolargl\",\"marker\":{\"colorbar\":{\"outlinewidth\":0,\"ticks\":\"\"}}}],\"bar\":[{\"error_x\":{\"color\":\"#2a3f5f\"},\"error_y\":{\"color\":\"#2a3f5f\"},\"marker\":{\"line\":{\"color\":\"#E5ECF6\",\"width\":0.5},\"pattern\":{\"fillmode\":\"overlay\",\"size\":10,\"solidity\":0.2}},\"type\":\"bar\"}],\"scattergeo\":[{\"type\":\"scattergeo\",\"marker\":{\"colorbar\":{\"outlinewidth\":0,\"ticks\":\"\"}}}],\"scatterpolar\":[{\"type\":\"scatterpolar\",\"marker\":{\"colorbar\":{\"outlinewidth\":0,\"ticks\":\"\"}}}],\"histogram\":[{\"marker\":{\"pattern\":{\"fillmode\":\"overlay\",\"size\":10,\"solidity\":0.2}},\"type\":\"histogram\"}],\"scattergl\":[{\"type\":\"scattergl\",\"marker\":{\"colorbar\":{\"outlinewidth\":0,\"ticks\":\"\"}}}],\"scatter3d\":[{\"type\":\"scatter3d\",\"line\":{\"colorbar\":{\"outlinewidth\":0,\"ticks\":\"\"}},\"marker\":{\"colorbar\":{\"outlinewidth\":0,\"ticks\":\"\"}}}],\"scattermapbox\":[{\"type\":\"scattermapbox\",\"marker\":{\"colorbar\":{\"outlinewidth\":0,\"ticks\":\"\"}}}],\"scatterternary\":[{\"type\":\"scatterternary\",\"marker\":{\"colorbar\":{\"outlinewidth\":0,\"ticks\":\"\"}}}],\"scattercarpet\":[{\"type\":\"scattercarpet\",\"marker\":{\"colorbar\":{\"outlinewidth\":0,\"ticks\":\"\"}}}],\"carpet\":[{\"aaxis\":{\"endlinecolor\":\"#2a3f5f\",\"gridcolor\":\"white\",\"linecolor\":\"white\",\"minorgridcolor\":\"white\",\"startlinecolor\":\"#2a3f5f\"},\"baxis\":{\"endlinecolor\":\"#2a3f5f\",\"gridcolor\":\"white\",\"linecolor\":\"white\",\"minorgridcolor\":\"white\",\"startlinecolor\":\"#2a3f5f\"},\"type\":\"carpet\"}],\"table\":[{\"cells\":{\"fill\":{\"color\":\"#EBF0F8\"},\"line\":{\"color\":\"white\"}},\"header\":{\"fill\":{\"color\":\"#C8D4E3\"},\"line\":{\"color\":\"white\"}},\"type\":\"table\"}],\"barpolar\":[{\"marker\":{\"line\":{\"color\":\"#E5ECF6\",\"width\":0.5},\"pattern\":{\"fillmode\":\"overlay\",\"size\":10,\"solidity\":0.2}},\"type\":\"barpolar\"}],\"pie\":[{\"automargin\":true,\"type\":\"pie\"}]},\"layout\":{\"autotypenumbers\":\"strict\",\"colorway\":[\"#636efa\",\"#EF553B\",\"#00cc96\",\"#ab63fa\",\"#FFA15A\",\"#19d3f3\",\"#FF6692\",\"#B6E880\",\"#FF97FF\",\"#FECB52\"],\"font\":{\"color\":\"#2a3f5f\"},\"hovermode\":\"closest\",\"hoverlabel\":{\"align\":\"left\"},\"paper_bgcolor\":\"white\",\"plot_bgcolor\":\"#E5ECF6\",\"polar\":{\"bgcolor\":\"#E5ECF6\",\"angularaxis\":{\"gridcolor\":\"white\",\"linecolor\":\"white\",\"ticks\":\"\"},\"radialaxis\":{\"gridcolor\":\"white\",\"linecolor\":\"white\",\"ticks\":\"\"}},\"ternary\":{\"bgcolor\":\"#E5ECF6\",\"aaxis\":{\"gridcolor\":\"white\",\"linecolor\":\"white\",\"ticks\":\"\"},\"baxis\":{\"gridcolor\":\"white\",\"linecolor\":\"white\",\"ticks\":\"\"},\"caxis\":{\"gridcolor\":\"white\",\"linecolor\":\"white\",\"ticks\":\"\"}},\"coloraxis\":{\"colorbar\":{\"outlinewidth\":0,\"ticks\":\"\"}},\"colorscale\":{\"sequential\":[[0.0,\"#0d0887\"],[0.1111111111111111,\"#46039f\"],[0.2222222222222222,\"#7201a8\"],[0.3333333333333333,\"#9c179e\"],[0.4444444444444444,\"#bd3786\"],[0.5555555555555556,\"#d8576b\"],[0.6666666666666666,\"#ed7953\"],[0.7777777777777778,\"#fb9f3a\"],[0.8888888888888888,\"#fdca26\"],[1.0,\"#f0f921\"]],\"sequentialminus\":[[0.0,\"#0d0887\"],[0.1111111111111111,\"#46039f\"],[0.2222222222222222,\"#7201a8\"],[0.3333333333333333,\"#9c179e\"],[0.4444444444444444,\"#bd3786\"],[0.5555555555555556,\"#d8576b\"],[0.6666666666666666,\"#ed7953\"],[0.7777777777777778,\"#fb9f3a\"],[0.8888888888888888,\"#fdca26\"],[1.0,\"#f0f921\"]],\"diverging\":[[0,\"#8e0152\"],[0.1,\"#c51b7d\"],[0.2,\"#de77ae\"],[0.3,\"#f1b6da\"],[0.4,\"#fde0ef\"],[0.5,\"#f7f7f7\"],[0.6,\"#e6f5d0\"],[0.7,\"#b8e186\"],[0.8,\"#7fbc41\"],[0.9,\"#4d9221\"],[1,\"#276419\"]]},\"xaxis\":{\"gridcolor\":\"white\",\"linecolor\":\"white\",\"ticks\":\"\",\"title\":{\"standoff\":15},\"zerolinecolor\":\"white\",\"automargin\":true,\"zerolinewidth\":2},\"yaxis\":{\"gridcolor\":\"white\",\"linecolor\":\"white\",\"ticks\":\"\",\"title\":{\"standoff\":15},\"zerolinecolor\":\"white\",\"automargin\":true,\"zerolinewidth\":2},\"scene\":{\"xaxis\":{\"backgroundcolor\":\"#E5ECF6\",\"gridcolor\":\"white\",\"linecolor\":\"white\",\"showbackground\":true,\"ticks\":\"\",\"zerolinecolor\":\"white\",\"gridwidth\":2},\"yaxis\":{\"backgroundcolor\":\"#E5ECF6\",\"gridcolor\":\"white\",\"linecolor\":\"white\",\"showbackground\":true,\"ticks\":\"\",\"zerolinecolor\":\"white\",\"gridwidth\":2},\"zaxis\":{\"backgroundcolor\":\"#E5ECF6\",\"gridcolor\":\"white\",\"linecolor\":\"white\",\"showbackground\":true,\"ticks\":\"\",\"zerolinecolor\":\"white\",\"gridwidth\":2}},\"shapedefaults\":{\"line\":{\"color\":\"#2a3f5f\"}},\"annotationdefaults\":{\"arrowcolor\":\"#2a3f5f\",\"arrowhead\":0,\"arrowwidth\":1},\"geo\":{\"bgcolor\":\"white\",\"landcolor\":\"#E5ECF6\",\"subunitcolor\":\"white\",\"showland\":true,\"showlakes\":true,\"lakecolor\":\"white\"},\"title\":{\"x\":0.05},\"mapbox\":{\"style\":\"light\"}}},\"title\":{\"text\":\"Trading Algorithm with Buy and Sell signals\"},\"yaxis\":{\"title\":{\"text\":\"Price\"}},\"xaxis\":{\"title\":{\"text\":\"Date\"}}},                        {\"responsive\": true}                    ).then(function(){\n",
       "                            \n",
       "var gd = document.getElementById('07a364fd-fef7-4501-8996-3b4cc0fd185f');\n",
       "var x = new MutationObserver(function (mutations, observer) {{\n",
       "        var display = window.getComputedStyle(gd).display;\n",
       "        if (!display || display === 'none') {{\n",
       "            console.log([gd, 'removed!']);\n",
       "            Plotly.purge(gd);\n",
       "            observer.disconnect();\n",
       "        }}\n",
       "}});\n",
       "\n",
       "// Listen for the removal of the full notebook cells\n",
       "var notebookContainer = gd.closest('#notebook-container');\n",
       "if (notebookContainer) {{\n",
       "    x.observe(notebookContainer, {childList: true});\n",
       "}}\n",
       "\n",
       "// Listen for the clearing of the current output cell\n",
       "var outputEl = gd.closest('.output');\n",
       "if (outputEl) {{\n",
       "    x.observe(outputEl, {childList: true});\n",
       "}}\n",
       "\n",
       "                        })                };                });            </script>        </div>"
      ]
     },
     "metadata": {},
     "output_type": "display_data"
    }
   ],
   "source": [
    "# Testing trading_algorithm\n",
    "\n",
    "# Full data + no candlestick chart plot\n",
    "print('Full data + no candlestick chart plot:')\n",
    "trading_algorithm(Y_pred, X_test)\n",
    "\n",
    "# Full data + daily candlestick chart plot\n",
    "print('Full data + daily candlestick chart plot:')\n",
    "trading_algorithm(Y_pred, X_test, candlestick_chart = True, candlestick_chart_daily = True)\n",
    "\n",
    "# Small subset of data + full candlestick chart plot\n",
    "print('Small subset of data + full candlestick chart plot:')\n",
    "trading_algorithm(Y_pred[:100], X_test[:100], candlestick_chart = True)"
   ]
  },
  {
   "cell_type": "code",
   "execution_count": 388,
   "metadata": {
    "ExecuteTime": {
     "end_time": "2023-03-24T17:36:18.182355Z",
     "start_time": "2023-03-24T17:36:13.594817Z"
    }
   },
   "outputs": [],
   "source": [
    "Y_prob = clf.predict_proba(X_test)"
   ]
  },
  {
   "cell_type": "code",
   "execution_count": 389,
   "metadata": {
    "ExecuteTime": {
     "end_time": "2023-03-24T17:36:18.195673Z",
     "start_time": "2023-03-24T17:36:18.186251Z"
    }
   },
   "outputs": [],
   "source": [
    "assert np.all(np.unique(Y_pred) == np.array([0, 1]))"
   ]
  },
  {
   "cell_type": "code",
   "execution_count": 390,
   "metadata": {
    "ExecuteTime": {
     "end_time": "2023-03-24T17:36:30.696802Z",
     "start_time": "2023-03-24T17:36:18.197338Z"
    }
   },
   "outputs": [
    {
     "data": {
      "image/png": "[encoded data removed]",
      "text/plain": [
       "<Figure size 864x360 with 2 Axes>"
      ]
     },
     "metadata": {
      "needs_background": "light"
     },
     "output_type": "display_data"
    }
   ],
   "source": [
    "# Generate confusion matrix\n",
    "matrix = plot_confusion_matrix(clf, \n",
    "                               X_test, Y_test,\n",
    "                               cmap=plt.cm.Reds,\n",
    "                               normalize=\"true\")\n",
    "_ = plt.title('Confusion matrix for the ML classifier : KNN')"
   ]
  },
  {
   "cell_type": "code",
   "execution_count": 391,
   "metadata": {
    "ExecuteTime": {
     "end_time": "2023-03-24T17:37:07.434305Z",
     "start_time": "2023-03-24T17:37:06.803560Z"
    }
   },
   "outputs": [
    {
     "data": {
      "image/png": "[encoded data removed]",
      "text/plain": [
       "<Figure size 504x288 with 1 Axes>"
      ]
     },
     "metadata": {
      "needs_background": "light"
     },
     "output_type": "display_data"
    }
   ],
   "source": [
    "# Plotting Precision-Recall curve\n",
    "fig, ax = plt.subplots(figsize=(7, 4))\n",
    "_ = skplt.metrics.plot_precision_recall(Y_test, Y_prob, ax=ax)\n",
    "_ = plt.ylim([0.45, 1])"
   ]
  },
  {
   "cell_type": "code",
   "execution_count": 392,
   "metadata": {
    "ExecuteTime": {
     "end_time": "2023-03-24T17:37:14.801549Z",
     "start_time": "2023-03-24T17:37:14.444490Z"
    }
   },
   "outputs": [
    {
     "data": {
      "image/png": "[encoded data removed]",
      "text/plain": [
       "<Figure size 504x288 with 1 Axes>"
      ]
     },
     "metadata": {
      "needs_background": "light"
     },
     "output_type": "display_data"
    }
   ],
   "source": [
    "# Plotting ROC curve\n",
    "fig, ax = plt.subplots(figsize=(7, 4))\n",
    "_ = skplt.metrics.plot_roc_curve(Y_test, Y_prob, ax=ax)"
   ]
  },
  {
   "cell_type": "markdown",
   "metadata": {},
   "source": [
    "### Random Forest"
   ]
  },
  {
   "cell_type": "code",
   "execution_count": null,
   "metadata": {},
   "outputs": [],
   "source": []
  },
  {
   "cell_type": "code",
   "execution_count": null,
   "metadata": {},
   "outputs": [],
   "source": []
  },
  {
   "cell_type": "code",
   "execution_count": null,
   "metadata": {},
   "outputs": [],
   "source": []
  },
  {
   "cell_type": "markdown",
   "metadata": {},
   "source": [
    "## Prediction of the price movement <span style=\"color:red\">[DL methods]</span>"
   ]
  },
  {
   "cell_type": "code",
   "execution_count": 393,
   "metadata": {},
   "outputs": [],
   "source": [
    "import math\n",
    "import matplotlib.pyplot as plt\n",
    "import keras\n",
    "import pandas as pd\n",
    "import numpy as np\n",
    "from keras.models import Sequential\n",
    "from keras.layers import Dense\n",
    "from keras.layers import LSTM\n",
    "from keras.layers import Dropout\n",
    "from keras.layers import *\n",
    "from sklearn.preprocessing import MinMaxScaler\n",
    "from sklearn.metrics import mean_squared_error\n",
    "from sklearn.metrics import mean_absolute_error\n",
    "from sklearn.model_selection import train_test_split\n",
    "from keras.callbacks import EarlyStopping\n"
   ]
  },
  {
   "cell_type": "code",
   "execution_count": 394,
   "metadata": {},
   "outputs": [
    {
     "data": {
      "text/html": [
       "<div>\n",
       "<style scoped>\n",
       "    .dataframe tbody tr th:only-of-type {\n",
       "        vertical-align: middle;\n",
       "    }\n",
       "\n",
       "    .dataframe tbody tr th {\n",
       "        vertical-align: top;\n",
       "    }\n",
       "\n",
       "    .dataframe thead th {\n",
       "        text-align: right;\n",
       "    }\n",
       "</style>\n",
       "<table border=\"1\" class=\"dataframe\">\n",
       "  <thead>\n",
       "    <tr style=\"text-align: right;\">\n",
       "      <th></th>\n",
       "      <th>Count</th>\n",
       "      <th>Open</th>\n",
       "      <th>High</th>\n",
       "      <th>Low</th>\n",
       "      <th>Close</th>\n",
       "      <th>Volume</th>\n",
       "      <th>VWAP</th>\n",
       "      <th>Target</th>\n",
       "    </tr>\n",
       "    <tr>\n",
       "      <th>timestamp</th>\n",
       "      <th></th>\n",
       "      <th></th>\n",
       "      <th></th>\n",
       "      <th></th>\n",
       "      <th></th>\n",
       "      <th></th>\n",
       "      <th></th>\n",
       "      <th></th>\n",
       "    </tr>\n",
       "  </thead>\n",
       "  <tbody>\n",
       "    <tr>\n",
       "      <th>2018-01-01 00:00:00</th>\n",
       "      <td>307.966102</td>\n",
       "      <td>13835.194000</td>\n",
       "      <td>14052.30</td>\n",
       "      <td>13471.62</td>\n",
       "      <td>13646.514000</td>\n",
       "      <td>49.366067</td>\n",
       "      <td>13663.317434</td>\n",
       "      <td>0</td>\n",
       "    </tr>\n",
       "    <tr>\n",
       "      <th>2018-01-01 01:00:00</th>\n",
       "      <td>269.233333</td>\n",
       "      <td>13632.890000</td>\n",
       "      <td>13885.50</td>\n",
       "      <td>13181.09</td>\n",
       "      <td>13336.952000</td>\n",
       "      <td>48.100297</td>\n",
       "      <td>13548.321840</td>\n",
       "      <td>1</td>\n",
       "    </tr>\n",
       "    <tr>\n",
       "      <th>2018-01-01 02:00:00</th>\n",
       "      <td>269.483333</td>\n",
       "      <td>13337.022000</td>\n",
       "      <td>13645.50</td>\n",
       "      <td>13306.02</td>\n",
       "      <td>13413.472000</td>\n",
       "      <td>39.802738</td>\n",
       "      <td>13392.182376</td>\n",
       "      <td>1</td>\n",
       "    </tr>\n",
       "    <tr>\n",
       "      <th>2018-01-01 03:00:00</th>\n",
       "      <td>271.200000</td>\n",
       "      <td>13410.248000</td>\n",
       "      <td>13898.90</td>\n",
       "      <td>13377.00</td>\n",
       "      <td>13496.986000</td>\n",
       "      <td>41.530155</td>\n",
       "      <td>13531.651044</td>\n",
       "      <td>1</td>\n",
       "    </tr>\n",
       "    <tr>\n",
       "      <th>2018-01-01 04:00:00</th>\n",
       "      <td>242.550000</td>\n",
       "      <td>13495.702000</td>\n",
       "      <td>13893.00</td>\n",
       "      <td>13541.00</td>\n",
       "      <td>13653.062000</td>\n",
       "      <td>37.158874</td>\n",
       "      <td>13533.150693</td>\n",
       "      <td>0</td>\n",
       "    </tr>\n",
       "    <tr>\n",
       "      <th>...</th>\n",
       "      <td>...</td>\n",
       "      <td>...</td>\n",
       "      <td>...</td>\n",
       "      <td>...</td>\n",
       "      <td>...</td>\n",
       "      <td>...</td>\n",
       "      <td>...</td>\n",
       "      <td>...</td>\n",
       "    </tr>\n",
       "    <tr>\n",
       "      <th>2018-05-31 19:00:00</th>\n",
       "      <td>296.333333</td>\n",
       "      <td>7553.898333</td>\n",
       "      <td>7577.40</td>\n",
       "      <td>7529.90</td>\n",
       "      <td>7544.041429</td>\n",
       "      <td>46.829312</td>\n",
       "      <td>7552.055262</td>\n",
       "      <td>0</td>\n",
       "    </tr>\n",
       "    <tr>\n",
       "      <th>2018-05-31 20:00:00</th>\n",
       "      <td>288.950000</td>\n",
       "      <td>7542.810000</td>\n",
       "      <td>7575.80</td>\n",
       "      <td>7534.10</td>\n",
       "      <td>7539.035000</td>\n",
       "      <td>50.078432</td>\n",
       "      <td>7546.265390</td>\n",
       "      <td>1</td>\n",
       "    </tr>\n",
       "    <tr>\n",
       "      <th>2018-05-31 21:00:00</th>\n",
       "      <td>250.500000</td>\n",
       "      <td>7537.618333</td>\n",
       "      <td>7575.00</td>\n",
       "      <td>7539.15</td>\n",
       "      <td>7547.338333</td>\n",
       "      <td>47.505252</td>\n",
       "      <td>7550.330585</td>\n",
       "      <td>0</td>\n",
       "    </tr>\n",
       "    <tr>\n",
       "      <th>2018-05-31 22:00:00</th>\n",
       "      <td>634.233333</td>\n",
       "      <td>7546.445000</td>\n",
       "      <td>7556.98</td>\n",
       "      <td>7431.70</td>\n",
       "      <td>7444.993333</td>\n",
       "      <td>123.980626</td>\n",
       "      <td>7456.580396</td>\n",
       "      <td>1</td>\n",
       "    </tr>\n",
       "    <tr>\n",
       "      <th>2018-05-31 23:00:00</th>\n",
       "      <td>204.250000</td>\n",
       "      <td>7446.875714</td>\n",
       "      <td>7499.00</td>\n",
       "      <td>7485.00</td>\n",
       "      <td>7487.978333</td>\n",
       "      <td>38.634639</td>\n",
       "      <td>7474.405335</td>\n",
       "      <td>0</td>\n",
       "    </tr>\n",
       "  </tbody>\n",
       "</table>\n",
       "<p>3624 rows × 8 columns</p>\n",
       "</div>"
      ],
      "text/plain": [
       "                          Count          Open      High       Low  \\\n",
       "timestamp                                                           \n",
       "2018-01-01 00:00:00  307.966102  13835.194000  14052.30  13471.62   \n",
       "2018-01-01 01:00:00  269.233333  13632.890000  13885.50  13181.09   \n",
       "2018-01-01 02:00:00  269.483333  13337.022000  13645.50  13306.02   \n",
       "2018-01-01 03:00:00  271.200000  13410.248000  13898.90  13377.00   \n",
       "2018-01-01 04:00:00  242.550000  13495.702000  13893.00  13541.00   \n",
       "...                         ...           ...       ...       ...   \n",
       "2018-05-31 19:00:00  296.333333   7553.898333   7577.40   7529.90   \n",
       "2018-05-31 20:00:00  288.950000   7542.810000   7575.80   7534.10   \n",
       "2018-05-31 21:00:00  250.500000   7537.618333   7575.00   7539.15   \n",
       "2018-05-31 22:00:00  634.233333   7546.445000   7556.98   7431.70   \n",
       "2018-05-31 23:00:00  204.250000   7446.875714   7499.00   7485.00   \n",
       "\n",
       "                            Close      Volume          VWAP  Target  \n",
       "timestamp                                                            \n",
       "2018-01-01 00:00:00  13646.514000   49.366067  13663.317434       0  \n",
       "2018-01-01 01:00:00  13336.952000   48.100297  13548.321840       1  \n",
       "2018-01-01 02:00:00  13413.472000   39.802738  13392.182376       1  \n",
       "2018-01-01 03:00:00  13496.986000   41.530155  13531.651044       1  \n",
       "2018-01-01 04:00:00  13653.062000   37.158874  13533.150693       0  \n",
       "...                           ...         ...           ...     ...  \n",
       "2018-05-31 19:00:00   7544.041429   46.829312   7552.055262       0  \n",
       "2018-05-31 20:00:00   7539.035000   50.078432   7546.265390       1  \n",
       "2018-05-31 21:00:00   7547.338333   47.505252   7550.330585       0  \n",
       "2018-05-31 22:00:00   7444.993333  123.980626   7456.580396       1  \n",
       "2018-05-31 23:00:00   7487.978333   38.634639   7474.405335       0  \n",
       "\n",
       "[3624 rows x 8 columns]"
      ]
     },
     "execution_count": 394,
     "metadata": {},
     "output_type": "execute_result"
    }
   ],
   "source": [
    "df_lstm=df_btc.resample('1h').agg({'Count': 'mean','Open':'first', 'High':'max', 'Low':'last', 'Close':'last','Volume':'mean','VWAP':'mean','Target':'last'})\n",
    "df_lstm=df_lstm.loc[:'2018-05-31']\n",
    "del df_lstm[\"Target\"]    \n",
    "df_lstm[\"Target\"] = np.where(df_lstm[\"Close\"].shift(-1) > df_lstm[\"Close\"], 1, 0)\n",
    "df_lstm"
   ]
  },
  {
   "cell_type": "code",
   "execution_count": 395,
   "metadata": {},
   "outputs": [],
   "source": [
    "X_lstm = df_lstm.copy() # X as a deep copy for security reason\n",
    "Y_lstm = X_lstm.pop(\"Target\")"
   ]
  },
  {
   "cell_type": "code",
   "execution_count": 396,
   "metadata": {},
   "outputs": [],
   "source": [
    "# Splitting into Train/Test split\n",
    "tss = TimeSeriesSplit(n_splits = 3)\n",
    "\n",
    "# Retrieving X_train, X_test, Y_train & Y_test\n",
    "for train_index, test_index in tss.split(X_lstm):\n",
    "    X_train_lstm, X_test_lstm = X_lstm.iloc[train_index, :], X_lstm.iloc[test_index,:]\n",
    "    Y_train_lstm, Y_test_lstm = Y_lstm.iloc[train_index], Y_lstm.iloc[test_index]"
   ]
  },
  {
   "cell_type": "code",
   "execution_count": 397,
   "metadata": {},
   "outputs": [],
   "source": [
    "X_train_lstm, Y_train_lstm = np.array(X_train_lstm), np.array(Y_train_lstm)\n",
    "X_train_lstm = np.reshape(X_train_lstm, (X_train_lstm.shape[0], X_train_lstm.shape[1], 1))"
   ]
  },
  {
   "cell_type": "code",
   "execution_count": 398,
   "metadata": {},
   "outputs": [
    {
     "name": "stdout",
     "output_type": "stream",
     "text": [
      "Epoch 1/100\n",
      "85/85 [==============================] - 5s 7ms/step - loss: 0.7081 - accuracy: 0.5066\n",
      "Epoch 2/100\n",
      "85/85 [==============================] - 0s 6ms/step - loss: 0.6937 - accuracy: 0.5063\n",
      "Epoch 3/100\n",
      "85/85 [==============================] - 0s 5ms/step - loss: 0.6939 - accuracy: 0.4897\n",
      "Epoch 4/100\n",
      "85/85 [==============================] - 0s 5ms/step - loss: 0.6939 - accuracy: 0.4919\n",
      "Epoch 5/100\n",
      "85/85 [==============================] - 0s 5ms/step - loss: 0.6945 - accuracy: 0.4875\n",
      "Epoch 6/100\n",
      "85/85 [==============================] - 0s 5ms/step - loss: 0.6934 - accuracy: 0.4945\n",
      "Epoch 7/100\n",
      "85/85 [==============================] - 0s 5ms/step - loss: 0.6936 - accuracy: 0.4923\n",
      "Epoch 8/100\n",
      "85/85 [==============================] - 0s 4ms/step - loss: 0.6937 - accuracy: 0.4934\n",
      "Epoch 9/100\n",
      "85/85 [==============================] - 0s 5ms/step - loss: 0.6935 - accuracy: 0.5059\n",
      "Epoch 10/100\n",
      "85/85 [==============================] - 0s 4ms/step - loss: 0.6935 - accuracy: 0.5018\n",
      "Epoch 11/100\n",
      "85/85 [==============================] - 0s 5ms/step - loss: 0.6935 - accuracy: 0.4923\n",
      "Epoch 12/100\n",
      "85/85 [==============================] - 0s 5ms/step - loss: 0.6933 - accuracy: 0.5059\n",
      "Epoch 13/100\n",
      "85/85 [==============================] - 0s 6ms/step - loss: 0.6937 - accuracy: 0.4882\n",
      "Epoch 14/100\n",
      "85/85 [==============================] - 1s 6ms/step - loss: 0.6934 - accuracy: 0.4971\n",
      "Epoch 15/100\n",
      "85/85 [==============================] - 1s 6ms/step - loss: 0.6936 - accuracy: 0.4801\n",
      "Epoch 16/100\n",
      "85/85 [==============================] - 0s 5ms/step - loss: 0.6938 - accuracy: 0.4971\n",
      "Epoch 17/100\n",
      "85/85 [==============================] - 0s 5ms/step - loss: 0.6936 - accuracy: 0.4882\n",
      "Epoch 18/100\n",
      "85/85 [==============================] - 0s 5ms/step - loss: 0.6934 - accuracy: 0.5052\n",
      "Epoch 19/100\n",
      "85/85 [==============================] - 0s 5ms/step - loss: 0.6934 - accuracy: 0.4952\n",
      "Epoch 20/100\n",
      "85/85 [==============================] - 0s 5ms/step - loss: 0.6937 - accuracy: 0.4890\n",
      "Epoch 21/100\n",
      "85/85 [==============================] - 0s 5ms/step - loss: 0.6935 - accuracy: 0.5055\n",
      "Epoch 22/100\n",
      "85/85 [==============================] - 0s 5ms/step - loss: 0.6933 - accuracy: 0.4963\n",
      "Epoch 23/100\n",
      "85/85 [==============================] - 0s 5ms/step - loss: 0.6935 - accuracy: 0.4879\n",
      "Epoch 24/100\n",
      "85/85 [==============================] - 0s 5ms/step - loss: 0.6937 - accuracy: 0.4897\n",
      "Epoch 25/100\n",
      "85/85 [==============================] - 0s 5ms/step - loss: 0.6934 - accuracy: 0.4937\n",
      "Epoch 26/100\n",
      "85/85 [==============================] - 0s 5ms/step - loss: 0.6937 - accuracy: 0.4945\n",
      "Epoch 27/100\n",
      "85/85 [==============================] - 0s 5ms/step - loss: 0.6936 - accuracy: 0.5007\n",
      "Epoch 28/100\n",
      "85/85 [==============================] - 0s 5ms/step - loss: 0.6935 - accuracy: 0.4930\n",
      "Epoch 29/100\n",
      "85/85 [==============================] - 0s 5ms/step - loss: 0.6933 - accuracy: 0.4945\n",
      "Epoch 30/100\n",
      "85/85 [==============================] - 0s 5ms/step - loss: 0.6934 - accuracy: 0.4989\n",
      "Epoch 31/100\n",
      "85/85 [==============================] - 0s 5ms/step - loss: 0.6935 - accuracy: 0.4982\n",
      "Epoch 32/100\n",
      "85/85 [==============================] - 0s 5ms/step - loss: 0.6934 - accuracy: 0.4864\n",
      "Epoch 33/100\n",
      "85/85 [==============================] - 0s 5ms/step - loss: 0.6933 - accuracy: 0.5011\n",
      "Epoch 34/100\n",
      "85/85 [==============================] - 0s 5ms/step - loss: 0.6934 - accuracy: 0.4985\n",
      "Epoch 35/100\n",
      "85/85 [==============================] - 0s 5ms/step - loss: 0.6935 - accuracy: 0.5022\n",
      "Epoch 36/100\n",
      "85/85 [==============================] - 0s 5ms/step - loss: 0.6934 - accuracy: 0.4923\n",
      "Epoch 37/100\n",
      "85/85 [==============================] - 0s 5ms/step - loss: 0.6939 - accuracy: 0.4845\n",
      "Epoch 38/100\n",
      "85/85 [==============================] - 0s 5ms/step - loss: 0.6934 - accuracy: 0.5000\n",
      "Epoch 39/100\n",
      "85/85 [==============================] - 0s 5ms/step - loss: 0.6935 - accuracy: 0.4941\n",
      "Epoch 40/100\n",
      "85/85 [==============================] - 0s 5ms/step - loss: 0.6933 - accuracy: 0.4882\n",
      "Epoch 41/100\n",
      "85/85 [==============================] - 0s 4ms/step - loss: 0.6937 - accuracy: 0.4937\n",
      "Epoch 42/100\n",
      "85/85 [==============================] - 0s 5ms/step - loss: 0.6934 - accuracy: 0.4960\n",
      "Epoch 43/100\n",
      "85/85 [==============================] - 0s 4ms/step - loss: 0.6934 - accuracy: 0.4912\n",
      "Epoch 44/100\n",
      "85/85 [==============================] - 0s 5ms/step - loss: 0.6935 - accuracy: 0.4868\n",
      "Epoch 45/100\n",
      "85/85 [==============================] - 0s 4ms/step - loss: 0.6935 - accuracy: 0.4897\n",
      "Epoch 46/100\n",
      "85/85 [==============================] - 0s 4ms/step - loss: 0.6933 - accuracy: 0.5074\n",
      "Epoch 47/100\n",
      "85/85 [==============================] - 0s 4ms/step - loss: 0.6934 - accuracy: 0.4963\n",
      "Epoch 48/100\n",
      "85/85 [==============================] - 0s 5ms/step - loss: 0.6935 - accuracy: 0.4967\n",
      "Epoch 49/100\n",
      "85/85 [==============================] - 0s 4ms/step - loss: 0.6933 - accuracy: 0.5011\n",
      "Epoch 50/100\n",
      "85/85 [==============================] - 0s 4ms/step - loss: 0.6933 - accuracy: 0.4941\n",
      "Epoch 51/100\n",
      "85/85 [==============================] - 0s 4ms/step - loss: 0.6933 - accuracy: 0.5018\n",
      "Epoch 52/100\n",
      "85/85 [==============================] - 0s 4ms/step - loss: 0.6933 - accuracy: 0.5107\n",
      "Epoch 53/100\n",
      "85/85 [==============================] - 0s 4ms/step - loss: 0.6934 - accuracy: 0.4934\n",
      "Epoch 54/100\n",
      "85/85 [==============================] - 0s 4ms/step - loss: 0.6936 - accuracy: 0.4993\n",
      "Epoch 55/100\n",
      "85/85 [==============================] - 0s 4ms/step - loss: 0.6934 - accuracy: 0.5000\n",
      "Epoch 56/100\n",
      "85/85 [==============================] - 0s 4ms/step - loss: 0.6934 - accuracy: 0.4948\n",
      "Epoch 57/100\n",
      "85/85 [==============================] - 0s 4ms/step - loss: 0.6936 - accuracy: 0.4930\n",
      "Epoch 58/100\n",
      "85/85 [==============================] - 0s 4ms/step - loss: 0.6935 - accuracy: 0.5007\n",
      "Epoch 59/100\n",
      "85/85 [==============================] - 0s 4ms/step - loss: 0.6934 - accuracy: 0.5088\n",
      "Epoch 60/100\n",
      "85/85 [==============================] - 0s 5ms/step - loss: 0.6934 - accuracy: 0.4985\n",
      "Epoch 61/100\n",
      "85/85 [==============================] - 1s 7ms/step - loss: 0.6934 - accuracy: 0.5007\n",
      "Epoch 62/100\n",
      "85/85 [==============================] - 0s 6ms/step - loss: 0.6935 - accuracy: 0.4820\n",
      "Epoch 63/100\n",
      "85/85 [==============================] - 0s 6ms/step - loss: 0.6933 - accuracy: 0.4886\n",
      "Epoch 64/100\n",
      "85/85 [==============================] - 0s 4ms/step - loss: 0.6933 - accuracy: 0.5066\n",
      "Epoch 65/100\n",
      "85/85 [==============================] - 0s 4ms/step - loss: 0.6933 - accuracy: 0.5143\n",
      "Epoch 66/100\n",
      "85/85 [==============================] - 0s 4ms/step - loss: 0.6935 - accuracy: 0.4838\n",
      "Epoch 67/100\n",
      "85/85 [==============================] - 0s 4ms/step - loss: 0.6932 - accuracy: 0.5077\n",
      "Epoch 68/100\n",
      "85/85 [==============================] - 0s 4ms/step - loss: 0.6934 - accuracy: 0.4985\n",
      "Epoch 69/100\n",
      "85/85 [==============================] - 0s 4ms/step - loss: 0.6934 - accuracy: 0.4978\n",
      "Epoch 70/100\n",
      "85/85 [==============================] - 0s 4ms/step - loss: 0.6936 - accuracy: 0.4860\n",
      "Epoch 71/100\n",
      "85/85 [==============================] - 0s 4ms/step - loss: 0.6934 - accuracy: 0.4967\n",
      "Epoch 72/100\n",
      "85/85 [==============================] - 0s 4ms/step - loss: 0.6933 - accuracy: 0.4971\n",
      "Epoch 73/100\n",
      "85/85 [==============================] - 0s 4ms/step - loss: 0.6933 - accuracy: 0.4982\n",
      "Epoch 74/100\n",
      "85/85 [==============================] - 0s 4ms/step - loss: 0.6935 - accuracy: 0.4937\n",
      "Epoch 75/100\n",
      "85/85 [==============================] - 0s 4ms/step - loss: 0.6935 - accuracy: 0.4908\n",
      "Epoch 76/100\n",
      "85/85 [==============================] - 0s 5ms/step - loss: 0.6932 - accuracy: 0.5048\n",
      "Epoch 77/100\n",
      "85/85 [==============================] - 0s 4ms/step - loss: 0.6932 - accuracy: 0.4989\n",
      "Epoch 78/100\n",
      "85/85 [==============================] - 0s 4ms/step - loss: 0.6934 - accuracy: 0.4930\n",
      "Epoch 79/100\n",
      "85/85 [==============================] - 0s 4ms/step - loss: 0.6934 - accuracy: 0.4978\n",
      "Epoch 80/100\n",
      "85/85 [==============================] - 0s 4ms/step - loss: 0.6933 - accuracy: 0.5011\n",
      "Epoch 81/100\n",
      "85/85 [==============================] - 0s 4ms/step - loss: 0.6934 - accuracy: 0.5007\n",
      "Epoch 82/100\n",
      "85/85 [==============================] - 0s 4ms/step - loss: 0.6935 - accuracy: 0.4842\n",
      "Epoch 83/100\n",
      "85/85 [==============================] - 0s 5ms/step - loss: 0.6931 - accuracy: 0.5088\n",
      "Epoch 84/100\n",
      "85/85 [==============================] - 0s 5ms/step - loss: 0.6936 - accuracy: 0.4868\n",
      "Epoch 85/100\n",
      "85/85 [==============================] - 0s 5ms/step - loss: 0.6934 - accuracy: 0.4882\n",
      "Epoch 86/100\n",
      "85/85 [==============================] - 0s 5ms/step - loss: 0.6933 - accuracy: 0.4904\n",
      "Epoch 87/100\n",
      "85/85 [==============================] - 0s 5ms/step - loss: 0.6934 - accuracy: 0.4978\n",
      "Epoch 88/100\n",
      "85/85 [==============================] - 0s 5ms/step - loss: 0.6935 - accuracy: 0.4952\n",
      "Epoch 89/100\n",
      "85/85 [==============================] - 0s 5ms/step - loss: 0.6932 - accuracy: 0.4996\n",
      "Epoch 90/100\n",
      "85/85 [==============================] - 0s 5ms/step - loss: 0.6934 - accuracy: 0.4923\n",
      "Epoch 91/100\n",
      "85/85 [==============================] - 0s 5ms/step - loss: 0.6940 - accuracy: 0.4937\n",
      "Epoch 92/100\n",
      "85/85 [==============================] - 1s 6ms/step - loss: 0.6934 - accuracy: 0.4934\n",
      "Epoch 93/100\n",
      "85/85 [==============================] - 0s 5ms/step - loss: 0.6932 - accuracy: 0.5052\n",
      "Epoch 94/100\n",
      "85/85 [==============================] - 0s 5ms/step - loss: 0.6935 - accuracy: 0.4941\n",
      "Epoch 95/100\n",
      "85/85 [==============================] - 0s 5ms/step - loss: 0.6936 - accuracy: 0.5000\n",
      "Epoch 96/100\n",
      "85/85 [==============================] - 1s 6ms/step - loss: 0.6934 - accuracy: 0.5037\n",
      "Epoch 97/100\n",
      "85/85 [==============================] - 0s 6ms/step - loss: 0.6932 - accuracy: 0.4963\n",
      "Epoch 98/100\n",
      "85/85 [==============================] - 0s 5ms/step - loss: 0.6932 - accuracy: 0.4853\n",
      "Epoch 99/100\n",
      "85/85 [==============================] - 0s 4ms/step - loss: 0.6933 - accuracy: 0.4926\n",
      "Epoch 100/100\n",
      "85/85 [==============================] - 0s 5ms/step - loss: 0.6934 - accuracy: 0.5055\n"
     ]
    },
    {
     "data": {
      "text/plain": [
       "<keras.callbacks.History at 0x7fb8eafbea60>"
      ]
     },
     "execution_count": 398,
     "metadata": {},
     "output_type": "execute_result"
    }
   ],
   "source": [
    "model = Sequential()\n",
    "\n",
    "model.add(LSTM(32, activation='tanh',input_shape=(X_train_lstm.shape[1],1)))\n",
    "model.add(Dense(1,activation='sigmoid'))\n",
    "model.compile(loss='binary_crossentropy', optimizer='adam', metrics=['accuracy'])\n",
    "# Fitting the RNN to the Training set\n",
    "model.fit(X_train_lstm, Y_train_lstm, epochs = 100, batch_size = 32)"
   ]
  },
  {
   "cell_type": "code",
   "execution_count": 399,
   "metadata": {},
   "outputs": [],
   "source": [
    "X_test_lstm = np.array(X_test_lstm)\n",
    "X_test_lstm = np.reshape(X_test_lstm, (X_test_lstm.shape[0], X_test_lstm.shape[1], 1))"
   ]
  },
  {
   "cell_type": "code",
   "execution_count": 400,
   "metadata": {},
   "outputs": [
    {
     "name": "stdout",
     "output_type": "stream",
     "text": [
      "29/29 [==============================] - 1s 3ms/step\n"
     ]
    }
   ],
   "source": [
    "Y_pred_lstm = model.predict(X_test_lstm)\n",
    "Y_pred_lstm=np.transpose(Y_pred_lstm)[0]\n",
    "Y_pred_lstm = (Y_pred_lstm >= 0.5).astype(int)\n",
    "Y_pred_lstm=np.array(Y_pred_lstm)"
   ]
  },
  {
   "cell_type": "code",
   "execution_count": 401,
   "metadata": {},
   "outputs": [
    {
     "name": "stdout",
     "output_type": "stream",
     "text": [
      "Accuracy: 0.522075055187638\n"
     ]
    }
   ],
   "source": [
    "from sklearn.metrics import accuracy_score\n",
    "\n",
    "# Getting the accuracy score of the model\n",
    "accuracy = accuracy_score(Y_test_lstm, Y_pred_lstm)\n",
    "print(\"Accuracy:\", accuracy)"
   ]
  },
  {
   "cell_type": "code",
   "execution_count": 402,
   "metadata": {},
   "outputs": [],
   "source": [
    "# Splitting into Train/Test split\n",
    "tss = TimeSeriesSplit(n_splits = 3)\n",
    "\n",
    "# Retrieving X_train, X_test, Y_train & Y_test\n",
    "for train_index, test_index in tss.split(X_lstm):\n",
    "    X_train_lstm, X_test_lstm = X_lstm.iloc[train_index, :], X_lstm.iloc[test_index,:]\n",
    "    Y_train_lstm, Y_test_lstm = Y_lstm.iloc[train_index], Y_lstm.iloc[test_index]"
   ]
  },
  {
   "cell_type": "code",
   "execution_count": 403,
   "metadata": {},
   "outputs": [
    {
     "name": "stdout",
     "output_type": "stream",
     "text": [
      "Full data + no candlestick chart plot:\n"
     ]
    },
    {
     "data": {
      "image/png": "[encoded data removed]",
      "text/plain": [
       "<Figure size 864x360 with 1 Axes>"
      ]
     },
     "metadata": {
      "needs_background": "light"
     },
     "output_type": "display_data"
    },
    {
     "name": "stdout",
     "output_type": "stream",
     "text": [
      "Full data + daily candlestick chart plot:\n"
     ]
    },
    {
     "data": {
      "image/png": "[encoded data removed]",
      "text/plain": [
       "<Figure size 864x360 with 1 Axes>"
      ]
     },
     "metadata": {
      "needs_background": "light"
     },
     "output_type": "display_data"
    },
    {
     "data": {
      "application/vnd.plotly.v1+json": {
       "config": {
        "plotlyServerURL": "https://plot.ly"
       },
       "data": [
        {
         "close": [
          9640.841428571428,
          8864.435714285715,
          9276.526666666668,
          8919.373333333335,
          9338.44,
          9402.64,
          9243.162,
          9067.295,
          9217.468333333332,
          9731.291666666666,
          9697.472,
          9828.696,
          9634.301666666668,
          9363.56,
          9179.028333333334,
          9310.181666666667,
          9012.643333333332,
          8402.368571428571,
          8472.811666666666,
          8686.846666666666,
          8666.883333333333,
          8470.335714285713,
          8339.097142857143,
          8060.957142857143,
          8238.998333333335,
          8233.92,
          8522.39,
          8391.259999999998,
          7988.731428571428,
          7509.090000000001,
          7578.803333333332,
          7466.4057142857155,
          7334.702857142856,
          7347.295714285714,
          7102.583333333332,
          7466.598571428571,
          7377.885142178334,
          7487.978333333333
         ],
         "high": [
          9749,
          9767.4,
          9326.79,
          9395,
          9500,
          9570.51,
          9458.64,
          9243.99,
          9279.9,
          9875,
          9848,
          10020,
          9970,
          9689.67,
          9480.09,
          9464.1,
          9400.92,
          9018.38,
          8658.57,
          8775.9,
          8900.9,
          8865,
          8505.33,
          8500,
          8305.3,
          8468,
          8609,
          8644,
          8426.1,
          8077.01,
          7783.43,
          7670,
          7640.46,
          7425.4,
          7468.18,
          7552.5,
          7575.1,
          7696
         ],
         "low": [
          9214,
          8749.87,
          8700,
          8908.65,
          8945,
          9207,
          9167.1,
          8890.15,
          9000,
          9149.99,
          9561.08,
          9720,
          9443.79,
          9253.9,
          9095.71,
          9018.57,
          9001,
          8366.24,
          8220,
          8302.99,
          8362.19,
          8429.04,
          8100,
          8031,
          7942.48,
          8150.1,
          8147.9,
          8339.2,
          7955,
          7469.34,
          7319.9840559,
          7318,
          7309.4,
          7251.8,
          7094.05,
          7078.12,
          7285.1,
          7327.51
         ],
         "name": "Market Data",
         "open": [
          9275.796666666669,
          9642.799999999996,
          8863.55,
          9274.206666666669,
          8918.558333333332,
          9340.872,
          9401.954000000002,
          9239.424,
          9066.728333333333,
          9225.596,
          9731.106666666668,
          9690.5,
          9829.444,
          9626.495714285717,
          9362.761666666667,
          9180.688333333334,
          9309.615,
          9010.821666666669,
          8401.320000000003,
          8476.201666666666,
          8686.823333333334,
          8671.257142857143,
          8472.187142857141,
          8337.381666666666,
          8058.407142857142,
          8240.372857142856,
          8231.411666666667,
          8523.431999999999,
          8392.073999999999,
          7987.664292087144,
          7510.495765397142,
          7582.279999999999,
          7464.594285714286,
          7333.7528571428575,
          7341.531666666668,
          7102.541666666668,
          7464.363333333334,
          7382.067142857143
         ],
         "type": "candlestick",
         "x": [
          "2018-04-24T00:00:00",
          "2018-04-25T00:00:00",
          "2018-04-26T00:00:00",
          "2018-04-27T00:00:00",
          "2018-04-28T00:00:00",
          "2018-04-29T00:00:00",
          "2018-04-30T00:00:00",
          "2018-05-01T00:00:00",
          "2018-05-02T00:00:00",
          "2018-05-03T00:00:00",
          "2018-05-04T00:00:00",
          "2018-05-05T00:00:00",
          "2018-05-06T00:00:00",
          "2018-05-07T00:00:00",
          "2018-05-08T00:00:00",
          "2018-05-09T00:00:00",
          "2018-05-10T00:00:00",
          "2018-05-11T00:00:00",
          "2018-05-12T00:00:00",
          "2018-05-13T00:00:00",
          "2018-05-14T00:00:00",
          "2018-05-15T00:00:00",
          "2018-05-16T00:00:00",
          "2018-05-17T00:00:00",
          "2018-05-18T00:00:00",
          "2018-05-19T00:00:00",
          "2018-05-20T00:00:00",
          "2018-05-21T00:00:00",
          "2018-05-22T00:00:00",
          "2018-05-23T00:00:00",
          "2018-05-24T00:00:00",
          "2018-05-25T00:00:00",
          "2018-05-26T00:00:00",
          "2018-05-27T00:00:00",
          "2018-05-28T00:00:00",
          "2018-05-29T00:00:00",
          "2018-05-30T00:00:00",
          "2018-05-31T00:00:00"
         ]
        }
       ],
       "layout": {
        "template": {
         "data": {
          "bar": [
           {
            "error_x": {
             "color": "#2a3f5f"
            },
            "error_y": {
             "color": "#2a3f5f"
            },
            "marker": {
             "line": {
              "color": "#E5ECF6",
              "width": 0.5
             },
             "pattern": {
              "fillmode": "overlay",
              "size": 10,
              "solidity": 0.2
             }
            },
            "type": "bar"
           }
          ],
          "barpolar": [
           {
            "marker": {
             "line": {
              "color": "#E5ECF6",
              "width": 0.5
             },
             "pattern": {
              "fillmode": "overlay",
              "size": 10,
              "solidity": 0.2
             }
            },
            "type": "barpolar"
           }
          ],
          "carpet": [
           {
            "aaxis": {
             "endlinecolor": "#2a3f5f",
             "gridcolor": "white",
             "linecolor": "white",
             "minorgridcolor": "white",
             "startlinecolor": "#2a3f5f"
            },
            "baxis": {
             "endlinecolor": "#2a3f5f",
             "gridcolor": "white",
             "linecolor": "white",
             "minorgridcolor": "white",
             "startlinecolor": "#2a3f5f"
            },
            "type": "carpet"
           }
          ],
          "choropleth": [
           {
            "colorbar": {
             "outlinewidth": 0,
             "ticks": ""
            },
            "type": "choropleth"
           }
          ],
          "contour": [
           {
            "colorbar": {
             "outlinewidth": 0,
             "ticks": ""
            },
            "colorscale": [
             [
              0,
              "#0d0887"
             ],
             [
              0.1111111111111111,
              "#46039f"
             ],
             [
              0.2222222222222222,
              "#7201a8"
             ],
             [
              0.3333333333333333,
              "#9c179e"
             ],
             [
              0.4444444444444444,
              "#bd3786"
             ],
             [
              0.5555555555555556,
              "#d8576b"
             ],
             [
              0.6666666666666666,
              "#ed7953"
             ],
             [
              0.7777777777777778,
              "#fb9f3a"
             ],
             [
              0.8888888888888888,
              "#fdca26"
             ],
             [
              1,
              "#f0f921"
             ]
            ],
            "type": "contour"
           }
          ],
          "contourcarpet": [
           {
            "colorbar": {
             "outlinewidth": 0,
             "ticks": ""
            },
            "type": "contourcarpet"
           }
          ],
          "heatmap": [
           {
            "colorbar": {
             "outlinewidth": 0,
             "ticks": ""
            },
            "colorscale": [
             [
              0,
              "#0d0887"
             ],
             [
              0.1111111111111111,
              "#46039f"
             ],
             [
              0.2222222222222222,
              "#7201a8"
             ],
             [
              0.3333333333333333,
              "#9c179e"
             ],
             [
              0.4444444444444444,
              "#bd3786"
             ],
             [
              0.5555555555555556,
              "#d8576b"
             ],
             [
              0.6666666666666666,
              "#ed7953"
             ],
             [
              0.7777777777777778,
              "#fb9f3a"
             ],
             [
              0.8888888888888888,
              "#fdca26"
             ],
             [
              1,
              "#f0f921"
             ]
            ],
            "type": "heatmap"
           }
          ],
          "heatmapgl": [
           {
            "colorbar": {
             "outlinewidth": 0,
             "ticks": ""
            },
            "colorscale": [
             [
              0,
              "#0d0887"
             ],
             [
              0.1111111111111111,
              "#46039f"
             ],
             [
              0.2222222222222222,
              "#7201a8"
             ],
             [
              0.3333333333333333,
              "#9c179e"
             ],
             [
              0.4444444444444444,
              "#bd3786"
             ],
             [
              0.5555555555555556,
              "#d8576b"
             ],
             [
              0.6666666666666666,
              "#ed7953"
             ],
             [
              0.7777777777777778,
              "#fb9f3a"
             ],
             [
              0.8888888888888888,
              "#fdca26"
             ],
             [
              1,
              "#f0f921"
             ]
            ],
            "type": "heatmapgl"
           }
          ],
          "histogram": [
           {
            "marker": {
             "pattern": {
              "fillmode": "overlay",
              "size": 10,
              "solidity": 0.2
             }
            },
            "type": "histogram"
           }
          ],
          "histogram2d": [
           {
            "colorbar": {
             "outlinewidth": 0,
             "ticks": ""
            },
            "colorscale": [
             [
              0,
              "#0d0887"
             ],
             [
              0.1111111111111111,
              "#46039f"
             ],
             [
              0.2222222222222222,
              "#7201a8"
             ],
             [
              0.3333333333333333,
              "#9c179e"
             ],
             [
              0.4444444444444444,
              "#bd3786"
             ],
             [
              0.5555555555555556,
              "#d8576b"
             ],
             [
              0.6666666666666666,
              "#ed7953"
             ],
             [
              0.7777777777777778,
              "#fb9f3a"
             ],
             [
              0.8888888888888888,
              "#fdca26"
             ],
             [
              1,
              "#f0f921"
             ]
            ],
            "type": "histogram2d"
           }
          ],
          "histogram2dcontour": [
           {
            "colorbar": {
             "outlinewidth": 0,
             "ticks": ""
            },
            "colorscale": [
             [
              0,
              "#0d0887"
             ],
             [
              0.1111111111111111,
              "#46039f"
             ],
             [
              0.2222222222222222,
              "#7201a8"
             ],
             [
              0.3333333333333333,
              "#9c179e"
             ],
             [
              0.4444444444444444,
              "#bd3786"
             ],
             [
              0.5555555555555556,
              "#d8576b"
             ],
             [
              0.6666666666666666,
              "#ed7953"
             ],
             [
              0.7777777777777778,
              "#fb9f3a"
             ],
             [
              0.8888888888888888,
              "#fdca26"
             ],
             [
              1,
              "#f0f921"
             ]
            ],
            "type": "histogram2dcontour"
           }
          ],
          "mesh3d": [
           {
            "colorbar": {
             "outlinewidth": 0,
             "ticks": ""
            },
            "type": "mesh3d"
           }
          ],
          "parcoords": [
           {
            "line": {
             "colorbar": {
              "outlinewidth": 0,
              "ticks": ""
             }
            },
            "type": "parcoords"
           }
          ],
          "pie": [
           {
            "automargin": true,
            "type": "pie"
           }
          ],
          "scatter": [
           {
            "fillpattern": {
             "fillmode": "overlay",
             "size": 10,
             "solidity": 0.2
            },
            "type": "scatter"
           }
          ],
          "scatter3d": [
           {
            "line": {
             "colorbar": {
              "outlinewidth": 0,
              "ticks": ""
             }
            },
            "marker": {
             "colorbar": {
              "outlinewidth": 0,
              "ticks": ""
             }
            },
            "type": "scatter3d"
           }
          ],
          "scattercarpet": [
           {
            "marker": {
             "colorbar": {
              "outlinewidth": 0,
              "ticks": ""
             }
            },
            "type": "scattercarpet"
           }
          ],
          "scattergeo": [
           {
            "marker": {
             "colorbar": {
              "outlinewidth": 0,
              "ticks": ""
             }
            },
            "type": "scattergeo"
           }
          ],
          "scattergl": [
           {
            "marker": {
             "colorbar": {
              "outlinewidth": 0,
              "ticks": ""
             }
            },
            "type": "scattergl"
           }
          ],
          "scattermapbox": [
           {
            "marker": {
             "colorbar": {
              "outlinewidth": 0,
              "ticks": ""
             }
            },
            "type": "scattermapbox"
           }
          ],
          "scatterpolar": [
           {
            "marker": {
             "colorbar": {
              "outlinewidth": 0,
              "ticks": ""
             }
            },
            "type": "scatterpolar"
           }
          ],
          "scatterpolargl": [
           {
            "marker": {
             "colorbar": {
              "outlinewidth": 0,
              "ticks": ""
             }
            },
            "type": "scatterpolargl"
           }
          ],
          "scatterternary": [
           {
            "marker": {
             "colorbar": {
              "outlinewidth": 0,
              "ticks": ""
             }
            },
            "type": "scatterternary"
           }
          ],
          "surface": [
           {
            "colorbar": {
             "outlinewidth": 0,
             "ticks": ""
            },
            "colorscale": [
             [
              0,
              "#0d0887"
             ],
             [
              0.1111111111111111,
              "#46039f"
             ],
             [
              0.2222222222222222,
              "#7201a8"
             ],
             [
              0.3333333333333333,
              "#9c179e"
             ],
             [
              0.4444444444444444,
              "#bd3786"
             ],
             [
              0.5555555555555556,
              "#d8576b"
             ],
             [
              0.6666666666666666,
              "#ed7953"
             ],
             [
              0.7777777777777778,
              "#fb9f3a"
             ],
             [
              0.8888888888888888,
              "#fdca26"
             ],
             [
              1,
              "#f0f921"
             ]
            ],
            "type": "surface"
           }
          ],
          "table": [
           {
            "cells": {
             "fill": {
              "color": "#EBF0F8"
             },
             "line": {
              "color": "white"
             }
            },
            "header": {
             "fill": {
              "color": "#C8D4E3"
             },
             "line": {
              "color": "white"
             }
            },
            "type": "table"
           }
          ]
         },
         "layout": {
          "annotationdefaults": {
           "arrowcolor": "#2a3f5f",
           "arrowhead": 0,
           "arrowwidth": 1
          },
          "autotypenumbers": "strict",
          "coloraxis": {
           "colorbar": {
            "outlinewidth": 0,
            "ticks": ""
           }
          },
          "colorscale": {
           "diverging": [
            [
             0,
             "#8e0152"
            ],
            [
             0.1,
             "#c51b7d"
            ],
            [
             0.2,
             "#de77ae"
            ],
            [
             0.3,
             "#f1b6da"
            ],
            [
             0.4,
             "#fde0ef"
            ],
            [
             0.5,
             "#f7f7f7"
            ],
            [
             0.6,
             "#e6f5d0"
            ],
            [
             0.7,
             "#b8e186"
            ],
            [
             0.8,
             "#7fbc41"
            ],
            [
             0.9,
             "#4d9221"
            ],
            [
             1,
             "#276419"
            ]
           ],
           "sequential": [
            [
             0,
             "#0d0887"
            ],
            [
             0.1111111111111111,
             "#46039f"
            ],
            [
             0.2222222222222222,
             "#7201a8"
            ],
            [
             0.3333333333333333,
             "#9c179e"
            ],
            [
             0.4444444444444444,
             "#bd3786"
            ],
            [
             0.5555555555555556,
             "#d8576b"
            ],
            [
             0.6666666666666666,
             "#ed7953"
            ],
            [
             0.7777777777777778,
             "#fb9f3a"
            ],
            [
             0.8888888888888888,
             "#fdca26"
            ],
            [
             1,
             "#f0f921"
            ]
           ],
           "sequentialminus": [
            [
             0,
             "#0d0887"
            ],
            [
             0.1111111111111111,
             "#46039f"
            ],
            [
             0.2222222222222222,
             "#7201a8"
            ],
            [
             0.3333333333333333,
             "#9c179e"
            ],
            [
             0.4444444444444444,
             "#bd3786"
            ],
            [
             0.5555555555555556,
             "#d8576b"
            ],
            [
             0.6666666666666666,
             "#ed7953"
            ],
            [
             0.7777777777777778,
             "#fb9f3a"
            ],
            [
             0.8888888888888888,
             "#fdca26"
            ],
            [
             1,
             "#f0f921"
            ]
           ]
          },
          "colorway": [
           "#636efa",
           "#EF553B",
           "#00cc96",
           "#ab63fa",
           "#FFA15A",
           "#19d3f3",
           "#FF6692",
           "#B6E880",
           "#FF97FF",
           "#FECB52"
          ],
          "font": {
           "color": "#2a3f5f"
          },
          "geo": {
           "bgcolor": "white",
           "lakecolor": "white",
           "landcolor": "#E5ECF6",
           "showlakes": true,
           "showland": true,
           "subunitcolor": "white"
          },
          "hoverlabel": {
           "align": "left"
          },
          "hovermode": "closest",
          "mapbox": {
           "style": "light"
          },
          "paper_bgcolor": "white",
          "plot_bgcolor": "#E5ECF6",
          "polar": {
           "angularaxis": {
            "gridcolor": "white",
            "linecolor": "white",
            "ticks": ""
           },
           "bgcolor": "#E5ECF6",
           "radialaxis": {
            "gridcolor": "white",
            "linecolor": "white",
            "ticks": ""
           }
          },
          "scene": {
           "xaxis": {
            "backgroundcolor": "#E5ECF6",
            "gridcolor": "white",
            "gridwidth": 2,
            "linecolor": "white",
            "showbackground": true,
            "ticks": "",
            "zerolinecolor": "white"
           },
           "yaxis": {
            "backgroundcolor": "#E5ECF6",
            "gridcolor": "white",
            "gridwidth": 2,
            "linecolor": "white",
            "showbackground": true,
            "ticks": "",
            "zerolinecolor": "white"
           },
           "zaxis": {
            "backgroundcolor": "#E5ECF6",
            "gridcolor": "white",
            "gridwidth": 2,
            "linecolor": "white",
            "showbackground": true,
            "ticks": "",
            "zerolinecolor": "white"
           }
          },
          "shapedefaults": {
           "line": {
            "color": "#2a3f5f"
           }
          },
          "ternary": {
           "aaxis": {
            "gridcolor": "white",
            "linecolor": "white",
            "ticks": ""
           },
           "baxis": {
            "gridcolor": "white",
            "linecolor": "white",
            "ticks": ""
           },
           "bgcolor": "#E5ECF6",
           "caxis": {
            "gridcolor": "white",
            "linecolor": "white",
            "ticks": ""
           }
          },
          "title": {
           "x": 0.05
          },
          "xaxis": {
           "automargin": true,
           "gridcolor": "white",
           "linecolor": "white",
           "ticks": "",
           "title": {
            "standoff": 15
           },
           "zerolinecolor": "white",
           "zerolinewidth": 2
          },
          "yaxis": {
           "automargin": true,
           "gridcolor": "white",
           "linecolor": "white",
           "ticks": "",
           "title": {
            "standoff": 15
           },
           "zerolinecolor": "white",
           "zerolinewidth": 2
          }
         }
        },
        "title": {
         "text": "Daily Candlestick Chart"
        },
        "xaxis": {
         "title": {
          "text": "Date"
         }
        },
        "yaxis": {
         "title": {
          "text": "Price"
         }
        }
       }
      },
      "text/html": [
       "<div>                            <div id=\"7cedbc08-9cfe-4556-8b6e-ad9bf9572508\" class=\"plotly-graph-div\" style=\"height:525px; width:100%;\"></div>            <script type=\"text/javascript\">                require([\"plotly\"], function(Plotly) {                    window.PLOTLYENV=window.PLOTLYENV || {};                                    if (document.getElementById(\"7cedbc08-9cfe-4556-8b6e-ad9bf9572508\")) {                    Plotly.newPlot(                        \"7cedbc08-9cfe-4556-8b6e-ad9bf9572508\",                        [{\"close\":[9640.841428571428,8864.435714285715,9276.526666666668,8919.373333333335,9338.44,9402.64,9243.162,9067.295,9217.468333333332,9731.291666666666,9697.472,9828.696,9634.301666666668,9363.56,9179.028333333334,9310.181666666667,9012.643333333332,8402.368571428571,8472.811666666666,8686.846666666666,8666.883333333333,8470.335714285713,8339.097142857143,8060.957142857143,8238.998333333335,8233.92,8522.39,8391.259999999998,7988.731428571428,7509.090000000001,7578.803333333332,7466.4057142857155,7334.702857142856,7347.295714285714,7102.583333333332,7466.598571428571,7377.885142178334,7487.978333333333],\"high\":[9749.0,9767.4,9326.79,9395.0,9500.0,9570.51,9458.64,9243.99,9279.9,9875.0,9848.0,10020.0,9970.0,9689.67,9480.09,9464.1,9400.92,9018.38,8658.57,8775.9,8900.9,8865.0,8505.33,8500.0,8305.3,8468.0,8609.0,8644.0,8426.1,8077.01,7783.43,7670.0,7640.46,7425.4,7468.18,7552.5,7575.1,7696.0],\"low\":[9214.0,8749.87,8700.0,8908.65,8945.0,9207.0,9167.1,8890.15,9000.0,9149.99,9561.08,9720.0,9443.79,9253.9,9095.71,9018.57,9001.0,8366.24,8220.0,8302.99,8362.19,8429.04,8100.0,8031.0,7942.48,8150.1,8147.9,8339.2,7955.0,7469.34,7319.9840559,7318.0,7309.4,7251.8,7094.05,7078.12,7285.1,7327.51],\"name\":\"Market Data\",\"open\":[9275.796666666669,9642.799999999996,8863.55,9274.206666666669,8918.558333333332,9340.872,9401.954000000002,9239.424,9066.728333333333,9225.596,9731.106666666668,9690.5,9829.444,9626.495714285717,9362.761666666667,9180.688333333334,9309.615,9010.821666666669,8401.320000000003,8476.201666666666,8686.823333333334,8671.257142857143,8472.187142857141,8337.381666666666,8058.407142857142,8240.372857142856,8231.411666666667,8523.431999999999,8392.073999999999,7987.664292087144,7510.495765397142,7582.279999999999,7464.594285714286,7333.7528571428575,7341.531666666668,7102.541666666668,7464.363333333334,7382.067142857143],\"x\":[\"2018-04-24T00:00:00\",\"2018-04-25T00:00:00\",\"2018-04-26T00:00:00\",\"2018-04-27T00:00:00\",\"2018-04-28T00:00:00\",\"2018-04-29T00:00:00\",\"2018-04-30T00:00:00\",\"2018-05-01T00:00:00\",\"2018-05-02T00:00:00\",\"2018-05-03T00:00:00\",\"2018-05-04T00:00:00\",\"2018-05-05T00:00:00\",\"2018-05-06T00:00:00\",\"2018-05-07T00:00:00\",\"2018-05-08T00:00:00\",\"2018-05-09T00:00:00\",\"2018-05-10T00:00:00\",\"2018-05-11T00:00:00\",\"2018-05-12T00:00:00\",\"2018-05-13T00:00:00\",\"2018-05-14T00:00:00\",\"2018-05-15T00:00:00\",\"2018-05-16T00:00:00\",\"2018-05-17T00:00:00\",\"2018-05-18T00:00:00\",\"2018-05-19T00:00:00\",\"2018-05-20T00:00:00\",\"2018-05-21T00:00:00\",\"2018-05-22T00:00:00\",\"2018-05-23T00:00:00\",\"2018-05-24T00:00:00\",\"2018-05-25T00:00:00\",\"2018-05-26T00:00:00\",\"2018-05-27T00:00:00\",\"2018-05-28T00:00:00\",\"2018-05-29T00:00:00\",\"2018-05-30T00:00:00\",\"2018-05-31T00:00:00\"],\"type\":\"candlestick\"}],                        {\"template\":{\"data\":{\"histogram2dcontour\":[{\"type\":\"histogram2dcontour\",\"colorbar\":{\"outlinewidth\":0,\"ticks\":\"\"},\"colorscale\":[[0.0,\"#0d0887\"],[0.1111111111111111,\"#46039f\"],[0.2222222222222222,\"#7201a8\"],[0.3333333333333333,\"#9c179e\"],[0.4444444444444444,\"#bd3786\"],[0.5555555555555556,\"#d8576b\"],[0.6666666666666666,\"#ed7953\"],[0.7777777777777778,\"#fb9f3a\"],[0.8888888888888888,\"#fdca26\"],[1.0,\"#f0f921\"]]}],\"choropleth\":[{\"type\":\"choropleth\",\"colorbar\":{\"outlinewidth\":0,\"ticks\":\"\"}}],\"histogram2d\":[{\"type\":\"histogram2d\",\"colorbar\":{\"outlinewidth\":0,\"ticks\":\"\"},\"colorscale\":[[0.0,\"#0d0887\"],[0.1111111111111111,\"#46039f\"],[0.2222222222222222,\"#7201a8\"],[0.3333333333333333,\"#9c179e\"],[0.4444444444444444,\"#bd3786\"],[0.5555555555555556,\"#d8576b\"],[0.6666666666666666,\"#ed7953\"],[0.7777777777777778,\"#fb9f3a\"],[0.8888888888888888,\"#fdca26\"],[1.0,\"#f0f921\"]]}],\"heatmap\":[{\"type\":\"heatmap\",\"colorbar\":{\"outlinewidth\":0,\"ticks\":\"\"},\"colorscale\":[[0.0,\"#0d0887\"],[0.1111111111111111,\"#46039f\"],[0.2222222222222222,\"#7201a8\"],[0.3333333333333333,\"#9c179e\"],[0.4444444444444444,\"#bd3786\"],[0.5555555555555556,\"#d8576b\"],[0.6666666666666666,\"#ed7953\"],[0.7777777777777778,\"#fb9f3a\"],[0.8888888888888888,\"#fdca26\"],[1.0,\"#f0f921\"]]}],\"heatmapgl\":[{\"type\":\"heatmapgl\",\"colorbar\":{\"outlinewidth\":0,\"ticks\":\"\"},\"colorscale\":[[0.0,\"#0d0887\"],[0.1111111111111111,\"#46039f\"],[0.2222222222222222,\"#7201a8\"],[0.3333333333333333,\"#9c179e\"],[0.4444444444444444,\"#bd3786\"],[0.5555555555555556,\"#d8576b\"],[0.6666666666666666,\"#ed7953\"],[0.7777777777777778,\"#fb9f3a\"],[0.8888888888888888,\"#fdca26\"],[1.0,\"#f0f921\"]]}],\"contourcarpet\":[{\"type\":\"contourcarpet\",\"colorbar\":{\"outlinewidth\":0,\"ticks\":\"\"}}],\"contour\":[{\"type\":\"contour\",\"colorbar\":{\"outlinewidth\":0,\"ticks\":\"\"},\"colorscale\":[[0.0,\"#0d0887\"],[0.1111111111111111,\"#46039f\"],[0.2222222222222222,\"#7201a8\"],[0.3333333333333333,\"#9c179e\"],[0.4444444444444444,\"#bd3786\"],[0.5555555555555556,\"#d8576b\"],[0.6666666666666666,\"#ed7953\"],[0.7777777777777778,\"#fb9f3a\"],[0.8888888888888888,\"#fdca26\"],[1.0,\"#f0f921\"]]}],\"surface\":[{\"type\":\"surface\",\"colorbar\":{\"outlinewidth\":0,\"ticks\":\"\"},\"colorscale\":[[0.0,\"#0d0887\"],[0.1111111111111111,\"#46039f\"],[0.2222222222222222,\"#7201a8\"],[0.3333333333333333,\"#9c179e\"],[0.4444444444444444,\"#bd3786\"],[0.5555555555555556,\"#d8576b\"],[0.6666666666666666,\"#ed7953\"],[0.7777777777777778,\"#fb9f3a\"],[0.8888888888888888,\"#fdca26\"],[1.0,\"#f0f921\"]]}],\"mesh3d\":[{\"type\":\"mesh3d\",\"colorbar\":{\"outlinewidth\":0,\"ticks\":\"\"}}],\"scatter\":[{\"fillpattern\":{\"fillmode\":\"overlay\",\"size\":10,\"solidity\":0.2},\"type\":\"scatter\"}],\"parcoords\":[{\"type\":\"parcoords\",\"line\":{\"colorbar\":{\"outlinewidth\":0,\"ticks\":\"\"}}}],\"scatterpolargl\":[{\"type\":\"scatterpolargl\",\"marker\":{\"colorbar\":{\"outlinewidth\":0,\"ticks\":\"\"}}}],\"bar\":[{\"error_x\":{\"color\":\"#2a3f5f\"},\"error_y\":{\"color\":\"#2a3f5f\"},\"marker\":{\"line\":{\"color\":\"#E5ECF6\",\"width\":0.5},\"pattern\":{\"fillmode\":\"overlay\",\"size\":10,\"solidity\":0.2}},\"type\":\"bar\"}],\"scattergeo\":[{\"type\":\"scattergeo\",\"marker\":{\"colorbar\":{\"outlinewidth\":0,\"ticks\":\"\"}}}],\"scatterpolar\":[{\"type\":\"scatterpolar\",\"marker\":{\"colorbar\":{\"outlinewidth\":0,\"ticks\":\"\"}}}],\"histogram\":[{\"marker\":{\"pattern\":{\"fillmode\":\"overlay\",\"size\":10,\"solidity\":0.2}},\"type\":\"histogram\"}],\"scattergl\":[{\"type\":\"scattergl\",\"marker\":{\"colorbar\":{\"outlinewidth\":0,\"ticks\":\"\"}}}],\"scatter3d\":[{\"type\":\"scatter3d\",\"line\":{\"colorbar\":{\"outlinewidth\":0,\"ticks\":\"\"}},\"marker\":{\"colorbar\":{\"outlinewidth\":0,\"ticks\":\"\"}}}],\"scattermapbox\":[{\"type\":\"scattermapbox\",\"marker\":{\"colorbar\":{\"outlinewidth\":0,\"ticks\":\"\"}}}],\"scatterternary\":[{\"type\":\"scatterternary\",\"marker\":{\"colorbar\":{\"outlinewidth\":0,\"ticks\":\"\"}}}],\"scattercarpet\":[{\"type\":\"scattercarpet\",\"marker\":{\"colorbar\":{\"outlinewidth\":0,\"ticks\":\"\"}}}],\"carpet\":[{\"aaxis\":{\"endlinecolor\":\"#2a3f5f\",\"gridcolor\":\"white\",\"linecolor\":\"white\",\"minorgridcolor\":\"white\",\"startlinecolor\":\"#2a3f5f\"},\"baxis\":{\"endlinecolor\":\"#2a3f5f\",\"gridcolor\":\"white\",\"linecolor\":\"white\",\"minorgridcolor\":\"white\",\"startlinecolor\":\"#2a3f5f\"},\"type\":\"carpet\"}],\"table\":[{\"cells\":{\"fill\":{\"color\":\"#EBF0F8\"},\"line\":{\"color\":\"white\"}},\"header\":{\"fill\":{\"color\":\"#C8D4E3\"},\"line\":{\"color\":\"white\"}},\"type\":\"table\"}],\"barpolar\":[{\"marker\":{\"line\":{\"color\":\"#E5ECF6\",\"width\":0.5},\"pattern\":{\"fillmode\":\"overlay\",\"size\":10,\"solidity\":0.2}},\"type\":\"barpolar\"}],\"pie\":[{\"automargin\":true,\"type\":\"pie\"}]},\"layout\":{\"autotypenumbers\":\"strict\",\"colorway\":[\"#636efa\",\"#EF553B\",\"#00cc96\",\"#ab63fa\",\"#FFA15A\",\"#19d3f3\",\"#FF6692\",\"#B6E880\",\"#FF97FF\",\"#FECB52\"],\"font\":{\"color\":\"#2a3f5f\"},\"hovermode\":\"closest\",\"hoverlabel\":{\"align\":\"left\"},\"paper_bgcolor\":\"white\",\"plot_bgcolor\":\"#E5ECF6\",\"polar\":{\"bgcolor\":\"#E5ECF6\",\"angularaxis\":{\"gridcolor\":\"white\",\"linecolor\":\"white\",\"ticks\":\"\"},\"radialaxis\":{\"gridcolor\":\"white\",\"linecolor\":\"white\",\"ticks\":\"\"}},\"ternary\":{\"bgcolor\":\"#E5ECF6\",\"aaxis\":{\"gridcolor\":\"white\",\"linecolor\":\"white\",\"ticks\":\"\"},\"baxis\":{\"gridcolor\":\"white\",\"linecolor\":\"white\",\"ticks\":\"\"},\"caxis\":{\"gridcolor\":\"white\",\"linecolor\":\"white\",\"ticks\":\"\"}},\"coloraxis\":{\"colorbar\":{\"outlinewidth\":0,\"ticks\":\"\"}},\"colorscale\":{\"sequential\":[[0.0,\"#0d0887\"],[0.1111111111111111,\"#46039f\"],[0.2222222222222222,\"#7201a8\"],[0.3333333333333333,\"#9c179e\"],[0.4444444444444444,\"#bd3786\"],[0.5555555555555556,\"#d8576b\"],[0.6666666666666666,\"#ed7953\"],[0.7777777777777778,\"#fb9f3a\"],[0.8888888888888888,\"#fdca26\"],[1.0,\"#f0f921\"]],\"sequentialminus\":[[0.0,\"#0d0887\"],[0.1111111111111111,\"#46039f\"],[0.2222222222222222,\"#7201a8\"],[0.3333333333333333,\"#9c179e\"],[0.4444444444444444,\"#bd3786\"],[0.5555555555555556,\"#d8576b\"],[0.6666666666666666,\"#ed7953\"],[0.7777777777777778,\"#fb9f3a\"],[0.8888888888888888,\"#fdca26\"],[1.0,\"#f0f921\"]],\"diverging\":[[0,\"#8e0152\"],[0.1,\"#c51b7d\"],[0.2,\"#de77ae\"],[0.3,\"#f1b6da\"],[0.4,\"#fde0ef\"],[0.5,\"#f7f7f7\"],[0.6,\"#e6f5d0\"],[0.7,\"#b8e186\"],[0.8,\"#7fbc41\"],[0.9,\"#4d9221\"],[1,\"#276419\"]]},\"xaxis\":{\"gridcolor\":\"white\",\"linecolor\":\"white\",\"ticks\":\"\",\"title\":{\"standoff\":15},\"zerolinecolor\":\"white\",\"automargin\":true,\"zerolinewidth\":2},\"yaxis\":{\"gridcolor\":\"white\",\"linecolor\":\"white\",\"ticks\":\"\",\"title\":{\"standoff\":15},\"zerolinecolor\":\"white\",\"automargin\":true,\"zerolinewidth\":2},\"scene\":{\"xaxis\":{\"backgroundcolor\":\"#E5ECF6\",\"gridcolor\":\"white\",\"linecolor\":\"white\",\"showbackground\":true,\"ticks\":\"\",\"zerolinecolor\":\"white\",\"gridwidth\":2},\"yaxis\":{\"backgroundcolor\":\"#E5ECF6\",\"gridcolor\":\"white\",\"linecolor\":\"white\",\"showbackground\":true,\"ticks\":\"\",\"zerolinecolor\":\"white\",\"gridwidth\":2},\"zaxis\":{\"backgroundcolor\":\"#E5ECF6\",\"gridcolor\":\"white\",\"linecolor\":\"white\",\"showbackground\":true,\"ticks\":\"\",\"zerolinecolor\":\"white\",\"gridwidth\":2}},\"shapedefaults\":{\"line\":{\"color\":\"#2a3f5f\"}},\"annotationdefaults\":{\"arrowcolor\":\"#2a3f5f\",\"arrowhead\":0,\"arrowwidth\":1},\"geo\":{\"bgcolor\":\"white\",\"landcolor\":\"#E5ECF6\",\"subunitcolor\":\"white\",\"showland\":true,\"showlakes\":true,\"lakecolor\":\"white\"},\"title\":{\"x\":0.05},\"mapbox\":{\"style\":\"light\"}}},\"title\":{\"text\":\"Daily Candlestick Chart\"},\"yaxis\":{\"title\":{\"text\":\"Price\"}},\"xaxis\":{\"title\":{\"text\":\"Date\"}}},                        {\"responsive\": true}                    ).then(function(){\n",
       "                            \n",
       "var gd = document.getElementById('7cedbc08-9cfe-4556-8b6e-ad9bf9572508');\n",
       "var x = new MutationObserver(function (mutations, observer) {{\n",
       "        var display = window.getComputedStyle(gd).display;\n",
       "        if (!display || display === 'none') {{\n",
       "            console.log([gd, 'removed!']);\n",
       "            Plotly.purge(gd);\n",
       "            observer.disconnect();\n",
       "        }}\n",
       "}});\n",
       "\n",
       "// Listen for the removal of the full notebook cells\n",
       "var notebookContainer = gd.closest('#notebook-container');\n",
       "if (notebookContainer) {{\n",
       "    x.observe(notebookContainer, {childList: true});\n",
       "}}\n",
       "\n",
       "// Listen for the clearing of the current output cell\n",
       "var outputEl = gd.closest('.output');\n",
       "if (outputEl) {{\n",
       "    x.observe(outputEl, {childList: true});\n",
       "}}\n",
       "\n",
       "                        })                };                });            </script>        </div>"
      ]
     },
     "metadata": {},
     "output_type": "display_data"
    },
    {
     "name": "stdout",
     "output_type": "stream",
     "text": [
      "Small subset of data + full candlestick chart plot:\n"
     ]
    },
    {
     "data": {
      "image/png": "[encoded data removed]",
      "text/plain": [
       "<Figure size 864x360 with 1 Axes>"
      ]
     },
     "metadata": {
      "needs_background": "light"
     },
     "output_type": "display_data"
    },
    {
     "name": "stdout",
     "output_type": "stream",
     "text": [
      "Please note that plotly may experience performance issues or crashes when handling large input datasets. If you encounter any issues, you may need to reduce the size of your input data or use data downsampling techniques to improve performance.\n"
     ]
    },
    {
     "data": {
      "application/vnd.plotly.v1+json": {
       "config": {
        "plotlyServerURL": "https://plot.ly"
       },
       "data": [
        {
         "close": [
          9241.745714285717,
          9225.753333333334,
          9254.74,
          9284.775,
          9299.06,
          9296.841666666664,
          9373.271428571428,
          9264.267142857145,
          9292.715,
          9355.558333333334,
          9351.142508503332,
          9412.311666666666,
          9401.902857142855,
          9453.898753726668,
          9449.198333333334,
          9470.055,
          9570.77,
          9640.841428571428,
          9552.714999999998,
          9630.755,
          9686.067603123332,
          9381.145714285714,
          9281.343333333332,
          9378.693333333336,
          9419.655,
          9416.155,
          9301.242857142855,
          9300.32,
          9161.378333333334,
          9141.31288507,
          9141.031666666668,
          9037.754285714287,
          8867.061428571427,
          8963.093333333334,
          8914.418360818332,
          9048.543361067144,
          8988.482857142857,
          8974.14,
          9077.858333333332,
          9170.323333333334,
          8955.767142857145,
          8864.435714285715,
          8804.565714285714,
          8755.605714285713,
          8850.31,
          8809.65,
          8921.546666666667,
          8896.273333333333,
          8837.525,
          8850.321666666665,
          8719.568333333335,
          8740.039999999999,
          8843.721666666666,
          8855.005,
          8893.885,
          8821.282000000001,
          8819.93317242,
          8804.646666666666,
          8889.635,
          8863.958333333334,
          8838.43857142857,
          8866.794285714286,
          9114.28,
          9098.98,
          9213.158333333333,
          9276.526666666668,
          9222.33,
          9243.086666666666,
          9258.575714285716,
          9145.41,
          9204.736666666666,
          9184.121666666666,
          9233.718903707144,
          9227.74,
          9251.317142857142,
          9351.554285714286,
          9355.632857142857,
          9308,
          9280.521666666666,
          9214.578333333331,
          9266.092,
          9232.062,
          9274.326,
          9277.042,
          9224.476666666667,
          9092.782,
          8974.21,
          8975.338,
          9030.413764623334,
          8919.373333333335,
          9000.711666666668,
          9102.931666666664,
          9047.74,
          9147.236,
          9118.105,
          9149.1425,
          9154.733333333334,
          9122.588,
          9231.311666666666,
          9266.91
         ],
         "high": [
          9307.8,
          9265.8,
          9290,
          9311.9,
          9368.2,
          9363.8,
          9386,
          9443.3,
          9437.8,
          9401.68,
          9387,
          9434.3,
          9425.1,
          9468.7,
          9511.5,
          9500,
          9614.5,
          9749,
          9698,
          9670.09,
          9767.4,
          9734.88,
          9538.29,
          9420.4,
          9504.8,
          9468.6,
          9455,
          9370.88,
          9323.1,
          9196.03398035,
          9227.08,
          9170,
          9066.5,
          8980,
          8977,
          9136,
          9063.58,
          9025.36,
          9116.91,
          9179,
          9186.99,
          9007.6,
          8869.99,
          8863.85,
          8899,
          8899.99,
          8940.01,
          8977,
          8945.34,
          8890.3,
          8888,
          8778.5,
          8881.32,
          8920.3,
          8945,
          8904.93,
          8885,
          8838.1,
          8908.53,
          8925,
          8913.8,
          8895.21,
          9147.1,
          9183.6,
          9245.4,
          9326.79,
          9357.16,
          9320,
          9292.5,
          9275.35,
          9245.4,
          9235.74020041,
          9265.7,
          9250,
          9296,
          9387.48,
          9395,
          9387.82,
          9355,
          9318.62,
          9290,
          9288.88,
          9328.26,
          9319.99,
          9296.31,
          9250.56,
          9170.3,
          9053,
          9093.09,
          9073.93,
          9049.76,
          9126.81,
          9129.17,
          9196.32,
          9168.71,
          9188.5,
          9215.66,
          9175.35,
          9500,
          9324.5
         ],
         "low": [
          9221.01,
          9214,
          9238.79,
          9266.91,
          9287.09,
          9288.56,
          9350.9,
          9230.2,
          9286.62,
          9334.99,
          9343.99,
          9400.5,
          9389.2,
          9444.99,
          9430.45,
          9461,
          9556,
          9589.78,
          9511.93,
          9600,
          9665.96,
          9323.02,
          9147.28,
          9360,
          9400.78,
          9396.54,
          9261.22,
          9271.03,
          9100,
          9121.5,
          9115,
          9004.05,
          8749.87,
          8934.61,
          8908.28,
          9040.3,
          8961.3,
          8951.45,
          9055.54,
          9159.7,
          8930.4,
          8843.31,
          8783.4,
          8740.54,
          8840.68,
          8797.7,
          8907.9,
          8869.9,
          8824.1,
          8839.79,
          8700,
          8719.96,
          8829.99,
          8847.99,
          8884.48,
          8811.82,
          8805,
          8797.9,
          8870.8,
          8849.9,
          8817,
          8829.4,
          9075.52,
          9088.16,
          9193.64,
          9261.44,
          9207.27,
          9210.6,
          9247.84,
          9108.52,
          9201.46,
          9171.7,
          9210.5,
          9216.83,
          9235.5,
          9321,
          9336,
          9302,
          9260.5,
          9204,
          9244.7,
          9224.2,
          9266.7,
          9269.29,
          9203.9,
          9077.98,
          8960.02,
          8961.5,
          9015.1,
          8908.65,
          8984.9,
          9059.6,
          9031.47,
          9130.37,
          9094.8,
          9141.04,
          9147.33,
          9113.18,
          8945,
          9257.2
         ],
         "name": "Market Data",
         "open": [
          9275.796666666669,
          9241.04,
          9227.005,
          9254.546666666669,
          9285.693333333333,
          9299.363333333333,
          9297.465,
          9372.087142857144,
          9264.662857142856,
          9293.285000000002,
          9347.297142857142,
          9352.108333333334,
          9411.541666666666,
          9402.583333333334,
          9447.201428571429,
          9449.923333333334,
          9471.4,
          9570.438571428573,
          9642.799999999996,
          9552.608333333332,
          9632.83857142857,
          9683.170936456669,
          9380.888571428572,
          9280.546666666663,
          9376.885,
          9418.782857142856,
          9414.898333333333,
          9299.69,
          9299.446666666669,
          9162.558333333334,
          9142.095032581668,
          9140.74142857143,
          9039.833333333334,
          8864.094285714285,
          8963.701666666666,
          8914.773333333333,
          9049.352254578333,
          8988.528333333334,
          8974.122857142858,
          9080.363333333333,
          9169.224417513333,
          8953.710000000001,
          8863.55,
          8802.41714285714,
          8755.936666666666,
          8850.228333333334,
          8810.621428571427,
          8922.218333333334,
          8895.301666666668,
          8837.618333333334,
          8850.166666666668,
          8722.614285714286,
          8740.125714285716,
          8843.275000000001,
          8854.548571428571,
          8894.856666666668,
          8819.796666666667,
          8820.227142857142,
          8804.375,
          8885.537142857143,
          8862.631666666666,
          8841.848333333333,
          8872.103333333333,
          9120.011489958571,
          9095.078571428572,
          9211.365714285714,
          9274.206666666669,
          9220.843333333332,
          9245.298333333334,
          9258.16142857143,
          9145.602857142858,
          9204.32,
          9180.392857142857,
          9235.467142857142,
          9231.764,
          9251.31857142857,
          9352.974285714285,
          9356.671428571428,
          9309.288333333334,
          9282.305,
          9216.586,
          9265.28,
          9232.722,
          9275.265,
          9278.328,
          9226.216,
          9091.118333333334,
          8975.866,
          8975.77,
          9030.116666666669,
          8918.558333333332,
          9000.583333333334,
          9107.442,
          9047.455000000002,
          9146.62,
          9117.431666666664,
          9146.198,
          9153.876666666663,
          9120.881666666666,
          9223.610805463331
         ],
         "type": "candlestick",
         "x": [
          "2018-04-24T06:00:00",
          "2018-04-24T07:00:00",
          "2018-04-24T08:00:00",
          "2018-04-24T09:00:00",
          "2018-04-24T10:00:00",
          "2018-04-24T11:00:00",
          "2018-04-24T12:00:00",
          "2018-04-24T13:00:00",
          "2018-04-24T14:00:00",
          "2018-04-24T15:00:00",
          "2018-04-24T16:00:00",
          "2018-04-24T17:00:00",
          "2018-04-24T18:00:00",
          "2018-04-24T19:00:00",
          "2018-04-24T20:00:00",
          "2018-04-24T21:00:00",
          "2018-04-24T22:00:00",
          "2018-04-24T23:00:00",
          "2018-04-25T00:00:00",
          "2018-04-25T01:00:00",
          "2018-04-25T02:00:00",
          "2018-04-25T03:00:00",
          "2018-04-25T04:00:00",
          "2018-04-25T05:00:00",
          "2018-04-25T06:00:00",
          "2018-04-25T07:00:00",
          "2018-04-25T08:00:00",
          "2018-04-25T09:00:00",
          "2018-04-25T10:00:00",
          "2018-04-25T11:00:00",
          "2018-04-25T12:00:00",
          "2018-04-25T13:00:00",
          "2018-04-25T14:00:00",
          "2018-04-25T15:00:00",
          "2018-04-25T16:00:00",
          "2018-04-25T17:00:00",
          "2018-04-25T18:00:00",
          "2018-04-25T19:00:00",
          "2018-04-25T20:00:00",
          "2018-04-25T21:00:00",
          "2018-04-25T22:00:00",
          "2018-04-25T23:00:00",
          "2018-04-26T00:00:00",
          "2018-04-26T01:00:00",
          "2018-04-26T02:00:00",
          "2018-04-26T03:00:00",
          "2018-04-26T04:00:00",
          "2018-04-26T05:00:00",
          "2018-04-26T06:00:00",
          "2018-04-26T07:00:00",
          "2018-04-26T08:00:00",
          "2018-04-26T09:00:00",
          "2018-04-26T10:00:00",
          "2018-04-26T11:00:00",
          "2018-04-26T12:00:00",
          "2018-04-26T13:00:00",
          "2018-04-26T14:00:00",
          "2018-04-26T15:00:00",
          "2018-04-26T16:00:00",
          "2018-04-26T17:00:00",
          "2018-04-26T18:00:00",
          "2018-04-26T19:00:00",
          "2018-04-26T20:00:00",
          "2018-04-26T21:00:00",
          "2018-04-26T22:00:00",
          "2018-04-26T23:00:00",
          "2018-04-27T00:00:00",
          "2018-04-27T01:00:00",
          "2018-04-27T02:00:00",
          "2018-04-27T03:00:00",
          "2018-04-27T04:00:00",
          "2018-04-27T05:00:00",
          "2018-04-27T06:00:00",
          "2018-04-27T07:00:00",
          "2018-04-27T08:00:00",
          "2018-04-27T09:00:00",
          "2018-04-27T10:00:00",
          "2018-04-27T11:00:00",
          "2018-04-27T12:00:00",
          "2018-04-27T13:00:00",
          "2018-04-27T14:00:00",
          "2018-04-27T15:00:00",
          "2018-04-27T16:00:00",
          "2018-04-27T17:00:00",
          "2018-04-27T18:00:00",
          "2018-04-27T19:00:00",
          "2018-04-27T20:00:00",
          "2018-04-27T21:00:00",
          "2018-04-27T22:00:00",
          "2018-04-27T23:00:00",
          "2018-04-28T00:00:00",
          "2018-04-28T01:00:00",
          "2018-04-28T02:00:00",
          "2018-04-28T03:00:00",
          "2018-04-28T04:00:00",
          "2018-04-28T05:00:00",
          "2018-04-28T06:00:00",
          "2018-04-28T07:00:00",
          "2018-04-28T08:00:00",
          "2018-04-28T09:00:00"
         ]
        },
        {
         "marker": {
          "color": "green",
          "size": 10,
          "symbol": "circle"
         },
         "mode": "markers",
         "name": "Buy Signals",
         "type": "scatter",
         "x": [
          "2018-04-24T08:00:00",
          "2018-04-26T18:00:00",
          "2018-04-27T18:00:00",
          "2018-04-27T22:00:00",
          "2018-04-28T01:00:00",
          "2018-04-28T07:00:00"
         ],
         "y": [
          9254.74,
          8838.43857142857,
          9224.476666666667,
          9030.413764623334,
          9102.931666666664,
          9122.588
         ]
        },
        {
         "marker": {
          "color": "red",
          "size": 10,
          "symbol": "circle"
         },
         "mode": "markers",
         "name": "Sell Signals",
         "type": "scatter",
         "x": [
          "2018-04-24T09:00:00",
          "2018-04-26T20:00:00",
          "2018-04-27T19:00:00",
          "2018-04-27T23:00:00",
          "2018-04-28T06:00:00",
          "2018-04-28T08:00:00"
         ],
         "y": [
          9284.775,
          9114.28,
          9092.782,
          8919.373333333335,
          9154.733333333334,
          9231.311666666666
         ]
        }
       ],
       "layout": {
        "template": {
         "data": {
          "bar": [
           {
            "error_x": {
             "color": "#2a3f5f"
            },
            "error_y": {
             "color": "#2a3f5f"
            },
            "marker": {
             "line": {
              "color": "#E5ECF6",
              "width": 0.5
             },
             "pattern": {
              "fillmode": "overlay",
              "size": 10,
              "solidity": 0.2
             }
            },
            "type": "bar"
           }
          ],
          "barpolar": [
           {
            "marker": {
             "line": {
              "color": "#E5ECF6",
              "width": 0.5
             },
             "pattern": {
              "fillmode": "overlay",
              "size": 10,
              "solidity": 0.2
             }
            },
            "type": "barpolar"
           }
          ],
          "carpet": [
           {
            "aaxis": {
             "endlinecolor": "#2a3f5f",
             "gridcolor": "white",
             "linecolor": "white",
             "minorgridcolor": "white",
             "startlinecolor": "#2a3f5f"
            },
            "baxis": {
             "endlinecolor": "#2a3f5f",
             "gridcolor": "white",
             "linecolor": "white",
             "minorgridcolor": "white",
             "startlinecolor": "#2a3f5f"
            },
            "type": "carpet"
           }
          ],
          "choropleth": [
           {
            "colorbar": {
             "outlinewidth": 0,
             "ticks": ""
            },
            "type": "choropleth"
           }
          ],
          "contour": [
           {
            "colorbar": {
             "outlinewidth": 0,
             "ticks": ""
            },
            "colorscale": [
             [
              0,
              "#0d0887"
             ],
             [
              0.1111111111111111,
              "#46039f"
             ],
             [
              0.2222222222222222,
              "#7201a8"
             ],
             [
              0.3333333333333333,
              "#9c179e"
             ],
             [
              0.4444444444444444,
              "#bd3786"
             ],
             [
              0.5555555555555556,
              "#d8576b"
             ],
             [
              0.6666666666666666,
              "#ed7953"
             ],
             [
              0.7777777777777778,
              "#fb9f3a"
             ],
             [
              0.8888888888888888,
              "#fdca26"
             ],
             [
              1,
              "#f0f921"
             ]
            ],
            "type": "contour"
           }
          ],
          "contourcarpet": [
           {
            "colorbar": {
             "outlinewidth": 0,
             "ticks": ""
            },
            "type": "contourcarpet"
           }
          ],
          "heatmap": [
           {
            "colorbar": {
             "outlinewidth": 0,
             "ticks": ""
            },
            "colorscale": [
             [
              0,
              "#0d0887"
             ],
             [
              0.1111111111111111,
              "#46039f"
             ],
             [
              0.2222222222222222,
              "#7201a8"
             ],
             [
              0.3333333333333333,
              "#9c179e"
             ],
             [
              0.4444444444444444,
              "#bd3786"
             ],
             [
              0.5555555555555556,
              "#d8576b"
             ],
             [
              0.6666666666666666,
              "#ed7953"
             ],
             [
              0.7777777777777778,
              "#fb9f3a"
             ],
             [
              0.8888888888888888,
              "#fdca26"
             ],
             [
              1,
              "#f0f921"
             ]
            ],
            "type": "heatmap"
           }
          ],
          "heatmapgl": [
           {
            "colorbar": {
             "outlinewidth": 0,
             "ticks": ""
            },
            "colorscale": [
             [
              0,
              "#0d0887"
             ],
             [
              0.1111111111111111,
              "#46039f"
             ],
             [
              0.2222222222222222,
              "#7201a8"
             ],
             [
              0.3333333333333333,
              "#9c179e"
             ],
             [
              0.4444444444444444,
              "#bd3786"
             ],
             [
              0.5555555555555556,
              "#d8576b"
             ],
             [
              0.6666666666666666,
              "#ed7953"
             ],
             [
              0.7777777777777778,
              "#fb9f3a"
             ],
             [
              0.8888888888888888,
              "#fdca26"
             ],
             [
              1,
              "#f0f921"
             ]
            ],
            "type": "heatmapgl"
           }
          ],
          "histogram": [
           {
            "marker": {
             "pattern": {
              "fillmode": "overlay",
              "size": 10,
              "solidity": 0.2
             }
            },
            "type": "histogram"
           }
          ],
          "histogram2d": [
           {
            "colorbar": {
             "outlinewidth": 0,
             "ticks": ""
            },
            "colorscale": [
             [
              0,
              "#0d0887"
             ],
             [
              0.1111111111111111,
              "#46039f"
             ],
             [
              0.2222222222222222,
              "#7201a8"
             ],
             [
              0.3333333333333333,
              "#9c179e"
             ],
             [
              0.4444444444444444,
              "#bd3786"
             ],
             [
              0.5555555555555556,
              "#d8576b"
             ],
             [
              0.6666666666666666,
              "#ed7953"
             ],
             [
              0.7777777777777778,
              "#fb9f3a"
             ],
             [
              0.8888888888888888,
              "#fdca26"
             ],
             [
              1,
              "#f0f921"
             ]
            ],
            "type": "histogram2d"
           }
          ],
          "histogram2dcontour": [
           {
            "colorbar": {
             "outlinewidth": 0,
             "ticks": ""
            },
            "colorscale": [
             [
              0,
              "#0d0887"
             ],
             [
              0.1111111111111111,
              "#46039f"
             ],
             [
              0.2222222222222222,
              "#7201a8"
             ],
             [
              0.3333333333333333,
              "#9c179e"
             ],
             [
              0.4444444444444444,
              "#bd3786"
             ],
             [
              0.5555555555555556,
              "#d8576b"
             ],
             [
              0.6666666666666666,
              "#ed7953"
             ],
             [
              0.7777777777777778,
              "#fb9f3a"
             ],
             [
              0.8888888888888888,
              "#fdca26"
             ],
             [
              1,
              "#f0f921"
             ]
            ],
            "type": "histogram2dcontour"
           }
          ],
          "mesh3d": [
           {
            "colorbar": {
             "outlinewidth": 0,
             "ticks": ""
            },
            "type": "mesh3d"
           }
          ],
          "parcoords": [
           {
            "line": {
             "colorbar": {
              "outlinewidth": 0,
              "ticks": ""
             }
            },
            "type": "parcoords"
           }
          ],
          "pie": [
           {
            "automargin": true,
            "type": "pie"
           }
          ],
          "scatter": [
           {
            "fillpattern": {
             "fillmode": "overlay",
             "size": 10,
             "solidity": 0.2
            },
            "type": "scatter"
           }
          ],
          "scatter3d": [
           {
            "line": {
             "colorbar": {
              "outlinewidth": 0,
              "ticks": ""
             }
            },
            "marker": {
             "colorbar": {
              "outlinewidth": 0,
              "ticks": ""
             }
            },
            "type": "scatter3d"
           }
          ],
          "scattercarpet": [
           {
            "marker": {
             "colorbar": {
              "outlinewidth": 0,
              "ticks": ""
             }
            },
            "type": "scattercarpet"
           }
          ],
          "scattergeo": [
           {
            "marker": {
             "colorbar": {
              "outlinewidth": 0,
              "ticks": ""
             }
            },
            "type": "scattergeo"
           }
          ],
          "scattergl": [
           {
            "marker": {
             "colorbar": {
              "outlinewidth": 0,
              "ticks": ""
             }
            },
            "type": "scattergl"
           }
          ],
          "scattermapbox": [
           {
            "marker": {
             "colorbar": {
              "outlinewidth": 0,
              "ticks": ""
             }
            },
            "type": "scattermapbox"
           }
          ],
          "scatterpolar": [
           {
            "marker": {
             "colorbar": {
              "outlinewidth": 0,
              "ticks": ""
             }
            },
            "type": "scatterpolar"
           }
          ],
          "scatterpolargl": [
           {
            "marker": {
             "colorbar": {
              "outlinewidth": 0,
              "ticks": ""
             }
            },
            "type": "scatterpolargl"
           }
          ],
          "scatterternary": [
           {
            "marker": {
             "colorbar": {
              "outlinewidth": 0,
              "ticks": ""
             }
            },
            "type": "scatterternary"
           }
          ],
          "surface": [
           {
            "colorbar": {
             "outlinewidth": 0,
             "ticks": ""
            },
            "colorscale": [
             [
              0,
              "#0d0887"
             ],
             [
              0.1111111111111111,
              "#46039f"
             ],
             [
              0.2222222222222222,
              "#7201a8"
             ],
             [
              0.3333333333333333,
              "#9c179e"
             ],
             [
              0.4444444444444444,
              "#bd3786"
             ],
             [
              0.5555555555555556,
              "#d8576b"
             ],
             [
              0.6666666666666666,
              "#ed7953"
             ],
             [
              0.7777777777777778,
              "#fb9f3a"
             ],
             [
              0.8888888888888888,
              "#fdca26"
             ],
             [
              1,
              "#f0f921"
             ]
            ],
            "type": "surface"
           }
          ],
          "table": [
           {
            "cells": {
             "fill": {
              "color": "#EBF0F8"
             },
             "line": {
              "color": "white"
             }
            },
            "header": {
             "fill": {
              "color": "#C8D4E3"
             },
             "line": {
              "color": "white"
             }
            },
            "type": "table"
           }
          ]
         },
         "layout": {
          "annotationdefaults": {
           "arrowcolor": "#2a3f5f",
           "arrowhead": 0,
           "arrowwidth": 1
          },
          "autotypenumbers": "strict",
          "coloraxis": {
           "colorbar": {
            "outlinewidth": 0,
            "ticks": ""
           }
          },
          "colorscale": {
           "diverging": [
            [
             0,
             "#8e0152"
            ],
            [
             0.1,
             "#c51b7d"
            ],
            [
             0.2,
             "#de77ae"
            ],
            [
             0.3,
             "#f1b6da"
            ],
            [
             0.4,
             "#fde0ef"
            ],
            [
             0.5,
             "#f7f7f7"
            ],
            [
             0.6,
             "#e6f5d0"
            ],
            [
             0.7,
             "#b8e186"
            ],
            [
             0.8,
             "#7fbc41"
            ],
            [
             0.9,
             "#4d9221"
            ],
            [
             1,
             "#276419"
            ]
           ],
           "sequential": [
            [
             0,
             "#0d0887"
            ],
            [
             0.1111111111111111,
             "#46039f"
            ],
            [
             0.2222222222222222,
             "#7201a8"
            ],
            [
             0.3333333333333333,
             "#9c179e"
            ],
            [
             0.4444444444444444,
             "#bd3786"
            ],
            [
             0.5555555555555556,
             "#d8576b"
            ],
            [
             0.6666666666666666,
             "#ed7953"
            ],
            [
             0.7777777777777778,
             "#fb9f3a"
            ],
            [
             0.8888888888888888,
             "#fdca26"
            ],
            [
             1,
             "#f0f921"
            ]
           ],
           "sequentialminus": [
            [
             0,
             "#0d0887"
            ],
            [
             0.1111111111111111,
             "#46039f"
            ],
            [
             0.2222222222222222,
             "#7201a8"
            ],
            [
             0.3333333333333333,
             "#9c179e"
            ],
            [
             0.4444444444444444,
             "#bd3786"
            ],
            [
             0.5555555555555556,
             "#d8576b"
            ],
            [
             0.6666666666666666,
             "#ed7953"
            ],
            [
             0.7777777777777778,
             "#fb9f3a"
            ],
            [
             0.8888888888888888,
             "#fdca26"
            ],
            [
             1,
             "#f0f921"
            ]
           ]
          },
          "colorway": [
           "#636efa",
           "#EF553B",
           "#00cc96",
           "#ab63fa",
           "#FFA15A",
           "#19d3f3",
           "#FF6692",
           "#B6E880",
           "#FF97FF",
           "#FECB52"
          ],
          "font": {
           "color": "#2a3f5f"
          },
          "geo": {
           "bgcolor": "white",
           "lakecolor": "white",
           "landcolor": "#E5ECF6",
           "showlakes": true,
           "showland": true,
           "subunitcolor": "white"
          },
          "hoverlabel": {
           "align": "left"
          },
          "hovermode": "closest",
          "mapbox": {
           "style": "light"
          },
          "paper_bgcolor": "white",
          "plot_bgcolor": "#E5ECF6",
          "polar": {
           "angularaxis": {
            "gridcolor": "white",
            "linecolor": "white",
            "ticks": ""
           },
           "bgcolor": "#E5ECF6",
           "radialaxis": {
            "gridcolor": "white",
            "linecolor": "white",
            "ticks": ""
           }
          },
          "scene": {
           "xaxis": {
            "backgroundcolor": "#E5ECF6",
            "gridcolor": "white",
            "gridwidth": 2,
            "linecolor": "white",
            "showbackground": true,
            "ticks": "",
            "zerolinecolor": "white"
           },
           "yaxis": {
            "backgroundcolor": "#E5ECF6",
            "gridcolor": "white",
            "gridwidth": 2,
            "linecolor": "white",
            "showbackground": true,
            "ticks": "",
            "zerolinecolor": "white"
           },
           "zaxis": {
            "backgroundcolor": "#E5ECF6",
            "gridcolor": "white",
            "gridwidth": 2,
            "linecolor": "white",
            "showbackground": true,
            "ticks": "",
            "zerolinecolor": "white"
           }
          },
          "shapedefaults": {
           "line": {
            "color": "#2a3f5f"
           }
          },
          "ternary": {
           "aaxis": {
            "gridcolor": "white",
            "linecolor": "white",
            "ticks": ""
           },
           "baxis": {
            "gridcolor": "white",
            "linecolor": "white",
            "ticks": ""
           },
           "bgcolor": "#E5ECF6",
           "caxis": {
            "gridcolor": "white",
            "linecolor": "white",
            "ticks": ""
           }
          },
          "title": {
           "x": 0.05
          },
          "xaxis": {
           "automargin": true,
           "gridcolor": "white",
           "linecolor": "white",
           "ticks": "",
           "title": {
            "standoff": 15
           },
           "zerolinecolor": "white",
           "zerolinewidth": 2
          },
          "yaxis": {
           "automargin": true,
           "gridcolor": "white",
           "linecolor": "white",
           "ticks": "",
           "title": {
            "standoff": 15
           },
           "zerolinecolor": "white",
           "zerolinewidth": 2
          }
         }
        },
        "title": {
         "text": "Trading Algorithm with Buy and Sell signals"
        },
        "xaxis": {
         "title": {
          "text": "Date"
         }
        },
        "yaxis": {
         "title": {
          "text": "Price"
         }
        }
       }
      },
      "text/html": [
       "<div>                            <div id=\"45fcbc3c-0e6e-4eaf-849b-a3c38b021c76\" class=\"plotly-graph-div\" style=\"height:525px; width:100%;\"></div>            <script type=\"text/javascript\">                require([\"plotly\"], function(Plotly) {                    window.PLOTLYENV=window.PLOTLYENV || {};                                    if (document.getElementById(\"45fcbc3c-0e6e-4eaf-849b-a3c38b021c76\")) {                    Plotly.newPlot(                        \"45fcbc3c-0e6e-4eaf-849b-a3c38b021c76\",                        [{\"close\":[9241.745714285717,9225.753333333334,9254.74,9284.775,9299.06,9296.841666666664,9373.271428571428,9264.267142857145,9292.715,9355.558333333334,9351.142508503332,9412.311666666666,9401.902857142855,9453.898753726668,9449.198333333334,9470.055,9570.77,9640.841428571428,9552.714999999998,9630.755,9686.067603123332,9381.145714285714,9281.343333333332,9378.693333333336,9419.655,9416.155,9301.242857142855,9300.32,9161.378333333334,9141.31288507,9141.031666666668,9037.754285714287,8867.061428571427,8963.093333333334,8914.418360818332,9048.543361067144,8988.482857142857,8974.14,9077.858333333332,9170.323333333334,8955.767142857145,8864.435714285715,8804.565714285714,8755.605714285713,8850.31,8809.65,8921.546666666667,8896.273333333333,8837.525,8850.321666666665,8719.568333333335,8740.039999999999,8843.721666666666,8855.005,8893.885,8821.282000000001,8819.93317242,8804.646666666666,8889.635,8863.958333333334,8838.43857142857,8866.794285714286,9114.28,9098.98,9213.158333333333,9276.526666666668,9222.33,9243.086666666666,9258.575714285716,9145.41,9204.736666666666,9184.121666666666,9233.718903707144,9227.74,9251.317142857142,9351.554285714286,9355.632857142857,9308.0,9280.521666666666,9214.578333333331,9266.092,9232.062,9274.326,9277.042,9224.476666666667,9092.782,8974.21,8975.338,9030.413764623334,8919.373333333335,9000.711666666668,9102.931666666664,9047.74,9147.236,9118.105,9149.1425,9154.733333333334,9122.588,9231.311666666666,9266.91],\"high\":[9307.8,9265.8,9290.0,9311.9,9368.2,9363.8,9386.0,9443.3,9437.8,9401.68,9387.0,9434.3,9425.1,9468.7,9511.5,9500.0,9614.5,9749.0,9698.0,9670.09,9767.4,9734.88,9538.29,9420.4,9504.8,9468.6,9455.0,9370.88,9323.1,9196.03398035,9227.08,9170.0,9066.5,8980.0,8977.0,9136.0,9063.58,9025.36,9116.91,9179.0,9186.99,9007.6,8869.99,8863.85,8899.0,8899.99,8940.01,8977.0,8945.34,8890.3,8888.0,8778.5,8881.32,8920.3,8945.0,8904.93,8885.0,8838.1,8908.53,8925.0,8913.8,8895.21,9147.1,9183.6,9245.4,9326.79,9357.16,9320.0,9292.5,9275.35,9245.4,9235.74020041,9265.7,9250.0,9296.0,9387.48,9395.0,9387.82,9355.0,9318.62,9290.0,9288.88,9328.26,9319.99,9296.31,9250.56,9170.3,9053.0,9093.09,9073.93,9049.76,9126.81,9129.17,9196.32,9168.71,9188.5,9215.66,9175.35,9500.0,9324.5],\"low\":[9221.01,9214.0,9238.79,9266.91,9287.09,9288.56,9350.9,9230.2,9286.62,9334.99,9343.99,9400.5,9389.2,9444.99,9430.45,9461.0,9556.0,9589.78,9511.93,9600.0,9665.96,9323.02,9147.28,9360.0,9400.78,9396.54,9261.22,9271.03,9100.0,9121.5,9115.0,9004.05,8749.87,8934.61,8908.28,9040.3,8961.3,8951.45,9055.54,9159.7,8930.4,8843.31,8783.4,8740.54,8840.68,8797.7,8907.9,8869.9,8824.1,8839.79,8700.0,8719.96,8829.99,8847.99,8884.48,8811.82,8805.0,8797.9,8870.8,8849.9,8817.0,8829.4,9075.52,9088.16,9193.64,9261.44,9207.27,9210.6,9247.84,9108.52,9201.46,9171.7,9210.5,9216.83,9235.5,9321.0,9336.0,9302.0,9260.5,9204.0,9244.7,9224.2,9266.7,9269.29,9203.9,9077.98,8960.02,8961.5,9015.1,8908.65,8984.9,9059.6,9031.47,9130.37,9094.8,9141.04,9147.33,9113.18,8945.0,9257.2],\"name\":\"Market Data\",\"open\":[9275.796666666669,9241.04,9227.005,9254.546666666669,9285.693333333333,9299.363333333333,9297.465,9372.087142857144,9264.662857142856,9293.285000000002,9347.297142857142,9352.108333333334,9411.541666666666,9402.583333333334,9447.201428571429,9449.923333333334,9471.4,9570.438571428573,9642.799999999996,9552.608333333332,9632.83857142857,9683.170936456669,9380.888571428572,9280.546666666663,9376.885,9418.782857142856,9414.898333333333,9299.69,9299.446666666669,9162.558333333334,9142.095032581668,9140.74142857143,9039.833333333334,8864.094285714285,8963.701666666666,8914.773333333333,9049.352254578333,8988.528333333334,8974.122857142858,9080.363333333333,9169.224417513333,8953.710000000001,8863.55,8802.41714285714,8755.936666666666,8850.228333333334,8810.621428571427,8922.218333333334,8895.301666666668,8837.618333333334,8850.166666666668,8722.614285714286,8740.125714285716,8843.275000000001,8854.548571428571,8894.856666666668,8819.796666666667,8820.227142857142,8804.375,8885.537142857143,8862.631666666666,8841.848333333333,8872.103333333333,9120.011489958571,9095.078571428572,9211.365714285714,9274.206666666669,9220.843333333332,9245.298333333334,9258.16142857143,9145.602857142858,9204.32,9180.392857142857,9235.467142857142,9231.764,9251.31857142857,9352.974285714285,9356.671428571428,9309.288333333334,9282.305,9216.586,9265.28,9232.722,9275.265,9278.328,9226.216,9091.118333333334,8975.866,8975.77,9030.116666666669,8918.558333333332,9000.583333333334,9107.442,9047.455000000002,9146.62,9117.431666666664,9146.198,9153.876666666663,9120.881666666666,9223.610805463331],\"x\":[\"2018-04-24T06:00:00\",\"2018-04-24T07:00:00\",\"2018-04-24T08:00:00\",\"2018-04-24T09:00:00\",\"2018-04-24T10:00:00\",\"2018-04-24T11:00:00\",\"2018-04-24T12:00:00\",\"2018-04-24T13:00:00\",\"2018-04-24T14:00:00\",\"2018-04-24T15:00:00\",\"2018-04-24T16:00:00\",\"2018-04-24T17:00:00\",\"2018-04-24T18:00:00\",\"2018-04-24T19:00:00\",\"2018-04-24T20:00:00\",\"2018-04-24T21:00:00\",\"2018-04-24T22:00:00\",\"2018-04-24T23:00:00\",\"2018-04-25T00:00:00\",\"2018-04-25T01:00:00\",\"2018-04-25T02:00:00\",\"2018-04-25T03:00:00\",\"2018-04-25T04:00:00\",\"2018-04-25T05:00:00\",\"2018-04-25T06:00:00\",\"2018-04-25T07:00:00\",\"2018-04-25T08:00:00\",\"2018-04-25T09:00:00\",\"2018-04-25T10:00:00\",\"2018-04-25T11:00:00\",\"2018-04-25T12:00:00\",\"2018-04-25T13:00:00\",\"2018-04-25T14:00:00\",\"2018-04-25T15:00:00\",\"2018-04-25T16:00:00\",\"2018-04-25T17:00:00\",\"2018-04-25T18:00:00\",\"2018-04-25T19:00:00\",\"2018-04-25T20:00:00\",\"2018-04-25T21:00:00\",\"2018-04-25T22:00:00\",\"2018-04-25T23:00:00\",\"2018-04-26T00:00:00\",\"2018-04-26T01:00:00\",\"2018-04-26T02:00:00\",\"2018-04-26T03:00:00\",\"2018-04-26T04:00:00\",\"2018-04-26T05:00:00\",\"2018-04-26T06:00:00\",\"2018-04-26T07:00:00\",\"2018-04-26T08:00:00\",\"2018-04-26T09:00:00\",\"2018-04-26T10:00:00\",\"2018-04-26T11:00:00\",\"2018-04-26T12:00:00\",\"2018-04-26T13:00:00\",\"2018-04-26T14:00:00\",\"2018-04-26T15:00:00\",\"2018-04-26T16:00:00\",\"2018-04-26T17:00:00\",\"2018-04-26T18:00:00\",\"2018-04-26T19:00:00\",\"2018-04-26T20:00:00\",\"2018-04-26T21:00:00\",\"2018-04-26T22:00:00\",\"2018-04-26T23:00:00\",\"2018-04-27T00:00:00\",\"2018-04-27T01:00:00\",\"2018-04-27T02:00:00\",\"2018-04-27T03:00:00\",\"2018-04-27T04:00:00\",\"2018-04-27T05:00:00\",\"2018-04-27T06:00:00\",\"2018-04-27T07:00:00\",\"2018-04-27T08:00:00\",\"2018-04-27T09:00:00\",\"2018-04-27T10:00:00\",\"2018-04-27T11:00:00\",\"2018-04-27T12:00:00\",\"2018-04-27T13:00:00\",\"2018-04-27T14:00:00\",\"2018-04-27T15:00:00\",\"2018-04-27T16:00:00\",\"2018-04-27T17:00:00\",\"2018-04-27T18:00:00\",\"2018-04-27T19:00:00\",\"2018-04-27T20:00:00\",\"2018-04-27T21:00:00\",\"2018-04-27T22:00:00\",\"2018-04-27T23:00:00\",\"2018-04-28T00:00:00\",\"2018-04-28T01:00:00\",\"2018-04-28T02:00:00\",\"2018-04-28T03:00:00\",\"2018-04-28T04:00:00\",\"2018-04-28T05:00:00\",\"2018-04-28T06:00:00\",\"2018-04-28T07:00:00\",\"2018-04-28T08:00:00\",\"2018-04-28T09:00:00\"],\"type\":\"candlestick\"},{\"marker\":{\"color\":\"green\",\"size\":10,\"symbol\":\"circle\"},\"mode\":\"markers\",\"name\":\"Buy Signals\",\"x\":[\"2018-04-24T08:00:00\",\"2018-04-26T18:00:00\",\"2018-04-27T18:00:00\",\"2018-04-27T22:00:00\",\"2018-04-28T01:00:00\",\"2018-04-28T07:00:00\"],\"y\":[9254.74,8838.43857142857,9224.476666666667,9030.413764623334,9102.931666666664,9122.588],\"type\":\"scatter\"},{\"marker\":{\"color\":\"red\",\"size\":10,\"symbol\":\"circle\"},\"mode\":\"markers\",\"name\":\"Sell Signals\",\"x\":[\"2018-04-24T09:00:00\",\"2018-04-26T20:00:00\",\"2018-04-27T19:00:00\",\"2018-04-27T23:00:00\",\"2018-04-28T06:00:00\",\"2018-04-28T08:00:00\"],\"y\":[9284.775,9114.28,9092.782,8919.373333333335,9154.733333333334,9231.311666666666],\"type\":\"scatter\"}],                        {\"template\":{\"data\":{\"histogram2dcontour\":[{\"type\":\"histogram2dcontour\",\"colorbar\":{\"outlinewidth\":0,\"ticks\":\"\"},\"colorscale\":[[0.0,\"#0d0887\"],[0.1111111111111111,\"#46039f\"],[0.2222222222222222,\"#7201a8\"],[0.3333333333333333,\"#9c179e\"],[0.4444444444444444,\"#bd3786\"],[0.5555555555555556,\"#d8576b\"],[0.6666666666666666,\"#ed7953\"],[0.7777777777777778,\"#fb9f3a\"],[0.8888888888888888,\"#fdca26\"],[1.0,\"#f0f921\"]]}],\"choropleth\":[{\"type\":\"choropleth\",\"colorbar\":{\"outlinewidth\":0,\"ticks\":\"\"}}],\"histogram2d\":[{\"type\":\"histogram2d\",\"colorbar\":{\"outlinewidth\":0,\"ticks\":\"\"},\"colorscale\":[[0.0,\"#0d0887\"],[0.1111111111111111,\"#46039f\"],[0.2222222222222222,\"#7201a8\"],[0.3333333333333333,\"#9c179e\"],[0.4444444444444444,\"#bd3786\"],[0.5555555555555556,\"#d8576b\"],[0.6666666666666666,\"#ed7953\"],[0.7777777777777778,\"#fb9f3a\"],[0.8888888888888888,\"#fdca26\"],[1.0,\"#f0f921\"]]}],\"heatmap\":[{\"type\":\"heatmap\",\"colorbar\":{\"outlinewidth\":0,\"ticks\":\"\"},\"colorscale\":[[0.0,\"#0d0887\"],[0.1111111111111111,\"#46039f\"],[0.2222222222222222,\"#7201a8\"],[0.3333333333333333,\"#9c179e\"],[0.4444444444444444,\"#bd3786\"],[0.5555555555555556,\"#d8576b\"],[0.6666666666666666,\"#ed7953\"],[0.7777777777777778,\"#fb9f3a\"],[0.8888888888888888,\"#fdca26\"],[1.0,\"#f0f921\"]]}],\"heatmapgl\":[{\"type\":\"heatmapgl\",\"colorbar\":{\"outlinewidth\":0,\"ticks\":\"\"},\"colorscale\":[[0.0,\"#0d0887\"],[0.1111111111111111,\"#46039f\"],[0.2222222222222222,\"#7201a8\"],[0.3333333333333333,\"#9c179e\"],[0.4444444444444444,\"#bd3786\"],[0.5555555555555556,\"#d8576b\"],[0.6666666666666666,\"#ed7953\"],[0.7777777777777778,\"#fb9f3a\"],[0.8888888888888888,\"#fdca26\"],[1.0,\"#f0f921\"]]}],\"contourcarpet\":[{\"type\":\"contourcarpet\",\"colorbar\":{\"outlinewidth\":0,\"ticks\":\"\"}}],\"contour\":[{\"type\":\"contour\",\"colorbar\":{\"outlinewidth\":0,\"ticks\":\"\"},\"colorscale\":[[0.0,\"#0d0887\"],[0.1111111111111111,\"#46039f\"],[0.2222222222222222,\"#7201a8\"],[0.3333333333333333,\"#9c179e\"],[0.4444444444444444,\"#bd3786\"],[0.5555555555555556,\"#d8576b\"],[0.6666666666666666,\"#ed7953\"],[0.7777777777777778,\"#fb9f3a\"],[0.8888888888888888,\"#fdca26\"],[1.0,\"#f0f921\"]]}],\"surface\":[{\"type\":\"surface\",\"colorbar\":{\"outlinewidth\":0,\"ticks\":\"\"},\"colorscale\":[[0.0,\"#0d0887\"],[0.1111111111111111,\"#46039f\"],[0.2222222222222222,\"#7201a8\"],[0.3333333333333333,\"#9c179e\"],[0.4444444444444444,\"#bd3786\"],[0.5555555555555556,\"#d8576b\"],[0.6666666666666666,\"#ed7953\"],[0.7777777777777778,\"#fb9f3a\"],[0.8888888888888888,\"#fdca26\"],[1.0,\"#f0f921\"]]}],\"mesh3d\":[{\"type\":\"mesh3d\",\"colorbar\":{\"outlinewidth\":0,\"ticks\":\"\"}}],\"scatter\":[{\"fillpattern\":{\"fillmode\":\"overlay\",\"size\":10,\"solidity\":0.2},\"type\":\"scatter\"}],\"parcoords\":[{\"type\":\"parcoords\",\"line\":{\"colorbar\":{\"outlinewidth\":0,\"ticks\":\"\"}}}],\"scatterpolargl\":[{\"type\":\"scatterpolargl\",\"marker\":{\"colorbar\":{\"outlinewidth\":0,\"ticks\":\"\"}}}],\"bar\":[{\"error_x\":{\"color\":\"#2a3f5f\"},\"error_y\":{\"color\":\"#2a3f5f\"},\"marker\":{\"line\":{\"color\":\"#E5ECF6\",\"width\":0.5},\"pattern\":{\"fillmode\":\"overlay\",\"size\":10,\"solidity\":0.2}},\"type\":\"bar\"}],\"scattergeo\":[{\"type\":\"scattergeo\",\"marker\":{\"colorbar\":{\"outlinewidth\":0,\"ticks\":\"\"}}}],\"scatterpolar\":[{\"type\":\"scatterpolar\",\"marker\":{\"colorbar\":{\"outlinewidth\":0,\"ticks\":\"\"}}}],\"histogram\":[{\"marker\":{\"pattern\":{\"fillmode\":\"overlay\",\"size\":10,\"solidity\":0.2}},\"type\":\"histogram\"}],\"scattergl\":[{\"type\":\"scattergl\",\"marker\":{\"colorbar\":{\"outlinewidth\":0,\"ticks\":\"\"}}}],\"scatter3d\":[{\"type\":\"scatter3d\",\"line\":{\"colorbar\":{\"outlinewidth\":0,\"ticks\":\"\"}},\"marker\":{\"colorbar\":{\"outlinewidth\":0,\"ticks\":\"\"}}}],\"scattermapbox\":[{\"type\":\"scattermapbox\",\"marker\":{\"colorbar\":{\"outlinewidth\":0,\"ticks\":\"\"}}}],\"scatterternary\":[{\"type\":\"scatterternary\",\"marker\":{\"colorbar\":{\"outlinewidth\":0,\"ticks\":\"\"}}}],\"scattercarpet\":[{\"type\":\"scattercarpet\",\"marker\":{\"colorbar\":{\"outlinewidth\":0,\"ticks\":\"\"}}}],\"carpet\":[{\"aaxis\":{\"endlinecolor\":\"#2a3f5f\",\"gridcolor\":\"white\",\"linecolor\":\"white\",\"minorgridcolor\":\"white\",\"startlinecolor\":\"#2a3f5f\"},\"baxis\":{\"endlinecolor\":\"#2a3f5f\",\"gridcolor\":\"white\",\"linecolor\":\"white\",\"minorgridcolor\":\"white\",\"startlinecolor\":\"#2a3f5f\"},\"type\":\"carpet\"}],\"table\":[{\"cells\":{\"fill\":{\"color\":\"#EBF0F8\"},\"line\":{\"color\":\"white\"}},\"header\":{\"fill\":{\"color\":\"#C8D4E3\"},\"line\":{\"color\":\"white\"}},\"type\":\"table\"}],\"barpolar\":[{\"marker\":{\"line\":{\"color\":\"#E5ECF6\",\"width\":0.5},\"pattern\":{\"fillmode\":\"overlay\",\"size\":10,\"solidity\":0.2}},\"type\":\"barpolar\"}],\"pie\":[{\"automargin\":true,\"type\":\"pie\"}]},\"layout\":{\"autotypenumbers\":\"strict\",\"colorway\":[\"#636efa\",\"#EF553B\",\"#00cc96\",\"#ab63fa\",\"#FFA15A\",\"#19d3f3\",\"#FF6692\",\"#B6E880\",\"#FF97FF\",\"#FECB52\"],\"font\":{\"color\":\"#2a3f5f\"},\"hovermode\":\"closest\",\"hoverlabel\":{\"align\":\"left\"},\"paper_bgcolor\":\"white\",\"plot_bgcolor\":\"#E5ECF6\",\"polar\":{\"bgcolor\":\"#E5ECF6\",\"angularaxis\":{\"gridcolor\":\"white\",\"linecolor\":\"white\",\"ticks\":\"\"},\"radialaxis\":{\"gridcolor\":\"white\",\"linecolor\":\"white\",\"ticks\":\"\"}},\"ternary\":{\"bgcolor\":\"#E5ECF6\",\"aaxis\":{\"gridcolor\":\"white\",\"linecolor\":\"white\",\"ticks\":\"\"},\"baxis\":{\"gridcolor\":\"white\",\"linecolor\":\"white\",\"ticks\":\"\"},\"caxis\":{\"gridcolor\":\"white\",\"linecolor\":\"white\",\"ticks\":\"\"}},\"coloraxis\":{\"colorbar\":{\"outlinewidth\":0,\"ticks\":\"\"}},\"colorscale\":{\"sequential\":[[0.0,\"#0d0887\"],[0.1111111111111111,\"#46039f\"],[0.2222222222222222,\"#7201a8\"],[0.3333333333333333,\"#9c179e\"],[0.4444444444444444,\"#bd3786\"],[0.5555555555555556,\"#d8576b\"],[0.6666666666666666,\"#ed7953\"],[0.7777777777777778,\"#fb9f3a\"],[0.8888888888888888,\"#fdca26\"],[1.0,\"#f0f921\"]],\"sequentialminus\":[[0.0,\"#0d0887\"],[0.1111111111111111,\"#46039f\"],[0.2222222222222222,\"#7201a8\"],[0.3333333333333333,\"#9c179e\"],[0.4444444444444444,\"#bd3786\"],[0.5555555555555556,\"#d8576b\"],[0.6666666666666666,\"#ed7953\"],[0.7777777777777778,\"#fb9f3a\"],[0.8888888888888888,\"#fdca26\"],[1.0,\"#f0f921\"]],\"diverging\":[[0,\"#8e0152\"],[0.1,\"#c51b7d\"],[0.2,\"#de77ae\"],[0.3,\"#f1b6da\"],[0.4,\"#fde0ef\"],[0.5,\"#f7f7f7\"],[0.6,\"#e6f5d0\"],[0.7,\"#b8e186\"],[0.8,\"#7fbc41\"],[0.9,\"#4d9221\"],[1,\"#276419\"]]},\"xaxis\":{\"gridcolor\":\"white\",\"linecolor\":\"white\",\"ticks\":\"\",\"title\":{\"standoff\":15},\"zerolinecolor\":\"white\",\"automargin\":true,\"zerolinewidth\":2},\"yaxis\":{\"gridcolor\":\"white\",\"linecolor\":\"white\",\"ticks\":\"\",\"title\":{\"standoff\":15},\"zerolinecolor\":\"white\",\"automargin\":true,\"zerolinewidth\":2},\"scene\":{\"xaxis\":{\"backgroundcolor\":\"#E5ECF6\",\"gridcolor\":\"white\",\"linecolor\":\"white\",\"showbackground\":true,\"ticks\":\"\",\"zerolinecolor\":\"white\",\"gridwidth\":2},\"yaxis\":{\"backgroundcolor\":\"#E5ECF6\",\"gridcolor\":\"white\",\"linecolor\":\"white\",\"showbackground\":true,\"ticks\":\"\",\"zerolinecolor\":\"white\",\"gridwidth\":2},\"zaxis\":{\"backgroundcolor\":\"#E5ECF6\",\"gridcolor\":\"white\",\"linecolor\":\"white\",\"showbackground\":true,\"ticks\":\"\",\"zerolinecolor\":\"white\",\"gridwidth\":2}},\"shapedefaults\":{\"line\":{\"color\":\"#2a3f5f\"}},\"annotationdefaults\":{\"arrowcolor\":\"#2a3f5f\",\"arrowhead\":0,\"arrowwidth\":1},\"geo\":{\"bgcolor\":\"white\",\"landcolor\":\"#E5ECF6\",\"subunitcolor\":\"white\",\"showland\":true,\"showlakes\":true,\"lakecolor\":\"white\"},\"title\":{\"x\":0.05},\"mapbox\":{\"style\":\"light\"}}},\"title\":{\"text\":\"Trading Algorithm with Buy and Sell signals\"},\"yaxis\":{\"title\":{\"text\":\"Price\"}},\"xaxis\":{\"title\":{\"text\":\"Date\"}}},                        {\"responsive\": true}                    ).then(function(){\n",
       "                            \n",
       "var gd = document.getElementById('45fcbc3c-0e6e-4eaf-849b-a3c38b021c76');\n",
       "var x = new MutationObserver(function (mutations, observer) {{\n",
       "        var display = window.getComputedStyle(gd).display;\n",
       "        if (!display || display === 'none') {{\n",
       "            console.log([gd, 'removed!']);\n",
       "            Plotly.purge(gd);\n",
       "            observer.disconnect();\n",
       "        }}\n",
       "}});\n",
       "\n",
       "// Listen for the removal of the full notebook cells\n",
       "var notebookContainer = gd.closest('#notebook-container');\n",
       "if (notebookContainer) {{\n",
       "    x.observe(notebookContainer, {childList: true});\n",
       "}}\n",
       "\n",
       "// Listen for the clearing of the current output cell\n",
       "var outputEl = gd.closest('.output');\n",
       "if (outputEl) {{\n",
       "    x.observe(outputEl, {childList: true});\n",
       "}}\n",
       "\n",
       "                        })                };                });            </script>        </div>"
      ]
     },
     "metadata": {},
     "output_type": "display_data"
    }
   ],
   "source": [
    "# Testing trading_algorithm\n",
    "\n",
    "# Full data + no candlestick chart plot\n",
    "print('Full data + no candlestick chart plot:')\n",
    "trading_algorithm(Y_pred_lstm, X_test_lstm)\n",
    "\n",
    "# Full data + daily candlestick chart plot\n",
    "print('Full data + daily candlestick chart plot:')\n",
    "trading_algorithm(Y_pred_lstm, X_test_lstm, candlestick_chart = True, candlestick_chart_daily = True)\n",
    "\n",
    "# Small subset of data + full candlestick chart plot\n",
    "print('Small subset of data + full candlestick chart plot:')\n",
    "trading_algorithm(Y_pred_lstm[:100], X_test_lstm[:100], candlestick_chart = True)"
   ]
  },
  {
   "cell_type": "markdown",
   "metadata": {},
   "source": [
    "## Transfer learning for other crypto-currencies "
   ]
  },
  {
   "cell_type": "code",
   "execution_count": null,
   "metadata": {},
   "outputs": [],
   "source": []
  },
  {
   "cell_type": "code",
   "execution_count": null,
   "metadata": {},
   "outputs": [],
   "source": []
  },
  {
   "cell_type": "markdown",
   "metadata": {},
   "source": [
    "# Conclusion"
   ]
  },
  {
   "cell_type": "code",
   "execution_count": null,
   "metadata": {},
   "outputs": [],
   "source": []
  },
  {
   "cell_type": "code",
   "execution_count": null,
   "metadata": {},
   "outputs": [],
   "source": []
  },
  {
   "cell_type": "markdown",
   "metadata": {},
   "source": [
    "---\n",
    "\n",
    "**Arian NAJAFY ABRANDABADY - Lucas RODRIGUEZ - Bastien TRIDON**"
   ]
  }
 ],
 "metadata": {
  "kernelspec": {
   "display_name": "Python 3",
   "language": "python",
   "name": "python3"
  },
  "language_info": {
   "codemirror_mode": {
    "name": "ipython",
    "version": 3
   },
   "file_extension": ".py",
   "mimetype": "text/x-python",
   "name": "python",
   "nbconvert_exporter": "python",
   "pygments_lexer": "ipython3",
   "version": "3.8.5"
  },
  "toc": {
   "base_numbering": 1,
   "nav_menu": {},
   "number_sections": true,
   "sideBar": true,
   "skip_h1_title": false,
   "title_cell": "Table of Contents",
   "title_sidebar": "Contents",
   "toc_cell": false,
   "toc_position": {
    "height": "calc(100% - 180px)",
    "left": "10px",
    "top": "150px",
    "width": "369.367px"
   },
   "toc_section_display": true,
   "toc_window_display": true
  }
 },
 "nbformat": 4,
 "nbformat_minor": 5
}
