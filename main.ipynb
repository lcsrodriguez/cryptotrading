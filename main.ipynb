{
 "cells": [
  {
   "cell_type": "code",
   "execution_count": 4,
   "id": "129de5aa",
   "metadata": {
    "ExecuteTime": {
     "end_time": "2023-03-23T21:38:48.956118Z",
     "start_time": "2023-03-23T21:38:48.951951Z"
    }
   },
   "outputs": [],
   "source": [
    "import pandas as pd\n",
    "import glob"
   ]
  },
  {
   "cell_type": "code",
   "execution_count": 20,
   "id": "648be05f",
   "metadata": {
    "ExecuteTime": {
     "end_time": "2023-03-23T21:44:14.318996Z",
     "start_time": "2023-03-23T21:44:14.311134Z"
    }
   },
   "outputs": [
    {
     "data": {
      "text/plain": [
       "['data/asset_details.csv',\n",
       " 'data/supplemental_train.csv',\n",
       " 'data/train.csv',\n",
       " 'data/example_test.csv']"
      ]
     },
     "execution_count": 20,
     "metadata": {},
     "output_type": "execute_result"
    }
   ],
   "source": [
    "# Checking data filenames\n",
    "DATA_FILENAMES = glob.glob(\"data/*.csv\")\n",
    "DATA_FILENAMES"
   ]
  },
  {
   "cell_type": "code",
   "execution_count": 22,
   "id": "1b7f1030",
   "metadata": {
    "ExecuteTime": {
     "end_time": "2023-03-23T21:44:33.221402Z",
     "start_time": "2023-03-23T21:44:33.216109Z"
    }
   },
   "outputs": [],
   "source": [
    "# Checking that we only have the 4 files\n",
    "assert len(DATA_FILENAMES) == 4"
   ]
  },
  {
   "cell_type": "code",
   "execution_count": 18,
   "id": "1e6dc842",
   "metadata": {
    "ExecuteTime": {
     "end_time": "2023-03-23T21:43:05.431052Z",
     "start_time": "2023-03-23T21:43:05.416038Z"
    }
   },
   "outputs": [
    {
     "data": {
      "text/html": [
       "<div>\n",
       "<style scoped>\n",
       "    .dataframe tbody tr th:only-of-type {\n",
       "        vertical-align: middle;\n",
       "    }\n",
       "\n",
       "    .dataframe tbody tr th {\n",
       "        vertical-align: top;\n",
       "    }\n",
       "\n",
       "    .dataframe thead th {\n",
       "        text-align: right;\n",
       "    }\n",
       "</style>\n",
       "<table border=\"1\" class=\"dataframe\">\n",
       "  <thead>\n",
       "    <tr style=\"text-align: right;\">\n",
       "      <th></th>\n",
       "      <th>Weight</th>\n",
       "      <th>Asset_Name</th>\n",
       "    </tr>\n",
       "    <tr>\n",
       "      <th>Asset_ID</th>\n",
       "      <th></th>\n",
       "      <th></th>\n",
       "    </tr>\n",
       "  </thead>\n",
       "  <tbody>\n",
       "    <tr>\n",
       "      <th>2</th>\n",
       "      <td>2.397895</td>\n",
       "      <td>Bitcoin Cash</td>\n",
       "    </tr>\n",
       "    <tr>\n",
       "      <th>0</th>\n",
       "      <td>4.304065</td>\n",
       "      <td>Binance Coin</td>\n",
       "    </tr>\n",
       "    <tr>\n",
       "      <th>1</th>\n",
       "      <td>6.779922</td>\n",
       "      <td>Bitcoin</td>\n",
       "    </tr>\n",
       "    <tr>\n",
       "      <th>5</th>\n",
       "      <td>1.386294</td>\n",
       "      <td>EOS.IO</td>\n",
       "    </tr>\n",
       "    <tr>\n",
       "      <th>7</th>\n",
       "      <td>2.079442</td>\n",
       "      <td>Ethereum Classic</td>\n",
       "    </tr>\n",
       "    <tr>\n",
       "      <th>6</th>\n",
       "      <td>5.894403</td>\n",
       "      <td>Ethereum</td>\n",
       "    </tr>\n",
       "    <tr>\n",
       "      <th>9</th>\n",
       "      <td>2.397895</td>\n",
       "      <td>Litecoin</td>\n",
       "    </tr>\n",
       "    <tr>\n",
       "      <th>11</th>\n",
       "      <td>1.609438</td>\n",
       "      <td>Monero</td>\n",
       "    </tr>\n",
       "    <tr>\n",
       "      <th>13</th>\n",
       "      <td>1.791759</td>\n",
       "      <td>TRON</td>\n",
       "    </tr>\n",
       "    <tr>\n",
       "      <th>12</th>\n",
       "      <td>2.079442</td>\n",
       "      <td>Stellar</td>\n",
       "    </tr>\n",
       "    <tr>\n",
       "      <th>3</th>\n",
       "      <td>4.406719</td>\n",
       "      <td>Cardano</td>\n",
       "    </tr>\n",
       "    <tr>\n",
       "      <th>8</th>\n",
       "      <td>1.098612</td>\n",
       "      <td>IOTA</td>\n",
       "    </tr>\n",
       "    <tr>\n",
       "      <th>10</th>\n",
       "      <td>1.098612</td>\n",
       "      <td>Maker</td>\n",
       "    </tr>\n",
       "    <tr>\n",
       "      <th>4</th>\n",
       "      <td>3.555348</td>\n",
       "      <td>Dogecoin</td>\n",
       "    </tr>\n",
       "  </tbody>\n",
       "</table>\n",
       "</div>"
      ],
      "text/plain": [
       "            Weight        Asset_Name\n",
       "Asset_ID                            \n",
       "2         2.397895      Bitcoin Cash\n",
       "0         4.304065      Binance Coin\n",
       "1         6.779922           Bitcoin\n",
       "5         1.386294            EOS.IO\n",
       "7         2.079442  Ethereum Classic\n",
       "6         5.894403          Ethereum\n",
       "9         2.397895          Litecoin\n",
       "11        1.609438            Monero\n",
       "13        1.791759              TRON\n",
       "12        2.079442           Stellar\n",
       "3         4.406719           Cardano\n",
       "8         1.098612              IOTA\n",
       "10        1.098612             Maker\n",
       "4         3.555348          Dogecoin"
      ]
     },
     "execution_count": 18,
     "metadata": {},
     "output_type": "execute_result"
    }
   ],
   "source": [
    "# Importing and storing asset details\n",
    "ASSET_DETAILS = pd.read_csv(filepath_or_buffer=\"data/asset_details.csv\", index_col=\"Asset_ID\")\n",
    "ASSET_DETAILS"
   ]
  },
  {
   "cell_type": "code",
   "execution_count": 30,
   "id": "7790f547",
   "metadata": {
    "ExecuteTime": {
     "end_time": "2023-03-23T21:54:55.957082Z",
     "start_time": "2023-03-23T21:54:30.222030Z"
    }
   },
   "outputs": [],
   "source": [
    "TRAIN = pd.read_csv(filepath_or_buffer=\"data/train.csv\")"
   ]
  },
  {
   "cell_type": "code",
   "execution_count": 32,
   "id": "e9a533c5",
   "metadata": {
    "ExecuteTime": {
     "end_time": "2023-03-23T21:55:14.929456Z",
     "start_time": "2023-03-23T21:55:11.317267Z"
    }
   },
   "outputs": [],
   "source": [
    "TRAIN[\"timestamp\"] = pd.to_datetime(arg=TRAIN[\"timestamp\"], \n",
    "                                    unit=\"s\", errors=\"ignore\")"
   ]
  },
  {
   "cell_type": "code",
   "execution_count": 45,
   "id": "6d251a12",
   "metadata": {
    "ExecuteTime": {
     "end_time": "2023-03-23T21:57:33.577358Z",
     "start_time": "2023-03-23T21:57:33.568440Z"
    }
   },
   "outputs": [
    {
     "name": "stdout",
     "output_type": "stream",
     "text": [
      "<class 'pandas.core.frame.DataFrame'>\n",
      "RangeIndex: 24236806 entries, 0 to 24236805\n",
      "Data columns (total 10 columns):\n",
      " #   Column     Dtype         \n",
      "---  ------     -----         \n",
      " 0   timestamp  datetime64[ns]\n",
      " 1   Asset_ID   int64         \n",
      " 2   Count      float64       \n",
      " 3   Open       float64       \n",
      " 4   High       float64       \n",
      " 5   Low        float64       \n",
      " 6   Close      float64       \n",
      " 7   Volume     float64       \n",
      " 8   VWAP       float64       \n",
      " 9   Target     float64       \n",
      "dtypes: datetime64[ns](1), float64(8), int64(1)\n",
      "memory usage: 1.8 GB\n"
     ]
    }
   ],
   "source": [
    "TRAIN.info()"
   ]
  },
  {
   "cell_type": "code",
   "execution_count": 53,
   "id": "a1256933",
   "metadata": {
    "ExecuteTime": {
     "end_time": "2023-03-23T22:01:14.650061Z",
     "start_time": "2023-03-23T22:01:14.645692Z"
    }
   },
   "outputs": [
    {
     "data": {
      "text/plain": [
       "Timestamp('2018-01-01 00:01:00')"
      ]
     },
     "execution_count": 53,
     "metadata": {},
     "output_type": "execute_result"
    }
   ],
   "source": [
    "TRAIN[\"timestamp\"][1]"
   ]
  },
  {
   "cell_type": "code",
   "execution_count": 66,
   "id": "3d3ad007",
   "metadata": {
    "ExecuteTime": {
     "end_time": "2023-03-23T22:03:31.801269Z",
     "start_time": "2023-03-23T22:03:00.411768Z"
    }
   },
   "outputs": [],
   "source": [
    "TRAIN[\"Row_ID\"] = TRAIN.index"
   ]
  },
  {
   "cell_type": "code",
   "execution_count": 65,
   "id": "73d8a1c4",
   "metadata": {
    "ExecuteTime": {
     "end_time": "2023-03-23T22:02:58.945433Z",
     "start_time": "2023-03-23T22:02:58.942741Z"
    }
   },
   "outputs": [],
   "source": [
    "#TRAIN.reset_index(inplace=True)"
   ]
  },
  {
   "cell_type": "code",
   "execution_count": 59,
   "id": "70af51c0",
   "metadata": {
    "ExecuteTime": {
     "end_time": "2023-03-23T22:02:17.672036Z",
     "start_time": "2023-03-23T22:02:11.321956Z"
    }
   },
   "outputs": [],
   "source": [
    "#TRAIN.set_index([\"Row_ID\", \"timestamp\"], inplace=True)"
   ]
  },
  {
   "cell_type": "code",
   "execution_count": 64,
   "id": "efeb22cd",
   "metadata": {
    "ExecuteTime": {
     "end_time": "2023-03-23T22:02:43.601125Z",
     "start_time": "2023-03-23T22:02:43.595312Z"
    }
   },
   "outputs": [
    {
     "data": {
      "text/plain": [
       "level_0         2.000000\n",
       "index           2.000000\n",
       "Asset_ID        1.000000\n",
       "Count         229.000000\n",
       "Open        13835.194000\n",
       "High        14013.800000\n",
       "Low         13666.110000\n",
       "Close       13850.176000\n",
       "Volume         31.550062\n",
       "VWAP        13827.062093\n",
       "Target         -0.014643\n",
       "Name: (2, 2018-01-01 00:01:00), dtype: float64"
      ]
     },
     "execution_count": 64,
     "metadata": {},
     "output_type": "execute_result"
    }
   ],
   "source": [
    "TRAIN.iloc[2,]"
   ]
  },
  {
   "cell_type": "code",
   "execution_count": 52,
   "id": "c9cb8d39",
   "metadata": {
    "ExecuteTime": {
     "end_time": "2023-03-23T22:00:04.734606Z",
     "start_time": "2023-03-23T22:00:04.667389Z"
    }
   },
   "outputs": [
    {
     "data": {
      "text/html": [
       "<div>\n",
       "<style scoped>\n",
       "    .dataframe tbody tr th:only-of-type {\n",
       "        vertical-align: middle;\n",
       "    }\n",
       "\n",
       "    .dataframe tbody tr th {\n",
       "        vertical-align: top;\n",
       "    }\n",
       "\n",
       "    .dataframe thead th {\n",
       "        text-align: right;\n",
       "    }\n",
       "</style>\n",
       "<table border=\"1\" class=\"dataframe\">\n",
       "  <thead>\n",
       "    <tr style=\"text-align: right;\">\n",
       "      <th></th>\n",
       "      <th>timestamp</th>\n",
       "      <th>Asset_ID</th>\n",
       "      <th>Count</th>\n",
       "      <th>Open</th>\n",
       "      <th>High</th>\n",
       "      <th>Low</th>\n",
       "      <th>Close</th>\n",
       "      <th>Volume</th>\n",
       "      <th>VWAP</th>\n",
       "      <th>Target</th>\n",
       "    </tr>\n",
       "  </thead>\n",
       "  <tbody>\n",
       "    <tr>\n",
       "      <th>12056</th>\n",
       "      <td>2018-01-02 02:01:00</td>\n",
       "      <td>2</td>\n",
       "      <td>121.0</td>\n",
       "      <td>2388.386667</td>\n",
       "      <td>2399.900</td>\n",
       "      <td>2377.7000</td>\n",
       "      <td>2389.143333</td>\n",
       "      <td>23.545853</td>\n",
       "      <td>2389.098753</td>\n",
       "      <td>0.003012</td>\n",
       "    </tr>\n",
       "    <tr>\n",
       "      <th>12057</th>\n",
       "      <td>2018-01-02 02:01:00</td>\n",
       "      <td>0</td>\n",
       "      <td>41.0</td>\n",
       "      <td>8.450200</td>\n",
       "      <td>8.480</td>\n",
       "      <td>8.4501</td>\n",
       "      <td>8.450100</td>\n",
       "      <td>4550.280000</td>\n",
       "      <td>8.453034</td>\n",
       "      <td>0.003290</td>\n",
       "    </tr>\n",
       "    <tr>\n",
       "      <th>12058</th>\n",
       "      <td>2018-01-02 02:01:00</td>\n",
       "      <td>1</td>\n",
       "      <td>680.0</td>\n",
       "      <td>13679.416000</td>\n",
       "      <td>13857.900</td>\n",
       "      <td>13616.2400</td>\n",
       "      <td>13696.650000</td>\n",
       "      <td>79.799739</td>\n",
       "      <td>13689.085731</td>\n",
       "      <td>-0.000019</td>\n",
       "    </tr>\n",
       "    <tr>\n",
       "      <th>12059</th>\n",
       "      <td>2018-01-02 02:01:00</td>\n",
       "      <td>5</td>\n",
       "      <td>42.0</td>\n",
       "      <td>8.429100</td>\n",
       "      <td>8.437</td>\n",
       "      <td>8.3667</td>\n",
       "      <td>8.370900</td>\n",
       "      <td>3431.836659</td>\n",
       "      <td>8.396779</td>\n",
       "      <td>0.019333</td>\n",
       "    </tr>\n",
       "    <tr>\n",
       "      <th>12060</th>\n",
       "      <td>2018-01-02 02:01:00</td>\n",
       "      <td>7</td>\n",
       "      <td>35.0</td>\n",
       "      <td>30.766500</td>\n",
       "      <td>30.993</td>\n",
       "      <td>30.5370</td>\n",
       "      <td>30.767500</td>\n",
       "      <td>3043.400768</td>\n",
       "      <td>30.768720</td>\n",
       "      <td>0.014947</td>\n",
       "    </tr>\n",
       "    <tr>\n",
       "      <th>12061</th>\n",
       "      <td>2018-01-02 02:01:00</td>\n",
       "      <td>6</td>\n",
       "      <td>799.0</td>\n",
       "      <td>846.585000</td>\n",
       "      <td>852.760</td>\n",
       "      <td>827.0000</td>\n",
       "      <td>844.477500</td>\n",
       "      <td>1952.468799</td>\n",
       "      <td>843.873541</td>\n",
       "      <td>0.048078</td>\n",
       "    </tr>\n",
       "    <tr>\n",
       "      <th>12062</th>\n",
       "      <td>2018-01-02 02:01:00</td>\n",
       "      <td>9</td>\n",
       "      <td>355.0</td>\n",
       "      <td>238.752000</td>\n",
       "      <td>240.880</td>\n",
       "      <td>236.6200</td>\n",
       "      <td>238.624000</td>\n",
       "      <td>1861.348662</td>\n",
       "      <td>238.789950</td>\n",
       "      <td>0.037191</td>\n",
       "    </tr>\n",
       "    <tr>\n",
       "      <th>12063</th>\n",
       "      <td>2018-01-02 02:01:00</td>\n",
       "      <td>11</td>\n",
       "      <td>12.0</td>\n",
       "      <td>355.765000</td>\n",
       "      <td>357.350</td>\n",
       "      <td>354.1600</td>\n",
       "      <td>356.160000</td>\n",
       "      <td>15.135289</td>\n",
       "      <td>355.892475</td>\n",
       "      <td>0.014257</td>\n",
       "    </tr>\n",
       "  </tbody>\n",
       "</table>\n",
       "</div>"
      ],
      "text/plain": [
       "                timestamp  Asset_ID  Count          Open       High  \\\n",
       "12056 2018-01-02 02:01:00         2  121.0   2388.386667   2399.900   \n",
       "12057 2018-01-02 02:01:00         0   41.0      8.450200      8.480   \n",
       "12058 2018-01-02 02:01:00         1  680.0  13679.416000  13857.900   \n",
       "12059 2018-01-02 02:01:00         5   42.0      8.429100      8.437   \n",
       "12060 2018-01-02 02:01:00         7   35.0     30.766500     30.993   \n",
       "12061 2018-01-02 02:01:00         6  799.0    846.585000    852.760   \n",
       "12062 2018-01-02 02:01:00         9  355.0    238.752000    240.880   \n",
       "12063 2018-01-02 02:01:00        11   12.0    355.765000    357.350   \n",
       "\n",
       "              Low         Close       Volume          VWAP    Target  \n",
       "12056   2377.7000   2389.143333    23.545853   2389.098753  0.003012  \n",
       "12057      8.4501      8.450100  4550.280000      8.453034  0.003290  \n",
       "12058  13616.2400  13696.650000    79.799739  13689.085731 -0.000019  \n",
       "12059      8.3667      8.370900  3431.836659      8.396779  0.019333  \n",
       "12060     30.5370     30.767500  3043.400768     30.768720  0.014947  \n",
       "12061    827.0000    844.477500  1952.468799    843.873541  0.048078  \n",
       "12062    236.6200    238.624000  1861.348662    238.789950  0.037191  \n",
       "12063    354.1600    356.160000    15.135289    355.892475  0.014257  "
      ]
     },
     "execution_count": 52,
     "metadata": {},
     "output_type": "execute_result"
    }
   ],
   "source": [
    "TRAIN[TRAIN[\"timestamp\"] == pd.Timestamp('2018-01-02 02:01:00')]"
   ]
  },
  {
   "cell_type": "code",
   "execution_count": null,
   "id": "cbfea291",
   "metadata": {},
   "outputs": [],
   "source": []
  },
  {
   "cell_type": "code",
   "execution_count": 67,
   "id": "8e5fbc8c",
   "metadata": {
    "ExecuteTime": {
     "end_time": "2023-03-23T22:04:03.326471Z",
     "start_time": "2023-03-23T22:04:03.323974Z"
    }
   },
   "outputs": [],
   "source": [
    "# TODO\n",
    "    # Split le dataframe de train en plusieurs dataframes: 1 par Asset_ID "
   ]
  },
  {
   "cell_type": "code",
   "execution_count": null,
   "id": "dc056373",
   "metadata": {},
   "outputs": [],
   "source": []
  }
 ],
 "metadata": {
  "kernelspec": {
   "display_name": "Python 3 (ipykernel)",
   "language": "python",
   "name": "python3"
  },
  "language_info": {
   "codemirror_mode": {
    "name": "ipython",
    "version": 3
   },
   "file_extension": ".py",
   "mimetype": "text/x-python",
   "name": "python",
   "nbconvert_exporter": "python",
   "pygments_lexer": "ipython3",
   "version": "3.10.6"
  },
  "toc": {
   "base_numbering": 1,
   "nav_menu": {},
   "number_sections": true,
   "sideBar": true,
   "skip_h1_title": false,
   "title_cell": "Table of Contents",
   "title_sidebar": "Contents",
   "toc_cell": false,
   "toc_position": {},
   "toc_section_display": true,
   "toc_window_display": false
  }
 },
 "nbformat": 4,
 "nbformat_minor": 5
}
