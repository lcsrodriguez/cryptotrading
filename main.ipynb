{
 "cells": [
  {
   "cell_type": "code",
   "execution_count": 152,
   "id": "7a32cbdb",
   "metadata": {
    "ExecuteTime": {
     "end_time": "2023-03-23T22:34:36.468603Z",
     "start_time": "2023-03-23T22:34:36.457899Z"
    }
   },
   "outputs": [],
   "source": [
    "import pandas as pd\n",
    "import glob\n",
    "import warnings\n",
    "import matplotlib.pyplot as plt\n",
    "\n",
    "# Setting default parameters\n",
    "plt.rcParams[\"figure.figsize\"] = [10, 5] # Figure sizes for Matplotlib \n",
    "plt.rcParams[\"axes.prop_cycle\"] = plt.cycler(color=[\"blue\", \"green\", \"red\", \"orange\", \"purple\", \"magenta\"]) # Color for plotting\n",
    "\n",
    "# Silencing all warnings for a better UX\n",
    "warnings.filterwarnings(\"ignore\")"
   ]
  },
  {
   "cell_type": "code",
   "execution_count": 69,
   "id": "30cce5db",
   "metadata": {
    "ExecuteTime": {
     "end_time": "2023-03-23T22:06:55.099951Z",
     "start_time": "2023-03-23T22:06:55.090828Z"
    }
   },
   "outputs": [
    {
     "data": {
      "text/plain": [
       "['data/asset_details.csv',\n",
       " 'data/supplemental_train.csv',\n",
       " 'data/train.csv',\n",
       " 'data/example_test.csv']"
      ]
     },
     "execution_count": 69,
     "metadata": {},
     "output_type": "execute_result"
    }
   ],
   "source": [
    "# Checking data filenames\n",
    "DATA_FILENAMES = glob.glob(\"data/*.csv\")\n",
    "DATA_FILENAMES"
   ]
  },
  {
   "cell_type": "code",
   "execution_count": 70,
   "id": "fd1ed43f",
   "metadata": {
    "ExecuteTime": {
     "end_time": "2023-03-23T22:06:56.169712Z",
     "start_time": "2023-03-23T22:06:56.165085Z"
    }
   },
   "outputs": [],
   "source": [
    "# Checking that we only have the 4 files\n",
    "assert len(DATA_FILENAMES) == 4"
   ]
  },
  {
   "cell_type": "code",
   "execution_count": 145,
   "id": "535b3f5b",
   "metadata": {
    "ExecuteTime": {
     "end_time": "2023-03-23T22:30:12.838193Z",
     "start_time": "2023-03-23T22:30:12.818756Z"
    }
   },
   "outputs": [
    {
     "data": {
      "text/html": [
       "<div>\n",
       "<style scoped>\n",
       "    .dataframe tbody tr th:only-of-type {\n",
       "        vertical-align: middle;\n",
       "    }\n",
       "\n",
       "    .dataframe tbody tr th {\n",
       "        vertical-align: top;\n",
       "    }\n",
       "\n",
       "    .dataframe thead th {\n",
       "        text-align: right;\n",
       "    }\n",
       "</style>\n",
       "<table border=\"1\" class=\"dataframe\">\n",
       "  <thead>\n",
       "    <tr style=\"text-align: right;\">\n",
       "      <th>Asset_ID</th>\n",
       "      <th>2</th>\n",
       "      <th>0</th>\n",
       "      <th>1</th>\n",
       "      <th>5</th>\n",
       "      <th>7</th>\n",
       "      <th>6</th>\n",
       "      <th>9</th>\n",
       "      <th>11</th>\n",
       "      <th>13</th>\n",
       "      <th>12</th>\n",
       "      <th>3</th>\n",
       "      <th>8</th>\n",
       "      <th>10</th>\n",
       "      <th>4</th>\n",
       "    </tr>\n",
       "  </thead>\n",
       "  <tbody>\n",
       "    <tr>\n",
       "      <th>Weight</th>\n",
       "      <td>2.397895</td>\n",
       "      <td>4.304065</td>\n",
       "      <td>6.779922</td>\n",
       "      <td>1.386294</td>\n",
       "      <td>2.079442</td>\n",
       "      <td>5.894403</td>\n",
       "      <td>2.397895</td>\n",
       "      <td>1.609438</td>\n",
       "      <td>1.791759</td>\n",
       "      <td>2.079442</td>\n",
       "      <td>4.406719</td>\n",
       "      <td>1.098612</td>\n",
       "      <td>1.098612</td>\n",
       "      <td>3.555348</td>\n",
       "    </tr>\n",
       "    <tr>\n",
       "      <th>Asset_Name</th>\n",
       "      <td>Bitcoin Cash</td>\n",
       "      <td>Binance Coin</td>\n",
       "      <td>Bitcoin</td>\n",
       "      <td>EOS.IO</td>\n",
       "      <td>Ethereum Classic</td>\n",
       "      <td>Ethereum</td>\n",
       "      <td>Litecoin</td>\n",
       "      <td>Monero</td>\n",
       "      <td>TRON</td>\n",
       "      <td>Stellar</td>\n",
       "      <td>Cardano</td>\n",
       "      <td>IOTA</td>\n",
       "      <td>Maker</td>\n",
       "      <td>Dogecoin</td>\n",
       "    </tr>\n",
       "  </tbody>\n",
       "</table>\n",
       "</div>"
      ],
      "text/plain": [
       "Asset_ID              2             0         1         5                 7   \\\n",
       "Weight          2.397895      4.304065  6.779922  1.386294          2.079442   \n",
       "Asset_Name  Bitcoin Cash  Binance Coin   Bitcoin    EOS.IO  Ethereum Classic   \n",
       "\n",
       "Asset_ID          6         9         11        13        12        3   \\\n",
       "Weight      5.894403  2.397895  1.609438  1.791759  2.079442  4.406719   \n",
       "Asset_Name  Ethereum  Litecoin    Monero      TRON   Stellar   Cardano   \n",
       "\n",
       "Asset_ID          8         10        4   \n",
       "Weight      1.098612  1.098612  3.555348  \n",
       "Asset_Name      IOTA     Maker  Dogecoin  "
      ]
     },
     "execution_count": 145,
     "metadata": {},
     "output_type": "execute_result"
    }
   ],
   "source": [
    "# Importing and storing asset details\n",
    "ASSET_DETAILS = pd.read_csv(filepath_or_buffer=\"data/asset_details.csv\", index_col=\"Asset_ID\")\n",
    "ASSET_DETAILS.T"
   ]
  },
  {
   "cell_type": "code",
   "execution_count": 146,
   "id": "3e439241",
   "metadata": {
    "ExecuteTime": {
     "end_time": "2023-03-23T22:30:15.481024Z",
     "start_time": "2023-03-23T22:30:15.473917Z"
    }
   },
   "outputs": [
    {
     "data": {
      "text/plain": [
       "[0, 1, 2, 3, 4, 5, 6, 7, 8, 9, 10, 11, 12, 13]"
      ]
     },
     "execution_count": 146,
     "metadata": {},
     "output_type": "execute_result"
    }
   ],
   "source": [
    "# Retrieving asset ids\n",
    "ASSET_IDs = sorted(list(ASSET_DETAILS.index))\n",
    "ASSET_IDs"
   ]
  },
  {
   "cell_type": "code",
   "execution_count": 203,
   "id": "55e94212",
   "metadata": {
    "ExecuteTime": {
     "end_time": "2023-03-23T22:51:48.835453Z",
     "start_time": "2023-03-23T22:51:48.830527Z"
    }
   },
   "outputs": [],
   "source": [
    "# Declaring utils functions\n",
    "\n",
    "def get_asset_id(asset_name: str) -> int:\n",
    "    \"\"\"\n",
    "    Function returning the asset id from a given asset name\n",
    "    \"\"\"\n",
    "    # Getting the list of asset names\n",
    "    LIST_ASSET_NAMES = ASSET_DETAILS['Asset_Name'].to_numpy()\n",
    "    \n",
    "    # Checking if the asset name is correct\n",
    "    if str(asset_name) not in LIST_ASSET_NAMES:\n",
    "        raise Exception(f\"The given asset name is unknown\\nPlease use one from: {LIST_ASSET_NAMES}\")\n",
    "    \n",
    "    # Returning the corresponding asset id\n",
    "    return list(ASSET_DETAILS.index[ASSET_DETAILS[\"Asset_Name\"] == str(asset_name)])[0]\n",
    "\n",
    "def get_asset_name(asset_id: int) -> str:\n",
    "    \"\"\"\n",
    "    Function returning the asset name from a given asset id\n",
    "    \"\"\"\n",
    "    if int(asset_id) not in ASSET_IDs:\n",
    "        raise Exception(f\"The given asset id is unknown\\nPlease use one from: {ASSET_IDs}\")\n",
    "    \n",
    "    return ASSET_DETAILS[\"Asset_Name\"][asset_id]"
   ]
  },
  {
   "cell_type": "code",
   "execution_count": 204,
   "id": "b6c2f8b3",
   "metadata": {
    "ExecuteTime": {
     "end_time": "2023-03-23T22:51:54.599440Z",
     "start_time": "2023-03-23T22:51:54.593453Z"
    }
   },
   "outputs": [
    {
     "data": {
      "text/plain": [
       "13"
      ]
     },
     "execution_count": 204,
     "metadata": {},
     "output_type": "execute_result"
    }
   ],
   "source": [
    "# Example\n",
    "get_asset_id(\"TRON\")"
   ]
  },
  {
   "cell_type": "code",
   "execution_count": 72,
   "id": "312ef1ad",
   "metadata": {
    "ExecuteTime": {
     "end_time": "2023-03-23T22:07:34.080508Z",
     "start_time": "2023-03-23T22:07:10.966798Z"
    }
   },
   "outputs": [],
   "source": [
    "# Importing training dataset\n",
    "TRAIN = pd.read_csv(filepath_or_buffer=\"data/train.csv\")"
   ]
  },
  {
   "cell_type": "code",
   "execution_count": 168,
   "id": "fad127b7",
   "metadata": {
    "ExecuteTime": {
     "end_time": "2023-03-23T22:43:29.877259Z",
     "start_time": "2023-03-23T22:43:00.451179Z"
    }
   },
   "outputs": [
    {
     "name": "stdout",
     "output_type": "stream",
     "text": [
      "--> Processing Asset #0 \t (Binance Coin)\n",
      "--> Processing Asset #1 \t (Bitcoin)\n",
      "--> Processing Asset #2 \t (Bitcoin Cash)\n",
      "--> Processing Asset #3 \t (Cardano)\n",
      "--> Processing Asset #4 \t (Dogecoin)\n",
      "--> Processing Asset #5 \t (EOS.IO)\n",
      "--> Processing Asset #6 \t (Ethereum)\n",
      "--> Processing Asset #7 \t (Ethereum Classic)\n",
      "--> Processing Asset #8 \t (IOTA)\n",
      "--> Processing Asset #9 \t (Litecoin)\n",
      "--> Processing Asset #10 \t (Maker)\n",
      "--> Processing Asset #11 \t (Monero)\n",
      "--> Processing Asset #12 \t (Stellar)\n",
      "--> Processing Asset #13 \t (TRON)\n"
     ]
    }
   ],
   "source": [
    "# Hashmap of train datasets for each asset id\n",
    "df_train = {asset_id: None for asset_id in ASSET_IDs}\n",
    "\n",
    "# For each asset id, perform the pre-processing\n",
    "for asset_id in ASSET_IDs:\n",
    "    print(f\"--> Processing Asset #{asset_id} \\t ({get_asset_name(asset_id)})\")\n",
    "    \n",
    "    # Retrieving the corresponding data rows\n",
    "    df_train[asset_id] = TRAIN[TRAIN[\"Asset_ID\"] == asset_id]\n",
    "    \n",
    "    # Removing the Asset_ID column (useless now)\n",
    "    try:\n",
    "        df_train[asset_id].drop([\"Asset_ID\", \"Target\"], axis=1, inplace=True)\n",
    "    except:\n",
    "        pass\n",
    "    \n",
    "    # Converting the timestamp column\n",
    "    df_train[asset_id][\"timestamp\"] = pd.to_datetime(arg=df_train[asset_id][\"timestamp\"], \n",
    "                                                     unit=\"s\", \n",
    "                                                     errors=\"ignore\")\n",
    "    # Setting the timestamp column as index column\n",
    "    df_train[asset_id].set_index([\"timestamp\"], inplace=True)"
   ]
  },
  {
   "cell_type": "code",
   "execution_count": 205,
   "id": "bb865f9e",
   "metadata": {
    "ExecuteTime": {
     "end_time": "2023-03-23T22:52:11.113614Z",
     "start_time": "2023-03-23T22:52:11.095624Z"
    }
   },
   "outputs": [
    {
     "data": {
      "text/html": [
       "<div>\n",
       "<style scoped>\n",
       "    .dataframe tbody tr th:only-of-type {\n",
       "        vertical-align: middle;\n",
       "    }\n",
       "\n",
       "    .dataframe tbody tr th {\n",
       "        vertical-align: top;\n",
       "    }\n",
       "\n",
       "    .dataframe thead th {\n",
       "        text-align: right;\n",
       "    }\n",
       "</style>\n",
       "<table border=\"1\" class=\"dataframe\">\n",
       "  <thead>\n",
       "    <tr style=\"text-align: right;\">\n",
       "      <th></th>\n",
       "      <th>Count</th>\n",
       "      <th>Open</th>\n",
       "      <th>High</th>\n",
       "      <th>Low</th>\n",
       "      <th>Close</th>\n",
       "      <th>Volume</th>\n",
       "      <th>VWAP</th>\n",
       "    </tr>\n",
       "    <tr>\n",
       "      <th>timestamp</th>\n",
       "      <th></th>\n",
       "      <th></th>\n",
       "      <th></th>\n",
       "      <th></th>\n",
       "      <th></th>\n",
       "      <th></th>\n",
       "      <th></th>\n",
       "    </tr>\n",
       "  </thead>\n",
       "  <tbody>\n",
       "    <tr>\n",
       "      <th>2018-01-01 00:01:00</th>\n",
       "      <td>229.0</td>\n",
       "      <td>13835.194000</td>\n",
       "      <td>14013.800000</td>\n",
       "      <td>13666.11</td>\n",
       "      <td>13850.176000</td>\n",
       "      <td>31.550062</td>\n",
       "      <td>13827.062093</td>\n",
       "    </tr>\n",
       "    <tr>\n",
       "      <th>2018-01-01 00:02:00</th>\n",
       "      <td>235.0</td>\n",
       "      <td>13835.036000</td>\n",
       "      <td>14052.300000</td>\n",
       "      <td>13680.00</td>\n",
       "      <td>13828.102000</td>\n",
       "      <td>31.046432</td>\n",
       "      <td>13840.362591</td>\n",
       "    </tr>\n",
       "    <tr>\n",
       "      <th>2018-01-01 00:03:00</th>\n",
       "      <td>528.0</td>\n",
       "      <td>13823.900000</td>\n",
       "      <td>14000.400000</td>\n",
       "      <td>13601.00</td>\n",
       "      <td>13801.314000</td>\n",
       "      <td>55.061820</td>\n",
       "      <td>13806.068014</td>\n",
       "    </tr>\n",
       "    <tr>\n",
       "      <th>2018-01-01 00:04:00</th>\n",
       "      <td>435.0</td>\n",
       "      <td>13802.512000</td>\n",
       "      <td>13999.000000</td>\n",
       "      <td>13576.28</td>\n",
       "      <td>13768.040000</td>\n",
       "      <td>38.780529</td>\n",
       "      <td>13783.598101</td>\n",
       "    </tr>\n",
       "    <tr>\n",
       "      <th>2018-01-01 00:05:00</th>\n",
       "      <td>742.0</td>\n",
       "      <td>13766.000000</td>\n",
       "      <td>13955.900000</td>\n",
       "      <td>13554.44</td>\n",
       "      <td>13724.914000</td>\n",
       "      <td>108.501637</td>\n",
       "      <td>13735.586842</td>\n",
       "    </tr>\n",
       "    <tr>\n",
       "      <th>...</th>\n",
       "      <td>...</td>\n",
       "      <td>...</td>\n",
       "      <td>...</td>\n",
       "      <td>...</td>\n",
       "      <td>...</td>\n",
       "      <td>...</td>\n",
       "      <td>...</td>\n",
       "    </tr>\n",
       "    <tr>\n",
       "      <th>2021-09-20 23:56:00</th>\n",
       "      <td>1940.0</td>\n",
       "      <td>42983.780000</td>\n",
       "      <td>43001.850849</td>\n",
       "      <td>42878.26</td>\n",
       "      <td>42899.012857</td>\n",
       "      <td>56.850913</td>\n",
       "      <td>42935.489499</td>\n",
       "    </tr>\n",
       "    <tr>\n",
       "      <th>2021-09-20 23:57:00</th>\n",
       "      <td>2026.0</td>\n",
       "      <td>42904.197143</td>\n",
       "      <td>42932.000000</td>\n",
       "      <td>42840.16</td>\n",
       "      <td>42860.005714</td>\n",
       "      <td>80.993326</td>\n",
       "      <td>42879.576084</td>\n",
       "    </tr>\n",
       "    <tr>\n",
       "      <th>2021-09-20 23:58:00</th>\n",
       "      <td>1986.0</td>\n",
       "      <td>42859.385714</td>\n",
       "      <td>42887.500000</td>\n",
       "      <td>42797.20</td>\n",
       "      <td>42827.020000</td>\n",
       "      <td>65.677734</td>\n",
       "      <td>42844.090693</td>\n",
       "    </tr>\n",
       "    <tr>\n",
       "      <th>2021-09-20 23:59:00</th>\n",
       "      <td>4047.0</td>\n",
       "      <td>42839.012802</td>\n",
       "      <td>43042.160000</td>\n",
       "      <td>42818.10</td>\n",
       "      <td>43017.277143</td>\n",
       "      <td>138.335477</td>\n",
       "      <td>42935.761938</td>\n",
       "    </tr>\n",
       "    <tr>\n",
       "      <th>2021-09-21 00:00:00</th>\n",
       "      <td>2698.0</td>\n",
       "      <td>43009.961250</td>\n",
       "      <td>43048.510000</td>\n",
       "      <td>42961.64</td>\n",
       "      <td>43002.505000</td>\n",
       "      <td>128.206820</td>\n",
       "      <td>43011.414052</td>\n",
       "    </tr>\n",
       "  </tbody>\n",
       "</table>\n",
       "<p>1956282 rows × 7 columns</p>\n",
       "</div>"
      ],
      "text/plain": [
       "                      Count          Open          High       Low  \\\n",
       "timestamp                                                           \n",
       "2018-01-01 00:01:00   229.0  13835.194000  14013.800000  13666.11   \n",
       "2018-01-01 00:02:00   235.0  13835.036000  14052.300000  13680.00   \n",
       "2018-01-01 00:03:00   528.0  13823.900000  14000.400000  13601.00   \n",
       "2018-01-01 00:04:00   435.0  13802.512000  13999.000000  13576.28   \n",
       "2018-01-01 00:05:00   742.0  13766.000000  13955.900000  13554.44   \n",
       "...                     ...           ...           ...       ...   \n",
       "2021-09-20 23:56:00  1940.0  42983.780000  43001.850849  42878.26   \n",
       "2021-09-20 23:57:00  2026.0  42904.197143  42932.000000  42840.16   \n",
       "2021-09-20 23:58:00  1986.0  42859.385714  42887.500000  42797.20   \n",
       "2021-09-20 23:59:00  4047.0  42839.012802  43042.160000  42818.10   \n",
       "2021-09-21 00:00:00  2698.0  43009.961250  43048.510000  42961.64   \n",
       "\n",
       "                            Close      Volume          VWAP  \n",
       "timestamp                                                    \n",
       "2018-01-01 00:01:00  13850.176000   31.550062  13827.062093  \n",
       "2018-01-01 00:02:00  13828.102000   31.046432  13840.362591  \n",
       "2018-01-01 00:03:00  13801.314000   55.061820  13806.068014  \n",
       "2018-01-01 00:04:00  13768.040000   38.780529  13783.598101  \n",
       "2018-01-01 00:05:00  13724.914000  108.501637  13735.586842  \n",
       "...                           ...         ...           ...  \n",
       "2021-09-20 23:56:00  42899.012857   56.850913  42935.489499  \n",
       "2021-09-20 23:57:00  42860.005714   80.993326  42879.576084  \n",
       "2021-09-20 23:58:00  42827.020000   65.677734  42844.090693  \n",
       "2021-09-20 23:59:00  43017.277143  138.335477  42935.761938  \n",
       "2021-09-21 00:00:00  43002.505000  128.206820  43011.414052  \n",
       "\n",
       "[1956282 rows x 7 columns]"
      ]
     },
     "execution_count": 205,
     "metadata": {},
     "output_type": "execute_result"
    }
   ],
   "source": [
    "# Displaying a DataFrame\n",
    "df_train[get_asset_id(\"Bitcoin\")]"
   ]
  },
  {
   "cell_type": "code",
   "execution_count": 206,
   "id": "ea4e3f77",
   "metadata": {
    "ExecuteTime": {
     "end_time": "2023-03-23T22:52:14.712047Z",
     "start_time": "2023-03-23T22:52:12.994207Z"
    }
   },
   "outputs": [
    {
     "data": {
      "image/png": "[encoded data removed]",
      "text/plain": [
       "<Figure size 1000x500 with 1 Axes>"
      ]
     },
     "metadata": {},
     "output_type": "display_data"
    }
   ],
   "source": [
    "# Displaying a random dataframe (train)\n",
    "_ = df_train[get_asset_id(\"Bitcoin\")][\"Open\"].plot()"
   ]
  },
  {
   "cell_type": "code",
   "execution_count": 170,
   "id": "05ddbbf5",
   "metadata": {
    "ExecuteTime": {
     "end_time": "2023-03-23T22:43:50.534231Z",
     "start_time": "2023-03-23T22:43:46.885445Z"
    }
   },
   "outputs": [
    {
     "data": {
      "image/png": "[encoded data removed]",
      "text/plain": [
       "<Figure size 1000x500 with 1 Axes>"
      ]
     },
     "metadata": {},
     "output_type": "display_data"
    }
   ],
   "source": [
    "# Declaring the column labels\n",
    "OHLC = [\"Open\", \"High\", \"Low\", \"Close\"]\n",
    "OHLCV = OHLC + [\"Volume\"]\n",
    "TRADING_ACTIVITY = [\"Count\"]\n",
    "VWAP = [\"VWAP\"]\n",
    "TARGET = [\"Target\"]\n",
    "\n",
    "_ = df_train[get_asset_id(\"TRON\")][TRADING_ACTIVITY].plot()"
   ]
  },
  {
   "cell_type": "code",
   "execution_count": 96,
   "id": "09204c0d",
   "metadata": {
    "ExecuteTime": {
     "end_time": "2023-03-23T22:12:39.128381Z",
     "start_time": "2023-03-23T22:12:39.122737Z"
    }
   },
   "outputs": [],
   "source": [
    "# Checking the sum of the number of rows for each asset id is equal to the number of rows from the original dataset\n",
    "# ==> No loss\n",
    "assert sum([df_train[k].shape[0] for k in ASSET_IDs]) == TRAIN.shape[0]"
   ]
  },
  {
   "cell_type": "code",
   "execution_count": 200,
   "id": "d4d3a8f2",
   "metadata": {
    "ExecuteTime": {
     "end_time": "2023-03-23T22:50:05.671169Z",
     "start_time": "2023-03-23T22:50:05.649750Z"
    }
   },
   "outputs": [
    {
     "name": "stdout",
     "output_type": "stream",
     "text": [
      "Global mem. usage: \t 1.6 GB\n"
     ]
    }
   ],
   "source": [
    "# Getting memory usage\n",
    "\n",
    "# Computing the memory usage of each DataFrame\n",
    "MEM_USAGE = {asset_id: df_train[asset_id].memory_usage(index=True).sum()/10**6 for asset_id in ASSET_IDs}\n",
    "\n",
    "# Computing the global memory usage\n",
    "GLOBAL_MEM_USAGE = sum(list(MEM_USAGE.values()))/10**3\n",
    "print(f\"Global mem. usage: \\t {GLOBAL_MEM_USAGE :.1f} GB\")"
   ]
  },
  {
   "cell_type": "code",
   "execution_count": 161,
   "id": "8c773b18",
   "metadata": {
    "ExecuteTime": {
     "end_time": "2023-03-23T22:38:58.087245Z",
     "start_time": "2023-03-23T22:38:55.669813Z"
    }
   },
   "outputs": [],
   "source": [
    "# Importing second train\n",
    "TRAIN_2 = pd.read_csv(filepath_or_buffer=\"data/supplemental_train.csv\")"
   ]
  },
  {
   "cell_type": "code",
   "execution_count": 201,
   "id": "a34b05e5",
   "metadata": {
    "ExecuteTime": {
     "end_time": "2023-03-23T22:50:17.525304Z",
     "start_time": "2023-03-23T22:50:17.475043Z"
    }
   },
   "outputs": [
    {
     "data": {
      "text/html": [
       "<div>\n",
       "<style scoped>\n",
       "    .dataframe tbody tr th:only-of-type {\n",
       "        vertical-align: middle;\n",
       "    }\n",
       "\n",
       "    .dataframe tbody tr th {\n",
       "        vertical-align: top;\n",
       "    }\n",
       "\n",
       "    .dataframe thead th {\n",
       "        text-align: right;\n",
       "    }\n",
       "</style>\n",
       "<table border=\"1\" class=\"dataframe\">\n",
       "  <thead>\n",
       "    <tr style=\"text-align: right;\">\n",
       "      <th></th>\n",
       "      <th>timestamp</th>\n",
       "      <th>Asset_ID</th>\n",
       "      <th>Count</th>\n",
       "      <th>Open</th>\n",
       "      <th>High</th>\n",
       "      <th>Low</th>\n",
       "      <th>Close</th>\n",
       "      <th>Volume</th>\n",
       "      <th>VWAP</th>\n",
       "      <th>Target</th>\n",
       "    </tr>\n",
       "  </thead>\n",
       "  <tbody>\n",
       "    <tr>\n",
       "      <th>0</th>\n",
       "      <td>1632182460</td>\n",
       "      <td>3</td>\n",
       "      <td>561.0</td>\n",
       "      <td>2.079028</td>\n",
       "      <td>2.080605</td>\n",
       "      <td>2.072000</td>\n",
       "      <td>2.076458</td>\n",
       "      <td>2.804627e+05</td>\n",
       "      <td>2.075869</td>\n",
       "      <td>0.003085</td>\n",
       "    </tr>\n",
       "    <tr>\n",
       "      <th>1</th>\n",
       "      <td>1632182460</td>\n",
       "      <td>2</td>\n",
       "      <td>169.0</td>\n",
       "      <td>541.006000</td>\n",
       "      <td>541.200000</td>\n",
       "      <td>539.700000</td>\n",
       "      <td>540.722000</td>\n",
       "      <td>1.889432e+02</td>\n",
       "      <td>540.716930</td>\n",
       "      <td>-0.000607</td>\n",
       "    </tr>\n",
       "    <tr>\n",
       "      <th>2</th>\n",
       "      <td>1632182460</td>\n",
       "      <td>0</td>\n",
       "      <td>400.0</td>\n",
       "      <td>363.737500</td>\n",
       "      <td>363.900000</td>\n",
       "      <td>363.000000</td>\n",
       "      <td>363.654000</td>\n",
       "      <td>8.792685e+02</td>\n",
       "      <td>363.499554</td>\n",
       "      <td>-0.019375</td>\n",
       "    </tr>\n",
       "    <tr>\n",
       "      <th>3</th>\n",
       "      <td>1632182460</td>\n",
       "      <td>1</td>\n",
       "      <td>1933.0</td>\n",
       "      <td>42986.143333</td>\n",
       "      <td>43001.000000</td>\n",
       "      <td>42898.000000</td>\n",
       "      <td>42947.065566</td>\n",
       "      <td>9.183861e+01</td>\n",
       "      <td>42942.976718</td>\n",
       "      <td>-0.000374</td>\n",
       "    </tr>\n",
       "    <tr>\n",
       "      <th>4</th>\n",
       "      <td>1632182460</td>\n",
       "      <td>4</td>\n",
       "      <td>348.0</td>\n",
       "      <td>0.208326</td>\n",
       "      <td>0.208400</td>\n",
       "      <td>0.207800</td>\n",
       "      <td>0.208200</td>\n",
       "      <td>1.051337e+06</td>\n",
       "      <td>0.208077</td>\n",
       "      <td>-0.001233</td>\n",
       "    </tr>\n",
       "    <tr>\n",
       "      <th>...</th>\n",
       "      <td>...</td>\n",
       "      <td>...</td>\n",
       "      <td>...</td>\n",
       "      <td>...</td>\n",
       "      <td>...</td>\n",
       "      <td>...</td>\n",
       "      <td>...</td>\n",
       "      <td>...</td>\n",
       "      <td>...</td>\n",
       "      <td>...</td>\n",
       "    </tr>\n",
       "    <tr>\n",
       "      <th>2518273</th>\n",
       "      <td>1642982400</td>\n",
       "      <td>9</td>\n",
       "      <td>214.0</td>\n",
       "      <td>112.293000</td>\n",
       "      <td>112.470000</td>\n",
       "      <td>111.840000</td>\n",
       "      <td>111.983333</td>\n",
       "      <td>1.243860e+03</td>\n",
       "      <td>112.127619</td>\n",
       "      <td>NaN</td>\n",
       "    </tr>\n",
       "    <tr>\n",
       "      <th>2518274</th>\n",
       "      <td>1642982400</td>\n",
       "      <td>10</td>\n",
       "      <td>25.0</td>\n",
       "      <td>1833.565000</td>\n",
       "      <td>1834.700000</td>\n",
       "      <td>1831.050000</td>\n",
       "      <td>1833.018333</td>\n",
       "      <td>4.190290e+00</td>\n",
       "      <td>1833.173692</td>\n",
       "      <td>NaN</td>\n",
       "    </tr>\n",
       "    <tr>\n",
       "      <th>2518275</th>\n",
       "      <td>1642982400</td>\n",
       "      <td>13</td>\n",
       "      <td>235.0</td>\n",
       "      <td>0.057520</td>\n",
       "      <td>0.057618</td>\n",
       "      <td>0.057389</td>\n",
       "      <td>0.057478</td>\n",
       "      <td>8.988253e+05</td>\n",
       "      <td>0.057519</td>\n",
       "      <td>NaN</td>\n",
       "    </tr>\n",
       "    <tr>\n",
       "      <th>2518276</th>\n",
       "      <td>1642982400</td>\n",
       "      <td>12</td>\n",
       "      <td>492.0</td>\n",
       "      <td>0.200940</td>\n",
       "      <td>0.201066</td>\n",
       "      <td>0.199352</td>\n",
       "      <td>0.200093</td>\n",
       "      <td>2.983796e+06</td>\n",
       "      <td>0.200413</td>\n",
       "      <td>NaN</td>\n",
       "    </tr>\n",
       "    <tr>\n",
       "      <th>2518277</th>\n",
       "      <td>1642982400</td>\n",
       "      <td>11</td>\n",
       "      <td>40.0</td>\n",
       "      <td>156.764000</td>\n",
       "      <td>156.930000</td>\n",
       "      <td>156.200000</td>\n",
       "      <td>156.550000</td>\n",
       "      <td>7.439747e+01</td>\n",
       "      <td>156.638720</td>\n",
       "      <td>NaN</td>\n",
       "    </tr>\n",
       "  </tbody>\n",
       "</table>\n",
       "<p>2518278 rows × 10 columns</p>\n",
       "</div>"
      ],
      "text/plain": [
       "          timestamp  Asset_ID   Count          Open          High  \\\n",
       "0        1632182460         3   561.0      2.079028      2.080605   \n",
       "1        1632182460         2   169.0    541.006000    541.200000   \n",
       "2        1632182460         0   400.0    363.737500    363.900000   \n",
       "3        1632182460         1  1933.0  42986.143333  43001.000000   \n",
       "4        1632182460         4   348.0      0.208326      0.208400   \n",
       "...             ...       ...     ...           ...           ...   \n",
       "2518273  1642982400         9   214.0    112.293000    112.470000   \n",
       "2518274  1642982400        10    25.0   1833.565000   1834.700000   \n",
       "2518275  1642982400        13   235.0      0.057520      0.057618   \n",
       "2518276  1642982400        12   492.0      0.200940      0.201066   \n",
       "2518277  1642982400        11    40.0    156.764000    156.930000   \n",
       "\n",
       "                  Low         Close        Volume          VWAP    Target  \n",
       "0            2.072000      2.076458  2.804627e+05      2.075869  0.003085  \n",
       "1          539.700000    540.722000  1.889432e+02    540.716930 -0.000607  \n",
       "2          363.000000    363.654000  8.792685e+02    363.499554 -0.019375  \n",
       "3        42898.000000  42947.065566  9.183861e+01  42942.976718 -0.000374  \n",
       "4            0.207800      0.208200  1.051337e+06      0.208077 -0.001233  \n",
       "...               ...           ...           ...           ...       ...  \n",
       "2518273    111.840000    111.983333  1.243860e+03    112.127619       NaN  \n",
       "2518274   1831.050000   1833.018333  4.190290e+00   1833.173692       NaN  \n",
       "2518275      0.057389      0.057478  8.988253e+05      0.057519       NaN  \n",
       "2518276      0.199352      0.200093  2.983796e+06      0.200413       NaN  \n",
       "2518277    156.200000    156.550000  7.439747e+01    156.638720       NaN  \n",
       "\n",
       "[2518278 rows x 10 columns]"
      ]
     },
     "execution_count": 201,
     "metadata": {},
     "output_type": "execute_result"
    }
   ],
   "source": [
    "TRAIN_2"
   ]
  },
  {
   "cell_type": "code",
   "execution_count": null,
   "id": "7e637e16",
   "metadata": {},
   "outputs": [],
   "source": []
  },
  {
   "cell_type": "code",
   "execution_count": null,
   "id": "48b0702d",
   "metadata": {},
   "outputs": [],
   "source": []
  },
  {
   "cell_type": "code",
   "execution_count": null,
   "id": "38b7255f",
   "metadata": {},
   "outputs": [],
   "source": []
  },
  {
   "cell_type": "code",
   "execution_count": null,
   "id": "241999ba",
   "metadata": {},
   "outputs": [],
   "source": []
  }
 ],
 "metadata": {
  "kernelspec": {
   "display_name": "Python 3 (ipykernel)",
   "language": "python",
   "name": "python3"
  },
  "language_info": {
   "codemirror_mode": {
    "name": "ipython",
    "version": 3
   },
   "file_extension": ".py",
   "mimetype": "text/x-python",
   "name": "python",
   "nbconvert_exporter": "python",
   "pygments_lexer": "ipython3",
   "version": "3.10.6"
  },
  "toc": {
   "base_numbering": 1,
   "nav_menu": {},
   "number_sections": true,
   "sideBar": true,
   "skip_h1_title": false,
   "title_cell": "Table of Contents",
   "title_sidebar": "Contents",
   "toc_cell": false,
   "toc_position": {},
   "toc_section_display": true,
   "toc_window_display": false
  }
 },
 "nbformat": 4,
 "nbformat_minor": 5
}
