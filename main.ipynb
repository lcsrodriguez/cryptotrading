{
 "cells": [
  {
   "cell_type": "markdown",
   "id": "8c57f12c",
   "metadata": {},
   "source": [
    "# Crypto Trading strategies & Transfer learning - ML/DL project\n",
    "\n",
    "\n",
    "- **Arian NAJAFY ABRANDABADY - Lucas RODRIGUEZ - Bastien TRIDON**\n",
    "- *Academic works (March - April 2023)*"
   ]
  },
  {
   "cell_type": "markdown",
   "id": "f2f2b09c",
   "metadata": {},
   "source": [
    "**Original dataset**:\n",
    "- https://www.kaggle.com/competitions/g-research-crypto-forecasting"
   ]
  },
  {
   "cell_type": "markdown",
   "id": "da90d990",
   "metadata": {},
   "source": [
    "## Pre-processing"
   ]
  },
  {
   "cell_type": "code",
   "execution_count": 1,
   "id": "6c99605c",
   "metadata": {
    "ExecuteTime": {
     "end_time": "2023-03-24T11:21:57.877046Z",
     "start_time": "2023-03-24T11:21:55.729648Z"
    }
   },
   "outputs": [],
   "source": [
    "# Importing necessary modules\n",
    "import pandas as pd\n",
    "import numpy as np\n",
    "import glob\n",
    "import warnings\n",
    "import matplotlib\n",
    "import missingno as msn\n",
    "#matplotlib.use(\"nbagg\")\n",
    "import matplotlib.pyplot as plt\n",
    "#from plotly.offline import init_notebook_mode, iplot\n",
    "#from plotly.graph_objs import *\n",
    "import seaborn as sns\n",
    "#import mplfinance as mpf\n",
    "\n",
    "#init_notebook_mode(connected=True) \n",
    "#pd.options.plotting.backend = \"plotly\"\n",
    "\n",
    "\n",
    "# Setting default parameters\n",
    "plt.rcParams[\"figure.figsize\"] = [12, 5] # Figure sizes for Matplotlib \n",
    "plt.rcParams[\"axes.prop_cycle\"] = plt.cycler(color=[\"blue\", \"green\", \"red\", \"orange\", \"purple\", \"magenta\"]) # Color for plotting\n",
    "\n",
    "# Silencing all warnings for a better UX\n",
    "warnings.filterwarnings(\"ignore\")"
   ]
  },
  {
   "cell_type": "markdown",
   "id": "470012a3",
   "metadata": {},
   "source": [
    "### Utils & Necessary functions"
   ]
  },
  {
   "cell_type": "code",
   "execution_count": 2,
   "id": "d016ddfd",
   "metadata": {
    "ExecuteTime": {
     "end_time": "2023-03-24T11:22:00.223752Z",
     "start_time": "2023-03-24T11:22:00.219140Z"
    }
   },
   "outputs": [],
   "source": [
    "# Declaring the column labels\n",
    "OHLC = [\"Open\", \"High\", \"Low\", \"Close\"]\n",
    "OHLCV = OHLC + [\"Volume\"]\n",
    "TRADING_ACTIVITY = [\"Count\"]\n",
    "VWAP = [\"VWAP\"]\n",
    "TARGET = [\"Target\"]"
   ]
  },
  {
   "cell_type": "code",
   "execution_count": 3,
   "id": "c3e7b3b8",
   "metadata": {
    "ExecuteTime": {
     "end_time": "2023-03-24T11:22:00.469945Z",
     "start_time": "2023-03-24T11:22:00.457775Z"
    }
   },
   "outputs": [
    {
     "data": {
      "text/plain": [
       "['data/asset_details.csv',\n",
       " 'data/supplemental_train.csv',\n",
       " 'data/train.csv',\n",
       " 'data/example_test.csv']"
      ]
     },
     "execution_count": 3,
     "metadata": {},
     "output_type": "execute_result"
    }
   ],
   "source": [
    "# Checking data filenames\n",
    "DATA_FILENAMES = glob.glob(\"data/*.csv\")\n",
    "DATA_FILENAMES"
   ]
  },
  {
   "cell_type": "code",
   "execution_count": 4,
   "id": "29777ea2",
   "metadata": {
    "ExecuteTime": {
     "end_time": "2023-03-24T11:22:00.725884Z",
     "start_time": "2023-03-24T11:22:00.723205Z"
    }
   },
   "outputs": [],
   "source": [
    "# Checking that we only have the 4 files\n",
    "assert len(DATA_FILENAMES) == 4"
   ]
  },
  {
   "cell_type": "code",
   "execution_count": 5,
   "id": "28ca54f0",
   "metadata": {
    "ExecuteTime": {
     "end_time": "2023-03-24T11:22:01.115255Z",
     "start_time": "2023-03-24T11:22:01.097626Z"
    }
   },
   "outputs": [
    {
     "data": {
      "text/html": [
       "<div>\n",
       "<style scoped>\n",
       "    .dataframe tbody tr th:only-of-type {\n",
       "        vertical-align: middle;\n",
       "    }\n",
       "\n",
       "    .dataframe tbody tr th {\n",
       "        vertical-align: top;\n",
       "    }\n",
       "\n",
       "    .dataframe thead th {\n",
       "        text-align: right;\n",
       "    }\n",
       "</style>\n",
       "<table border=\"1\" class=\"dataframe\">\n",
       "  <thead>\n",
       "    <tr style=\"text-align: right;\">\n",
       "      <th>Asset_ID</th>\n",
       "      <th>2</th>\n",
       "      <th>0</th>\n",
       "      <th>1</th>\n",
       "      <th>5</th>\n",
       "      <th>7</th>\n",
       "      <th>6</th>\n",
       "      <th>9</th>\n",
       "      <th>11</th>\n",
       "      <th>13</th>\n",
       "      <th>12</th>\n",
       "      <th>3</th>\n",
       "      <th>8</th>\n",
       "      <th>10</th>\n",
       "      <th>4</th>\n",
       "    </tr>\n",
       "  </thead>\n",
       "  <tbody>\n",
       "    <tr>\n",
       "      <th>Weight</th>\n",
       "      <td>2.397895</td>\n",
       "      <td>4.304065</td>\n",
       "      <td>6.779922</td>\n",
       "      <td>1.386294</td>\n",
       "      <td>2.079442</td>\n",
       "      <td>5.894403</td>\n",
       "      <td>2.397895</td>\n",
       "      <td>1.609438</td>\n",
       "      <td>1.791759</td>\n",
       "      <td>2.079442</td>\n",
       "      <td>4.406719</td>\n",
       "      <td>1.098612</td>\n",
       "      <td>1.098612</td>\n",
       "      <td>3.555348</td>\n",
       "    </tr>\n",
       "    <tr>\n",
       "      <th>Asset_Name</th>\n",
       "      <td>Bitcoin Cash</td>\n",
       "      <td>Binance Coin</td>\n",
       "      <td>Bitcoin</td>\n",
       "      <td>EOS.IO</td>\n",
       "      <td>Ethereum Classic</td>\n",
       "      <td>Ethereum</td>\n",
       "      <td>Litecoin</td>\n",
       "      <td>Monero</td>\n",
       "      <td>TRON</td>\n",
       "      <td>Stellar</td>\n",
       "      <td>Cardano</td>\n",
       "      <td>IOTA</td>\n",
       "      <td>Maker</td>\n",
       "      <td>Dogecoin</td>\n",
       "    </tr>\n",
       "  </tbody>\n",
       "</table>\n",
       "</div>"
      ],
      "text/plain": [
       "Asset_ID              2             0         1         5                 7   \\\n",
       "Weight          2.397895      4.304065  6.779922  1.386294          2.079442   \n",
       "Asset_Name  Bitcoin Cash  Binance Coin   Bitcoin    EOS.IO  Ethereum Classic   \n",
       "\n",
       "Asset_ID          6         9         11        13        12        3   \\\n",
       "Weight      5.894403  2.397895  1.609438  1.791759  2.079442  4.406719   \n",
       "Asset_Name  Ethereum  Litecoin    Monero      TRON   Stellar   Cardano   \n",
       "\n",
       "Asset_ID          8         10        4   \n",
       "Weight      1.098612  1.098612  3.555348  \n",
       "Asset_Name      IOTA     Maker  Dogecoin  "
      ]
     },
     "execution_count": 5,
     "metadata": {},
     "output_type": "execute_result"
    }
   ],
   "source": [
    "# Importing and storing asset details\n",
    "ASSET_DETAILS = pd.read_csv(filepath_or_buffer=\"data/asset_details.csv\", index_col=\"Asset_ID\")\n",
    "ASSET_DETAILS.T"
   ]
  },
  {
   "cell_type": "code",
   "execution_count": 6,
   "id": "3f018bb6",
   "metadata": {
    "ExecuteTime": {
     "end_time": "2023-03-24T11:22:01.729822Z",
     "start_time": "2023-03-24T11:22:01.724197Z"
    }
   },
   "outputs": [
    {
     "data": {
      "text/plain": [
       "[0, 1, 2, 3, 4, 5, 6, 7, 8, 9, 10, 11, 12, 13]"
      ]
     },
     "execution_count": 6,
     "metadata": {},
     "output_type": "execute_result"
    }
   ],
   "source": [
    "# Retrieving asset ids\n",
    "ASSET_IDS = sorted(list(ASSET_DETAILS.index))\n",
    "ASSET_IDS"
   ]
  },
  {
   "cell_type": "code",
   "execution_count": 7,
   "id": "21191f78",
   "metadata": {
    "ExecuteTime": {
     "end_time": "2023-03-24T11:22:02.296658Z",
     "start_time": "2023-03-24T11:22:02.291535Z"
    }
   },
   "outputs": [],
   "source": [
    "# Declaring utils functions\n",
    "\n",
    "def get_asset_id(asset_name: str) -> int:\n",
    "    \"\"\"\n",
    "    Function returning the asset id from a given asset name\n",
    "    \"\"\"\n",
    "    # Getting the list of asset names\n",
    "    LIST_ASSET_NAMES = ASSET_DETAILS['Asset_Name'].to_numpy()\n",
    "    \n",
    "    # Checking if the asset name is correct\n",
    "    if str(asset_name) not in LIST_ASSET_NAMES:\n",
    "        raise Exception(f\"The given asset name is unknown\\nPlease use one from: {LIST_ASSET_NAMES}\")\n",
    "    \n",
    "    # Returning the corresponding asset id\n",
    "    return list(ASSET_DETAILS.index[ASSET_DETAILS[\"Asset_Name\"] == str(asset_name)])[0]\n",
    "\n",
    "def get_asset_name(asset_id: int) -> str:\n",
    "    \"\"\"\n",
    "    Function returning the asset name from a given asset id\n",
    "    \"\"\"\n",
    "    if int(asset_id) not in ASSET_IDS:\n",
    "        raise Exception(f\"The given asset id is unknown\\nPlease use one from: {ASSET_IDS}\")\n",
    "    \n",
    "    return ASSET_DETAILS[\"Asset_Name\"][asset_id]"
   ]
  },
  {
   "cell_type": "code",
   "execution_count": 8,
   "id": "ff83b715",
   "metadata": {
    "ExecuteTime": {
     "end_time": "2023-03-24T11:22:02.823399Z",
     "start_time": "2023-03-24T11:22:02.817510Z"
    }
   },
   "outputs": [
    {
     "data": {
      "text/plain": [
       "['Binance Coin',\n",
       " 'Bitcoin',\n",
       " 'Bitcoin Cash',\n",
       " 'Cardano',\n",
       " 'Dogecoin',\n",
       " 'EOS.IO',\n",
       " 'Ethereum',\n",
       " 'Ethereum Classic',\n",
       " 'IOTA',\n",
       " 'Litecoin',\n",
       " 'Maker',\n",
       " 'Monero',\n",
       " 'Stellar',\n",
       " 'TRON']"
      ]
     },
     "execution_count": 8,
     "metadata": {},
     "output_type": "execute_result"
    }
   ],
   "source": [
    "ASSET_NAMES = [str(get_asset_name(k)) for k in ASSET_IDS]\n",
    "ASSET_NAMES"
   ]
  },
  {
   "cell_type": "code",
   "execution_count": 9,
   "id": "c23f8ecf",
   "metadata": {
    "ExecuteTime": {
     "end_time": "2023-03-24T11:22:03.272022Z",
     "start_time": "2023-03-24T11:22:03.265844Z"
    }
   },
   "outputs": [
    {
     "data": {
      "text/plain": [
       "13"
      ]
     },
     "execution_count": 9,
     "metadata": {},
     "output_type": "execute_result"
    }
   ],
   "source": [
    "# Example\n",
    "get_asset_id(\"TRON\")"
   ]
  },
  {
   "cell_type": "markdown",
   "id": "070a1102",
   "metadata": {},
   "source": [
    "### Datasets imports (TRAIN/TEST)"
   ]
  },
  {
   "cell_type": "markdown",
   "id": "9248ea00",
   "metadata": {},
   "source": [
    "**TRAIN/TRAIN_2 datasets**"
   ]
  },
  {
   "cell_type": "code",
   "execution_count": 10,
   "id": "cff2903e",
   "metadata": {
    "ExecuteTime": {
     "end_time": "2023-03-24T11:22:28.818627Z",
     "start_time": "2023-03-24T11:22:08.997250Z"
    }
   },
   "outputs": [],
   "source": [
    "# Importing training dataset\n",
    "TRAIN = pd.read_csv(filepath_or_buffer=\"data/train.csv\")"
   ]
  },
  {
   "cell_type": "code",
   "execution_count": 11,
   "id": "267d1345",
   "metadata": {
    "ExecuteTime": {
     "end_time": "2023-03-24T11:22:44.191434Z",
     "start_time": "2023-03-24T11:22:42.091498Z"
    }
   },
   "outputs": [],
   "source": [
    "# Importing second training dataset\n",
    "TRAIN_2 = pd.read_csv(filepath_or_buffer=\"data/supplemental_train.csv\")"
   ]
  },
  {
   "cell_type": "code",
   "execution_count": 12,
   "id": "fbca27c5",
   "metadata": {
    "ExecuteTime": {
     "end_time": "2023-03-24T11:22:48.256109Z",
     "start_time": "2023-03-24T11:22:48.246157Z"
    }
   },
   "outputs": [
    {
     "data": {
      "text/html": [
       "<div>\n",
       "<style scoped>\n",
       "    .dataframe tbody tr th:only-of-type {\n",
       "        vertical-align: middle;\n",
       "    }\n",
       "\n",
       "    .dataframe tbody tr th {\n",
       "        vertical-align: top;\n",
       "    }\n",
       "\n",
       "    .dataframe thead th {\n",
       "        text-align: right;\n",
       "    }\n",
       "</style>\n",
       "<table border=\"1\" class=\"dataframe\">\n",
       "  <thead>\n",
       "    <tr style=\"text-align: right;\">\n",
       "      <th></th>\n",
       "      <th>timestamp</th>\n",
       "      <th>Asset_ID</th>\n",
       "      <th>Count</th>\n",
       "      <th>Open</th>\n",
       "      <th>High</th>\n",
       "      <th>Low</th>\n",
       "      <th>Close</th>\n",
       "      <th>Volume</th>\n",
       "      <th>VWAP</th>\n",
       "      <th>Target</th>\n",
       "    </tr>\n",
       "  </thead>\n",
       "  <tbody>\n",
       "    <tr>\n",
       "      <th>0</th>\n",
       "      <td>1514764860</td>\n",
       "      <td>2</td>\n",
       "      <td>40.0</td>\n",
       "      <td>2376.5800</td>\n",
       "      <td>2399.5000</td>\n",
       "      <td>2357.1400</td>\n",
       "      <td>2374.5900</td>\n",
       "      <td>19.233005</td>\n",
       "      <td>2373.116392</td>\n",
       "      <td>-0.004218</td>\n",
       "    </tr>\n",
       "    <tr>\n",
       "      <th>1</th>\n",
       "      <td>1514764860</td>\n",
       "      <td>0</td>\n",
       "      <td>5.0</td>\n",
       "      <td>8.5300</td>\n",
       "      <td>8.5300</td>\n",
       "      <td>8.5300</td>\n",
       "      <td>8.5300</td>\n",
       "      <td>78.380000</td>\n",
       "      <td>8.530000</td>\n",
       "      <td>-0.014399</td>\n",
       "    </tr>\n",
       "    <tr>\n",
       "      <th>2</th>\n",
       "      <td>1514764860</td>\n",
       "      <td>1</td>\n",
       "      <td>229.0</td>\n",
       "      <td>13835.1940</td>\n",
       "      <td>14013.8000</td>\n",
       "      <td>13666.1100</td>\n",
       "      <td>13850.1760</td>\n",
       "      <td>31.550062</td>\n",
       "      <td>13827.062093</td>\n",
       "      <td>-0.014643</td>\n",
       "    </tr>\n",
       "    <tr>\n",
       "      <th>3</th>\n",
       "      <td>1514764860</td>\n",
       "      <td>5</td>\n",
       "      <td>32.0</td>\n",
       "      <td>7.6596</td>\n",
       "      <td>7.6596</td>\n",
       "      <td>7.6567</td>\n",
       "      <td>7.6576</td>\n",
       "      <td>6626.713370</td>\n",
       "      <td>7.657713</td>\n",
       "      <td>-0.013922</td>\n",
       "    </tr>\n",
       "    <tr>\n",
       "      <th>4</th>\n",
       "      <td>1514764860</td>\n",
       "      <td>7</td>\n",
       "      <td>5.0</td>\n",
       "      <td>25.9200</td>\n",
       "      <td>25.9200</td>\n",
       "      <td>25.8740</td>\n",
       "      <td>25.8770</td>\n",
       "      <td>121.087310</td>\n",
       "      <td>25.891363</td>\n",
       "      <td>-0.008264</td>\n",
       "    </tr>\n",
       "  </tbody>\n",
       "</table>\n",
       "</div>"
      ],
      "text/plain": [
       "    timestamp  Asset_ID  Count        Open        High         Low  \\\n",
       "0  1514764860         2   40.0   2376.5800   2399.5000   2357.1400   \n",
       "1  1514764860         0    5.0      8.5300      8.5300      8.5300   \n",
       "2  1514764860         1  229.0  13835.1940  14013.8000  13666.1100   \n",
       "3  1514764860         5   32.0      7.6596      7.6596      7.6567   \n",
       "4  1514764860         7    5.0     25.9200     25.9200     25.8740   \n",
       "\n",
       "        Close       Volume          VWAP    Target  \n",
       "0   2374.5900    19.233005   2373.116392 -0.004218  \n",
       "1      8.5300    78.380000      8.530000 -0.014399  \n",
       "2  13850.1760    31.550062  13827.062093 -0.014643  \n",
       "3      7.6576  6626.713370      7.657713 -0.013922  \n",
       "4     25.8770   121.087310     25.891363 -0.008264  "
      ]
     },
     "execution_count": 12,
     "metadata": {},
     "output_type": "execute_result"
    }
   ],
   "source": [
    "TRAIN.head()"
   ]
  },
  {
   "cell_type": "code",
   "execution_count": 14,
   "id": "52fb2284",
   "metadata": {
    "ExecuteTime": {
     "end_time": "2023-03-24T11:22:53.663904Z",
     "start_time": "2023-03-24T11:22:53.654033Z"
    }
   },
   "outputs": [
    {
     "name": "stdout",
     "output_type": "stream",
     "text": [
      "<class 'pandas.core.frame.DataFrame'>\n",
      "RangeIndex: 24236806 entries, 0 to 24236805\n",
      "Data columns (total 10 columns):\n",
      " #   Column     Dtype  \n",
      "---  ------     -----  \n",
      " 0   timestamp  int64  \n",
      " 1   Asset_ID   int64  \n",
      " 2   Count      float64\n",
      " 3   Open       float64\n",
      " 4   High       float64\n",
      " 5   Low        float64\n",
      " 6   Close      float64\n",
      " 7   Volume     float64\n",
      " 8   VWAP       float64\n",
      " 9   Target     float64\n",
      "dtypes: float64(8), int64(2)\n",
      "memory usage: 1.8 GB\n"
     ]
    }
   ],
   "source": [
    "TRAIN.info()"
   ]
  },
  {
   "cell_type": "code",
   "execution_count": 16,
   "id": "62d93cdc",
   "metadata": {
    "ExecuteTime": {
     "end_time": "2023-03-24T11:23:05.133847Z",
     "start_time": "2023-03-24T11:23:05.121607Z"
    }
   },
   "outputs": [
    {
     "data": {
      "text/html": [
       "<div>\n",
       "<style scoped>\n",
       "    .dataframe tbody tr th:only-of-type {\n",
       "        vertical-align: middle;\n",
       "    }\n",
       "\n",
       "    .dataframe tbody tr th {\n",
       "        vertical-align: top;\n",
       "    }\n",
       "\n",
       "    .dataframe thead th {\n",
       "        text-align: right;\n",
       "    }\n",
       "</style>\n",
       "<table border=\"1\" class=\"dataframe\">\n",
       "  <thead>\n",
       "    <tr style=\"text-align: right;\">\n",
       "      <th></th>\n",
       "      <th>timestamp</th>\n",
       "      <th>Asset_ID</th>\n",
       "      <th>Count</th>\n",
       "      <th>Open</th>\n",
       "      <th>High</th>\n",
       "      <th>Low</th>\n",
       "      <th>Close</th>\n",
       "      <th>Volume</th>\n",
       "      <th>VWAP</th>\n",
       "      <th>Target</th>\n",
       "    </tr>\n",
       "  </thead>\n",
       "  <tbody>\n",
       "    <tr>\n",
       "      <th>0</th>\n",
       "      <td>1632182460</td>\n",
       "      <td>3</td>\n",
       "      <td>561.0</td>\n",
       "      <td>2.079028</td>\n",
       "      <td>2.080605</td>\n",
       "      <td>2.0720</td>\n",
       "      <td>2.076458</td>\n",
       "      <td>2.804627e+05</td>\n",
       "      <td>2.075869</td>\n",
       "      <td>0.003085</td>\n",
       "    </tr>\n",
       "    <tr>\n",
       "      <th>1</th>\n",
       "      <td>1632182460</td>\n",
       "      <td>2</td>\n",
       "      <td>169.0</td>\n",
       "      <td>541.006000</td>\n",
       "      <td>541.200000</td>\n",
       "      <td>539.7000</td>\n",
       "      <td>540.722000</td>\n",
       "      <td>1.889432e+02</td>\n",
       "      <td>540.716930</td>\n",
       "      <td>-0.000607</td>\n",
       "    </tr>\n",
       "    <tr>\n",
       "      <th>2</th>\n",
       "      <td>1632182460</td>\n",
       "      <td>0</td>\n",
       "      <td>400.0</td>\n",
       "      <td>363.737500</td>\n",
       "      <td>363.900000</td>\n",
       "      <td>363.0000</td>\n",
       "      <td>363.654000</td>\n",
       "      <td>8.792685e+02</td>\n",
       "      <td>363.499554</td>\n",
       "      <td>-0.019375</td>\n",
       "    </tr>\n",
       "    <tr>\n",
       "      <th>3</th>\n",
       "      <td>1632182460</td>\n",
       "      <td>1</td>\n",
       "      <td>1933.0</td>\n",
       "      <td>42986.143333</td>\n",
       "      <td>43001.000000</td>\n",
       "      <td>42898.0000</td>\n",
       "      <td>42947.065566</td>\n",
       "      <td>9.183861e+01</td>\n",
       "      <td>42942.976718</td>\n",
       "      <td>-0.000374</td>\n",
       "    </tr>\n",
       "    <tr>\n",
       "      <th>4</th>\n",
       "      <td>1632182460</td>\n",
       "      <td>4</td>\n",
       "      <td>348.0</td>\n",
       "      <td>0.208326</td>\n",
       "      <td>0.208400</td>\n",
       "      <td>0.2078</td>\n",
       "      <td>0.208200</td>\n",
       "      <td>1.051337e+06</td>\n",
       "      <td>0.208077</td>\n",
       "      <td>-0.001233</td>\n",
       "    </tr>\n",
       "  </tbody>\n",
       "</table>\n",
       "</div>"
      ],
      "text/plain": [
       "    timestamp  Asset_ID   Count          Open          High         Low  \\\n",
       "0  1632182460         3   561.0      2.079028      2.080605      2.0720   \n",
       "1  1632182460         2   169.0    541.006000    541.200000    539.7000   \n",
       "2  1632182460         0   400.0    363.737500    363.900000    363.0000   \n",
       "3  1632182460         1  1933.0  42986.143333  43001.000000  42898.0000   \n",
       "4  1632182460         4   348.0      0.208326      0.208400      0.2078   \n",
       "\n",
       "          Close        Volume          VWAP    Target  \n",
       "0      2.076458  2.804627e+05      2.075869  0.003085  \n",
       "1    540.722000  1.889432e+02    540.716930 -0.000607  \n",
       "2    363.654000  8.792685e+02    363.499554 -0.019375  \n",
       "3  42947.065566  9.183861e+01  42942.976718 -0.000374  \n",
       "4      0.208200  1.051337e+06      0.208077 -0.001233  "
      ]
     },
     "execution_count": 16,
     "metadata": {},
     "output_type": "execute_result"
    }
   ],
   "source": [
    "TRAIN_2.head()"
   ]
  },
  {
   "cell_type": "code",
   "execution_count": 17,
   "id": "a1841393",
   "metadata": {
    "ExecuteTime": {
     "end_time": "2023-03-24T11:23:08.845836Z",
     "start_time": "2023-03-24T11:23:08.835323Z"
    }
   },
   "outputs": [
    {
     "name": "stdout",
     "output_type": "stream",
     "text": [
      "<class 'pandas.core.frame.DataFrame'>\n",
      "RangeIndex: 2518278 entries, 0 to 2518277\n",
      "Data columns (total 10 columns):\n",
      " #   Column     Dtype  \n",
      "---  ------     -----  \n",
      " 0   timestamp  int64  \n",
      " 1   Asset_ID   int64  \n",
      " 2   Count      float64\n",
      " 3   Open       float64\n",
      " 4   High       float64\n",
      " 5   Low        float64\n",
      " 6   Close      float64\n",
      " 7   Volume     float64\n",
      " 8   VWAP       float64\n",
      " 9   Target     float64\n",
      "dtypes: float64(8), int64(2)\n",
      "memory usage: 192.1 MB\n"
     ]
    }
   ],
   "source": [
    "TRAIN_2.info()"
   ]
  },
  {
   "cell_type": "code",
   "execution_count": 18,
   "id": "a132e6b5",
   "metadata": {
    "ExecuteTime": {
     "end_time": "2023-03-24T11:23:56.885426Z",
     "start_time": "2023-03-24T11:23:31.293878Z"
    }
   },
   "outputs": [
    {
     "name": "stdout",
     "output_type": "stream",
     "text": [
      "--> Processing Asset #0 \t (Binance Coin)\n",
      "--> Processing Asset #1 \t (Bitcoin)\n",
      "--> Processing Asset #2 \t (Bitcoin Cash)\n",
      "--> Processing Asset #3 \t (Cardano)\n",
      "--> Processing Asset #4 \t (Dogecoin)\n",
      "--> Processing Asset #5 \t (EOS.IO)\n",
      "--> Processing Asset #6 \t (Ethereum)\n",
      "--> Processing Asset #7 \t (Ethereum Classic)\n",
      "--> Processing Asset #8 \t (IOTA)\n",
      "--> Processing Asset #9 \t (Litecoin)\n",
      "--> Processing Asset #10 \t (Maker)\n",
      "--> Processing Asset #11 \t (Monero)\n",
      "--> Processing Asset #12 \t (Stellar)\n",
      "--> Processing Asset #13 \t (TRON)\n"
     ]
    }
   ],
   "source": [
    "# Hashmap of train datasets for each asset id\n",
    "df_train = {asset_id: None for asset_id in ASSET_IDS}\n",
    "\n",
    "# For each asset id, perform the pre-processing\n",
    "for asset_id in ASSET_IDS:\n",
    "    print(f\"--> Processing Asset #{asset_id} \\t ({get_asset_name(asset_id)})\")\n",
    "    \n",
    "    # Retrieving the corresponding data rows\n",
    "    df_train[asset_id] = TRAIN[TRAIN[\"Asset_ID\"] == asset_id]\n",
    "    \n",
    "    # Removing the Asset_ID column (useless now)\n",
    "    try:\n",
    "        df_train[asset_id].drop([\"Asset_ID\", \"Target\"], axis=1, inplace=True)\n",
    "    except:\n",
    "        pass\n",
    "    \n",
    "    # Converting the timestamp column\n",
    "    df_train[asset_id][\"timestamp\"] = pd.to_datetime(arg=df_train[asset_id][\"timestamp\"], \n",
    "                                                     unit=\"s\", \n",
    "                                                     errors=\"ignore\")\n",
    "    # Setting the timestamp column as index column\n",
    "    df_train[asset_id].set_index([\"timestamp\"], inplace=True)"
   ]
  },
  {
   "cell_type": "code",
   "execution_count": 19,
   "id": "926d21e9",
   "metadata": {
    "ExecuteTime": {
     "end_time": "2023-03-24T11:24:34.720759Z",
     "start_time": "2023-03-24T11:24:32.035638Z"
    }
   },
   "outputs": [
    {
     "name": "stdout",
     "output_type": "stream",
     "text": [
      "--> Processing Asset #0 \t (Binance Coin)\n",
      "--> Processing Asset #1 \t (Bitcoin)\n",
      "--> Processing Asset #2 \t (Bitcoin Cash)\n",
      "--> Processing Asset #3 \t (Cardano)\n",
      "--> Processing Asset #4 \t (Dogecoin)\n",
      "--> Processing Asset #5 \t (EOS.IO)\n",
      "--> Processing Asset #6 \t (Ethereum)\n",
      "--> Processing Asset #7 \t (Ethereum Classic)\n",
      "--> Processing Asset #8 \t (IOTA)\n",
      "--> Processing Asset #9 \t (Litecoin)\n",
      "--> Processing Asset #10 \t (Maker)\n",
      "--> Processing Asset #11 \t (Monero)\n",
      "--> Processing Asset #12 \t (Stellar)\n",
      "--> Processing Asset #13 \t (TRON)\n"
     ]
    }
   ],
   "source": [
    "# Hashmap of train datasets for each asset id\n",
    "df_train_2 = {asset_id: None for asset_id in ASSET_IDS}\n",
    "\n",
    "# For each asset id, perform the pre-processing\n",
    "for asset_id in ASSET_IDS:\n",
    "    print(f\"--> Processing Asset #{asset_id} \\t ({get_asset_name(asset_id)})\")\n",
    "    \n",
    "    # Retrieving the corresponding data rows\n",
    "    df_train_2[asset_id] = TRAIN_2[TRAIN_2[\"Asset_ID\"] == asset_id]\n",
    "    \n",
    "    # Removing the Asset_ID column (useless now)\n",
    "    try:\n",
    "        df_train_2[asset_id].drop([\"Asset_ID\", \"Target\"], axis=1, inplace=True)\n",
    "    except:\n",
    "        pass\n",
    "    \n",
    "    # Converting the timestamp column\n",
    "    df_train_2[asset_id][\"timestamp\"] = pd.to_datetime(arg=df_train_2[asset_id][\"timestamp\"], \n",
    "                                                     unit=\"s\", \n",
    "                                                     errors=\"ignore\")\n",
    "    # Setting the timestamp column as index column\n",
    "    df_train_2[asset_id].set_index([\"timestamp\"], inplace=True)"
   ]
  },
  {
   "cell_type": "code",
   "execution_count": 20,
   "id": "494ddb9d",
   "metadata": {
    "ExecuteTime": {
     "end_time": "2023-03-24T11:24:40.936274Z",
     "start_time": "2023-03-24T11:24:40.918153Z"
    }
   },
   "outputs": [
    {
     "data": {
      "text/html": [
       "<div>\n",
       "<style scoped>\n",
       "    .dataframe tbody tr th:only-of-type {\n",
       "        vertical-align: middle;\n",
       "    }\n",
       "\n",
       "    .dataframe tbody tr th {\n",
       "        vertical-align: top;\n",
       "    }\n",
       "\n",
       "    .dataframe thead th {\n",
       "        text-align: right;\n",
       "    }\n",
       "</style>\n",
       "<table border=\"1\" class=\"dataframe\">\n",
       "  <thead>\n",
       "    <tr style=\"text-align: right;\">\n",
       "      <th></th>\n",
       "      <th>Count</th>\n",
       "      <th>Open</th>\n",
       "      <th>High</th>\n",
       "      <th>Low</th>\n",
       "      <th>Close</th>\n",
       "      <th>Volume</th>\n",
       "      <th>VWAP</th>\n",
       "    </tr>\n",
       "    <tr>\n",
       "      <th>timestamp</th>\n",
       "      <th></th>\n",
       "      <th></th>\n",
       "      <th></th>\n",
       "      <th></th>\n",
       "      <th></th>\n",
       "      <th></th>\n",
       "      <th></th>\n",
       "    </tr>\n",
       "  </thead>\n",
       "  <tbody>\n",
       "    <tr>\n",
       "      <th>2018-01-01 00:01:00</th>\n",
       "      <td>229.0</td>\n",
       "      <td>13835.194000</td>\n",
       "      <td>14013.800000</td>\n",
       "      <td>13666.11</td>\n",
       "      <td>13850.176000</td>\n",
       "      <td>31.550062</td>\n",
       "      <td>13827.062093</td>\n",
       "    </tr>\n",
       "    <tr>\n",
       "      <th>2018-01-01 00:02:00</th>\n",
       "      <td>235.0</td>\n",
       "      <td>13835.036000</td>\n",
       "      <td>14052.300000</td>\n",
       "      <td>13680.00</td>\n",
       "      <td>13828.102000</td>\n",
       "      <td>31.046432</td>\n",
       "      <td>13840.362591</td>\n",
       "    </tr>\n",
       "    <tr>\n",
       "      <th>2018-01-01 00:03:00</th>\n",
       "      <td>528.0</td>\n",
       "      <td>13823.900000</td>\n",
       "      <td>14000.400000</td>\n",
       "      <td>13601.00</td>\n",
       "      <td>13801.314000</td>\n",
       "      <td>55.061820</td>\n",
       "      <td>13806.068014</td>\n",
       "    </tr>\n",
       "    <tr>\n",
       "      <th>2018-01-01 00:04:00</th>\n",
       "      <td>435.0</td>\n",
       "      <td>13802.512000</td>\n",
       "      <td>13999.000000</td>\n",
       "      <td>13576.28</td>\n",
       "      <td>13768.040000</td>\n",
       "      <td>38.780529</td>\n",
       "      <td>13783.598101</td>\n",
       "    </tr>\n",
       "    <tr>\n",
       "      <th>2018-01-01 00:05:00</th>\n",
       "      <td>742.0</td>\n",
       "      <td>13766.000000</td>\n",
       "      <td>13955.900000</td>\n",
       "      <td>13554.44</td>\n",
       "      <td>13724.914000</td>\n",
       "      <td>108.501637</td>\n",
       "      <td>13735.586842</td>\n",
       "    </tr>\n",
       "    <tr>\n",
       "      <th>...</th>\n",
       "      <td>...</td>\n",
       "      <td>...</td>\n",
       "      <td>...</td>\n",
       "      <td>...</td>\n",
       "      <td>...</td>\n",
       "      <td>...</td>\n",
       "      <td>...</td>\n",
       "    </tr>\n",
       "    <tr>\n",
       "      <th>2021-09-20 23:56:00</th>\n",
       "      <td>1940.0</td>\n",
       "      <td>42983.780000</td>\n",
       "      <td>43001.850849</td>\n",
       "      <td>42878.26</td>\n",
       "      <td>42899.012857</td>\n",
       "      <td>56.850913</td>\n",
       "      <td>42935.489499</td>\n",
       "    </tr>\n",
       "    <tr>\n",
       "      <th>2021-09-20 23:57:00</th>\n",
       "      <td>2026.0</td>\n",
       "      <td>42904.197143</td>\n",
       "      <td>42932.000000</td>\n",
       "      <td>42840.16</td>\n",
       "      <td>42860.005714</td>\n",
       "      <td>80.993326</td>\n",
       "      <td>42879.576084</td>\n",
       "    </tr>\n",
       "    <tr>\n",
       "      <th>2021-09-20 23:58:00</th>\n",
       "      <td>1986.0</td>\n",
       "      <td>42859.385714</td>\n",
       "      <td>42887.500000</td>\n",
       "      <td>42797.20</td>\n",
       "      <td>42827.020000</td>\n",
       "      <td>65.677734</td>\n",
       "      <td>42844.090693</td>\n",
       "    </tr>\n",
       "    <tr>\n",
       "      <th>2021-09-20 23:59:00</th>\n",
       "      <td>4047.0</td>\n",
       "      <td>42839.012802</td>\n",
       "      <td>43042.160000</td>\n",
       "      <td>42818.10</td>\n",
       "      <td>43017.277143</td>\n",
       "      <td>138.335477</td>\n",
       "      <td>42935.761938</td>\n",
       "    </tr>\n",
       "    <tr>\n",
       "      <th>2021-09-21 00:00:00</th>\n",
       "      <td>2698.0</td>\n",
       "      <td>43009.961250</td>\n",
       "      <td>43048.510000</td>\n",
       "      <td>42961.64</td>\n",
       "      <td>43002.505000</td>\n",
       "      <td>128.206820</td>\n",
       "      <td>43011.414052</td>\n",
       "    </tr>\n",
       "  </tbody>\n",
       "</table>\n",
       "<p>1956282 rows × 7 columns</p>\n",
       "</div>"
      ],
      "text/plain": [
       "                      Count          Open          High       Low  \\\n",
       "timestamp                                                           \n",
       "2018-01-01 00:01:00   229.0  13835.194000  14013.800000  13666.11   \n",
       "2018-01-01 00:02:00   235.0  13835.036000  14052.300000  13680.00   \n",
       "2018-01-01 00:03:00   528.0  13823.900000  14000.400000  13601.00   \n",
       "2018-01-01 00:04:00   435.0  13802.512000  13999.000000  13576.28   \n",
       "2018-01-01 00:05:00   742.0  13766.000000  13955.900000  13554.44   \n",
       "...                     ...           ...           ...       ...   \n",
       "2021-09-20 23:56:00  1940.0  42983.780000  43001.850849  42878.26   \n",
       "2021-09-20 23:57:00  2026.0  42904.197143  42932.000000  42840.16   \n",
       "2021-09-20 23:58:00  1986.0  42859.385714  42887.500000  42797.20   \n",
       "2021-09-20 23:59:00  4047.0  42839.012802  43042.160000  42818.10   \n",
       "2021-09-21 00:00:00  2698.0  43009.961250  43048.510000  42961.64   \n",
       "\n",
       "                            Close      Volume          VWAP  \n",
       "timestamp                                                    \n",
       "2018-01-01 00:01:00  13850.176000   31.550062  13827.062093  \n",
       "2018-01-01 00:02:00  13828.102000   31.046432  13840.362591  \n",
       "2018-01-01 00:03:00  13801.314000   55.061820  13806.068014  \n",
       "2018-01-01 00:04:00  13768.040000   38.780529  13783.598101  \n",
       "2018-01-01 00:05:00  13724.914000  108.501637  13735.586842  \n",
       "...                           ...         ...           ...  \n",
       "2021-09-20 23:56:00  42899.012857   56.850913  42935.489499  \n",
       "2021-09-20 23:57:00  42860.005714   80.993326  42879.576084  \n",
       "2021-09-20 23:58:00  42827.020000   65.677734  42844.090693  \n",
       "2021-09-20 23:59:00  43017.277143  138.335477  42935.761938  \n",
       "2021-09-21 00:00:00  43002.505000  128.206820  43011.414052  \n",
       "\n",
       "[1956282 rows x 7 columns]"
      ]
     },
     "execution_count": 20,
     "metadata": {},
     "output_type": "execute_result"
    }
   ],
   "source": [
    "# Displaying a DataFrame\n",
    "df_train[get_asset_id(\"Bitcoin\")]"
   ]
  },
  {
   "cell_type": "code",
   "execution_count": 21,
   "id": "21452edb",
   "metadata": {
    "ExecuteTime": {
     "end_time": "2023-03-24T11:24:46.529486Z",
     "start_time": "2023-03-24T11:24:46.511793Z"
    }
   },
   "outputs": [
    {
     "data": {
      "text/html": [
       "<div>\n",
       "<style scoped>\n",
       "    .dataframe tbody tr th:only-of-type {\n",
       "        vertical-align: middle;\n",
       "    }\n",
       "\n",
       "    .dataframe tbody tr th {\n",
       "        vertical-align: top;\n",
       "    }\n",
       "\n",
       "    .dataframe thead th {\n",
       "        text-align: right;\n",
       "    }\n",
       "</style>\n",
       "<table border=\"1\" class=\"dataframe\">\n",
       "  <thead>\n",
       "    <tr style=\"text-align: right;\">\n",
       "      <th></th>\n",
       "      <th>Count</th>\n",
       "      <th>Open</th>\n",
       "      <th>High</th>\n",
       "      <th>Low</th>\n",
       "      <th>Close</th>\n",
       "      <th>Volume</th>\n",
       "      <th>VWAP</th>\n",
       "    </tr>\n",
       "    <tr>\n",
       "      <th>timestamp</th>\n",
       "      <th></th>\n",
       "      <th></th>\n",
       "      <th></th>\n",
       "      <th></th>\n",
       "      <th></th>\n",
       "      <th></th>\n",
       "      <th></th>\n",
       "    </tr>\n",
       "  </thead>\n",
       "  <tbody>\n",
       "    <tr>\n",
       "      <th>2021-09-21 00:01:00</th>\n",
       "      <td>1933.0</td>\n",
       "      <td>42986.143333</td>\n",
       "      <td>43001.00</td>\n",
       "      <td>42898.00</td>\n",
       "      <td>42947.065566</td>\n",
       "      <td>91.838613</td>\n",
       "      <td>42942.976718</td>\n",
       "    </tr>\n",
       "    <tr>\n",
       "      <th>2021-09-21 00:02:00</th>\n",
       "      <td>2634.0</td>\n",
       "      <td>42957.046667</td>\n",
       "      <td>42985.23</td>\n",
       "      <td>42889.43</td>\n",
       "      <td>42905.773851</td>\n",
       "      <td>136.184065</td>\n",
       "      <td>42936.000964</td>\n",
       "    </tr>\n",
       "    <tr>\n",
       "      <th>2021-09-21 00:03:00</th>\n",
       "      <td>2019.0</td>\n",
       "      <td>42887.778571</td>\n",
       "      <td>42962.71</td>\n",
       "      <td>42836.93</td>\n",
       "      <td>42925.115714</td>\n",
       "      <td>65.360787</td>\n",
       "      <td>42896.852778</td>\n",
       "    </tr>\n",
       "    <tr>\n",
       "      <th>2021-09-21 00:04:00</th>\n",
       "      <td>2189.0</td>\n",
       "      <td>42914.393333</td>\n",
       "      <td>42928.20</td>\n",
       "      <td>42800.01</td>\n",
       "      <td>42811.720000</td>\n",
       "      <td>91.409795</td>\n",
       "      <td>42859.296449</td>\n",
       "    </tr>\n",
       "    <tr>\n",
       "      <th>2021-09-21 00:05:00</th>\n",
       "      <td>3223.0</td>\n",
       "      <td>42811.073333</td>\n",
       "      <td>42828.00</td>\n",
       "      <td>42725.29</td>\n",
       "      <td>42737.993333</td>\n",
       "      <td>115.667549</td>\n",
       "      <td>42762.631264</td>\n",
       "    </tr>\n",
       "    <tr>\n",
       "      <th>...</th>\n",
       "      <td>...</td>\n",
       "      <td>...</td>\n",
       "      <td>...</td>\n",
       "      <td>...</td>\n",
       "      <td>...</td>\n",
       "      <td>...</td>\n",
       "      <td>...</td>\n",
       "    </tr>\n",
       "    <tr>\n",
       "      <th>2022-01-23 23:56:00</th>\n",
       "      <td>1221.0</td>\n",
       "      <td>36278.361667</td>\n",
       "      <td>36331.00</td>\n",
       "      <td>36249.00</td>\n",
       "      <td>36293.123333</td>\n",
       "      <td>30.247067</td>\n",
       "      <td>36289.796806</td>\n",
       "    </tr>\n",
       "    <tr>\n",
       "      <th>2022-01-23 23:57:00</th>\n",
       "      <td>1634.0</td>\n",
       "      <td>36289.681667</td>\n",
       "      <td>36328.00</td>\n",
       "      <td>36230.72</td>\n",
       "      <td>36261.708333</td>\n",
       "      <td>35.647000</td>\n",
       "      <td>36276.229399</td>\n",
       "    </tr>\n",
       "    <tr>\n",
       "      <th>2022-01-23 23:58:00</th>\n",
       "      <td>1570.0</td>\n",
       "      <td>36262.841667</td>\n",
       "      <td>36319.00</td>\n",
       "      <td>36230.30</td>\n",
       "      <td>36276.223333</td>\n",
       "      <td>49.867700</td>\n",
       "      <td>36274.441548</td>\n",
       "    </tr>\n",
       "    <tr>\n",
       "      <th>2022-01-23 23:59:00</th>\n",
       "      <td>1459.0</td>\n",
       "      <td>36268.849570</td>\n",
       "      <td>36313.00</td>\n",
       "      <td>36231.71</td>\n",
       "      <td>36276.623333</td>\n",
       "      <td>43.030556</td>\n",
       "      <td>36274.613301</td>\n",
       "    </tr>\n",
       "    <tr>\n",
       "      <th>2022-01-24 00:00:00</th>\n",
       "      <td>2917.0</td>\n",
       "      <td>36262.038571</td>\n",
       "      <td>36302.00</td>\n",
       "      <td>36176.45</td>\n",
       "      <td>36221.987143</td>\n",
       "      <td>110.053151</td>\n",
       "      <td>36247.575361</td>\n",
       "    </tr>\n",
       "  </tbody>\n",
       "</table>\n",
       "<p>179996 rows × 7 columns</p>\n",
       "</div>"
      ],
      "text/plain": [
       "                      Count          Open      High       Low         Close  \\\n",
       "timestamp                                                                     \n",
       "2021-09-21 00:01:00  1933.0  42986.143333  43001.00  42898.00  42947.065566   \n",
       "2021-09-21 00:02:00  2634.0  42957.046667  42985.23  42889.43  42905.773851   \n",
       "2021-09-21 00:03:00  2019.0  42887.778571  42962.71  42836.93  42925.115714   \n",
       "2021-09-21 00:04:00  2189.0  42914.393333  42928.20  42800.01  42811.720000   \n",
       "2021-09-21 00:05:00  3223.0  42811.073333  42828.00  42725.29  42737.993333   \n",
       "...                     ...           ...       ...       ...           ...   \n",
       "2022-01-23 23:56:00  1221.0  36278.361667  36331.00  36249.00  36293.123333   \n",
       "2022-01-23 23:57:00  1634.0  36289.681667  36328.00  36230.72  36261.708333   \n",
       "2022-01-23 23:58:00  1570.0  36262.841667  36319.00  36230.30  36276.223333   \n",
       "2022-01-23 23:59:00  1459.0  36268.849570  36313.00  36231.71  36276.623333   \n",
       "2022-01-24 00:00:00  2917.0  36262.038571  36302.00  36176.45  36221.987143   \n",
       "\n",
       "                         Volume          VWAP  \n",
       "timestamp                                      \n",
       "2021-09-21 00:01:00   91.838613  42942.976718  \n",
       "2021-09-21 00:02:00  136.184065  42936.000964  \n",
       "2021-09-21 00:03:00   65.360787  42896.852778  \n",
       "2021-09-21 00:04:00   91.409795  42859.296449  \n",
       "2021-09-21 00:05:00  115.667549  42762.631264  \n",
       "...                         ...           ...  \n",
       "2022-01-23 23:56:00   30.247067  36289.796806  \n",
       "2022-01-23 23:57:00   35.647000  36276.229399  \n",
       "2022-01-23 23:58:00   49.867700  36274.441548  \n",
       "2022-01-23 23:59:00   43.030556  36274.613301  \n",
       "2022-01-24 00:00:00  110.053151  36247.575361  \n",
       "\n",
       "[179996 rows x 7 columns]"
      ]
     },
     "execution_count": 21,
     "metadata": {},
     "output_type": "execute_result"
    }
   ],
   "source": [
    "# Displaying a DataFrame\n",
    "df_train_2[get_asset_id(\"Bitcoin\")]"
   ]
  },
  {
   "cell_type": "markdown",
   "id": "81195f1d",
   "metadata": {},
   "source": [
    "**TEST dataset**"
   ]
  },
  {
   "cell_type": "code",
   "execution_count": 23,
   "id": "4a6e2ad1",
   "metadata": {
    "ExecuteTime": {
     "end_time": "2023-03-24T11:25:55.149797Z",
     "start_time": "2023-03-24T11:25:55.142562Z"
    }
   },
   "outputs": [],
   "source": [
    "# Importing test dataset\n",
    "TEST = pd.read_csv(filepath_or_buffer=\"data/example_test.csv\")"
   ]
  },
  {
   "cell_type": "code",
   "execution_count": 24,
   "id": "65cd2521",
   "metadata": {
    "ExecuteTime": {
     "end_time": "2023-03-24T11:25:57.685482Z",
     "start_time": "2023-03-24T11:25:57.669814Z"
    }
   },
   "outputs": [
    {
     "data": {
      "text/html": [
       "<div>\n",
       "<style scoped>\n",
       "    .dataframe tbody tr th:only-of-type {\n",
       "        vertical-align: middle;\n",
       "    }\n",
       "\n",
       "    .dataframe tbody tr th {\n",
       "        vertical-align: top;\n",
       "    }\n",
       "\n",
       "    .dataframe thead th {\n",
       "        text-align: right;\n",
       "    }\n",
       "</style>\n",
       "<table border=\"1\" class=\"dataframe\">\n",
       "  <thead>\n",
       "    <tr style=\"text-align: right;\">\n",
       "      <th></th>\n",
       "      <th>timestamp</th>\n",
       "      <th>Asset_ID</th>\n",
       "      <th>Count</th>\n",
       "      <th>Open</th>\n",
       "      <th>High</th>\n",
       "      <th>Low</th>\n",
       "      <th>Close</th>\n",
       "      <th>Volume</th>\n",
       "      <th>VWAP</th>\n",
       "      <th>group_num</th>\n",
       "      <th>row_id</th>\n",
       "    </tr>\n",
       "  </thead>\n",
       "  <tbody>\n",
       "    <tr>\n",
       "      <th>0</th>\n",
       "      <td>1623542400</td>\n",
       "      <td>3</td>\n",
       "      <td>1201.0</td>\n",
       "      <td>1.478556</td>\n",
       "      <td>1.48603</td>\n",
       "      <td>1.47800</td>\n",
       "      <td>1.483681</td>\n",
       "      <td>654799.561103</td>\n",
       "      <td>1.481439</td>\n",
       "      <td>0</td>\n",
       "      <td>0</td>\n",
       "    </tr>\n",
       "    <tr>\n",
       "      <th>1</th>\n",
       "      <td>1623542400</td>\n",
       "      <td>2</td>\n",
       "      <td>1020.0</td>\n",
       "      <td>580.306667</td>\n",
       "      <td>583.89000</td>\n",
       "      <td>579.91000</td>\n",
       "      <td>582.276667</td>\n",
       "      <td>1227.988328</td>\n",
       "      <td>581.697038</td>\n",
       "      <td>0</td>\n",
       "      <td>1</td>\n",
       "    </tr>\n",
       "    <tr>\n",
       "      <th>2</th>\n",
       "      <td>1623542400</td>\n",
       "      <td>0</td>\n",
       "      <td>626.0</td>\n",
       "      <td>343.789500</td>\n",
       "      <td>345.10800</td>\n",
       "      <td>343.64000</td>\n",
       "      <td>344.598000</td>\n",
       "      <td>1718.832569</td>\n",
       "      <td>344.441729</td>\n",
       "      <td>0</td>\n",
       "      <td>2</td>\n",
       "    </tr>\n",
       "    <tr>\n",
       "      <th>3</th>\n",
       "      <td>1623542400</td>\n",
       "      <td>1</td>\n",
       "      <td>2888.0</td>\n",
       "      <td>35554.289632</td>\n",
       "      <td>35652.46465</td>\n",
       "      <td>35502.67000</td>\n",
       "      <td>35602.004286</td>\n",
       "      <td>163.811537</td>\n",
       "      <td>35583.469303</td>\n",
       "      <td>0</td>\n",
       "      <td>3</td>\n",
       "    </tr>\n",
       "    <tr>\n",
       "      <th>4</th>\n",
       "      <td>1623542400</td>\n",
       "      <td>4</td>\n",
       "      <td>433.0</td>\n",
       "      <td>0.312167</td>\n",
       "      <td>0.31260</td>\n",
       "      <td>0.31192</td>\n",
       "      <td>0.312208</td>\n",
       "      <td>585577.410442</td>\n",
       "      <td>0.312154</td>\n",
       "      <td>0</td>\n",
       "      <td>4</td>\n",
       "    </tr>\n",
       "  </tbody>\n",
       "</table>\n",
       "</div>"
      ],
      "text/plain": [
       "    timestamp  Asset_ID   Count          Open         High          Low  \\\n",
       "0  1623542400         3  1201.0      1.478556      1.48603      1.47800   \n",
       "1  1623542400         2  1020.0    580.306667    583.89000    579.91000   \n",
       "2  1623542400         0   626.0    343.789500    345.10800    343.64000   \n",
       "3  1623542400         1  2888.0  35554.289632  35652.46465  35502.67000   \n",
       "4  1623542400         4   433.0      0.312167      0.31260      0.31192   \n",
       "\n",
       "          Close         Volume          VWAP  group_num  row_id  \n",
       "0      1.483681  654799.561103      1.481439          0       0  \n",
       "1    582.276667    1227.988328    581.697038          0       1  \n",
       "2    344.598000    1718.832569    344.441729          0       2  \n",
       "3  35602.004286     163.811537  35583.469303          0       3  \n",
       "4      0.312208  585577.410442      0.312154          0       4  "
      ]
     },
     "execution_count": 24,
     "metadata": {},
     "output_type": "execute_result"
    }
   ],
   "source": [
    "TEST.head()"
   ]
  },
  {
   "cell_type": "code",
   "execution_count": 26,
   "id": "e8fdfc0f",
   "metadata": {
    "ExecuteTime": {
     "end_time": "2023-03-24T11:26:05.101856Z",
     "start_time": "2023-03-24T11:26:05.090181Z"
    }
   },
   "outputs": [
    {
     "name": "stdout",
     "output_type": "stream",
     "text": [
      "<class 'pandas.core.frame.DataFrame'>\n",
      "RangeIndex: 56 entries, 0 to 55\n",
      "Data columns (total 11 columns):\n",
      " #   Column     Non-Null Count  Dtype  \n",
      "---  ------     --------------  -----  \n",
      " 0   timestamp  56 non-null     int64  \n",
      " 1   Asset_ID   56 non-null     int64  \n",
      " 2   Count      56 non-null     float64\n",
      " 3   Open       56 non-null     float64\n",
      " 4   High       56 non-null     float64\n",
      " 5   Low        56 non-null     float64\n",
      " 6   Close      56 non-null     float64\n",
      " 7   Volume     56 non-null     float64\n",
      " 8   VWAP       56 non-null     float64\n",
      " 9   group_num  56 non-null     int64  \n",
      " 10  row_id     56 non-null     int64  \n",
      "dtypes: float64(7), int64(4)\n",
      "memory usage: 4.9 KB\n"
     ]
    }
   ],
   "source": [
    "TEST.info()"
   ]
  },
  {
   "cell_type": "code",
   "execution_count": 27,
   "id": "06549913",
   "metadata": {
    "ExecuteTime": {
     "end_time": "2023-03-24T11:26:43.760181Z",
     "start_time": "2023-03-24T11:26:43.730633Z"
    }
   },
   "outputs": [
    {
     "name": "stdout",
     "output_type": "stream",
     "text": [
      "--> Processing Asset #0 \t (Binance Coin)\n",
      "--> Processing Asset #1 \t (Bitcoin)\n",
      "--> Processing Asset #2 \t (Bitcoin Cash)\n",
      "--> Processing Asset #3 \t (Cardano)\n",
      "--> Processing Asset #4 \t (Dogecoin)\n",
      "--> Processing Asset #5 \t (EOS.IO)\n",
      "--> Processing Asset #6 \t (Ethereum)\n",
      "--> Processing Asset #7 \t (Ethereum Classic)\n",
      "--> Processing Asset #8 \t (IOTA)\n",
      "--> Processing Asset #9 \t (Litecoin)\n",
      "--> Processing Asset #10 \t (Maker)\n",
      "--> Processing Asset #11 \t (Monero)\n",
      "--> Processing Asset #12 \t (Stellar)\n",
      "--> Processing Asset #13 \t (TRON)\n"
     ]
    }
   ],
   "source": [
    "# Hashmap of test datasets for each asset id\n",
    "df_test = {asset_id: None for asset_id in ASSET_IDS}\n",
    "\n",
    "# For each asset id, perform the pre-processing\n",
    "for asset_id in ASSET_IDS:\n",
    "    print(f\"--> Processing Asset #{asset_id} \\t ({get_asset_name(asset_id)})\")\n",
    "    \n",
    "    # Retrieving the corresponding data rows\n",
    "    df_test[asset_id] = TEST[TEST[\"Asset_ID\"] == asset_id]\n",
    "    \n",
    "    # Removing the Asset_ID column (useless now)\n",
    "    try:\n",
    "        df_test[asset_id].drop([\"Asset_ID\", \"group_num\", \"row_id\"], axis=1, inplace=True)\n",
    "    except:\n",
    "        pass\n",
    "    \n",
    "    # Converting the timestamp column\n",
    "    df_test[asset_id][\"timestamp\"] = pd.to_datetime(arg=df_test[asset_id][\"timestamp\"], \n",
    "                                                     unit=\"s\", \n",
    "                                                     errors=\"ignore\")\n",
    "    # Setting the timestamp column as index column\n",
    "    df_test[asset_id].set_index([\"timestamp\"], inplace=True)"
   ]
  },
  {
   "cell_type": "code",
   "execution_count": 36,
   "id": "e847b39f",
   "metadata": {
    "ExecuteTime": {
     "end_time": "2023-03-24T11:27:50.801562Z",
     "start_time": "2023-03-24T11:27:50.786295Z"
    }
   },
   "outputs": [
    {
     "data": {
      "text/html": [
       "<div>\n",
       "<style scoped>\n",
       "    .dataframe tbody tr th:only-of-type {\n",
       "        vertical-align: middle;\n",
       "    }\n",
       "\n",
       "    .dataframe tbody tr th {\n",
       "        vertical-align: top;\n",
       "    }\n",
       "\n",
       "    .dataframe thead th {\n",
       "        text-align: right;\n",
       "    }\n",
       "</style>\n",
       "<table border=\"1\" class=\"dataframe\">\n",
       "  <thead>\n",
       "    <tr style=\"text-align: right;\">\n",
       "      <th></th>\n",
       "      <th>Count</th>\n",
       "      <th>Open</th>\n",
       "      <th>High</th>\n",
       "      <th>Low</th>\n",
       "      <th>Close</th>\n",
       "      <th>Volume</th>\n",
       "      <th>VWAP</th>\n",
       "    </tr>\n",
       "    <tr>\n",
       "      <th>timestamp</th>\n",
       "      <th></th>\n",
       "      <th></th>\n",
       "      <th></th>\n",
       "      <th></th>\n",
       "      <th></th>\n",
       "      <th></th>\n",
       "      <th></th>\n",
       "    </tr>\n",
       "  </thead>\n",
       "  <tbody>\n",
       "    <tr>\n",
       "      <th>2021-06-13 00:00:00</th>\n",
       "      <td>2888.0</td>\n",
       "      <td>35554.289632</td>\n",
       "      <td>35652.464650</td>\n",
       "      <td>35502.67</td>\n",
       "      <td>35602.004286</td>\n",
       "      <td>163.811537</td>\n",
       "      <td>35583.469303</td>\n",
       "    </tr>\n",
       "    <tr>\n",
       "      <th>2021-06-13 00:01:00</th>\n",
       "      <td>2006.0</td>\n",
       "      <td>35596.771429</td>\n",
       "      <td>35621.000000</td>\n",
       "      <td>35533.38</td>\n",
       "      <td>35555.397143</td>\n",
       "      <td>93.363659</td>\n",
       "      <td>35584.861196</td>\n",
       "    </tr>\n",
       "    <tr>\n",
       "      <th>2021-06-13 00:02:00</th>\n",
       "      <td>3531.0</td>\n",
       "      <td>35550.271250</td>\n",
       "      <td>35576.590000</td>\n",
       "      <td>35402.87</td>\n",
       "      <td>35488.287500</td>\n",
       "      <td>220.535164</td>\n",
       "      <td>35480.068897</td>\n",
       "    </tr>\n",
       "    <tr>\n",
       "      <th>2021-06-13 00:03:00</th>\n",
       "      <td>2901.0</td>\n",
       "      <td>35478.867162</td>\n",
       "      <td>35503.460134</td>\n",
       "      <td>35381.01</td>\n",
       "      <td>35423.490000</td>\n",
       "      <td>118.802511</td>\n",
       "      <td>35438.243466</td>\n",
       "    </tr>\n",
       "  </tbody>\n",
       "</table>\n",
       "</div>"
      ],
      "text/plain": [
       "                      Count          Open          High       Low  \\\n",
       "timestamp                                                           \n",
       "2021-06-13 00:00:00  2888.0  35554.289632  35652.464650  35502.67   \n",
       "2021-06-13 00:01:00  2006.0  35596.771429  35621.000000  35533.38   \n",
       "2021-06-13 00:02:00  3531.0  35550.271250  35576.590000  35402.87   \n",
       "2021-06-13 00:03:00  2901.0  35478.867162  35503.460134  35381.01   \n",
       "\n",
       "                            Close      Volume          VWAP  \n",
       "timestamp                                                    \n",
       "2021-06-13 00:00:00  35602.004286  163.811537  35583.469303  \n",
       "2021-06-13 00:01:00  35555.397143   93.363659  35584.861196  \n",
       "2021-06-13 00:02:00  35488.287500  220.535164  35480.068897  \n",
       "2021-06-13 00:03:00  35423.490000  118.802511  35438.243466  "
      ]
     },
     "execution_count": 36,
     "metadata": {},
     "output_type": "execute_result"
    }
   ],
   "source": [
    "df_test[get_asset_id(\"Bitcoin\")]"
   ]
  },
  {
   "cell_type": "markdown",
   "id": "c34f373d",
   "metadata": {},
   "source": [
    "**Checking the loss of informations**"
   ]
  },
  {
   "cell_type": "code",
   "execution_count": 31,
   "id": "87b6e3c0",
   "metadata": {
    "ExecuteTime": {
     "end_time": "2023-03-24T11:27:21.379135Z",
     "start_time": "2023-03-24T11:27:21.374332Z"
    }
   },
   "outputs": [],
   "source": [
    "# Checking the sum of the number of rows for each asset id is equal to the number of rows from the original dataset\n",
    "# ==> No loss\n",
    "assert sum([df_train[k].shape[0] for k in ASSET_IDS]) == TRAIN.shape[0]"
   ]
  },
  {
   "cell_type": "code",
   "execution_count": 34,
   "id": "e97ec3d6",
   "metadata": {
    "ExecuteTime": {
     "end_time": "2023-03-24T11:27:30.540230Z",
     "start_time": "2023-03-24T11:27:30.535390Z"
    }
   },
   "outputs": [],
   "source": [
    "# Checking the sum of the number of rows for each asset id is equal to the number of rows from the original dataset\n",
    "# ==> No loss\n",
    "assert sum([df_train_2[k].shape[0] for k in ASSET_IDS]) == TRAIN_2.shape[0]"
   ]
  },
  {
   "cell_type": "code",
   "execution_count": 37,
   "id": "c5a7bcf2",
   "metadata": {
    "ExecuteTime": {
     "end_time": "2023-03-24T11:28:08.597723Z",
     "start_time": "2023-03-24T11:28:08.594219Z"
    }
   },
   "outputs": [],
   "source": [
    "# Checking the sum of the number of rows for each asset id is equal to the number of rows from the original dataset\n",
    "# ==> No loss\n",
    "assert sum([df_test[k].shape[0] for k in ASSET_IDS]) == TEST.shape[0]"
   ]
  },
  {
   "cell_type": "markdown",
   "id": "2075960f",
   "metadata": {},
   "source": [
    "**Checking the memory usage for each dataframe**"
   ]
  },
  {
   "cell_type": "code",
   "execution_count": 55,
   "id": "7520918b",
   "metadata": {
    "ExecuteTime": {
     "end_time": "2023-03-24T11:30:53.581690Z",
     "start_time": "2023-03-24T11:30:53.546832Z"
    }
   },
   "outputs": [
    {
     "name": "stdout",
     "output_type": "stream",
     "text": [
      "Global mem. usage (TRAIN): \t 1.6 GB\n",
      "Global mem. usage (TRAIN 2): \t 0.2 GB\n",
      "Global mem. usage (TEST): \t 3.6 KB\n"
     ]
    }
   ],
   "source": [
    "# Getting memory usage\n",
    "\n",
    "# Computing the memory usage of each DataFrame\n",
    "MEM_USAGE_TRAIN = {asset_id: df_train[asset_id].memory_usage(index=True).sum()/10**6 for asset_id in ASSET_IDS}\n",
    "MEM_USAGE_TRAIN_2 = {asset_id: df_train_2[asset_id].memory_usage(index=True).sum()/10**6 for asset_id in ASSET_IDS}\n",
    "MEM_USAGE_TEST = {asset_id: df_test[asset_id].memory_usage(index=True).sum()/10**3 for asset_id in ASSET_IDS}\n",
    "\n",
    "\n",
    "# Computing the global memory usage\n",
    "GLOBAL_MEM_USAGE_TRAIN = sum(list(MEM_USAGE_TRAIN.values()))/10**3\n",
    "GLOBAL_MEM_USAGE_TRAIN_2 = sum(list(MEM_USAGE_TRAIN_2.values()))/10**3\n",
    "GLOBAL_MEM_USAGE_TEST = sum(list(MEM_USAGE_TEST.values()))\n",
    "\n",
    "\n",
    "print(f\"Global mem. usage (TRAIN): \\t {GLOBAL_MEM_USAGE_TRAIN :.1f} GB\")\n",
    "print(f\"Global mem. usage (TRAIN 2): \\t {GLOBAL_MEM_USAGE_TRAIN_2 :.1f} GB\")\n",
    "print(f\"Global mem. usage (TEST): \\t {GLOBAL_MEM_USAGE_TEST :.1f} KB\")\n",
    "\n"
   ]
  },
  {
   "cell_type": "markdown",
   "id": "a038f8cc",
   "metadata": {},
   "source": [
    "### Data visualization & EDA"
   ]
  },
  {
   "cell_type": "code",
   "execution_count": 58,
   "id": "5b60b67b",
   "metadata": {
    "ExecuteTime": {
     "end_time": "2023-03-24T11:32:05.755556Z",
     "start_time": "2023-03-24T11:32:02.493113Z"
    }
   },
   "outputs": [
    {
     "data": {
      "image/png": "[encoded data removed]",
      "text/plain": [
       "<Figure size 1200x500 with 1 Axes>"
      ]
     },
     "metadata": {},
     "output_type": "display_data"
    }
   ],
   "source": [
    "# Displaying a random dataframe (train)\n",
    "_ = df_train[get_asset_id(\"Bitcoin\")][\"Open\"].plot(label=\"Open price\", color=\"red\")\n",
    "_ = plt.grid()\n",
    "_ = plt.title(\"Evolution of the Bitcoin Open price\")\n",
    "_ = plt.legend()\n",
    "_ = plt.xlabel(\"Date/Time\")\n",
    "_ = plt.ylabel(\"Open price\")"
   ]
  },
  {
   "cell_type": "code",
   "execution_count": 65,
   "id": "c24983d4",
   "metadata": {
    "ExecuteTime": {
     "end_time": "2023-03-24T11:34:47.256311Z",
     "start_time": "2023-03-24T11:34:43.512132Z"
    }
   },
   "outputs": [
    {
     "data": {
      "image/png": "[encoded data removed]",
      "text/plain": [
       "<Figure size 1200x500 with 1 Axes>"
      ]
     },
     "metadata": {},
     "output_type": "display_data"
    }
   ],
   "source": [
    "# Plotting trading activity\n",
    "_ = df_train[get_asset_id(\"Bitcoin\")][TRADING_ACTIVITY].plot(color=\"magenta\")\n",
    "_ = plt.grid()\n",
    "_ = plt.title(\"Trading activity for Bitcoin\")\n",
    "_ = plt.legend([\"Number of trades per 1-min\"])\n",
    "_ = plt.xlabel(\"Date/Time\")\n",
    "_ = plt.ylabel(\"Number of trades per 1-min bin\")"
   ]
  },
  {
   "cell_type": "code",
   "execution_count": 66,
   "id": "319d38a9",
   "metadata": {
    "ExecuteTime": {
     "end_time": "2023-03-24T11:35:02.500773Z",
     "start_time": "2023-03-24T11:34:58.446847Z"
    }
   },
   "outputs": [
    {
     "data": {
      "image/png": "[encoded data removed]",
      "text/plain": [
       "<Figure size 1200x500 with 2 Axes>"
      ]
     },
     "metadata": {},
     "output_type": "display_data"
    }
   ],
   "source": [
    "# Computing the correlation matrix of a given metric\n",
    "X = pd.concat([df_train[k][\"Volume\"] for k in ASSET_IDS], axis=1)\n",
    "X.columns = ASSET_NAMES\n",
    "\n",
    "# Plot this correlation matrix\n",
    "_ = sns.heatmap(X.corr(), annot=True, cmap=\"autumn\")\n",
    "_ = plt.title(\"Correlation of open price between each asset type\")"
   ]
  },
  {
   "cell_type": "code",
   "execution_count": 36,
   "id": "c551dd0d",
   "metadata": {
    "ExecuteTime": {
     "end_time": "2023-03-24T11:15:18.392456Z",
     "start_time": "2023-03-24T11:15:18.387973Z"
    }
   },
   "outputs": [
    {
     "data": {
      "text/plain": [
       "'\\ns = mpf.make_mpf_style(base_mpf_style=\"yahoo\", rc={\\'font.size\\': 10})\\nfig = mpf.figure(figsize=(20, 15), style=s)\\nax = fig.add_subplot(2,1,1)\\nmpf.plot(df_train[4][OHLC][1:100], type=\"candle\", ax=ax)\\n_ = plt.title(\"Candlestick representation for a tiny data sample\")\\n_ = plt.xlabel(\"Date/Time\")\\n'"
      ]
     },
     "execution_count": 36,
     "metadata": {},
     "output_type": "execute_result"
    }
   ],
   "source": [
    "# Plot candlestick representation\n",
    "\"\"\"\n",
    "s = mpf.make_mpf_style(base_mpf_style=\"yahoo\", rc={'font.size': 10})\n",
    "fig = mpf.figure(figsize=(20, 15), style=s)\n",
    "ax = fig.add_subplot(2,1,1)\n",
    "mpf.plot(df_train[4][OHLC][1:100], type=\"candle\", ax=ax)\n",
    "_ = plt.title(\"Candlestick representation for a tiny data sample\")\n",
    "_ = plt.xlabel(\"Date/Time\")\n",
    "\"\"\""
   ]
  },
  {
   "cell_type": "markdown",
   "id": "364e6b52",
   "metadata": {},
   "source": [
    "### NaN values & Other processing operations"
   ]
  },
  {
   "cell_type": "code",
   "execution_count": 67,
   "id": "7c7ff9b6",
   "metadata": {
    "ExecuteTime": {
     "end_time": "2023-03-24T11:35:14.481947Z",
     "start_time": "2023-03-24T11:35:11.322025Z"
    }
   },
   "outputs": [
    {
     "data": {
      "image/png": "[encoded data removed]",
      "text/plain": [
       "<Figure size 2500x1000 with 2 Axes>"
      ]
     },
     "metadata": {},
     "output_type": "display_data"
    }
   ],
   "source": [
    "# Checking the NaN values distribution\n",
    "_ = msn.matrix(df_train[get_asset_id(\"Bitcoin\")])"
   ]
  },
  {
   "cell_type": "code",
   "execution_count": 69,
   "id": "3579e335",
   "metadata": {
    "ExecuteTime": {
     "end_time": "2023-03-24T11:37:43.413164Z",
     "start_time": "2023-03-24T11:37:42.123352Z"
    }
   },
   "outputs": [
    {
     "data": {
      "image/png": "[encoded data removed]",
      "text/plain": [
       "<Figure size 1200x500 with 1 Axes>"
      ]
     },
     "metadata": {},
     "output_type": "display_data"
    }
   ],
   "source": [
    "sns.boxplot(data=df_train[2][OHLC], showfliers=True);"
   ]
  },
  {
   "cell_type": "markdown",
   "id": "71f7f233",
   "metadata": {},
   "source": [
    "## Trading strategies"
   ]
  },
  {
   "cell_type": "code",
   "execution_count": null,
   "id": "3c069b55",
   "metadata": {},
   "outputs": [],
   "source": []
  },
  {
   "cell_type": "markdown",
   "id": "aafede87",
   "metadata": {},
   "source": [
    "## Conclusion"
   ]
  },
  {
   "cell_type": "code",
   "execution_count": null,
   "id": "b2366d41",
   "metadata": {},
   "outputs": [],
   "source": []
  },
  {
   "cell_type": "markdown",
   "id": "cd7fcd30",
   "metadata": {},
   "source": [
    "---\n",
    "\n",
    "**Arian NAJAFY ABRANDABADY - Lucas RODRIGUEZ - Bastien TRIDON**"
   ]
  }
 ],
 "metadata": {
  "kernelspec": {
   "display_name": "Python 3 (ipykernel)",
   "language": "python",
   "name": "python3"
  },
  "language_info": {
   "codemirror_mode": {
    "name": "ipython",
    "version": 3
   },
   "file_extension": ".py",
   "mimetype": "text/x-python",
   "name": "python",
   "nbconvert_exporter": "python",
   "pygments_lexer": "ipython3",
   "version": "3.10.6"
  },
  "toc": {
   "base_numbering": 1,
   "nav_menu": {},
   "number_sections": true,
   "sideBar": true,
   "skip_h1_title": false,
   "title_cell": "Table of Contents",
   "title_sidebar": "Contents",
   "toc_cell": false,
   "toc_position": {},
   "toc_section_display": true,
   "toc_window_display": false
  }
 },
 "nbformat": 4,
 "nbformat_minor": 5
}
