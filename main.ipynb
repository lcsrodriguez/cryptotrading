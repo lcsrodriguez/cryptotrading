{
 "cells": [
  {
   "cell_type": "markdown",
   "id": "8c57f12c",
   "metadata": {},
   "source": [
    "# Crypto Trading strategies & Transfer learning - ML/DL project\n",
    "\n",
    "\n",
    "- **Arian NAJAFY ABRANDABADY - Lucas RODRIGUEZ - Bastien TRIDON**\n",
    "- *Academic works (March - April 2023)*"
   ]
  },
  {
   "cell_type": "markdown",
   "id": "f2f2b09c",
   "metadata": {},
   "source": [
    "**Original dataset**:\n",
    "- https://www.kaggle.com/competitions/g-research-crypto-forecasting"
   ]
  },
  {
   "cell_type": "markdown",
   "id": "24bcf12f",
   "metadata": {},
   "source": [
    "First, please check your project architecture:\n",
    "\n",
    "```\n",
    ".\n",
    "├── README.md\n",
    "├── data\n",
    "│   ├── asset_details.csv\n",
    "│   ├── example_test.csv\n",
    "│   ├── supplemental_train.csv\n",
    "│   └── train.csv\n",
    "├── main.ipynb\n",
    "└── requirements.txt\n",
    "```"
   ]
  },
  {
   "cell_type": "markdown",
   "id": "b6b3536c",
   "metadata": {},
   "source": [
    "Then, please make sure you have installed each dependency:"
   ]
  },
  {
   "cell_type": "code",
   "execution_count": 1,
   "id": "5ba0593d",
   "metadata": {
    "ExecuteTime": {
     "end_time": "2023-03-24T16:13:52.403664Z",
     "start_time": "2023-03-24T16:13:52.395258Z"
    }
   },
   "outputs": [],
   "source": [
    "# Un-comment this cell and run it\n",
    "#!pip3 install -r requirements.txt"
   ]
  },
  {
   "cell_type": "markdown",
   "id": "da90d990",
   "metadata": {},
   "source": [
    "# Pre-processing"
   ]
  },
  {
   "cell_type": "markdown",
   "id": "ab6a678f",
   "metadata": {},
   "source": [
    "<span style=\"color:red\">**WARNING**: The `tablib` module requires an additional dependency. Please refer to the official [documentation](https://ta-lib.github.io/ta-lib-python/install.html).</span>"
   ]
  },
  {
   "cell_type": "code",
   "execution_count": 137,
   "id": "6c99605c",
   "metadata": {
    "ExecuteTime": {
     "end_time": "2023-03-24T17:27:34.506215Z",
     "start_time": "2023-03-24T17:27:34.498505Z"
    }
   },
   "outputs": [],
   "source": [
    "# Importing necessary modules\n",
    "import pandas as pd\n",
    "import numpy as np\n",
    "import glob\n",
    "import warnings\n",
    "import scikitplot as skplt\n",
    "import matplotlib\n",
    "import missingno as msn\n",
    "import matplotlib.pyplot as plt\n",
    "import seaborn as sns\n",
    "import yfinance as yf\n",
    "import pandas_datareader as pdr\n",
    "import talib as tl\n",
    "from sklearn.model_selection import train_test_split, TimeSeriesSplit\n",
    "from sklearn.metrics import (precision_recall_curve,\n",
    "                             plot_precision_recall_curve,\n",
    "                             plot_confusion_matrix,\n",
    "                             plot_roc_curve,\n",
    "                             roc_auc_score)\n",
    "\n",
    "# Plotting options\n",
    "#matplotlib.use(\"nbagg\")\n",
    "#from plotly.offline import init_notebook_mode, iplot\n",
    "#from plotly.graph_objs import *\n",
    "#import mplfinance as mpf\n",
    "#init_notebook_mode(connected=True) \n",
    "#pd.options.plotting.backend = \"plotly\"\n",
    "\n",
    "# Setting default parameters\n",
    "plt.rcParams[\"figure.figsize\"] = [12, 5] # Figure sizes for Matplotlib \n",
    "plt.rcParams[\"axes.prop_cycle\"] = plt.cycler(color=[\"blue\", \"green\", \"red\", \"orange\", \"purple\", \"magenta\"]) # Color for plotting\n",
    "\n",
    "# Silencing all warnings for a better UX\n",
    "warnings.filterwarnings(\"ignore\")"
   ]
  },
  {
   "cell_type": "markdown",
   "id": "470012a3",
   "metadata": {},
   "source": [
    "## Utils & Necessary functions"
   ]
  },
  {
   "cell_type": "code",
   "execution_count": 3,
   "id": "d016ddfd",
   "metadata": {
    "ExecuteTime": {
     "end_time": "2023-03-24T16:13:58.073970Z",
     "start_time": "2023-03-24T16:13:58.068869Z"
    }
   },
   "outputs": [],
   "source": [
    "# Declaring the column labels\n",
    "OHLC = [\"Open\", \"High\", \"Low\", \"Close\"]\n",
    "OHLCV = OHLC + [\"Volume\"]\n",
    "TRADING_ACTIVITY = [\"Count\"]\n",
    "VWAP = [\"VWAP\"]\n",
    "TARGET = [\"Target\"]"
   ]
  },
  {
   "cell_type": "code",
   "execution_count": 4,
   "id": "c3e7b3b8",
   "metadata": {
    "ExecuteTime": {
     "end_time": "2023-03-24T16:13:58.412373Z",
     "start_time": "2023-03-24T16:13:58.400813Z"
    }
   },
   "outputs": [
    {
     "data": {
      "text/plain": [
       "['data/asset_details.csv',\n",
       " 'data/supplemental_train.csv',\n",
       " 'data/train.csv',\n",
       " 'data/example_test.csv']"
      ]
     },
     "execution_count": 4,
     "metadata": {},
     "output_type": "execute_result"
    }
   ],
   "source": [
    "# Checking data filenames\n",
    "DATA_FILENAMES = glob.glob(\"data/*.csv\")\n",
    "DATA_FILENAMES"
   ]
  },
  {
   "cell_type": "code",
   "execution_count": 5,
   "id": "29777ea2",
   "metadata": {
    "ExecuteTime": {
     "end_time": "2023-03-24T16:13:59.574264Z",
     "start_time": "2023-03-24T16:13:59.570360Z"
    }
   },
   "outputs": [],
   "source": [
    "# Checking that we only have the 4 files\n",
    "assert len(DATA_FILENAMES) == 4"
   ]
  },
  {
   "cell_type": "code",
   "execution_count": 6,
   "id": "28ca54f0",
   "metadata": {
    "ExecuteTime": {
     "end_time": "2023-03-24T16:13:59.803072Z",
     "start_time": "2023-03-24T16:13:59.783390Z"
    }
   },
   "outputs": [
    {
     "data": {
      "text/html": [
       "<div>\n",
       "<style scoped>\n",
       "    .dataframe tbody tr th:only-of-type {\n",
       "        vertical-align: middle;\n",
       "    }\n",
       "\n",
       "    .dataframe tbody tr th {\n",
       "        vertical-align: top;\n",
       "    }\n",
       "\n",
       "    .dataframe thead th {\n",
       "        text-align: right;\n",
       "    }\n",
       "</style>\n",
       "<table border=\"1\" class=\"dataframe\">\n",
       "  <thead>\n",
       "    <tr style=\"text-align: right;\">\n",
       "      <th>Asset_ID</th>\n",
       "      <th>2</th>\n",
       "      <th>0</th>\n",
       "      <th>1</th>\n",
       "      <th>5</th>\n",
       "      <th>7</th>\n",
       "      <th>6</th>\n",
       "      <th>9</th>\n",
       "      <th>11</th>\n",
       "      <th>13</th>\n",
       "      <th>12</th>\n",
       "      <th>3</th>\n",
       "      <th>8</th>\n",
       "      <th>10</th>\n",
       "      <th>4</th>\n",
       "    </tr>\n",
       "  </thead>\n",
       "  <tbody>\n",
       "    <tr>\n",
       "      <th>Weight</th>\n",
       "      <td>2.397895</td>\n",
       "      <td>4.304065</td>\n",
       "      <td>6.779922</td>\n",
       "      <td>1.386294</td>\n",
       "      <td>2.079442</td>\n",
       "      <td>5.894403</td>\n",
       "      <td>2.397895</td>\n",
       "      <td>1.609438</td>\n",
       "      <td>1.791759</td>\n",
       "      <td>2.079442</td>\n",
       "      <td>4.406719</td>\n",
       "      <td>1.098612</td>\n",
       "      <td>1.098612</td>\n",
       "      <td>3.555348</td>\n",
       "    </tr>\n",
       "    <tr>\n",
       "      <th>Asset_Name</th>\n",
       "      <td>Bitcoin Cash</td>\n",
       "      <td>Binance Coin</td>\n",
       "      <td>Bitcoin</td>\n",
       "      <td>EOS.IO</td>\n",
       "      <td>Ethereum Classic</td>\n",
       "      <td>Ethereum</td>\n",
       "      <td>Litecoin</td>\n",
       "      <td>Monero</td>\n",
       "      <td>TRON</td>\n",
       "      <td>Stellar</td>\n",
       "      <td>Cardano</td>\n",
       "      <td>IOTA</td>\n",
       "      <td>Maker</td>\n",
       "      <td>Dogecoin</td>\n",
       "    </tr>\n",
       "  </tbody>\n",
       "</table>\n",
       "</div>"
      ],
      "text/plain": [
       "Asset_ID              2             0         1         5                 7   \\\n",
       "Weight          2.397895      4.304065  6.779922  1.386294          2.079442   \n",
       "Asset_Name  Bitcoin Cash  Binance Coin   Bitcoin    EOS.IO  Ethereum Classic   \n",
       "\n",
       "Asset_ID          6         9         11        13        12        3   \\\n",
       "Weight      5.894403  2.397895  1.609438  1.791759  2.079442  4.406719   \n",
       "Asset_Name  Ethereum  Litecoin    Monero      TRON   Stellar   Cardano   \n",
       "\n",
       "Asset_ID          8         10        4   \n",
       "Weight      1.098612  1.098612  3.555348  \n",
       "Asset_Name      IOTA     Maker  Dogecoin  "
      ]
     },
     "execution_count": 6,
     "metadata": {},
     "output_type": "execute_result"
    }
   ],
   "source": [
    "# Importing and storing asset details\n",
    "ASSET_DETAILS = pd.read_csv(filepath_or_buffer=\"data/asset_details.csv\", index_col=\"Asset_ID\")\n",
    "ASSET_DETAILS.T"
   ]
  },
  {
   "cell_type": "code",
   "execution_count": 7,
   "id": "3f018bb6",
   "metadata": {
    "ExecuteTime": {
     "end_time": "2023-03-24T16:14:00.960926Z",
     "start_time": "2023-03-24T16:14:00.954567Z"
    }
   },
   "outputs": [
    {
     "data": {
      "text/plain": [
       "[0, 1, 2, 3, 4, 5, 6, 7, 8, 9, 10, 11, 12, 13]"
      ]
     },
     "execution_count": 7,
     "metadata": {},
     "output_type": "execute_result"
    }
   ],
   "source": [
    "# Retrieving asset ids\n",
    "ASSET_IDS = sorted(list(ASSET_DETAILS.index))\n",
    "ASSET_IDS"
   ]
  },
  {
   "cell_type": "code",
   "execution_count": 8,
   "id": "21191f78",
   "metadata": {
    "ExecuteTime": {
     "end_time": "2023-03-24T16:14:01.867229Z",
     "start_time": "2023-03-24T16:14:01.861820Z"
    }
   },
   "outputs": [],
   "source": [
    "# Declaring utils functions\n",
    "\n",
    "def get_asset_id(asset_name: str) -> int:\n",
    "    \"\"\"\n",
    "    Function returning the asset id from a given asset name\n",
    "    \"\"\"\n",
    "    # Getting the list of asset names\n",
    "    LIST_ASSET_NAMES = ASSET_DETAILS['Asset_Name'].to_numpy()\n",
    "    \n",
    "    # Checking if the asset name is correct\n",
    "    if str(asset_name) not in LIST_ASSET_NAMES:\n",
    "        raise Exception(f\"The given asset name is unknown\\nPlease use one from: {LIST_ASSET_NAMES}\")\n",
    "    \n",
    "    # Returning the corresponding asset id\n",
    "    return list(ASSET_DETAILS.index[ASSET_DETAILS[\"Asset_Name\"] == str(asset_name)])[0]\n",
    "\n",
    "def get_asset_name(asset_id: int) -> str:\n",
    "    \"\"\"\n",
    "    Function returning the asset name from a given asset id\n",
    "    \"\"\"\n",
    "    if int(asset_id) not in ASSET_IDS:\n",
    "        raise Exception(f\"The given asset id is unknown\\nPlease use one from: {ASSET_IDS}\")\n",
    "    \n",
    "    return ASSET_DETAILS[\"Asset_Name\"][asset_id]"
   ]
  },
  {
   "cell_type": "code",
   "execution_count": 9,
   "id": "ff83b715",
   "metadata": {
    "ExecuteTime": {
     "end_time": "2023-03-24T16:14:02.513010Z",
     "start_time": "2023-03-24T16:14:02.504707Z"
    }
   },
   "outputs": [
    {
     "data": {
      "text/plain": [
       "['Binance Coin',\n",
       " 'Bitcoin',\n",
       " 'Bitcoin Cash',\n",
       " 'Cardano',\n",
       " 'Dogecoin',\n",
       " 'EOS.IO',\n",
       " 'Ethereum',\n",
       " 'Ethereum Classic',\n",
       " 'IOTA',\n",
       " 'Litecoin',\n",
       " 'Maker',\n",
       " 'Monero',\n",
       " 'Stellar',\n",
       " 'TRON']"
      ]
     },
     "execution_count": 9,
     "metadata": {},
     "output_type": "execute_result"
    }
   ],
   "source": [
    "ASSET_NAMES = [str(get_asset_name(k)) for k in ASSET_IDS]\n",
    "ASSET_NAMES"
   ]
  },
  {
   "cell_type": "code",
   "execution_count": 10,
   "id": "c23f8ecf",
   "metadata": {
    "ExecuteTime": {
     "end_time": "2023-03-24T16:14:03.392840Z",
     "start_time": "2023-03-24T16:14:03.386817Z"
    }
   },
   "outputs": [
    {
     "data": {
      "text/plain": [
       "1"
      ]
     },
     "execution_count": 10,
     "metadata": {},
     "output_type": "execute_result"
    }
   ],
   "source": [
    "# Example\n",
    "get_asset_id(\"Bitcoin\")"
   ]
  },
  {
   "cell_type": "markdown",
   "id": "070a1102",
   "metadata": {},
   "source": [
    "## Datasets imports (TRAIN/TEST)"
   ]
  },
  {
   "cell_type": "markdown",
   "id": "9248ea00",
   "metadata": {},
   "source": [
    "**TRAIN/TRAIN_2 datasets**"
   ]
  },
  {
   "cell_type": "code",
   "execution_count": 11,
   "id": "cff2903e",
   "metadata": {
    "ExecuteTime": {
     "end_time": "2023-03-24T16:14:24.215165Z",
     "start_time": "2023-03-24T16:14:04.647931Z"
    }
   },
   "outputs": [],
   "source": [
    "# Importing training dataset\n",
    "TRAIN = pd.read_csv(filepath_or_buffer=\"data/train.csv\")"
   ]
  },
  {
   "cell_type": "code",
   "execution_count": 12,
   "id": "267d1345",
   "metadata": {
    "ExecuteTime": {
     "end_time": "2023-03-24T16:14:26.309499Z",
     "start_time": "2023-03-24T16:14:24.217833Z"
    }
   },
   "outputs": [],
   "source": [
    "# Importing second training dataset\n",
    "TRAIN_2 = pd.read_csv(filepath_or_buffer=\"data/supplemental_train.csv\")"
   ]
  },
  {
   "cell_type": "code",
   "execution_count": null,
   "id": "186da04c",
   "metadata": {},
   "outputs": [],
   "source": [
    "# Verify the continuity of the time series\n",
    "#TRAIN.tail()\n",
    "#TRAIN_2.head()"
   ]
  },
  {
   "cell_type": "markdown",
   "id": "81195f1d",
   "metadata": {},
   "source": [
    "**TEST dataset**"
   ]
  },
  {
   "cell_type": "code",
   "execution_count": 13,
   "id": "d829a0b1",
   "metadata": {
    "ExecuteTime": {
     "end_time": "2023-03-24T16:14:32.945407Z",
     "start_time": "2023-03-24T16:14:32.836142Z"
    }
   },
   "outputs": [
    {
     "data": {
      "text/plain": [
       "(14, 10)"
      ]
     },
     "execution_count": 13,
     "metadata": {},
     "output_type": "execute_result"
    }
   ],
   "source": [
    "# Importing test dataset\n",
    "TEST = pd.read_csv(filepath_or_buffer=\"data/example_test.csv\")\n",
    "TEST.head()\n",
    "TRAIN[TRAIN[\"timestamp\"] == TEST.iloc[0][\"timestamp\"]].shape\n",
    "\n",
    "# TODO: explanation"
   ]
  },
  {
   "cell_type": "markdown",
   "id": "f115cf48",
   "metadata": {},
   "source": [
    "**Comment**: The `TEST` table contains duplicate rows from the `TRAIN` table. It can be removed properly."
   ]
  },
  {
   "cell_type": "code",
   "execution_count": 14,
   "id": "fbca27c5",
   "metadata": {
    "ExecuteTime": {
     "end_time": "2023-03-24T16:14:34.023899Z",
     "start_time": "2023-03-24T16:14:34.004770Z"
    }
   },
   "outputs": [
    {
     "data": {
      "text/html": [
       "<div>\n",
       "<style scoped>\n",
       "    .dataframe tbody tr th:only-of-type {\n",
       "        vertical-align: middle;\n",
       "    }\n",
       "\n",
       "    .dataframe tbody tr th {\n",
       "        vertical-align: top;\n",
       "    }\n",
       "\n",
       "    .dataframe thead th {\n",
       "        text-align: right;\n",
       "    }\n",
       "</style>\n",
       "<table border=\"1\" class=\"dataframe\">\n",
       "  <thead>\n",
       "    <tr style=\"text-align: right;\">\n",
       "      <th></th>\n",
       "      <th>timestamp</th>\n",
       "      <th>Asset_ID</th>\n",
       "      <th>Count</th>\n",
       "      <th>Open</th>\n",
       "      <th>High</th>\n",
       "      <th>Low</th>\n",
       "      <th>Close</th>\n",
       "      <th>Volume</th>\n",
       "      <th>VWAP</th>\n",
       "      <th>Target</th>\n",
       "    </tr>\n",
       "  </thead>\n",
       "  <tbody>\n",
       "    <tr>\n",
       "      <th>0</th>\n",
       "      <td>1514764860</td>\n",
       "      <td>2</td>\n",
       "      <td>40.0</td>\n",
       "      <td>2376.5800</td>\n",
       "      <td>2399.5000</td>\n",
       "      <td>2357.1400</td>\n",
       "      <td>2374.5900</td>\n",
       "      <td>19.233005</td>\n",
       "      <td>2373.116392</td>\n",
       "      <td>-0.004218</td>\n",
       "    </tr>\n",
       "    <tr>\n",
       "      <th>1</th>\n",
       "      <td>1514764860</td>\n",
       "      <td>0</td>\n",
       "      <td>5.0</td>\n",
       "      <td>8.5300</td>\n",
       "      <td>8.5300</td>\n",
       "      <td>8.5300</td>\n",
       "      <td>8.5300</td>\n",
       "      <td>78.380000</td>\n",
       "      <td>8.530000</td>\n",
       "      <td>-0.014399</td>\n",
       "    </tr>\n",
       "    <tr>\n",
       "      <th>2</th>\n",
       "      <td>1514764860</td>\n",
       "      <td>1</td>\n",
       "      <td>229.0</td>\n",
       "      <td>13835.1940</td>\n",
       "      <td>14013.8000</td>\n",
       "      <td>13666.1100</td>\n",
       "      <td>13850.1760</td>\n",
       "      <td>31.550062</td>\n",
       "      <td>13827.062093</td>\n",
       "      <td>-0.014643</td>\n",
       "    </tr>\n",
       "    <tr>\n",
       "      <th>3</th>\n",
       "      <td>1514764860</td>\n",
       "      <td>5</td>\n",
       "      <td>32.0</td>\n",
       "      <td>7.6596</td>\n",
       "      <td>7.6596</td>\n",
       "      <td>7.6567</td>\n",
       "      <td>7.6576</td>\n",
       "      <td>6626.713370</td>\n",
       "      <td>7.657713</td>\n",
       "      <td>-0.013922</td>\n",
       "    </tr>\n",
       "    <tr>\n",
       "      <th>4</th>\n",
       "      <td>1514764860</td>\n",
       "      <td>7</td>\n",
       "      <td>5.0</td>\n",
       "      <td>25.9200</td>\n",
       "      <td>25.9200</td>\n",
       "      <td>25.8740</td>\n",
       "      <td>25.8770</td>\n",
       "      <td>121.087310</td>\n",
       "      <td>25.891363</td>\n",
       "      <td>-0.008264</td>\n",
       "    </tr>\n",
       "  </tbody>\n",
       "</table>\n",
       "</div>"
      ],
      "text/plain": [
       "    timestamp  Asset_ID  Count        Open        High         Low  \\\n",
       "0  1514764860         2   40.0   2376.5800   2399.5000   2357.1400   \n",
       "1  1514764860         0    5.0      8.5300      8.5300      8.5300   \n",
       "2  1514764860         1  229.0  13835.1940  14013.8000  13666.1100   \n",
       "3  1514764860         5   32.0      7.6596      7.6596      7.6567   \n",
       "4  1514764860         7    5.0     25.9200     25.9200     25.8740   \n",
       "\n",
       "        Close       Volume          VWAP    Target  \n",
       "0   2374.5900    19.233005   2373.116392 -0.004218  \n",
       "1      8.5300    78.380000      8.530000 -0.014399  \n",
       "2  13850.1760    31.550062  13827.062093 -0.014643  \n",
       "3      7.6576  6626.713370      7.657713 -0.013922  \n",
       "4     25.8770   121.087310     25.891363 -0.008264  "
      ]
     },
     "execution_count": 14,
     "metadata": {},
     "output_type": "execute_result"
    }
   ],
   "source": [
    "TRAIN.head()"
   ]
  },
  {
   "cell_type": "code",
   "execution_count": 15,
   "id": "52fb2284",
   "metadata": {
    "ExecuteTime": {
     "end_time": "2023-03-24T16:14:36.126427Z",
     "start_time": "2023-03-24T16:14:36.114938Z"
    }
   },
   "outputs": [
    {
     "name": "stdout",
     "output_type": "stream",
     "text": [
      "<class 'pandas.core.frame.DataFrame'>\n",
      "RangeIndex: 24236806 entries, 0 to 24236805\n",
      "Data columns (total 10 columns):\n",
      " #   Column     Dtype  \n",
      "---  ------     -----  \n",
      " 0   timestamp  int64  \n",
      " 1   Asset_ID   int64  \n",
      " 2   Count      float64\n",
      " 3   Open       float64\n",
      " 4   High       float64\n",
      " 5   Low        float64\n",
      " 6   Close      float64\n",
      " 7   Volume     float64\n",
      " 8   VWAP       float64\n",
      " 9   Target     float64\n",
      "dtypes: float64(8), int64(2)\n",
      "memory usage: 1.8 GB\n"
     ]
    }
   ],
   "source": [
    "TRAIN.info()"
   ]
  },
  {
   "cell_type": "code",
   "execution_count": 16,
   "id": "62d93cdc",
   "metadata": {
    "ExecuteTime": {
     "end_time": "2023-03-24T16:14:38.189056Z",
     "start_time": "2023-03-24T16:14:38.172948Z"
    }
   },
   "outputs": [
    {
     "data": {
      "text/html": [
       "<div>\n",
       "<style scoped>\n",
       "    .dataframe tbody tr th:only-of-type {\n",
       "        vertical-align: middle;\n",
       "    }\n",
       "\n",
       "    .dataframe tbody tr th {\n",
       "        vertical-align: top;\n",
       "    }\n",
       "\n",
       "    .dataframe thead th {\n",
       "        text-align: right;\n",
       "    }\n",
       "</style>\n",
       "<table border=\"1\" class=\"dataframe\">\n",
       "  <thead>\n",
       "    <tr style=\"text-align: right;\">\n",
       "      <th></th>\n",
       "      <th>timestamp</th>\n",
       "      <th>Asset_ID</th>\n",
       "      <th>Count</th>\n",
       "      <th>Open</th>\n",
       "      <th>High</th>\n",
       "      <th>Low</th>\n",
       "      <th>Close</th>\n",
       "      <th>Volume</th>\n",
       "      <th>VWAP</th>\n",
       "      <th>Target</th>\n",
       "    </tr>\n",
       "  </thead>\n",
       "  <tbody>\n",
       "    <tr>\n",
       "      <th>0</th>\n",
       "      <td>1632182460</td>\n",
       "      <td>3</td>\n",
       "      <td>561.0</td>\n",
       "      <td>2.079028</td>\n",
       "      <td>2.080605</td>\n",
       "      <td>2.0720</td>\n",
       "      <td>2.076458</td>\n",
       "      <td>2.804627e+05</td>\n",
       "      <td>2.075869</td>\n",
       "      <td>0.003085</td>\n",
       "    </tr>\n",
       "    <tr>\n",
       "      <th>1</th>\n",
       "      <td>1632182460</td>\n",
       "      <td>2</td>\n",
       "      <td>169.0</td>\n",
       "      <td>541.006000</td>\n",
       "      <td>541.200000</td>\n",
       "      <td>539.7000</td>\n",
       "      <td>540.722000</td>\n",
       "      <td>1.889432e+02</td>\n",
       "      <td>540.716930</td>\n",
       "      <td>-0.000607</td>\n",
       "    </tr>\n",
       "    <tr>\n",
       "      <th>2</th>\n",
       "      <td>1632182460</td>\n",
       "      <td>0</td>\n",
       "      <td>400.0</td>\n",
       "      <td>363.737500</td>\n",
       "      <td>363.900000</td>\n",
       "      <td>363.0000</td>\n",
       "      <td>363.654000</td>\n",
       "      <td>8.792685e+02</td>\n",
       "      <td>363.499554</td>\n",
       "      <td>-0.019375</td>\n",
       "    </tr>\n",
       "    <tr>\n",
       "      <th>3</th>\n",
       "      <td>1632182460</td>\n",
       "      <td>1</td>\n",
       "      <td>1933.0</td>\n",
       "      <td>42986.143333</td>\n",
       "      <td>43001.000000</td>\n",
       "      <td>42898.0000</td>\n",
       "      <td>42947.065566</td>\n",
       "      <td>9.183861e+01</td>\n",
       "      <td>42942.976718</td>\n",
       "      <td>-0.000374</td>\n",
       "    </tr>\n",
       "    <tr>\n",
       "      <th>4</th>\n",
       "      <td>1632182460</td>\n",
       "      <td>4</td>\n",
       "      <td>348.0</td>\n",
       "      <td>0.208326</td>\n",
       "      <td>0.208400</td>\n",
       "      <td>0.2078</td>\n",
       "      <td>0.208200</td>\n",
       "      <td>1.051337e+06</td>\n",
       "      <td>0.208077</td>\n",
       "      <td>-0.001233</td>\n",
       "    </tr>\n",
       "  </tbody>\n",
       "</table>\n",
       "</div>"
      ],
      "text/plain": [
       "    timestamp  Asset_ID   Count          Open          High         Low  \\\n",
       "0  1632182460         3   561.0      2.079028      2.080605      2.0720   \n",
       "1  1632182460         2   169.0    541.006000    541.200000    539.7000   \n",
       "2  1632182460         0   400.0    363.737500    363.900000    363.0000   \n",
       "3  1632182460         1  1933.0  42986.143333  43001.000000  42898.0000   \n",
       "4  1632182460         4   348.0      0.208326      0.208400      0.2078   \n",
       "\n",
       "          Close        Volume          VWAP    Target  \n",
       "0      2.076458  2.804627e+05      2.075869  0.003085  \n",
       "1    540.722000  1.889432e+02    540.716930 -0.000607  \n",
       "2    363.654000  8.792685e+02    363.499554 -0.019375  \n",
       "3  42947.065566  9.183861e+01  42942.976718 -0.000374  \n",
       "4      0.208200  1.051337e+06      0.208077 -0.001233  "
      ]
     },
     "execution_count": 16,
     "metadata": {},
     "output_type": "execute_result"
    }
   ],
   "source": [
    "TRAIN_2.head()"
   ]
  },
  {
   "cell_type": "code",
   "execution_count": 17,
   "id": "a1841393",
   "metadata": {
    "ExecuteTime": {
     "end_time": "2023-03-24T16:14:38.534064Z",
     "start_time": "2023-03-24T16:14:38.525730Z"
    }
   },
   "outputs": [
    {
     "name": "stdout",
     "output_type": "stream",
     "text": [
      "<class 'pandas.core.frame.DataFrame'>\n",
      "RangeIndex: 2518278 entries, 0 to 2518277\n",
      "Data columns (total 10 columns):\n",
      " #   Column     Dtype  \n",
      "---  ------     -----  \n",
      " 0   timestamp  int64  \n",
      " 1   Asset_ID   int64  \n",
      " 2   Count      float64\n",
      " 3   Open       float64\n",
      " 4   High       float64\n",
      " 5   Low        float64\n",
      " 6   Close      float64\n",
      " 7   Volume     float64\n",
      " 8   VWAP       float64\n",
      " 9   Target     float64\n",
      "dtypes: float64(8), int64(2)\n",
      "memory usage: 192.1 MB\n"
     ]
    }
   ],
   "source": [
    "TRAIN_2.info()"
   ]
  },
  {
   "cell_type": "code",
   "execution_count": 18,
   "id": "e8a8345d",
   "metadata": {
    "ExecuteTime": {
     "end_time": "2023-03-24T16:14:41.138354Z",
     "start_time": "2023-03-24T16:14:39.887771Z"
    }
   },
   "outputs": [],
   "source": [
    "# Merging TRAIN and TRAIN_2 as df\n",
    "df = pd.concat([TRAIN, TRAIN_2], axis = 0)"
   ]
  },
  {
   "cell_type": "code",
   "execution_count": null,
   "id": "bb4849f3",
   "metadata": {},
   "outputs": [],
   "source": [
    "# Première date: 2018-01-01 00:01:00\n",
    "# Dernière date: 2022-01-24 00:00:00"
   ]
  },
  {
   "cell_type": "code",
   "execution_count": 19,
   "id": "a132e6b5",
   "metadata": {
    "ExecuteTime": {
     "end_time": "2023-03-24T16:15:16.080192Z",
     "start_time": "2023-03-24T16:14:44.949434Z"
    }
   },
   "outputs": [
    {
     "name": "stdout",
     "output_type": "stream",
     "text": [
      "--> Processing Asset #0 \t (Binance Coin)\n",
      "--> Processing Asset #1 \t (Bitcoin)\n",
      "--> Processing Asset #2 \t (Bitcoin Cash)\n",
      "--> Processing Asset #3 \t (Cardano)\n",
      "--> Processing Asset #4 \t (Dogecoin)\n",
      "--> Processing Asset #5 \t (EOS.IO)\n",
      "--> Processing Asset #6 \t (Ethereum)\n",
      "--> Processing Asset #7 \t (Ethereum Classic)\n",
      "--> Processing Asset #8 \t (IOTA)\n",
      "--> Processing Asset #9 \t (Litecoin)\n",
      "--> Processing Asset #10 \t (Maker)\n",
      "--> Processing Asset #11 \t (Monero)\n",
      "--> Processing Asset #12 \t (Stellar)\n",
      "--> Processing Asset #13 \t (TRON)\n"
     ]
    }
   ],
   "source": [
    "# Hashmap of train datasets for each asset id\n",
    "df_dict = {asset_id: None for asset_id in ASSET_IDS}\n",
    "\n",
    "# For each asset id, perform the pre-processing\n",
    "for asset_id in ASSET_IDS:\n",
    "    print(f\"--> Processing Asset #{asset_id} \\t ({get_asset_name(asset_id)})\")\n",
    "    \n",
    "    # Retrieving the corresponding data rows\n",
    "    df_dict[asset_id] = df[df[\"Asset_ID\"] == asset_id]\n",
    "    \n",
    "    # Removing the Asset_ID column (useless now)\n",
    "    try:\n",
    "        df_dict[asset_id].drop([\"Asset_ID\", \"Target\"], axis=1, inplace=True)\n",
    "    except:\n",
    "        pass\n",
    "    \n",
    "    # Converting the timestamp column\n",
    "    df_dict[asset_id][\"timestamp\"] = pd.to_datetime(arg=df_dict[asset_id][\"timestamp\"], \n",
    "                                                     unit=\"s\", \n",
    "                                                     errors=\"ignore\")\n",
    "    # Setting the timestamp column as index column\n",
    "    df_dict[asset_id].set_index([\"timestamp\"], inplace=True)"
   ]
  },
  {
   "cell_type": "code",
   "execution_count": 20,
   "id": "494ddb9d",
   "metadata": {
    "ExecuteTime": {
     "end_time": "2023-03-24T16:15:18.276452Z",
     "start_time": "2023-03-24T16:15:18.258528Z"
    }
   },
   "outputs": [
    {
     "data": {
      "text/html": [
       "<div>\n",
       "<style scoped>\n",
       "    .dataframe tbody tr th:only-of-type {\n",
       "        vertical-align: middle;\n",
       "    }\n",
       "\n",
       "    .dataframe tbody tr th {\n",
       "        vertical-align: top;\n",
       "    }\n",
       "\n",
       "    .dataframe thead th {\n",
       "        text-align: right;\n",
       "    }\n",
       "</style>\n",
       "<table border=\"1\" class=\"dataframe\">\n",
       "  <thead>\n",
       "    <tr style=\"text-align: right;\">\n",
       "      <th></th>\n",
       "      <th>Count</th>\n",
       "      <th>Open</th>\n",
       "      <th>High</th>\n",
       "      <th>Low</th>\n",
       "      <th>Close</th>\n",
       "      <th>Volume</th>\n",
       "      <th>VWAP</th>\n",
       "    </tr>\n",
       "    <tr>\n",
       "      <th>timestamp</th>\n",
       "      <th></th>\n",
       "      <th></th>\n",
       "      <th></th>\n",
       "      <th></th>\n",
       "      <th></th>\n",
       "      <th></th>\n",
       "      <th></th>\n",
       "    </tr>\n",
       "  </thead>\n",
       "  <tbody>\n",
       "    <tr>\n",
       "      <th>2018-01-01 00:01:00</th>\n",
       "      <td>229.0</td>\n",
       "      <td>13835.194000</td>\n",
       "      <td>14013.8</td>\n",
       "      <td>13666.11</td>\n",
       "      <td>13850.176000</td>\n",
       "      <td>31.550062</td>\n",
       "      <td>13827.062093</td>\n",
       "    </tr>\n",
       "    <tr>\n",
       "      <th>2018-01-01 00:02:00</th>\n",
       "      <td>235.0</td>\n",
       "      <td>13835.036000</td>\n",
       "      <td>14052.3</td>\n",
       "      <td>13680.00</td>\n",
       "      <td>13828.102000</td>\n",
       "      <td>31.046432</td>\n",
       "      <td>13840.362591</td>\n",
       "    </tr>\n",
       "    <tr>\n",
       "      <th>2018-01-01 00:03:00</th>\n",
       "      <td>528.0</td>\n",
       "      <td>13823.900000</td>\n",
       "      <td>14000.4</td>\n",
       "      <td>13601.00</td>\n",
       "      <td>13801.314000</td>\n",
       "      <td>55.061820</td>\n",
       "      <td>13806.068014</td>\n",
       "    </tr>\n",
       "    <tr>\n",
       "      <th>2018-01-01 00:04:00</th>\n",
       "      <td>435.0</td>\n",
       "      <td>13802.512000</td>\n",
       "      <td>13999.0</td>\n",
       "      <td>13576.28</td>\n",
       "      <td>13768.040000</td>\n",
       "      <td>38.780529</td>\n",
       "      <td>13783.598101</td>\n",
       "    </tr>\n",
       "    <tr>\n",
       "      <th>2018-01-01 00:05:00</th>\n",
       "      <td>742.0</td>\n",
       "      <td>13766.000000</td>\n",
       "      <td>13955.9</td>\n",
       "      <td>13554.44</td>\n",
       "      <td>13724.914000</td>\n",
       "      <td>108.501637</td>\n",
       "      <td>13735.586842</td>\n",
       "    </tr>\n",
       "    <tr>\n",
       "      <th>...</th>\n",
       "      <td>...</td>\n",
       "      <td>...</td>\n",
       "      <td>...</td>\n",
       "      <td>...</td>\n",
       "      <td>...</td>\n",
       "      <td>...</td>\n",
       "      <td>...</td>\n",
       "    </tr>\n",
       "    <tr>\n",
       "      <th>2022-01-23 23:56:00</th>\n",
       "      <td>1221.0</td>\n",
       "      <td>36278.361667</td>\n",
       "      <td>36331.0</td>\n",
       "      <td>36249.00</td>\n",
       "      <td>36293.123333</td>\n",
       "      <td>30.247067</td>\n",
       "      <td>36289.796806</td>\n",
       "    </tr>\n",
       "    <tr>\n",
       "      <th>2022-01-23 23:57:00</th>\n",
       "      <td>1634.0</td>\n",
       "      <td>36289.681667</td>\n",
       "      <td>36328.0</td>\n",
       "      <td>36230.72</td>\n",
       "      <td>36261.708333</td>\n",
       "      <td>35.647000</td>\n",
       "      <td>36276.229399</td>\n",
       "    </tr>\n",
       "    <tr>\n",
       "      <th>2022-01-23 23:58:00</th>\n",
       "      <td>1570.0</td>\n",
       "      <td>36262.841667</td>\n",
       "      <td>36319.0</td>\n",
       "      <td>36230.30</td>\n",
       "      <td>36276.223333</td>\n",
       "      <td>49.867700</td>\n",
       "      <td>36274.441548</td>\n",
       "    </tr>\n",
       "    <tr>\n",
       "      <th>2022-01-23 23:59:00</th>\n",
       "      <td>1459.0</td>\n",
       "      <td>36268.849570</td>\n",
       "      <td>36313.0</td>\n",
       "      <td>36231.71</td>\n",
       "      <td>36276.623333</td>\n",
       "      <td>43.030556</td>\n",
       "      <td>36274.613301</td>\n",
       "    </tr>\n",
       "    <tr>\n",
       "      <th>2022-01-24 00:00:00</th>\n",
       "      <td>2917.0</td>\n",
       "      <td>36262.038571</td>\n",
       "      <td>36302.0</td>\n",
       "      <td>36176.45</td>\n",
       "      <td>36221.987143</td>\n",
       "      <td>110.053151</td>\n",
       "      <td>36247.575361</td>\n",
       "    </tr>\n",
       "  </tbody>\n",
       "</table>\n",
       "<p>2136278 rows × 7 columns</p>\n",
       "</div>"
      ],
      "text/plain": [
       "                      Count          Open     High       Low         Close  \\\n",
       "timestamp                                                                    \n",
       "2018-01-01 00:01:00   229.0  13835.194000  14013.8  13666.11  13850.176000   \n",
       "2018-01-01 00:02:00   235.0  13835.036000  14052.3  13680.00  13828.102000   \n",
       "2018-01-01 00:03:00   528.0  13823.900000  14000.4  13601.00  13801.314000   \n",
       "2018-01-01 00:04:00   435.0  13802.512000  13999.0  13576.28  13768.040000   \n",
       "2018-01-01 00:05:00   742.0  13766.000000  13955.9  13554.44  13724.914000   \n",
       "...                     ...           ...      ...       ...           ...   \n",
       "2022-01-23 23:56:00  1221.0  36278.361667  36331.0  36249.00  36293.123333   \n",
       "2022-01-23 23:57:00  1634.0  36289.681667  36328.0  36230.72  36261.708333   \n",
       "2022-01-23 23:58:00  1570.0  36262.841667  36319.0  36230.30  36276.223333   \n",
       "2022-01-23 23:59:00  1459.0  36268.849570  36313.0  36231.71  36276.623333   \n",
       "2022-01-24 00:00:00  2917.0  36262.038571  36302.0  36176.45  36221.987143   \n",
       "\n",
       "                         Volume          VWAP  \n",
       "timestamp                                      \n",
       "2018-01-01 00:01:00   31.550062  13827.062093  \n",
       "2018-01-01 00:02:00   31.046432  13840.362591  \n",
       "2018-01-01 00:03:00   55.061820  13806.068014  \n",
       "2018-01-01 00:04:00   38.780529  13783.598101  \n",
       "2018-01-01 00:05:00  108.501637  13735.586842  \n",
       "...                         ...           ...  \n",
       "2022-01-23 23:56:00   30.247067  36289.796806  \n",
       "2022-01-23 23:57:00   35.647000  36276.229399  \n",
       "2022-01-23 23:58:00   49.867700  36274.441548  \n",
       "2022-01-23 23:59:00   43.030556  36274.613301  \n",
       "2022-01-24 00:00:00  110.053151  36247.575361  \n",
       "\n",
       "[2136278 rows x 7 columns]"
      ]
     },
     "execution_count": 20,
     "metadata": {},
     "output_type": "execute_result"
    }
   ],
   "source": [
    "# Displaying a DataFrame\n",
    "df_dict[get_asset_id(\"Bitcoin\")]"
   ]
  },
  {
   "cell_type": "markdown",
   "id": "c34f373d",
   "metadata": {},
   "source": [
    "**Checking the loss of informations**"
   ]
  },
  {
   "cell_type": "code",
   "execution_count": 21,
   "id": "87b6e3c0",
   "metadata": {
    "ExecuteTime": {
     "end_time": "2023-03-24T16:15:21.762611Z",
     "start_time": "2023-03-24T16:15:21.758446Z"
    }
   },
   "outputs": [],
   "source": [
    "# Checking the sum of the number of rows for each asset id is equal to the number of rows from the original dataset\n",
    "# ==> No loss\n",
    "assert sum([df_dict[k].shape[0] for k in ASSET_IDS]) == df.shape[0]"
   ]
  },
  {
   "cell_type": "markdown",
   "id": "2075960f",
   "metadata": {},
   "source": [
    "**Checking the memory usage for each dataframe**"
   ]
  },
  {
   "cell_type": "code",
   "execution_count": 22,
   "id": "7520918b",
   "metadata": {
    "ExecuteTime": {
     "end_time": "2023-03-24T16:15:22.937449Z",
     "start_time": "2023-03-24T16:15:22.917584Z"
    }
   },
   "outputs": [
    {
     "name": "stdout",
     "output_type": "stream",
     "text": [
      "Global mem. usage: \t 1.7 GB\n"
     ]
    }
   ],
   "source": [
    "# Getting memory usage\n",
    "\n",
    "# Computing the memory usage of each DataFrame\n",
    "MEM_USAGE = {asset_id: df_dict[asset_id].memory_usage(index=True).sum()/10**6 for asset_id in ASSET_IDS}\n",
    "\n",
    "# Computing the global memory usage\n",
    "GLOBAL_MEM_USAGE = sum(list(MEM_USAGE.values()))/10**3\n",
    "print(f\"Global mem. usage: \\t {GLOBAL_MEM_USAGE :.1f} GB\")"
   ]
  },
  {
   "cell_type": "markdown",
   "id": "a038f8cc",
   "metadata": {},
   "source": [
    "## Data visualization & EDA"
   ]
  },
  {
   "cell_type": "code",
   "execution_count": 23,
   "id": "5b60b67b",
   "metadata": {
    "ExecuteTime": {
     "end_time": "2023-03-24T16:15:28.858804Z",
     "start_time": "2023-03-24T16:15:24.499815Z"
    }
   },
   "outputs": [
    {
     "data": {
      "image/png": "[encoded data removed]",
      "text/plain": [
       "<Figure size 1200x500 with 1 Axes>"
      ]
     },
     "metadata": {},
     "output_type": "display_data"
    }
   ],
   "source": [
    "# Displaying a random dataframe (train)\n",
    "_ = df_dict[get_asset_id(\"Bitcoin\")][\"Open\"].plot(label=\"Open price\", color=\"red\")\n",
    "_ = plt.grid()\n",
    "_ = plt.title(\"Evolution of the Bitcoin Open price\")\n",
    "_ = plt.legend()\n",
    "_ = plt.xlabel(\"Date/Time\")\n",
    "_ = plt.ylabel(\"Open price\")"
   ]
  },
  {
   "cell_type": "code",
   "execution_count": 24,
   "id": "c24983d4",
   "metadata": {
    "ExecuteTime": {
     "end_time": "2023-03-24T16:15:33.042000Z",
     "start_time": "2023-03-24T16:15:28.861356Z"
    }
   },
   "outputs": [
    {
     "data": {
      "image/png": "[encoded data removed]",
      "text/plain": [
       "<Figure size 1200x500 with 1 Axes>"
      ]
     },
     "metadata": {},
     "output_type": "display_data"
    }
   ],
   "source": [
    "# Plotting trading activity\n",
    "_ = df_dict[get_asset_id(\"Bitcoin\")][TRADING_ACTIVITY].plot(color=\"magenta\")\n",
    "_ = plt.grid()\n",
    "_ = plt.title(\"Trading activity for Bitcoin\")\n",
    "_ = plt.legend([\"Number of trades per 1-min\"])\n",
    "_ = plt.xlabel(\"Date/Time\")\n",
    "_ = plt.ylabel(\"Number of trades per 1-min bin\")"
   ]
  },
  {
   "cell_type": "code",
   "execution_count": 25,
   "id": "319d38a9",
   "metadata": {
    "ExecuteTime": {
     "end_time": "2023-03-24T16:15:39.977210Z",
     "start_time": "2023-03-24T16:15:33.044412Z"
    }
   },
   "outputs": [
    {
     "data": {
      "image/png": "[encoded data removed]",
      "text/plain": [
       "<Figure size 1200x500 with 2 Axes>"
      ]
     },
     "metadata": {},
     "output_type": "display_data"
    }
   ],
   "source": [
    "# Computing the correlation matrix of a given metric\n",
    "X = pd.concat([df_dict[k][\"Volume\"] for k in ASSET_IDS], axis=1)\n",
    "X.columns = ASSET_NAMES\n",
    "\n",
    "# Plot this correlation matrix\n",
    "_ = sns.heatmap(X.corr(), annot=True, cmap=\"autumn\")\n",
    "_ = plt.title(\"Correlation of open price between each asset type\")"
   ]
  },
  {
   "cell_type": "code",
   "execution_count": 26,
   "id": "c551dd0d",
   "metadata": {
    "ExecuteTime": {
     "end_time": "2023-03-24T16:15:39.984000Z",
     "start_time": "2023-03-24T16:15:39.980850Z"
    }
   },
   "outputs": [
    {
     "data": {
      "text/plain": [
       "'\\ns = mpf.make_mpf_style(base_mpf_style=\"yahoo\", rc={\\'font.size\\': 10})\\nfig = mpf.figure(figsize=(20, 15), style=s)\\nax = fig.add_subplot(2,1,1)\\nmpf.plot(df_train[4][OHLC][1:100], type=\"candle\", ax=ax)\\n_ = plt.title(\"Candlestick representation for a tiny data sample\")\\n_ = plt.xlabel(\"Date/Time\")\\n'"
      ]
     },
     "execution_count": 26,
     "metadata": {},
     "output_type": "execute_result"
    }
   ],
   "source": [
    "# Plot candlestick representation\n",
    "\"\"\"\n",
    "s = mpf.make_mpf_style(base_mpf_style=\"yahoo\", rc={'font.size': 10})\n",
    "fig = mpf.figure(figsize=(20, 15), style=s)\n",
    "ax = fig.add_subplot(2,1,1)\n",
    "mpf.plot(df_train[4][OHLC][1:100], type=\"candle\", ax=ax)\n",
    "_ = plt.title(\"Candlestick representation for a tiny data sample\")\n",
    "_ = plt.xlabel(\"Date/Time\")\n",
    "\"\"\""
   ]
  },
  {
   "cell_type": "markdown",
   "id": "364e6b52",
   "metadata": {},
   "source": [
    "## NaN values & Other processing operations"
   ]
  },
  {
   "cell_type": "code",
   "execution_count": 27,
   "id": "7c7ff9b6",
   "metadata": {
    "ExecuteTime": {
     "end_time": "2023-03-24T16:15:46.529330Z",
     "start_time": "2023-03-24T16:15:42.826501Z"
    }
   },
   "outputs": [
    {
     "data": {
      "image/png": "[encoded data removed]",
      "text/plain": [
       "<Figure size 2500x1000 with 2 Axes>"
      ]
     },
     "metadata": {},
     "output_type": "display_data"
    }
   ],
   "source": [
    "# Checking the NaN values distribution\n",
    "_ = msn.matrix(df_dict[get_asset_id(\"Bitcoin\")])"
   ]
  },
  {
   "cell_type": "code",
   "execution_count": 28,
   "id": "3579e335",
   "metadata": {
    "ExecuteTime": {
     "end_time": "2023-03-24T16:15:46.955884Z",
     "start_time": "2023-03-24T16:15:46.531831Z"
    }
   },
   "outputs": [
    {
     "data": {
      "image/png": "[encoded data removed]",
      "text/plain": [
       "<Figure size 1200x500 with 1 Axes>"
      ]
     },
     "metadata": {},
     "output_type": "display_data"
    }
   ],
   "source": [
    "sns.boxplot(data=df_dict[get_asset_id(\"Bitcoin\")][OHLC], showfliers=True);"
   ]
  },
  {
   "cell_type": "markdown",
   "id": "71f7f233",
   "metadata": {},
   "source": [
    "# Bitcoin price movement prediction"
   ]
  },
  {
   "cell_type": "markdown",
   "id": "2dae2e88",
   "metadata": {},
   "source": [
    "## Data pre-processing"
   ]
  },
  {
   "cell_type": "code",
   "execution_count": 29,
   "id": "9031f1e8",
   "metadata": {
    "ExecuteTime": {
     "end_time": "2023-03-24T16:15:51.527275Z",
     "start_time": "2023-03-24T16:15:51.523231Z"
    }
   },
   "outputs": [],
   "source": [
    "df_btc = df_dict[get_asset_id(\"Bitcoin\")]"
   ]
  },
  {
   "cell_type": "code",
   "execution_count": 30,
   "id": "08c46c72",
   "metadata": {
    "ExecuteTime": {
     "end_time": "2023-03-24T16:15:51.970062Z",
     "start_time": "2023-03-24T16:15:51.957671Z"
    }
   },
   "outputs": [
    {
     "data": {
      "text/html": [
       "<div>\n",
       "<style scoped>\n",
       "    .dataframe tbody tr th:only-of-type {\n",
       "        vertical-align: middle;\n",
       "    }\n",
       "\n",
       "    .dataframe tbody tr th {\n",
       "        vertical-align: top;\n",
       "    }\n",
       "\n",
       "    .dataframe thead th {\n",
       "        text-align: right;\n",
       "    }\n",
       "</style>\n",
       "<table border=\"1\" class=\"dataframe\">\n",
       "  <thead>\n",
       "    <tr style=\"text-align: right;\">\n",
       "      <th></th>\n",
       "      <th>Count</th>\n",
       "      <th>Open</th>\n",
       "      <th>High</th>\n",
       "      <th>Low</th>\n",
       "      <th>Close</th>\n",
       "      <th>Volume</th>\n",
       "      <th>VWAP</th>\n",
       "    </tr>\n",
       "    <tr>\n",
       "      <th>timestamp</th>\n",
       "      <th></th>\n",
       "      <th></th>\n",
       "      <th></th>\n",
       "      <th></th>\n",
       "      <th></th>\n",
       "      <th></th>\n",
       "      <th></th>\n",
       "    </tr>\n",
       "  </thead>\n",
       "  <tbody>\n",
       "    <tr>\n",
       "      <th>2018-01-01 00:01:00</th>\n",
       "      <td>229.0</td>\n",
       "      <td>13835.194</td>\n",
       "      <td>14013.8</td>\n",
       "      <td>13666.11</td>\n",
       "      <td>13850.176</td>\n",
       "      <td>31.550062</td>\n",
       "      <td>13827.062093</td>\n",
       "    </tr>\n",
       "    <tr>\n",
       "      <th>2018-01-01 00:02:00</th>\n",
       "      <td>235.0</td>\n",
       "      <td>13835.036</td>\n",
       "      <td>14052.3</td>\n",
       "      <td>13680.00</td>\n",
       "      <td>13828.102</td>\n",
       "      <td>31.046432</td>\n",
       "      <td>13840.362591</td>\n",
       "    </tr>\n",
       "    <tr>\n",
       "      <th>2018-01-01 00:03:00</th>\n",
       "      <td>528.0</td>\n",
       "      <td>13823.900</td>\n",
       "      <td>14000.4</td>\n",
       "      <td>13601.00</td>\n",
       "      <td>13801.314</td>\n",
       "      <td>55.061820</td>\n",
       "      <td>13806.068014</td>\n",
       "    </tr>\n",
       "    <tr>\n",
       "      <th>2018-01-01 00:04:00</th>\n",
       "      <td>435.0</td>\n",
       "      <td>13802.512</td>\n",
       "      <td>13999.0</td>\n",
       "      <td>13576.28</td>\n",
       "      <td>13768.040</td>\n",
       "      <td>38.780529</td>\n",
       "      <td>13783.598101</td>\n",
       "    </tr>\n",
       "    <tr>\n",
       "      <th>2018-01-01 00:05:00</th>\n",
       "      <td>742.0</td>\n",
       "      <td>13766.000</td>\n",
       "      <td>13955.9</td>\n",
       "      <td>13554.44</td>\n",
       "      <td>13724.914</td>\n",
       "      <td>108.501637</td>\n",
       "      <td>13735.586842</td>\n",
       "    </tr>\n",
       "  </tbody>\n",
       "</table>\n",
       "</div>"
      ],
      "text/plain": [
       "                     Count       Open     High       Low      Close  \\\n",
       "timestamp                                                             \n",
       "2018-01-01 00:01:00  229.0  13835.194  14013.8  13666.11  13850.176   \n",
       "2018-01-01 00:02:00  235.0  13835.036  14052.3  13680.00  13828.102   \n",
       "2018-01-01 00:03:00  528.0  13823.900  14000.4  13601.00  13801.314   \n",
       "2018-01-01 00:04:00  435.0  13802.512  13999.0  13576.28  13768.040   \n",
       "2018-01-01 00:05:00  742.0  13766.000  13955.9  13554.44  13724.914   \n",
       "\n",
       "                         Volume          VWAP  \n",
       "timestamp                                      \n",
       "2018-01-01 00:01:00   31.550062  13827.062093  \n",
       "2018-01-01 00:02:00   31.046432  13840.362591  \n",
       "2018-01-01 00:03:00   55.061820  13806.068014  \n",
       "2018-01-01 00:04:00   38.780529  13783.598101  \n",
       "2018-01-01 00:05:00  108.501637  13735.586842  "
      ]
     },
     "execution_count": 30,
     "metadata": {},
     "output_type": "execute_result"
    }
   ],
   "source": [
    "df_btc.head()"
   ]
  },
  {
   "cell_type": "markdown",
   "id": "f0d313cb",
   "metadata": {},
   "source": [
    "TODO:\n",
    "- Add explanation on target/close price movement\n",
    "- Why we choose the Close price $\\longrightarrow$ \"The last transation price is the simplest definition of the price of a financial asset.\""
   ]
  },
  {
   "cell_type": "code",
   "execution_count": 31,
   "id": "9c3a0778",
   "metadata": {
    "ExecuteTime": {
     "end_time": "2023-03-24T16:15:55.231674Z",
     "start_time": "2023-03-24T16:15:55.211819Z"
    }
   },
   "outputs": [],
   "source": [
    "# Defining the target variable\n",
    "df_btc[\"Target\"] = np.where(df_btc[\"Close\"].shift(-1) > df_btc[\"Close\"], 1, 0)"
   ]
  },
  {
   "cell_type": "code",
   "execution_count": 33,
   "id": "2b326c50",
   "metadata": {
    "ExecuteTime": {
     "end_time": "2023-03-24T16:16:03.444548Z",
     "start_time": "2023-03-24T16:16:03.426237Z"
    }
   },
   "outputs": [
    {
     "data": {
      "text/html": [
       "<div>\n",
       "<style scoped>\n",
       "    .dataframe tbody tr th:only-of-type {\n",
       "        vertical-align: middle;\n",
       "    }\n",
       "\n",
       "    .dataframe tbody tr th {\n",
       "        vertical-align: top;\n",
       "    }\n",
       "\n",
       "    .dataframe thead th {\n",
       "        text-align: right;\n",
       "    }\n",
       "</style>\n",
       "<table border=\"1\" class=\"dataframe\">\n",
       "  <thead>\n",
       "    <tr style=\"text-align: right;\">\n",
       "      <th></th>\n",
       "      <th>Count</th>\n",
       "      <th>Open</th>\n",
       "      <th>High</th>\n",
       "      <th>Low</th>\n",
       "      <th>Close</th>\n",
       "      <th>Volume</th>\n",
       "      <th>VWAP</th>\n",
       "      <th>Target</th>\n",
       "    </tr>\n",
       "    <tr>\n",
       "      <th>timestamp</th>\n",
       "      <th></th>\n",
       "      <th></th>\n",
       "      <th></th>\n",
       "      <th></th>\n",
       "      <th></th>\n",
       "      <th></th>\n",
       "      <th></th>\n",
       "      <th></th>\n",
       "    </tr>\n",
       "  </thead>\n",
       "  <tbody>\n",
       "    <tr>\n",
       "      <th>2018-01-01 00:01:00</th>\n",
       "      <td>229.0</td>\n",
       "      <td>13835.194000</td>\n",
       "      <td>14013.8</td>\n",
       "      <td>13666.11</td>\n",
       "      <td>13850.176000</td>\n",
       "      <td>31.550062</td>\n",
       "      <td>13827.062093</td>\n",
       "      <td>0</td>\n",
       "    </tr>\n",
       "    <tr>\n",
       "      <th>2018-01-01 00:02:00</th>\n",
       "      <td>235.0</td>\n",
       "      <td>13835.036000</td>\n",
       "      <td>14052.3</td>\n",
       "      <td>13680.00</td>\n",
       "      <td>13828.102000</td>\n",
       "      <td>31.046432</td>\n",
       "      <td>13840.362591</td>\n",
       "      <td>0</td>\n",
       "    </tr>\n",
       "    <tr>\n",
       "      <th>2018-01-01 00:03:00</th>\n",
       "      <td>528.0</td>\n",
       "      <td>13823.900000</td>\n",
       "      <td>14000.4</td>\n",
       "      <td>13601.00</td>\n",
       "      <td>13801.314000</td>\n",
       "      <td>55.061820</td>\n",
       "      <td>13806.068014</td>\n",
       "      <td>0</td>\n",
       "    </tr>\n",
       "    <tr>\n",
       "      <th>2018-01-01 00:04:00</th>\n",
       "      <td>435.0</td>\n",
       "      <td>13802.512000</td>\n",
       "      <td>13999.0</td>\n",
       "      <td>13576.28</td>\n",
       "      <td>13768.040000</td>\n",
       "      <td>38.780529</td>\n",
       "      <td>13783.598101</td>\n",
       "      <td>0</td>\n",
       "    </tr>\n",
       "    <tr>\n",
       "      <th>2018-01-01 00:05:00</th>\n",
       "      <td>742.0</td>\n",
       "      <td>13766.000000</td>\n",
       "      <td>13955.9</td>\n",
       "      <td>13554.44</td>\n",
       "      <td>13724.914000</td>\n",
       "      <td>108.501637</td>\n",
       "      <td>13735.586842</td>\n",
       "      <td>0</td>\n",
       "    </tr>\n",
       "    <tr>\n",
       "      <th>...</th>\n",
       "      <td>...</td>\n",
       "      <td>...</td>\n",
       "      <td>...</td>\n",
       "      <td>...</td>\n",
       "      <td>...</td>\n",
       "      <td>...</td>\n",
       "      <td>...</td>\n",
       "      <td>...</td>\n",
       "    </tr>\n",
       "    <tr>\n",
       "      <th>2022-01-23 23:56:00</th>\n",
       "      <td>1221.0</td>\n",
       "      <td>36278.361667</td>\n",
       "      <td>36331.0</td>\n",
       "      <td>36249.00</td>\n",
       "      <td>36293.123333</td>\n",
       "      <td>30.247067</td>\n",
       "      <td>36289.796806</td>\n",
       "      <td>0</td>\n",
       "    </tr>\n",
       "    <tr>\n",
       "      <th>2022-01-23 23:57:00</th>\n",
       "      <td>1634.0</td>\n",
       "      <td>36289.681667</td>\n",
       "      <td>36328.0</td>\n",
       "      <td>36230.72</td>\n",
       "      <td>36261.708333</td>\n",
       "      <td>35.647000</td>\n",
       "      <td>36276.229399</td>\n",
       "      <td>1</td>\n",
       "    </tr>\n",
       "    <tr>\n",
       "      <th>2022-01-23 23:58:00</th>\n",
       "      <td>1570.0</td>\n",
       "      <td>36262.841667</td>\n",
       "      <td>36319.0</td>\n",
       "      <td>36230.30</td>\n",
       "      <td>36276.223333</td>\n",
       "      <td>49.867700</td>\n",
       "      <td>36274.441548</td>\n",
       "      <td>1</td>\n",
       "    </tr>\n",
       "    <tr>\n",
       "      <th>2022-01-23 23:59:00</th>\n",
       "      <td>1459.0</td>\n",
       "      <td>36268.849570</td>\n",
       "      <td>36313.0</td>\n",
       "      <td>36231.71</td>\n",
       "      <td>36276.623333</td>\n",
       "      <td>43.030556</td>\n",
       "      <td>36274.613301</td>\n",
       "      <td>0</td>\n",
       "    </tr>\n",
       "    <tr>\n",
       "      <th>2022-01-24 00:00:00</th>\n",
       "      <td>2917.0</td>\n",
       "      <td>36262.038571</td>\n",
       "      <td>36302.0</td>\n",
       "      <td>36176.45</td>\n",
       "      <td>36221.987143</td>\n",
       "      <td>110.053151</td>\n",
       "      <td>36247.575361</td>\n",
       "      <td>0</td>\n",
       "    </tr>\n",
       "  </tbody>\n",
       "</table>\n",
       "<p>2136278 rows × 8 columns</p>\n",
       "</div>"
      ],
      "text/plain": [
       "                      Count          Open     High       Low         Close  \\\n",
       "timestamp                                                                    \n",
       "2018-01-01 00:01:00   229.0  13835.194000  14013.8  13666.11  13850.176000   \n",
       "2018-01-01 00:02:00   235.0  13835.036000  14052.3  13680.00  13828.102000   \n",
       "2018-01-01 00:03:00   528.0  13823.900000  14000.4  13601.00  13801.314000   \n",
       "2018-01-01 00:04:00   435.0  13802.512000  13999.0  13576.28  13768.040000   \n",
       "2018-01-01 00:05:00   742.0  13766.000000  13955.9  13554.44  13724.914000   \n",
       "...                     ...           ...      ...       ...           ...   \n",
       "2022-01-23 23:56:00  1221.0  36278.361667  36331.0  36249.00  36293.123333   \n",
       "2022-01-23 23:57:00  1634.0  36289.681667  36328.0  36230.72  36261.708333   \n",
       "2022-01-23 23:58:00  1570.0  36262.841667  36319.0  36230.30  36276.223333   \n",
       "2022-01-23 23:59:00  1459.0  36268.849570  36313.0  36231.71  36276.623333   \n",
       "2022-01-24 00:00:00  2917.0  36262.038571  36302.0  36176.45  36221.987143   \n",
       "\n",
       "                         Volume          VWAP  Target  \n",
       "timestamp                                              \n",
       "2018-01-01 00:01:00   31.550062  13827.062093       0  \n",
       "2018-01-01 00:02:00   31.046432  13840.362591       0  \n",
       "2018-01-01 00:03:00   55.061820  13806.068014       0  \n",
       "2018-01-01 00:04:00   38.780529  13783.598101       0  \n",
       "2018-01-01 00:05:00  108.501637  13735.586842       0  \n",
       "...                         ...           ...     ...  \n",
       "2022-01-23 23:56:00   30.247067  36289.796806       0  \n",
       "2022-01-23 23:57:00   35.647000  36276.229399       1  \n",
       "2022-01-23 23:58:00   49.867700  36274.441548       1  \n",
       "2022-01-23 23:59:00   43.030556  36274.613301       0  \n",
       "2022-01-24 00:00:00  110.053151  36247.575361       0  \n",
       "\n",
       "[2136278 rows x 8 columns]"
      ]
     },
     "execution_count": 33,
     "metadata": {},
     "output_type": "execute_result"
    }
   ],
   "source": [
    "df_btc"
   ]
  },
  {
   "cell_type": "code",
   "execution_count": 72,
   "id": "fb09194f",
   "metadata": {
    "ExecuteTime": {
     "end_time": "2023-03-24T17:05:25.865769Z",
     "start_time": "2023-03-24T17:05:25.128860Z"
    }
   },
   "outputs": [],
   "source": [
    "# Splitting the dataset into X/Y\n",
    "# X = features, Y = target\n",
    "X = df_btc.copy() # X as a deep copy for security reason\n",
    "Y = X.pop(\"Target\")"
   ]
  },
  {
   "cell_type": "code",
   "execution_count": 73,
   "id": "dd808c1b",
   "metadata": {
    "ExecuteTime": {
     "end_time": "2023-03-24T17:05:26.613145Z",
     "start_time": "2023-03-24T17:05:26.579606Z"
    }
   },
   "outputs": [
    {
     "data": {
      "text/html": [
       "<div>\n",
       "<style scoped>\n",
       "    .dataframe tbody tr th:only-of-type {\n",
       "        vertical-align: middle;\n",
       "    }\n",
       "\n",
       "    .dataframe tbody tr th {\n",
       "        vertical-align: top;\n",
       "    }\n",
       "\n",
       "    .dataframe thead th {\n",
       "        text-align: right;\n",
       "    }\n",
       "</style>\n",
       "<table border=\"1\" class=\"dataframe\">\n",
       "  <thead>\n",
       "    <tr style=\"text-align: right;\">\n",
       "      <th></th>\n",
       "      <th>Count</th>\n",
       "      <th>Open</th>\n",
       "      <th>High</th>\n",
       "      <th>Low</th>\n",
       "      <th>Close</th>\n",
       "      <th>Volume</th>\n",
       "      <th>VWAP</th>\n",
       "    </tr>\n",
       "    <tr>\n",
       "      <th>timestamp</th>\n",
       "      <th></th>\n",
       "      <th></th>\n",
       "      <th></th>\n",
       "      <th></th>\n",
       "      <th></th>\n",
       "      <th></th>\n",
       "      <th></th>\n",
       "    </tr>\n",
       "  </thead>\n",
       "  <tbody>\n",
       "    <tr>\n",
       "      <th>2018-01-01 00:01:00</th>\n",
       "      <td>229.0</td>\n",
       "      <td>13835.194</td>\n",
       "      <td>14013.8</td>\n",
       "      <td>13666.11</td>\n",
       "      <td>13850.176</td>\n",
       "      <td>31.550062</td>\n",
       "      <td>13827.062093</td>\n",
       "    </tr>\n",
       "    <tr>\n",
       "      <th>2018-01-01 00:02:00</th>\n",
       "      <td>235.0</td>\n",
       "      <td>13835.036</td>\n",
       "      <td>14052.3</td>\n",
       "      <td>13680.00</td>\n",
       "      <td>13828.102</td>\n",
       "      <td>31.046432</td>\n",
       "      <td>13840.362591</td>\n",
       "    </tr>\n",
       "    <tr>\n",
       "      <th>2018-01-01 00:03:00</th>\n",
       "      <td>528.0</td>\n",
       "      <td>13823.900</td>\n",
       "      <td>14000.4</td>\n",
       "      <td>13601.00</td>\n",
       "      <td>13801.314</td>\n",
       "      <td>55.061820</td>\n",
       "      <td>13806.068014</td>\n",
       "    </tr>\n",
       "    <tr>\n",
       "      <th>2018-01-01 00:04:00</th>\n",
       "      <td>435.0</td>\n",
       "      <td>13802.512</td>\n",
       "      <td>13999.0</td>\n",
       "      <td>13576.28</td>\n",
       "      <td>13768.040</td>\n",
       "      <td>38.780529</td>\n",
       "      <td>13783.598101</td>\n",
       "    </tr>\n",
       "    <tr>\n",
       "      <th>2018-01-01 00:05:00</th>\n",
       "      <td>742.0</td>\n",
       "      <td>13766.000</td>\n",
       "      <td>13955.9</td>\n",
       "      <td>13554.44</td>\n",
       "      <td>13724.914</td>\n",
       "      <td>108.501637</td>\n",
       "      <td>13735.586842</td>\n",
       "    </tr>\n",
       "  </tbody>\n",
       "</table>\n",
       "</div>"
      ],
      "text/plain": [
       "                     Count       Open     High       Low      Close  \\\n",
       "timestamp                                                             \n",
       "2018-01-01 00:01:00  229.0  13835.194  14013.8  13666.11  13850.176   \n",
       "2018-01-01 00:02:00  235.0  13835.036  14052.3  13680.00  13828.102   \n",
       "2018-01-01 00:03:00  528.0  13823.900  14000.4  13601.00  13801.314   \n",
       "2018-01-01 00:04:00  435.0  13802.512  13999.0  13576.28  13768.040   \n",
       "2018-01-01 00:05:00  742.0  13766.000  13955.9  13554.44  13724.914   \n",
       "\n",
       "                         Volume          VWAP  \n",
       "timestamp                                      \n",
       "2018-01-01 00:01:00   31.550062  13827.062093  \n",
       "2018-01-01 00:02:00   31.046432  13840.362591  \n",
       "2018-01-01 00:03:00   55.061820  13806.068014  \n",
       "2018-01-01 00:04:00   38.780529  13783.598101  \n",
       "2018-01-01 00:05:00  108.501637  13735.586842  "
      ]
     },
     "execution_count": 73,
     "metadata": {},
     "output_type": "execute_result"
    }
   ],
   "source": [
    "X.head()"
   ]
  },
  {
   "cell_type": "code",
   "execution_count": 74,
   "id": "76332730",
   "metadata": {
    "ExecuteTime": {
     "end_time": "2023-03-24T17:05:27.337849Z",
     "start_time": "2023-03-24T17:05:27.328127Z"
    }
   },
   "outputs": [
    {
     "data": {
      "text/plain": [
       "timestamp\n",
       "2018-01-01 00:01:00    0\n",
       "2018-01-01 00:02:00    0\n",
       "2018-01-01 00:03:00    0\n",
       "2018-01-01 00:04:00    0\n",
       "2018-01-01 00:05:00    0\n",
       "Name: Target, dtype: int64"
      ]
     },
     "execution_count": 74,
     "metadata": {},
     "output_type": "execute_result"
    }
   ],
   "source": [
    "Y.head()"
   ]
  },
  {
   "cell_type": "code",
   "execution_count": 75,
   "id": "d7fd6383",
   "metadata": {
    "ExecuteTime": {
     "end_time": "2023-03-24T17:05:59.976879Z",
     "start_time": "2023-03-24T17:05:59.614244Z"
    }
   },
   "outputs": [],
   "source": [
    "# Splitting into Train/Test split\n",
    "tss = TimeSeriesSplit(n_splits = 3)\n",
    "\n",
    "# Retrieving X_train, X_test, Y_train & Y_test\n",
    "for train_index, test_index in tss.split(X):\n",
    "    X_train, X_test = X.iloc[train_index, :], X.iloc[test_index,:]\n",
    "    Y_train, Y_test = Y.iloc[train_index], Y.iloc[test_index]"
   ]
  },
  {
   "cell_type": "code",
   "execution_count": 76,
   "id": "15f0f6ea",
   "metadata": {
    "ExecuteTime": {
     "end_time": "2023-03-24T17:06:02.230335Z",
     "start_time": "2023-03-24T17:06:02.205603Z"
    }
   },
   "outputs": [
    {
     "data": {
      "text/html": [
       "<div>\n",
       "<style scoped>\n",
       "    .dataframe tbody tr th:only-of-type {\n",
       "        vertical-align: middle;\n",
       "    }\n",
       "\n",
       "    .dataframe tbody tr th {\n",
       "        vertical-align: top;\n",
       "    }\n",
       "\n",
       "    .dataframe thead th {\n",
       "        text-align: right;\n",
       "    }\n",
       "</style>\n",
       "<table border=\"1\" class=\"dataframe\">\n",
       "  <thead>\n",
       "    <tr style=\"text-align: right;\">\n",
       "      <th></th>\n",
       "      <th>Count</th>\n",
       "      <th>Open</th>\n",
       "      <th>High</th>\n",
       "      <th>Low</th>\n",
       "      <th>Close</th>\n",
       "      <th>Volume</th>\n",
       "      <th>VWAP</th>\n",
       "    </tr>\n",
       "    <tr>\n",
       "      <th>timestamp</th>\n",
       "      <th></th>\n",
       "      <th></th>\n",
       "      <th></th>\n",
       "      <th></th>\n",
       "      <th></th>\n",
       "      <th></th>\n",
       "      <th></th>\n",
       "    </tr>\n",
       "  </thead>\n",
       "  <tbody>\n",
       "    <tr>\n",
       "      <th>2018-01-01 00:01:00</th>\n",
       "      <td>229.0</td>\n",
       "      <td>13835.194000</td>\n",
       "      <td>14013.8</td>\n",
       "      <td>13666.11</td>\n",
       "      <td>13850.176000</td>\n",
       "      <td>31.550062</td>\n",
       "      <td>13827.062093</td>\n",
       "    </tr>\n",
       "    <tr>\n",
       "      <th>2018-01-01 00:02:00</th>\n",
       "      <td>235.0</td>\n",
       "      <td>13835.036000</td>\n",
       "      <td>14052.3</td>\n",
       "      <td>13680.00</td>\n",
       "      <td>13828.102000</td>\n",
       "      <td>31.046432</td>\n",
       "      <td>13840.362591</td>\n",
       "    </tr>\n",
       "    <tr>\n",
       "      <th>2018-01-01 00:03:00</th>\n",
       "      <td>528.0</td>\n",
       "      <td>13823.900000</td>\n",
       "      <td>14000.4</td>\n",
       "      <td>13601.00</td>\n",
       "      <td>13801.314000</td>\n",
       "      <td>55.061820</td>\n",
       "      <td>13806.068014</td>\n",
       "    </tr>\n",
       "    <tr>\n",
       "      <th>2018-01-01 00:04:00</th>\n",
       "      <td>435.0</td>\n",
       "      <td>13802.512000</td>\n",
       "      <td>13999.0</td>\n",
       "      <td>13576.28</td>\n",
       "      <td>13768.040000</td>\n",
       "      <td>38.780529</td>\n",
       "      <td>13783.598101</td>\n",
       "    </tr>\n",
       "    <tr>\n",
       "      <th>2018-01-01 00:05:00</th>\n",
       "      <td>742.0</td>\n",
       "      <td>13766.000000</td>\n",
       "      <td>13955.9</td>\n",
       "      <td>13554.44</td>\n",
       "      <td>13724.914000</td>\n",
       "      <td>108.501637</td>\n",
       "      <td>13735.586842</td>\n",
       "    </tr>\n",
       "    <tr>\n",
       "      <th>...</th>\n",
       "      <td>...</td>\n",
       "      <td>...</td>\n",
       "      <td>...</td>\n",
       "      <td>...</td>\n",
       "      <td>...</td>\n",
       "      <td>...</td>\n",
       "      <td>...</td>\n",
       "    </tr>\n",
       "    <tr>\n",
       "      <th>2021-01-18 02:34:00</th>\n",
       "      <td>3971.0</td>\n",
       "      <td>35942.280000</td>\n",
       "      <td>35980.0</td>\n",
       "      <td>35806.39</td>\n",
       "      <td>35828.222857</td>\n",
       "      <td>117.819204</td>\n",
       "      <td>35879.060140</td>\n",
       "    </tr>\n",
       "    <tr>\n",
       "      <th>2021-01-18 02:35:00</th>\n",
       "      <td>3211.0</td>\n",
       "      <td>35664.910000</td>\n",
       "      <td>35904.0</td>\n",
       "      <td>34500.00</td>\n",
       "      <td>35651.209956</td>\n",
       "      <td>106.882001</td>\n",
       "      <td>35660.859150</td>\n",
       "    </tr>\n",
       "    <tr>\n",
       "      <th>2021-01-18 02:36:00</th>\n",
       "      <td>2509.0</td>\n",
       "      <td>35819.511429</td>\n",
       "      <td>35862.0</td>\n",
       "      <td>35771.00</td>\n",
       "      <td>35803.075714</td>\n",
       "      <td>83.633094</td>\n",
       "      <td>35811.293395</td>\n",
       "    </tr>\n",
       "    <tr>\n",
       "      <th>2021-01-18 02:37:00</th>\n",
       "      <td>2117.0</td>\n",
       "      <td>35800.758571</td>\n",
       "      <td>35863.0</td>\n",
       "      <td>35773.27</td>\n",
       "      <td>35810.699702</td>\n",
       "      <td>63.840867</td>\n",
       "      <td>35804.779350</td>\n",
       "    </tr>\n",
       "    <tr>\n",
       "      <th>2021-01-18 02:38:00</th>\n",
       "      <td>1811.0</td>\n",
       "      <td>35812.988571</td>\n",
       "      <td>35868.0</td>\n",
       "      <td>35783.27</td>\n",
       "      <td>35817.260000</td>\n",
       "      <td>51.596861</td>\n",
       "      <td>35817.553455</td>\n",
       "    </tr>\n",
       "  </tbody>\n",
       "</table>\n",
       "<p>1602209 rows × 7 columns</p>\n",
       "</div>"
      ],
      "text/plain": [
       "                      Count          Open     High       Low         Close  \\\n",
       "timestamp                                                                    \n",
       "2018-01-01 00:01:00   229.0  13835.194000  14013.8  13666.11  13850.176000   \n",
       "2018-01-01 00:02:00   235.0  13835.036000  14052.3  13680.00  13828.102000   \n",
       "2018-01-01 00:03:00   528.0  13823.900000  14000.4  13601.00  13801.314000   \n",
       "2018-01-01 00:04:00   435.0  13802.512000  13999.0  13576.28  13768.040000   \n",
       "2018-01-01 00:05:00   742.0  13766.000000  13955.9  13554.44  13724.914000   \n",
       "...                     ...           ...      ...       ...           ...   \n",
       "2021-01-18 02:34:00  3971.0  35942.280000  35980.0  35806.39  35828.222857   \n",
       "2021-01-18 02:35:00  3211.0  35664.910000  35904.0  34500.00  35651.209956   \n",
       "2021-01-18 02:36:00  2509.0  35819.511429  35862.0  35771.00  35803.075714   \n",
       "2021-01-18 02:37:00  2117.0  35800.758571  35863.0  35773.27  35810.699702   \n",
       "2021-01-18 02:38:00  1811.0  35812.988571  35868.0  35783.27  35817.260000   \n",
       "\n",
       "                         Volume          VWAP  \n",
       "timestamp                                      \n",
       "2018-01-01 00:01:00   31.550062  13827.062093  \n",
       "2018-01-01 00:02:00   31.046432  13840.362591  \n",
       "2018-01-01 00:03:00   55.061820  13806.068014  \n",
       "2018-01-01 00:04:00   38.780529  13783.598101  \n",
       "2018-01-01 00:05:00  108.501637  13735.586842  \n",
       "...                         ...           ...  \n",
       "2021-01-18 02:34:00  117.819204  35879.060140  \n",
       "2021-01-18 02:35:00  106.882001  35660.859150  \n",
       "2021-01-18 02:36:00   83.633094  35811.293395  \n",
       "2021-01-18 02:37:00   63.840867  35804.779350  \n",
       "2021-01-18 02:38:00   51.596861  35817.553455  \n",
       "\n",
       "[1602209 rows x 7 columns]"
      ]
     },
     "execution_count": 76,
     "metadata": {},
     "output_type": "execute_result"
    }
   ],
   "source": [
    "X_train"
   ]
  },
  {
   "cell_type": "code",
   "execution_count": 77,
   "id": "e3fd646d",
   "metadata": {
    "ExecuteTime": {
     "end_time": "2023-03-24T17:06:04.042240Z",
     "start_time": "2023-03-24T17:06:04.019358Z"
    }
   },
   "outputs": [
    {
     "data": {
      "text/html": [
       "<div>\n",
       "<style scoped>\n",
       "    .dataframe tbody tr th:only-of-type {\n",
       "        vertical-align: middle;\n",
       "    }\n",
       "\n",
       "    .dataframe tbody tr th {\n",
       "        vertical-align: top;\n",
       "    }\n",
       "\n",
       "    .dataframe thead th {\n",
       "        text-align: right;\n",
       "    }\n",
       "</style>\n",
       "<table border=\"1\" class=\"dataframe\">\n",
       "  <thead>\n",
       "    <tr style=\"text-align: right;\">\n",
       "      <th></th>\n",
       "      <th>Count</th>\n",
       "      <th>Open</th>\n",
       "      <th>High</th>\n",
       "      <th>Low</th>\n",
       "      <th>Close</th>\n",
       "      <th>Volume</th>\n",
       "      <th>VWAP</th>\n",
       "    </tr>\n",
       "    <tr>\n",
       "      <th>timestamp</th>\n",
       "      <th></th>\n",
       "      <th></th>\n",
       "      <th></th>\n",
       "      <th></th>\n",
       "      <th></th>\n",
       "      <th></th>\n",
       "      <th></th>\n",
       "    </tr>\n",
       "  </thead>\n",
       "  <tbody>\n",
       "    <tr>\n",
       "      <th>2021-01-18 02:39:00</th>\n",
       "      <td>2253.0</td>\n",
       "      <td>35822.537143</td>\n",
       "      <td>35934.0</td>\n",
       "      <td>35806.60</td>\n",
       "      <td>35852.995714</td>\n",
       "      <td>84.762343</td>\n",
       "      <td>35858.398313</td>\n",
       "    </tr>\n",
       "    <tr>\n",
       "      <th>2021-01-18 02:40:00</th>\n",
       "      <td>1735.0</td>\n",
       "      <td>35849.415714</td>\n",
       "      <td>35912.0</td>\n",
       "      <td>35810.30</td>\n",
       "      <td>35874.985714</td>\n",
       "      <td>46.545962</td>\n",
       "      <td>35857.016658</td>\n",
       "    </tr>\n",
       "    <tr>\n",
       "      <th>2021-01-18 02:41:00</th>\n",
       "      <td>1524.0</td>\n",
       "      <td>35869.542857</td>\n",
       "      <td>35929.0</td>\n",
       "      <td>35826.37</td>\n",
       "      <td>35871.412412</td>\n",
       "      <td>55.691964</td>\n",
       "      <td>35862.753869</td>\n",
       "    </tr>\n",
       "    <tr>\n",
       "      <th>2021-01-18 02:42:00</th>\n",
       "      <td>1135.0</td>\n",
       "      <td>35869.262857</td>\n",
       "      <td>35936.0</td>\n",
       "      <td>35843.91</td>\n",
       "      <td>35889.624286</td>\n",
       "      <td>36.432007</td>\n",
       "      <td>35877.562847</td>\n",
       "    </tr>\n",
       "    <tr>\n",
       "      <th>2021-01-18 02:43:00</th>\n",
       "      <td>1281.0</td>\n",
       "      <td>35888.857143</td>\n",
       "      <td>35951.0</td>\n",
       "      <td>35857.40</td>\n",
       "      <td>35903.960000</td>\n",
       "      <td>34.816070</td>\n",
       "      <td>35895.228109</td>\n",
       "    </tr>\n",
       "    <tr>\n",
       "      <th>...</th>\n",
       "      <td>...</td>\n",
       "      <td>...</td>\n",
       "      <td>...</td>\n",
       "      <td>...</td>\n",
       "      <td>...</td>\n",
       "      <td>...</td>\n",
       "      <td>...</td>\n",
       "    </tr>\n",
       "    <tr>\n",
       "      <th>2022-01-23 23:56:00</th>\n",
       "      <td>1221.0</td>\n",
       "      <td>36278.361667</td>\n",
       "      <td>36331.0</td>\n",
       "      <td>36249.00</td>\n",
       "      <td>36293.123333</td>\n",
       "      <td>30.247067</td>\n",
       "      <td>36289.796806</td>\n",
       "    </tr>\n",
       "    <tr>\n",
       "      <th>2022-01-23 23:57:00</th>\n",
       "      <td>1634.0</td>\n",
       "      <td>36289.681667</td>\n",
       "      <td>36328.0</td>\n",
       "      <td>36230.72</td>\n",
       "      <td>36261.708333</td>\n",
       "      <td>35.647000</td>\n",
       "      <td>36276.229399</td>\n",
       "    </tr>\n",
       "    <tr>\n",
       "      <th>2022-01-23 23:58:00</th>\n",
       "      <td>1570.0</td>\n",
       "      <td>36262.841667</td>\n",
       "      <td>36319.0</td>\n",
       "      <td>36230.30</td>\n",
       "      <td>36276.223333</td>\n",
       "      <td>49.867700</td>\n",
       "      <td>36274.441548</td>\n",
       "    </tr>\n",
       "    <tr>\n",
       "      <th>2022-01-23 23:59:00</th>\n",
       "      <td>1459.0</td>\n",
       "      <td>36268.849570</td>\n",
       "      <td>36313.0</td>\n",
       "      <td>36231.71</td>\n",
       "      <td>36276.623333</td>\n",
       "      <td>43.030556</td>\n",
       "      <td>36274.613301</td>\n",
       "    </tr>\n",
       "    <tr>\n",
       "      <th>2022-01-24 00:00:00</th>\n",
       "      <td>2917.0</td>\n",
       "      <td>36262.038571</td>\n",
       "      <td>36302.0</td>\n",
       "      <td>36176.45</td>\n",
       "      <td>36221.987143</td>\n",
       "      <td>110.053151</td>\n",
       "      <td>36247.575361</td>\n",
       "    </tr>\n",
       "  </tbody>\n",
       "</table>\n",
       "<p>534069 rows × 7 columns</p>\n",
       "</div>"
      ],
      "text/plain": [
       "                      Count          Open     High       Low         Close  \\\n",
       "timestamp                                                                    \n",
       "2021-01-18 02:39:00  2253.0  35822.537143  35934.0  35806.60  35852.995714   \n",
       "2021-01-18 02:40:00  1735.0  35849.415714  35912.0  35810.30  35874.985714   \n",
       "2021-01-18 02:41:00  1524.0  35869.542857  35929.0  35826.37  35871.412412   \n",
       "2021-01-18 02:42:00  1135.0  35869.262857  35936.0  35843.91  35889.624286   \n",
       "2021-01-18 02:43:00  1281.0  35888.857143  35951.0  35857.40  35903.960000   \n",
       "...                     ...           ...      ...       ...           ...   \n",
       "2022-01-23 23:56:00  1221.0  36278.361667  36331.0  36249.00  36293.123333   \n",
       "2022-01-23 23:57:00  1634.0  36289.681667  36328.0  36230.72  36261.708333   \n",
       "2022-01-23 23:58:00  1570.0  36262.841667  36319.0  36230.30  36276.223333   \n",
       "2022-01-23 23:59:00  1459.0  36268.849570  36313.0  36231.71  36276.623333   \n",
       "2022-01-24 00:00:00  2917.0  36262.038571  36302.0  36176.45  36221.987143   \n",
       "\n",
       "                         Volume          VWAP  \n",
       "timestamp                                      \n",
       "2021-01-18 02:39:00   84.762343  35858.398313  \n",
       "2021-01-18 02:40:00   46.545962  35857.016658  \n",
       "2021-01-18 02:41:00   55.691964  35862.753869  \n",
       "2021-01-18 02:42:00   36.432007  35877.562847  \n",
       "2021-01-18 02:43:00   34.816070  35895.228109  \n",
       "...                         ...           ...  \n",
       "2022-01-23 23:56:00   30.247067  36289.796806  \n",
       "2022-01-23 23:57:00   35.647000  36276.229399  \n",
       "2022-01-23 23:58:00   49.867700  36274.441548  \n",
       "2022-01-23 23:59:00   43.030556  36274.613301  \n",
       "2022-01-24 00:00:00  110.053151  36247.575361  \n",
       "\n",
       "[534069 rows x 7 columns]"
      ]
     },
     "execution_count": 77,
     "metadata": {},
     "output_type": "execute_result"
    }
   ],
   "source": [
    "X_test"
   ]
  },
  {
   "cell_type": "code",
   "execution_count": 78,
   "id": "7e1ca270",
   "metadata": {
    "ExecuteTime": {
     "end_time": "2023-03-24T17:06:06.761336Z",
     "start_time": "2023-03-24T17:06:06.751374Z"
    }
   },
   "outputs": [
    {
     "data": {
      "text/plain": [
       "timestamp\n",
       "2018-01-01 00:01:00    0\n",
       "2018-01-01 00:02:00    0\n",
       "2018-01-01 00:03:00    0\n",
       "2018-01-01 00:04:00    0\n",
       "2018-01-01 00:05:00    0\n",
       "                      ..\n",
       "2021-01-18 02:34:00    0\n",
       "2021-01-18 02:35:00    1\n",
       "2021-01-18 02:36:00    1\n",
       "2021-01-18 02:37:00    1\n",
       "2021-01-18 02:38:00    1\n",
       "Name: Target, Length: 1602209, dtype: int64"
      ]
     },
     "execution_count": 78,
     "metadata": {},
     "output_type": "execute_result"
    }
   ],
   "source": [
    "Y_train"
   ]
  },
  {
   "cell_type": "code",
   "execution_count": 79,
   "id": "70cfbcd3",
   "metadata": {
    "ExecuteTime": {
     "end_time": "2023-03-24T17:06:08.161128Z",
     "start_time": "2023-03-24T17:06:08.150979Z"
    }
   },
   "outputs": [
    {
     "data": {
      "text/plain": [
       "timestamp\n",
       "2021-01-18 02:39:00    1\n",
       "2021-01-18 02:40:00    0\n",
       "2021-01-18 02:41:00    1\n",
       "2021-01-18 02:42:00    1\n",
       "2021-01-18 02:43:00    1\n",
       "                      ..\n",
       "2022-01-23 23:56:00    0\n",
       "2022-01-23 23:57:00    1\n",
       "2022-01-23 23:58:00    1\n",
       "2022-01-23 23:59:00    0\n",
       "2022-01-24 00:00:00    0\n",
       "Name: Target, Length: 534069, dtype: int64"
      ]
     },
     "execution_count": 79,
     "metadata": {},
     "output_type": "execute_result"
    }
   ],
   "source": [
    "Y_test"
   ]
  },
  {
   "cell_type": "markdown",
   "id": "f6b0e6f7",
   "metadata": {},
   "source": [
    "## Prediction of the price movement <span style=\"color:red\">[ML methods]</span>"
   ]
  },
  {
   "cell_type": "markdown",
   "id": "36d5c62e",
   "metadata": {},
   "source": [
    "### Logistic regression"
   ]
  },
  {
   "cell_type": "code",
   "execution_count": 80,
   "id": "2bd63dac",
   "metadata": {
    "ExecuteTime": {
     "end_time": "2023-03-24T17:11:43.038388Z",
     "start_time": "2023-03-24T17:11:42.626483Z"
    }
   },
   "outputs": [],
   "source": [
    "from sklearn.linear_model import LogisticRegression"
   ]
  },
  {
   "cell_type": "code",
   "execution_count": 83,
   "id": "51cd6032",
   "metadata": {
    "ExecuteTime": {
     "end_time": "2023-03-24T17:12:10.320122Z",
     "start_time": "2023-03-24T17:12:10.315997Z"
    }
   },
   "outputs": [],
   "source": [
    "# Defining the classifier\n",
    "clf = LogisticRegression()"
   ]
  },
  {
   "cell_type": "code",
   "execution_count": 84,
   "id": "493faf5e",
   "metadata": {
    "ExecuteTime": {
     "end_time": "2023-03-24T17:12:14.756275Z",
     "start_time": "2023-03-24T17:12:11.283380Z"
    }
   },
   "outputs": [
    {
     "data": {
      "text/html": [
       "<style>#sk-container-id-1 {color: black;background-color: white;}#sk-container-id-1 pre{padding: 0;}#sk-container-id-1 div.sk-toggleable {background-color: white;}#sk-container-id-1 label.sk-toggleable__label {cursor: pointer;display: block;width: 100%;margin-bottom: 0;padding: 0.3em;box-sizing: border-box;text-align: center;}#sk-container-id-1 label.sk-toggleable__label-arrow:before {content: \"▸\";float: left;margin-right: 0.25em;color: #696969;}#sk-container-id-1 label.sk-toggleable__label-arrow:hover:before {color: black;}#sk-container-id-1 div.sk-estimator:hover label.sk-toggleable__label-arrow:before {color: black;}#sk-container-id-1 div.sk-toggleable__content {max-height: 0;max-width: 0;overflow: hidden;text-align: left;background-color: #f0f8ff;}#sk-container-id-1 div.sk-toggleable__content pre {margin: 0.2em;color: black;border-radius: 0.25em;background-color: #f0f8ff;}#sk-container-id-1 input.sk-toggleable__control:checked~div.sk-toggleable__content {max-height: 200px;max-width: 100%;overflow: auto;}#sk-container-id-1 input.sk-toggleable__control:checked~label.sk-toggleable__label-arrow:before {content: \"▾\";}#sk-container-id-1 div.sk-estimator input.sk-toggleable__control:checked~label.sk-toggleable__label {background-color: #d4ebff;}#sk-container-id-1 div.sk-label input.sk-toggleable__control:checked~label.sk-toggleable__label {background-color: #d4ebff;}#sk-container-id-1 input.sk-hidden--visually {border: 0;clip: rect(1px 1px 1px 1px);clip: rect(1px, 1px, 1px, 1px);height: 1px;margin: -1px;overflow: hidden;padding: 0;position: absolute;width: 1px;}#sk-container-id-1 div.sk-estimator {font-family: monospace;background-color: #f0f8ff;border: 1px dotted black;border-radius: 0.25em;box-sizing: border-box;margin-bottom: 0.5em;}#sk-container-id-1 div.sk-estimator:hover {background-color: #d4ebff;}#sk-container-id-1 div.sk-parallel-item::after {content: \"\";width: 100%;border-bottom: 1px solid gray;flex-grow: 1;}#sk-container-id-1 div.sk-label:hover label.sk-toggleable__label {background-color: #d4ebff;}#sk-container-id-1 div.sk-serial::before {content: \"\";position: absolute;border-left: 1px solid gray;box-sizing: border-box;top: 0;bottom: 0;left: 50%;z-index: 0;}#sk-container-id-1 div.sk-serial {display: flex;flex-direction: column;align-items: center;background-color: white;padding-right: 0.2em;padding-left: 0.2em;position: relative;}#sk-container-id-1 div.sk-item {position: relative;z-index: 1;}#sk-container-id-1 div.sk-parallel {display: flex;align-items: stretch;justify-content: center;background-color: white;position: relative;}#sk-container-id-1 div.sk-item::before, #sk-container-id-1 div.sk-parallel-item::before {content: \"\";position: absolute;border-left: 1px solid gray;box-sizing: border-box;top: 0;bottom: 0;left: 50%;z-index: -1;}#sk-container-id-1 div.sk-parallel-item {display: flex;flex-direction: column;z-index: 1;position: relative;background-color: white;}#sk-container-id-1 div.sk-parallel-item:first-child::after {align-self: flex-end;width: 50%;}#sk-container-id-1 div.sk-parallel-item:last-child::after {align-self: flex-start;width: 50%;}#sk-container-id-1 div.sk-parallel-item:only-child::after {width: 0;}#sk-container-id-1 div.sk-dashed-wrapped {border: 1px dashed gray;margin: 0 0.4em 0.5em 0.4em;box-sizing: border-box;padding-bottom: 0.4em;background-color: white;}#sk-container-id-1 div.sk-label label {font-family: monospace;font-weight: bold;display: inline-block;line-height: 1.2em;}#sk-container-id-1 div.sk-label-container {text-align: center;}#sk-container-id-1 div.sk-container {/* jupyter's `normalize.less` sets `[hidden] { display: none; }` but bootstrap.min.css set `[hidden] { display: none !important; }` so we also need the `!important` here to be able to override the default hidden behavior on the sphinx rendered scikit-learn.org. See: https://github.com/scikit-learn/scikit-learn/issues/21755 */display: inline-block !important;position: relative;}#sk-container-id-1 div.sk-text-repr-fallback {display: none;}</style><div id=\"sk-container-id-1\" class=\"sk-top-container\"><div class=\"sk-text-repr-fallback\"><pre>LogisticRegression()</pre><b>In a Jupyter environment, please rerun this cell to show the HTML representation or trust the notebook. <br />On GitHub, the HTML representation is unable to render, please try loading this page with nbviewer.org.</b></div><div class=\"sk-container\" hidden><div class=\"sk-item\"><div class=\"sk-estimator sk-toggleable\"><input class=\"sk-toggleable__control sk-hidden--visually\" id=\"sk-estimator-id-1\" type=\"checkbox\" checked><label for=\"sk-estimator-id-1\" class=\"sk-toggleable__label sk-toggleable__label-arrow\">LogisticRegression</label><div class=\"sk-toggleable__content\"><pre>LogisticRegression()</pre></div></div></div></div></div>"
      ],
      "text/plain": [
       "LogisticRegression()"
      ]
     },
     "execution_count": 84,
     "metadata": {},
     "output_type": "execute_result"
    }
   ],
   "source": [
    "# Fitting the data with the classifier\n",
    "clf.fit(X_train, Y_train)"
   ]
  },
  {
   "cell_type": "code",
   "execution_count": 123,
   "id": "330054b9",
   "metadata": {
    "ExecuteTime": {
     "end_time": "2023-03-24T17:22:43.983897Z",
     "start_time": "2023-03-24T17:22:43.972567Z"
    }
   },
   "outputs": [],
   "source": [
    "# Making prediction based on samples within X_test\n",
    "Y_pred = clf.predict(X_test)"
   ]
  },
  {
   "cell_type": "code",
   "execution_count": 125,
   "id": "111dc497",
   "metadata": {
    "ExecuteTime": {
     "end_time": "2023-03-24T17:23:00.385572Z",
     "start_time": "2023-03-24T17:23:00.369024Z"
    }
   },
   "outputs": [],
   "source": [
    "Y_prob = clf.predict_proba(X_test)"
   ]
  },
  {
   "cell_type": "code",
   "execution_count": 98,
   "id": "9e3b511e",
   "metadata": {
    "ExecuteTime": {
     "end_time": "2023-03-24T17:13:57.825408Z",
     "start_time": "2023-03-24T17:13:57.815980Z"
    }
   },
   "outputs": [],
   "source": [
    "assert np.all(np.unique(Y_pred) == np.array([0, 1]))"
   ]
  },
  {
   "cell_type": "code",
   "execution_count": 112,
   "id": "4e27a269",
   "metadata": {
    "ExecuteTime": {
     "end_time": "2023-03-24T17:18:23.395145Z",
     "start_time": "2023-03-24T17:18:23.129772Z"
    }
   },
   "outputs": [
    {
     "data": {
      "image/png": "[encoded data removed]",
      "text/plain": [
       "<Figure size 1200x500 with 2 Axes>"
      ]
     },
     "metadata": {},
     "output_type": "display_data"
    }
   ],
   "source": [
    "# Generate confusion matrix\n",
    "matrix = plot_confusion_matrix(clf, \n",
    "                               X_test, Y_test,\n",
    "                               cmap=plt.cm.Reds,\n",
    "                               normalize='true')\n",
    "_ = plt.title('Confusion matrix for the ML classifier : Logistic Regresion')"
   ]
  },
  {
   "cell_type": "code",
   "execution_count": 138,
   "id": "de618089",
   "metadata": {
    "ExecuteTime": {
     "end_time": "2023-03-24T17:27:54.325945Z",
     "start_time": "2023-03-24T17:27:50.987502Z"
    }
   },
   "outputs": [
    {
     "data": {
      "image/png": "[encoded data removed]",
      "text/plain": [
       "<Figure size 700x400 with 1 Axes>"
      ]
     },
     "metadata": {},
     "output_type": "display_data"
    }
   ],
   "source": [
    "# Plotting Precision-Recall curve\n",
    "fig, ax = plt.subplots(figsize=(7, 4))\n",
    "_ = skplt.metrics.plot_precision_recall(Y_test, Y_prob, ax=ax)\n",
    "_ = plt.ylim([0.45, 0.55])"
   ]
  },
  {
   "cell_type": "code",
   "execution_count": null,
   "id": "9237ecce",
   "metadata": {
    "ExecuteTime": {
     "end_time": "2023-03-24T17:21:43.959944Z",
     "start_time": "2023-03-24T17:21:43.954175Z"
    }
   },
   "outputs": [],
   "source": [
    "# Plotting ROC curve\n",
    "fig, ax = plt.subplots(figsize=(7, 4))\n",
    "_ = skplt.metrics.plot_precision_recall(Y_test, Y_prob, ax=ax)"
   ]
  },
  {
   "cell_type": "markdown",
   "id": "f9ddb404",
   "metadata": {},
   "source": [
    "### Naive Bayes classifier"
   ]
  },
  {
   "cell_type": "code",
   "execution_count": null,
   "id": "a8856922",
   "metadata": {},
   "outputs": [],
   "source": []
  },
  {
   "cell_type": "code",
   "execution_count": null,
   "id": "b5f081d1",
   "metadata": {},
   "outputs": [],
   "source": []
  },
  {
   "cell_type": "markdown",
   "id": "2a96231d",
   "metadata": {},
   "source": [
    "## Prediction of the price movement <span style=\"color:red\">[DL methods]</span>"
   ]
  },
  {
   "cell_type": "code",
   "execution_count": null,
   "id": "98d2e35b",
   "metadata": {},
   "outputs": [],
   "source": []
  },
  {
   "cell_type": "code",
   "execution_count": null,
   "id": "7e3d5b50",
   "metadata": {},
   "outputs": [],
   "source": []
  },
  {
   "cell_type": "code",
   "execution_count": null,
   "id": "2286a511",
   "metadata": {},
   "outputs": [],
   "source": []
  },
  {
   "cell_type": "markdown",
   "id": "975afa09",
   "metadata": {},
   "source": [
    "## Transfer learning for other crypto-currencies "
   ]
  },
  {
   "cell_type": "code",
   "execution_count": null,
   "id": "2f2dc24f",
   "metadata": {},
   "outputs": [],
   "source": []
  },
  {
   "cell_type": "markdown",
   "id": "aafede87",
   "metadata": {},
   "source": [
    "# Conclusion"
   ]
  },
  {
   "cell_type": "code",
   "execution_count": null,
   "id": "b2366d41",
   "metadata": {},
   "outputs": [],
   "source": []
  },
  {
   "cell_type": "markdown",
   "id": "cd7fcd30",
   "metadata": {},
   "source": [
    "---\n",
    "\n",
    "**Arian NAJAFY ABRANDABADY - Lucas RODRIGUEZ - Bastien TRIDON**"
   ]
  }
 ],
 "metadata": {
  "kernelspec": {
   "display_name": "Python 3 (ipykernel)",
   "language": "python",
   "name": "python3"
  },
  "language_info": {
   "codemirror_mode": {
    "name": "ipython",
    "version": 3
   },
   "file_extension": ".py",
   "mimetype": "text/x-python",
   "name": "python",
   "nbconvert_exporter": "python",
   "pygments_lexer": "ipython3",
   "version": "3.10.6"
  },
  "toc": {
   "base_numbering": 1,
   "nav_menu": {},
   "number_sections": true,
   "sideBar": true,
   "skip_h1_title": false,
   "title_cell": "Table of Contents",
   "title_sidebar": "Contents",
   "toc_cell": false,
   "toc_position": {
    "height": "calc(100% - 180px)",
    "left": "10px",
    "top": "150px",
    "width": "369.367px"
   },
   "toc_section_display": true,
   "toc_window_display": true
  }
 },
 "nbformat": 4,
 "nbformat_minor": 5
}
