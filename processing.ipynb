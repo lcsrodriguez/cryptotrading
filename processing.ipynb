{
 "cells": [
  {
   "cell_type": "markdown",
   "id": "388258de",
   "metadata": {},
   "source": [
    "# Data pre-processing"
   ]
  },
  {
   "cell_type": "code",
   "execution_count": 1,
   "id": "720f1410",
   "metadata": {
    "ExecuteTime": {
     "end_time": "2023-04-07T13:46:34.618547Z",
     "start_time": "2023-04-07T13:46:33.168786Z"
    }
   },
   "outputs": [],
   "source": [
    "from src.Utils import *"
   ]
  },
  {
   "cell_type": "code",
   "execution_count": 4,
   "id": "be9122b1",
   "metadata": {
    "ExecuteTime": {
     "end_time": "2023-04-07T13:47:09.051446Z",
     "start_time": "2023-04-07T13:46:48.926372Z"
    }
   },
   "outputs": [],
   "source": [
    "# Importing training dataset\n",
    "TRAIN = pd.read_csv(filepath_or_buffer=Utils.FILENAMES[\"TRAIN\"])"
   ]
  },
  {
   "cell_type": "code",
   "execution_count": 5,
   "id": "75c2e3ae",
   "metadata": {
    "ExecuteTime": {
     "end_time": "2023-04-07T13:47:13.782978Z",
     "start_time": "2023-04-07T13:47:11.671551Z"
    }
   },
   "outputs": [],
   "source": [
    "# Importing second training dataset\n",
    "TRAIN_2 = pd.read_csv(filepath_or_buffer=Utils.FILENAMES[\"TRAIN_2\"])"
   ]
  },
  {
   "cell_type": "code",
   "execution_count": 6,
   "id": "405f8db4",
   "metadata": {
    "ExecuteTime": {
     "end_time": "2023-04-07T13:47:21.264673Z",
     "start_time": "2023-04-07T13:47:21.260562Z"
    }
   },
   "outputs": [],
   "source": [
    "# Verify the continuity of the time series\n",
    "#TRAIN.tail()\n",
    "#TRAIN_2.head()"
   ]
  },
  {
   "cell_type": "code",
   "execution_count": 9,
   "id": "79eda0d8",
   "metadata": {
    "ExecuteTime": {
     "end_time": "2023-04-07T13:48:02.790732Z",
     "start_time": "2023-04-07T13:48:01.521077Z"
    }
   },
   "outputs": [],
   "source": [
    "# Merging TRAIN and TRAIN_2 as df\n",
    "df = pd.concat([TRAIN, TRAIN_2], axis = 0)"
   ]
  },
  {
   "cell_type": "markdown",
   "id": "45e8f946",
   "metadata": {},
   "source": [
    "**Comments**:\n",
    "- First timestamp: **2018-01-01 00:01:00**\n",
    "- Last timestamp: **2022-01-24 00:00:00**"
   ]
  },
  {
   "cell_type": "code",
   "execution_count": null,
   "id": "2d6e48a2",
   "metadata": {},
   "outputs": [],
   "source": [
    "# Hashmap of train datasets for each asset id\n",
    "df_dict = {asset_id: None for asset_id in Utils.ASSET_IDS}\n",
    "\n",
    "# For each asset id, perform the pre-processing\n",
    "for asset_id in Utils.ASSET_IDS:\n",
    "    print(f\"--> Processing Asset #{asset_id} \\t ({Utils.get_asset_name(asset_id)})\")\n",
    "    \n",
    "    # Retrieving the corresponding data rows\n",
    "    df_dict[asset_id] = df[df[\"Asset_ID\"] == asset_id]\n",
    "    \n",
    "    # Removing the Asset_ID column (useless now)\n",
    "    try:\n",
    "        df_dict[asset_id].drop([\"Asset_ID\", \"Target\"], axis=1, inplace=True)\n",
    "    except:\n",
    "        pass\n",
    "    \n",
    "    # Converting the timestamp column\n",
    "    df_dict[asset_id][\"timestamp\"] = pd.to_datetime(arg=df_dict[asset_id][\"timestamp\"], \n",
    "                                                     unit=\"s\", \n",
    "                                                     errors=\"ignore\")\n",
    "    # Setting the timestamp column as index column\n",
    "    df_dict[asset_id].set_index([\"timestamp\"], inplace=True)"
   ]
  },
  {
   "cell_type": "code",
   "execution_count": null,
   "id": "468233b9",
   "metadata": {},
   "outputs": [],
   "source": []
  },
  {
   "cell_type": "code",
   "execution_count": null,
   "id": "e4abb8d4",
   "metadata": {},
   "outputs": [],
   "source": []
  }
 ],
 "metadata": {
  "kernelspec": {
   "display_name": "Python 3 (ipykernel)",
   "language": "python",
   "name": "python3"
  },
  "language_info": {
   "codemirror_mode": {
    "name": "ipython",
    "version": 3
   },
   "file_extension": ".py",
   "mimetype": "text/x-python",
   "name": "python",
   "nbconvert_exporter": "python",
   "pygments_lexer": "ipython3",
   "version": "3.10.6"
  },
  "toc": {
   "base_numbering": 1,
   "nav_menu": {},
   "number_sections": true,
   "sideBar": true,
   "skip_h1_title": false,
   "title_cell": "Table of Contents",
   "title_sidebar": "Contents",
   "toc_cell": false,
   "toc_position": {},
   "toc_section_display": true,
   "toc_window_display": false
  }
 },
 "nbformat": 4,
 "nbformat_minor": 5
}
