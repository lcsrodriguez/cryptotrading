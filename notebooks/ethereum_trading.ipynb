{
 "cells": [
  {
   "cell_type": "markdown",
   "id": "ca0a96c1",
   "metadata": {},
   "source": [
    "# ETH Trading strategy <span style=\"color:blue\">using Transfer Learning</span>"
   ]
  },
  {
   "cell_type": "code",
   "execution_count": 1,
   "id": "c545f25c",
   "metadata": {
    "ExecuteTime": {
     "end_time": "2023-04-07T22:06:58.363926Z",
     "start_time": "2023-04-07T22:06:58.297762Z"
    }
   },
   "outputs": [],
   "source": [
    "import sys, os, ipynbname\n",
    "NOTEBOOK_NAME = f\"{ipynbname.name()}.ipynb\"\n",
    "sys.path.append(os.path.abspath(os.path.join(os.path.dirname(NOTEBOOK_NAME), os.path.pardir)))"
   ]
  },
  {
   "cell_type": "code",
   "execution_count": 2,
   "id": "f27c60b9",
   "metadata": {
    "ExecuteTime": {
     "end_time": "2023-04-07T22:07:04.132916Z",
     "start_time": "2023-04-07T22:07:02.086254Z"
    }
   },
   "outputs": [],
   "source": [
    "from src.Utils import *"
   ]
  },
  {
   "cell_type": "code",
   "execution_count": 12,
   "id": "9804ef5b",
   "metadata": {
    "ExecuteTime": {
     "end_time": "2023-04-07T22:08:51.047070Z",
     "start_time": "2023-04-07T22:08:50.927631Z"
    }
   },
   "outputs": [],
   "source": [
    "# Importing Ethereum pre-processed financial data\n",
    "df = pq.read_pandas(source=f\"{Utils.ASSETS_FOLDER}/parquet/{Utils.get_asset_id('Ethereum')}.parquet\").to_pandas()"
   ]
  },
  {
   "cell_type": "code",
   "execution_count": 13,
   "id": "95179654",
   "metadata": {
    "ExecuteTime": {
     "end_time": "2023-04-07T22:08:51.941091Z",
     "start_time": "2023-04-07T22:08:51.925975Z"
    }
   },
   "outputs": [
    {
     "data": {
      "text/html": [
       "<div>\n",
       "<style scoped>\n",
       "    .dataframe tbody tr th:only-of-type {\n",
       "        vertical-align: middle;\n",
       "    }\n",
       "\n",
       "    .dataframe tbody tr th {\n",
       "        vertical-align: top;\n",
       "    }\n",
       "\n",
       "    .dataframe thead th {\n",
       "        text-align: right;\n",
       "    }\n",
       "</style>\n",
       "<table border=\"1\" class=\"dataframe\">\n",
       "  <thead>\n",
       "    <tr style=\"text-align: right;\">\n",
       "      <th></th>\n",
       "      <th>Count</th>\n",
       "      <th>Open</th>\n",
       "      <th>High</th>\n",
       "      <th>Low</th>\n",
       "      <th>Close</th>\n",
       "      <th>Volume</th>\n",
       "      <th>VWAP</th>\n",
       "    </tr>\n",
       "    <tr>\n",
       "      <th>timestamp</th>\n",
       "      <th></th>\n",
       "      <th></th>\n",
       "      <th></th>\n",
       "      <th></th>\n",
       "      <th></th>\n",
       "      <th></th>\n",
       "      <th></th>\n",
       "    </tr>\n",
       "  </thead>\n",
       "  <tbody>\n",
       "    <tr>\n",
       "      <th>2018-01-01 00:01:00</th>\n",
       "      <td>173</td>\n",
       "      <td>738.3025</td>\n",
       "      <td>746.00</td>\n",
       "      <td>732.51</td>\n",
       "      <td>738.5075</td>\n",
       "      <td>335.987856</td>\n",
       "      <td>738.839291</td>\n",
       "    </tr>\n",
       "    <tr>\n",
       "      <th>2018-01-01 00:02:00</th>\n",
       "      <td>192</td>\n",
       "      <td>738.5075</td>\n",
       "      <td>745.14</td>\n",
       "      <td>732.49</td>\n",
       "      <td>738.2600</td>\n",
       "      <td>232.793141</td>\n",
       "      <td>738.268967</td>\n",
       "    </tr>\n",
       "    <tr>\n",
       "      <th>2018-01-01 00:03:00</th>\n",
       "      <td>120</td>\n",
       "      <td>738.3325</td>\n",
       "      <td>745.12</td>\n",
       "      <td>730.00</td>\n",
       "      <td>737.5025</td>\n",
       "      <td>174.138031</td>\n",
       "      <td>737.994457</td>\n",
       "    </tr>\n",
       "    <tr>\n",
       "      <th>2018-01-01 00:04:00</th>\n",
       "      <td>156</td>\n",
       "      <td>737.2225</td>\n",
       "      <td>744.69</td>\n",
       "      <td>728.93</td>\n",
       "      <td>737.1025</td>\n",
       "      <td>165.383926</td>\n",
       "      <td>737.303631</td>\n",
       "    </tr>\n",
       "    <tr>\n",
       "      <th>2018-01-01 00:05:00</th>\n",
       "      <td>118</td>\n",
       "      <td>736.5300</td>\n",
       "      <td>743.80</td>\n",
       "      <td>727.11</td>\n",
       "      <td>735.7050</td>\n",
       "      <td>193.078039</td>\n",
       "      <td>736.163026</td>\n",
       "    </tr>\n",
       "  </tbody>\n",
       "</table>\n",
       "</div>"
      ],
      "text/plain": [
       "                     Count      Open    High     Low     Close      Volume  \\\n",
       "timestamp                                                                    \n",
       "2018-01-01 00:01:00    173  738.3025  746.00  732.51  738.5075  335.987856   \n",
       "2018-01-01 00:02:00    192  738.5075  745.14  732.49  738.2600  232.793141   \n",
       "2018-01-01 00:03:00    120  738.3325  745.12  730.00  737.5025  174.138031   \n",
       "2018-01-01 00:04:00    156  737.2225  744.69  728.93  737.1025  165.383926   \n",
       "2018-01-01 00:05:00    118  736.5300  743.80  727.11  735.7050  193.078039   \n",
       "\n",
       "                           VWAP  \n",
       "timestamp                        \n",
       "2018-01-01 00:01:00  738.839291  \n",
       "2018-01-01 00:02:00  738.268967  \n",
       "2018-01-01 00:03:00  737.994457  \n",
       "2018-01-01 00:04:00  737.303631  \n",
       "2018-01-01 00:05:00  736.163026  "
      ]
     },
     "execution_count": 13,
     "metadata": {},
     "output_type": "execute_result"
    }
   ],
   "source": [
    "# Displaying first rows\n",
    "df.head()"
   ]
  },
  {
   "cell_type": "code",
   "execution_count": 14,
   "id": "346a1e75",
   "metadata": {
    "ExecuteTime": {
     "end_time": "2023-04-07T22:08:58.483819Z",
     "start_time": "2023-04-07T22:08:58.021917Z"
    }
   },
   "outputs": [
    {
     "data": {
      "text/html": [
       "<div>\n",
       "<style scoped>\n",
       "    .dataframe tbody tr th:only-of-type {\n",
       "        vertical-align: middle;\n",
       "    }\n",
       "\n",
       "    .dataframe tbody tr th {\n",
       "        vertical-align: top;\n",
       "    }\n",
       "\n",
       "    .dataframe thead th {\n",
       "        text-align: right;\n",
       "    }\n",
       "</style>\n",
       "<table border=\"1\" class=\"dataframe\">\n",
       "  <thead>\n",
       "    <tr style=\"text-align: right;\">\n",
       "      <th></th>\n",
       "      <th>Count</th>\n",
       "      <th>Open</th>\n",
       "      <th>High</th>\n",
       "      <th>Low</th>\n",
       "      <th>Close</th>\n",
       "      <th>Volume</th>\n",
       "      <th>VWAP</th>\n",
       "    </tr>\n",
       "  </thead>\n",
       "  <tbody>\n",
       "    <tr>\n",
       "      <th>count</th>\n",
       "      <td>2.136196e+06</td>\n",
       "      <td>2.136196e+06</td>\n",
       "      <td>2.136196e+06</td>\n",
       "      <td>2.136196e+06</td>\n",
       "      <td>2.136196e+06</td>\n",
       "      <td>2.136196e+06</td>\n",
       "      <td>2.136196e+06</td>\n",
       "    </tr>\n",
       "    <tr>\n",
       "      <th>mean</th>\n",
       "      <td>7.660613e+02</td>\n",
       "      <td>9.708055e+02</td>\n",
       "      <td>9.728268e+02</td>\n",
       "      <td>9.689103e+02</td>\n",
       "      <td>9.708086e+02</td>\n",
       "      <td>1.096097e+03</td>\n",
       "      <td>9.707977e+02</td>\n",
       "    </tr>\n",
       "    <tr>\n",
       "      <th>std</th>\n",
       "      <td>1.292310e+03</td>\n",
       "      <td>1.220119e+03</td>\n",
       "      <td>1.221372e+03</td>\n",
       "      <td>1.218739e+03</td>\n",
       "      <td>1.220125e+03</td>\n",
       "      <td>1.990393e+03</td>\n",
       "      <td>1.220113e+03</td>\n",
       "    </tr>\n",
       "    <tr>\n",
       "      <th>min</th>\n",
       "      <td>1.000000e+00</td>\n",
       "      <td>8.178300e+01</td>\n",
       "      <td>8.265000e+01</td>\n",
       "      <td>8.056000e+01</td>\n",
       "      <td>8.176683e+01</td>\n",
       "      <td>3.000000e-06</td>\n",
       "      <td>8.177974e+01</td>\n",
       "    </tr>\n",
       "    <tr>\n",
       "      <th>25%</th>\n",
       "      <td>1.650000e+02</td>\n",
       "      <td>1.873114e+02</td>\n",
       "      <td>1.877500e+02</td>\n",
       "      <td>1.870000e+02</td>\n",
       "      <td>1.873100e+02</td>\n",
       "      <td>2.709967e+02</td>\n",
       "      <td>1.873087e+02</td>\n",
       "    </tr>\n",
       "    <tr>\n",
       "      <th>50%</th>\n",
       "      <td>3.270000e+02</td>\n",
       "      <td>3.571524e+02</td>\n",
       "      <td>3.578400e+02</td>\n",
       "      <td>3.567000e+02</td>\n",
       "      <td>3.571561e+02</td>\n",
       "      <td>5.544550e+02</td>\n",
       "      <td>3.571512e+02</td>\n",
       "    </tr>\n",
       "    <tr>\n",
       "      <th>75%</th>\n",
       "      <td>8.860000e+02</td>\n",
       "      <td>1.279981e+03</td>\n",
       "      <td>1.285592e+03</td>\n",
       "      <td>1.272973e+03</td>\n",
       "      <td>1.279979e+03</td>\n",
       "      <td>1.162002e+03</td>\n",
       "      <td>1.279908e+03</td>\n",
       "    </tr>\n",
       "    <tr>\n",
       "      <th>max</th>\n",
       "      <td>6.625300e+04</td>\n",
       "      <td>4.864833e+03</td>\n",
       "      <td>4.868790e+03</td>\n",
       "      <td>4.859400e+03</td>\n",
       "      <td>4.864529e+03</td>\n",
       "      <td>1.120268e+05</td>\n",
       "      <td>4.864193e+03</td>\n",
       "    </tr>\n",
       "  </tbody>\n",
       "</table>\n",
       "</div>"
      ],
      "text/plain": [
       "              Count          Open          High           Low         Close  \\\n",
       "count  2.136196e+06  2.136196e+06  2.136196e+06  2.136196e+06  2.136196e+06   \n",
       "mean   7.660613e+02  9.708055e+02  9.728268e+02  9.689103e+02  9.708086e+02   \n",
       "std    1.292310e+03  1.220119e+03  1.221372e+03  1.218739e+03  1.220125e+03   \n",
       "min    1.000000e+00  8.178300e+01  8.265000e+01  8.056000e+01  8.176683e+01   \n",
       "25%    1.650000e+02  1.873114e+02  1.877500e+02  1.870000e+02  1.873100e+02   \n",
       "50%    3.270000e+02  3.571524e+02  3.578400e+02  3.567000e+02  3.571561e+02   \n",
       "75%    8.860000e+02  1.279981e+03  1.285592e+03  1.272973e+03  1.279979e+03   \n",
       "max    6.625300e+04  4.864833e+03  4.868790e+03  4.859400e+03  4.864529e+03   \n",
       "\n",
       "             Volume          VWAP  \n",
       "count  2.136196e+06  2.136196e+06  \n",
       "mean   1.096097e+03  9.707977e+02  \n",
       "std    1.990393e+03  1.220113e+03  \n",
       "min    3.000000e-06  8.177974e+01  \n",
       "25%    2.709967e+02  1.873087e+02  \n",
       "50%    5.544550e+02  3.571512e+02  \n",
       "75%    1.162002e+03  1.279908e+03  \n",
       "max    1.120268e+05  4.864193e+03  "
      ]
     },
     "execution_count": 14,
     "metadata": {},
     "output_type": "execute_result"
    }
   ],
   "source": [
    "# Some statistical analysis\n",
    "df.describe()"
   ]
  },
  {
   "cell_type": "code",
   "execution_count": null,
   "id": "b454c95f",
   "metadata": {},
   "outputs": [],
   "source": []
  }
 ],
 "metadata": {
  "kernelspec": {
   "display_name": "Python 3 (ipykernel)",
   "language": "python",
   "name": "python3"
  },
  "language_info": {
   "codemirror_mode": {
    "name": "ipython",
    "version": 3
   },
   "file_extension": ".py",
   "mimetype": "text/x-python",
   "name": "python",
   "nbconvert_exporter": "python",
   "pygments_lexer": "ipython3",
   "version": "3.10.6"
  },
  "toc": {
   "base_numbering": 1,
   "nav_menu": {},
   "number_sections": true,
   "sideBar": true,
   "skip_h1_title": false,
   "title_cell": "Table of Contents",
   "title_sidebar": "Contents",
   "toc_cell": false,
   "toc_position": {},
   "toc_section_display": true,
   "toc_window_display": false
  }
 },
 "nbformat": 4,
 "nbformat_minor": 5
}
