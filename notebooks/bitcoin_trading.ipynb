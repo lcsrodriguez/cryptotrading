{
 "cells": [
  {
   "cell_type": "markdown",
   "id": "958ecc03",
   "metadata": {},
   "source": [
    "# BTC ML/DL Trading strategy"
   ]
  },
  {
   "cell_type": "code",
   "execution_count": 19,
   "id": "1735d346",
   "metadata": {
    "ExecuteTime": {
     "end_time": "2023-04-07T21:57:06.235328Z",
     "start_time": "2023-04-07T21:57:06.148138Z"
    }
   },
   "outputs": [],
   "source": [
    "import sys, os, ipynbname\n",
    "NOTEBOOK_NAME = f\"{ipynbname.name()}.ipynb\"\n",
    "sys.path.append(os.path.abspath(os.path.join(os.path.dirname(NOTEBOOK_NAME), os.path.pardir)))"
   ]
  },
  {
   "cell_type": "code",
   "execution_count": 23,
   "id": "f8e4a549",
   "metadata": {
    "ExecuteTime": {
     "end_time": "2023-04-07T21:57:13.677991Z",
     "start_time": "2023-04-07T21:57:13.674195Z"
    }
   },
   "outputs": [],
   "source": [
    "from src.Utils import *"
   ]
  },
  {
   "cell_type": "markdown",
   "id": "b6ca5d3e",
   "metadata": {},
   "source": [
    "## Preliminary data import & handling"
   ]
  },
  {
   "cell_type": "code",
   "execution_count": 21,
   "id": "ac42bc68",
   "metadata": {
    "ExecuteTime": {
     "end_time": "2023-04-07T21:57:07.993457Z",
     "start_time": "2023-04-07T21:57:07.086679Z"
    }
   },
   "outputs": [],
   "source": [
    "# Importing Bitcoin pre-processed financial data\n",
    "df = pq.read_pandas(source=f\"{Utils.ASSETS_FOLDER}/parquet/{Utils.get_asset_id('Bitcoin')}.parquet\").to_pandas()"
   ]
  },
  {
   "cell_type": "code",
   "execution_count": 22,
   "id": "e389308a",
   "metadata": {
    "ExecuteTime": {
     "end_time": "2023-04-07T21:57:08.615372Z",
     "start_time": "2023-04-07T21:57:08.592357Z"
    }
   },
   "outputs": [
    {
     "data": {
      "text/html": [
       "<div>\n",
       "<style scoped>\n",
       "    .dataframe tbody tr th:only-of-type {\n",
       "        vertical-align: middle;\n",
       "    }\n",
       "\n",
       "    .dataframe tbody tr th {\n",
       "        vertical-align: top;\n",
       "    }\n",
       "\n",
       "    .dataframe thead th {\n",
       "        text-align: right;\n",
       "    }\n",
       "</style>\n",
       "<table border=\"1\" class=\"dataframe\">\n",
       "  <thead>\n",
       "    <tr style=\"text-align: right;\">\n",
       "      <th></th>\n",
       "      <th>Count</th>\n",
       "      <th>Open</th>\n",
       "      <th>High</th>\n",
       "      <th>Low</th>\n",
       "      <th>Close</th>\n",
       "      <th>Volume</th>\n",
       "      <th>VWAP</th>\n",
       "    </tr>\n",
       "    <tr>\n",
       "      <th>timestamp</th>\n",
       "      <th></th>\n",
       "      <th></th>\n",
       "      <th></th>\n",
       "      <th></th>\n",
       "      <th></th>\n",
       "      <th></th>\n",
       "      <th></th>\n",
       "    </tr>\n",
       "  </thead>\n",
       "  <tbody>\n",
       "    <tr>\n",
       "      <th>2018-01-01 00:01:00</th>\n",
       "      <td>229</td>\n",
       "      <td>13835.194</td>\n",
       "      <td>14013.8</td>\n",
       "      <td>13666.11</td>\n",
       "      <td>13850.176</td>\n",
       "      <td>31.550062</td>\n",
       "      <td>13827.062093</td>\n",
       "    </tr>\n",
       "    <tr>\n",
       "      <th>2018-01-01 00:02:00</th>\n",
       "      <td>235</td>\n",
       "      <td>13835.036</td>\n",
       "      <td>14052.3</td>\n",
       "      <td>13680.00</td>\n",
       "      <td>13828.102</td>\n",
       "      <td>31.046432</td>\n",
       "      <td>13840.362591</td>\n",
       "    </tr>\n",
       "    <tr>\n",
       "      <th>2018-01-01 00:03:00</th>\n",
       "      <td>528</td>\n",
       "      <td>13823.900</td>\n",
       "      <td>14000.4</td>\n",
       "      <td>13601.00</td>\n",
       "      <td>13801.314</td>\n",
       "      <td>55.061820</td>\n",
       "      <td>13806.068014</td>\n",
       "    </tr>\n",
       "    <tr>\n",
       "      <th>2018-01-01 00:04:00</th>\n",
       "      <td>435</td>\n",
       "      <td>13802.512</td>\n",
       "      <td>13999.0</td>\n",
       "      <td>13576.28</td>\n",
       "      <td>13768.040</td>\n",
       "      <td>38.780529</td>\n",
       "      <td>13783.598101</td>\n",
       "    </tr>\n",
       "    <tr>\n",
       "      <th>2018-01-01 00:05:00</th>\n",
       "      <td>742</td>\n",
       "      <td>13766.000</td>\n",
       "      <td>13955.9</td>\n",
       "      <td>13554.44</td>\n",
       "      <td>13724.914</td>\n",
       "      <td>108.501637</td>\n",
       "      <td>13735.586842</td>\n",
       "    </tr>\n",
       "  </tbody>\n",
       "</table>\n",
       "</div>"
      ],
      "text/plain": [
       "                     Count       Open     High       Low      Close  \\\n",
       "timestamp                                                             \n",
       "2018-01-01 00:01:00    229  13835.194  14013.8  13666.11  13850.176   \n",
       "2018-01-01 00:02:00    235  13835.036  14052.3  13680.00  13828.102   \n",
       "2018-01-01 00:03:00    528  13823.900  14000.4  13601.00  13801.314   \n",
       "2018-01-01 00:04:00    435  13802.512  13999.0  13576.28  13768.040   \n",
       "2018-01-01 00:05:00    742  13766.000  13955.9  13554.44  13724.914   \n",
       "\n",
       "                         Volume          VWAP  \n",
       "timestamp                                      \n",
       "2018-01-01 00:01:00   31.550062  13827.062093  \n",
       "2018-01-01 00:02:00   31.046432  13840.362591  \n",
       "2018-01-01 00:03:00   55.061820  13806.068014  \n",
       "2018-01-01 00:04:00   38.780529  13783.598101  \n",
       "2018-01-01 00:05:00  108.501637  13735.586842  "
      ]
     },
     "execution_count": 22,
     "metadata": {},
     "output_type": "execute_result"
    }
   ],
   "source": [
    "# Displaying first rows\n",
    "df.head()"
   ]
  },
  {
   "cell_type": "code",
   "execution_count": 24,
   "id": "682902d1",
   "metadata": {
    "ExecuteTime": {
     "end_time": "2023-04-07T21:57:46.126031Z",
     "start_time": "2023-04-07T21:57:45.569797Z"
    }
   },
   "outputs": [
    {
     "data": {
      "text/html": [
       "<div>\n",
       "<style scoped>\n",
       "    .dataframe tbody tr th:only-of-type {\n",
       "        vertical-align: middle;\n",
       "    }\n",
       "\n",
       "    .dataframe tbody tr th {\n",
       "        vertical-align: top;\n",
       "    }\n",
       "\n",
       "    .dataframe thead th {\n",
       "        text-align: right;\n",
       "    }\n",
       "</style>\n",
       "<table border=\"1\" class=\"dataframe\">\n",
       "  <thead>\n",
       "    <tr style=\"text-align: right;\">\n",
       "      <th></th>\n",
       "      <th>Count</th>\n",
       "      <th>Open</th>\n",
       "      <th>High</th>\n",
       "      <th>Low</th>\n",
       "      <th>Close</th>\n",
       "      <th>Volume</th>\n",
       "      <th>VWAP</th>\n",
       "    </tr>\n",
       "  </thead>\n",
       "  <tbody>\n",
       "    <tr>\n",
       "      <th>count</th>\n",
       "      <td>2.136278e+06</td>\n",
       "      <td>2.136278e+06</td>\n",
       "      <td>2.136278e+06</td>\n",
       "      <td>2.136278e+06</td>\n",
       "      <td>2.136278e+06</td>\n",
       "      <td>2.136278e+06</td>\n",
       "      <td>2.136278e+06</td>\n",
       "    </tr>\n",
       "    <tr>\n",
       "      <th>mean</th>\n",
       "      <td>1.140431e+03</td>\n",
       "      <td>1.871015e+04</td>\n",
       "      <td>1.875142e+04</td>\n",
       "      <td>1.867531e+04</td>\n",
       "      <td>1.871015e+04</td>\n",
       "      <td>8.959506e+01</td>\n",
       "      <td>1.870998e+04</td>\n",
       "    </tr>\n",
       "    <tr>\n",
       "      <th>std</th>\n",
       "      <td>1.615133e+03</td>\n",
       "      <td>1.786562e+04</td>\n",
       "      <td>1.787513e+04</td>\n",
       "      <td>1.785035e+04</td>\n",
       "      <td>1.786564e+04</td>\n",
       "      <td>1.509393e+02</td>\n",
       "      <td>1.786544e+04</td>\n",
       "    </tr>\n",
       "    <tr>\n",
       "      <th>min</th>\n",
       "      <td>1.000000e+00</td>\n",
       "      <td>3.149657e+03</td>\n",
       "      <td>3.176910e+03</td>\n",
       "      <td>3.120000e+03</td>\n",
       "      <td>3.151545e+03</td>\n",
       "      <td>1.000000e-04</td>\n",
       "      <td>3.152326e+03</td>\n",
       "    </tr>\n",
       "    <tr>\n",
       "      <th>25%</th>\n",
       "      <td>3.170000e+02</td>\n",
       "      <td>7.123990e+03</td>\n",
       "      <td>7.146973e+03</td>\n",
       "      <td>7.109173e+03</td>\n",
       "      <td>7.124021e+03</td>\n",
       "      <td>2.910561e+01</td>\n",
       "      <td>7.123969e+03</td>\n",
       "    </tr>\n",
       "    <tr>\n",
       "      <th>50%</th>\n",
       "      <td>6.350000e+02</td>\n",
       "      <td>9.504575e+03</td>\n",
       "      <td>9.520100e+03</td>\n",
       "      <td>9.490330e+03</td>\n",
       "      <td>9.504526e+03</td>\n",
       "      <td>5.089676e+01</td>\n",
       "      <td>9.504545e+03</td>\n",
       "    </tr>\n",
       "    <tr>\n",
       "      <th>75%</th>\n",
       "      <td>1.380000e+03</td>\n",
       "      <td>3.223343e+04</td>\n",
       "      <td>3.229500e+04</td>\n",
       "      <td>3.217598e+04</td>\n",
       "      <td>3.223236e+04</td>\n",
       "      <td>9.409524e+01</td>\n",
       "      <td>3.223299e+04</td>\n",
       "    </tr>\n",
       "    <tr>\n",
       "      <th>max</th>\n",
       "      <td>8.747800e+04</td>\n",
       "      <td>6.898612e+04</td>\n",
       "      <td>6.902420e+04</td>\n",
       "      <td>6.873400e+04</td>\n",
       "      <td>6.897356e+04</td>\n",
       "      <td>1.040500e+04</td>\n",
       "      <td>6.889405e+04</td>\n",
       "    </tr>\n",
       "  </tbody>\n",
       "</table>\n",
       "</div>"
      ],
      "text/plain": [
       "              Count          Open          High           Low         Close  \\\n",
       "count  2.136278e+06  2.136278e+06  2.136278e+06  2.136278e+06  2.136278e+06   \n",
       "mean   1.140431e+03  1.871015e+04  1.875142e+04  1.867531e+04  1.871015e+04   \n",
       "std    1.615133e+03  1.786562e+04  1.787513e+04  1.785035e+04  1.786564e+04   \n",
       "min    1.000000e+00  3.149657e+03  3.176910e+03  3.120000e+03  3.151545e+03   \n",
       "25%    3.170000e+02  7.123990e+03  7.146973e+03  7.109173e+03  7.124021e+03   \n",
       "50%    6.350000e+02  9.504575e+03  9.520100e+03  9.490330e+03  9.504526e+03   \n",
       "75%    1.380000e+03  3.223343e+04  3.229500e+04  3.217598e+04  3.223236e+04   \n",
       "max    8.747800e+04  6.898612e+04  6.902420e+04  6.873400e+04  6.897356e+04   \n",
       "\n",
       "             Volume          VWAP  \n",
       "count  2.136278e+06  2.136278e+06  \n",
       "mean   8.959506e+01  1.870998e+04  \n",
       "std    1.509393e+02  1.786544e+04  \n",
       "min    1.000000e-04  3.152326e+03  \n",
       "25%    2.910561e+01  7.123969e+03  \n",
       "50%    5.089676e+01  9.504545e+03  \n",
       "75%    9.409524e+01  3.223299e+04  \n",
       "max    1.040500e+04  6.889405e+04  "
      ]
     },
     "execution_count": 24,
     "metadata": {},
     "output_type": "execute_result"
    }
   ],
   "source": [
    "# Some statistical analysis\n",
    "df.describe()"
   ]
  },
  {
   "cell_type": "markdown",
   "id": "08aaf13d",
   "metadata": {},
   "source": [
    "## Data aggregation"
   ]
  },
  {
   "cell_type": "markdown",
   "id": "4c44dc5a",
   "metadata": {},
   "source": [
    "We are encouraged to add:\n",
    "- additional metrics (RSI, moving averages, ...) and indicators from technical analysis\n",
    "- additional data sources (from historical data API including FTX or Binance APIs)\n",
    "- use of resampling routine to:\n",
    "    - identify patterns\n",
    "    - reduce the length of our data sample"
   ]
  },
  {
   "cell_type": "code",
   "execution_count": null,
   "id": "99d269e1",
   "metadata": {},
   "outputs": [],
   "source": [
    "# TODO"
   ]
  },
  {
   "cell_type": "markdown",
   "id": "54aae690",
   "metadata": {},
   "source": [
    "## Data pre-processing"
   ]
  },
  {
   "cell_type": "code",
   "execution_count": null,
   "id": "9ad9a8d0",
   "metadata": {},
   "outputs": [],
   "source": [
    "# Computation of the target"
   ]
  },
  {
   "cell_type": "code",
   "execution_count": 25,
   "id": "68d4eb13",
   "metadata": {
    "ExecuteTime": {
     "end_time": "2023-04-07T21:59:43.692681Z",
     "start_time": "2023-04-07T21:59:43.688313Z"
    }
   },
   "outputs": [],
   "source": [
    "# Normalization (see YouTube)"
   ]
  },
  {
   "cell_type": "code",
   "execution_count": null,
   "id": "9842ff9d",
   "metadata": {},
   "outputs": [],
   "source": [
    "# X/Y split"
   ]
  },
  {
   "cell_type": "code",
   "execution_count": null,
   "id": "06297fce",
   "metadata": {},
   "outputs": [],
   "source": [
    "# Train/Test/Validation split"
   ]
  },
  {
   "cell_type": "code",
   "execution_count": 1,
   "id": "299cf369",
   "metadata": {
    "ExecuteTime": {
     "end_time": "2023-04-08T09:38:32.355650Z",
     "start_time": "2023-04-08T09:38:32.349557Z"
    }
   },
   "outputs": [],
   "source": [
    "# "
   ]
  },
  {
   "cell_type": "code",
   "execution_count": null,
   "id": "6ee3f397",
   "metadata": {},
   "outputs": [],
   "source": []
  },
  {
   "cell_type": "code",
   "execution_count": null,
   "id": "baff0011",
   "metadata": {},
   "outputs": [],
   "source": []
  },
  {
   "cell_type": "code",
   "execution_count": null,
   "id": "5a8b2394",
   "metadata": {},
   "outputs": [],
   "source": []
  },
  {
   "cell_type": "code",
   "execution_count": null,
   "id": "019dedcc",
   "metadata": {},
   "outputs": [],
   "source": []
  },
  {
   "cell_type": "code",
   "execution_count": null,
   "id": "375227e1",
   "metadata": {},
   "outputs": [],
   "source": []
  },
  {
   "cell_type": "code",
   "execution_count": null,
   "id": "f3cc37cb",
   "metadata": {},
   "outputs": [],
   "source": []
  },
  {
   "cell_type": "code",
   "execution_count": null,
   "id": "3a1a494e",
   "metadata": {},
   "outputs": [],
   "source": []
  },
  {
   "cell_type": "code",
   "execution_count": null,
   "id": "843fc776",
   "metadata": {},
   "outputs": [],
   "source": []
  }
 ],
 "metadata": {
  "kernelspec": {
   "display_name": "Python 3 (ipykernel)",
   "language": "python",
   "name": "python3"
  },
  "language_info": {
   "codemirror_mode": {
    "name": "ipython",
    "version": 3
   },
   "file_extension": ".py",
   "mimetype": "text/x-python",
   "name": "python",
   "nbconvert_exporter": "python",
   "pygments_lexer": "ipython3",
   "version": "3.10.6"
  },
  "toc": {
   "base_numbering": 1,
   "nav_menu": {},
   "number_sections": true,
   "sideBar": true,
   "skip_h1_title": false,
   "title_cell": "Table of Contents",
   "title_sidebar": "Contents",
   "toc_cell": false,
   "toc_position": {},
   "toc_section_display": true,
   "toc_window_display": false
  }
 },
 "nbformat": 4,
 "nbformat_minor": 5
}
