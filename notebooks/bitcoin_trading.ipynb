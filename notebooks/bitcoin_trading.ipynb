{
 "cells": [
  {
   "cell_type": "markdown",
   "id": "958ecc03",
   "metadata": {},
   "source": [
    "# BTC ML/DL Trading strategy"
   ]
  },
  {
   "cell_type": "code",
   "execution_count": 1,
   "id": "1735d346",
   "metadata": {
    "ExecuteTime": {
     "end_time": "2023-04-08T10:27:27.630330Z",
     "start_time": "2023-04-08T10:27:27.593158Z"
    }
   },
   "outputs": [],
   "source": [
    "import sys, os, ipynbname\n",
    "NOTEBOOK_NAME = f\"{ipynbname.name()}.ipynb\"\n",
    "sys.path.append(os.path.abspath(os.path.join(os.path.dirname(NOTEBOOK_NAME), os.path.pardir)))"
   ]
  },
  {
   "cell_type": "code",
   "execution_count": 2,
   "id": "f8e4a549",
   "metadata": {
    "ExecuteTime": {
     "end_time": "2023-04-08T10:27:30.105005Z",
     "start_time": "2023-04-08T10:27:28.025551Z"
    }
   },
   "outputs": [],
   "source": [
    "from src.Utils import *"
   ]
  },
  {
   "cell_type": "markdown",
   "id": "b6ca5d3e",
   "metadata": {},
   "source": [
    "## Preliminary data import & handling"
   ]
  },
  {
   "cell_type": "code",
   "execution_count": 3,
   "id": "ac42bc68",
   "metadata": {
    "ExecuteTime": {
     "end_time": "2023-04-08T10:27:30.289491Z",
     "start_time": "2023-04-08T10:27:30.107276Z"
    }
   },
   "outputs": [],
   "source": [
    "# Importing Bitcoin pre-processed financial data\n",
    "df = pq.read_pandas(source=f\"{Utils.ASSETS_FOLDER}/parquet/{Utils.get_asset_id('Bitcoin')}.parquet\").to_pandas()"
   ]
  },
  {
   "cell_type": "code",
   "execution_count": 4,
   "id": "e389308a",
   "metadata": {
    "ExecuteTime": {
     "end_time": "2023-04-08T10:27:30.354261Z",
     "start_time": "2023-04-08T10:27:30.292024Z"
    }
   },
   "outputs": [
    {
     "data": {
      "text/html": [
       "<div>\n",
       "<style scoped>\n",
       "    .dataframe tbody tr th:only-of-type {\n",
       "        vertical-align: middle;\n",
       "    }\n",
       "\n",
       "    .dataframe tbody tr th {\n",
       "        vertical-align: top;\n",
       "    }\n",
       "\n",
       "    .dataframe thead th {\n",
       "        text-align: right;\n",
       "    }\n",
       "</style>\n",
       "<table border=\"1\" class=\"dataframe\">\n",
       "  <thead>\n",
       "    <tr style=\"text-align: right;\">\n",
       "      <th></th>\n",
       "      <th>Count</th>\n",
       "      <th>Open</th>\n",
       "      <th>High</th>\n",
       "      <th>Low</th>\n",
       "      <th>Close</th>\n",
       "      <th>Volume</th>\n",
       "      <th>VWAP</th>\n",
       "    </tr>\n",
       "    <tr>\n",
       "      <th>timestamp</th>\n",
       "      <th></th>\n",
       "      <th></th>\n",
       "      <th></th>\n",
       "      <th></th>\n",
       "      <th></th>\n",
       "      <th></th>\n",
       "      <th></th>\n",
       "    </tr>\n",
       "  </thead>\n",
       "  <tbody>\n",
       "    <tr>\n",
       "      <th>2018-01-01 00:01:00</th>\n",
       "      <td>229</td>\n",
       "      <td>13835.194</td>\n",
       "      <td>14013.8</td>\n",
       "      <td>13666.11</td>\n",
       "      <td>13850.176</td>\n",
       "      <td>31.550062</td>\n",
       "      <td>13827.062093</td>\n",
       "    </tr>\n",
       "    <tr>\n",
       "      <th>2018-01-01 00:02:00</th>\n",
       "      <td>235</td>\n",
       "      <td>13835.036</td>\n",
       "      <td>14052.3</td>\n",
       "      <td>13680.00</td>\n",
       "      <td>13828.102</td>\n",
       "      <td>31.046432</td>\n",
       "      <td>13840.362591</td>\n",
       "    </tr>\n",
       "    <tr>\n",
       "      <th>2018-01-01 00:03:00</th>\n",
       "      <td>528</td>\n",
       "      <td>13823.900</td>\n",
       "      <td>14000.4</td>\n",
       "      <td>13601.00</td>\n",
       "      <td>13801.314</td>\n",
       "      <td>55.061820</td>\n",
       "      <td>13806.068014</td>\n",
       "    </tr>\n",
       "    <tr>\n",
       "      <th>2018-01-01 00:04:00</th>\n",
       "      <td>435</td>\n",
       "      <td>13802.512</td>\n",
       "      <td>13999.0</td>\n",
       "      <td>13576.28</td>\n",
       "      <td>13768.040</td>\n",
       "      <td>38.780529</td>\n",
       "      <td>13783.598101</td>\n",
       "    </tr>\n",
       "    <tr>\n",
       "      <th>2018-01-01 00:05:00</th>\n",
       "      <td>742</td>\n",
       "      <td>13766.000</td>\n",
       "      <td>13955.9</td>\n",
       "      <td>13554.44</td>\n",
       "      <td>13724.914</td>\n",
       "      <td>108.501637</td>\n",
       "      <td>13735.586842</td>\n",
       "    </tr>\n",
       "  </tbody>\n",
       "</table>\n",
       "</div>"
      ],
      "text/plain": [
       "                     Count       Open     High       Low      Close  \\\n",
       "timestamp                                                             \n",
       "2018-01-01 00:01:00    229  13835.194  14013.8  13666.11  13850.176   \n",
       "2018-01-01 00:02:00    235  13835.036  14052.3  13680.00  13828.102   \n",
       "2018-01-01 00:03:00    528  13823.900  14000.4  13601.00  13801.314   \n",
       "2018-01-01 00:04:00    435  13802.512  13999.0  13576.28  13768.040   \n",
       "2018-01-01 00:05:00    742  13766.000  13955.9  13554.44  13724.914   \n",
       "\n",
       "                         Volume          VWAP  \n",
       "timestamp                                      \n",
       "2018-01-01 00:01:00   31.550062  13827.062093  \n",
       "2018-01-01 00:02:00   31.046432  13840.362591  \n",
       "2018-01-01 00:03:00   55.061820  13806.068014  \n",
       "2018-01-01 00:04:00   38.780529  13783.598101  \n",
       "2018-01-01 00:05:00  108.501637  13735.586842  "
      ]
     },
     "execution_count": 4,
     "metadata": {},
     "output_type": "execute_result"
    }
   ],
   "source": [
    "# Displaying first rows\n",
    "df.head()"
   ]
  },
  {
   "cell_type": "code",
   "execution_count": 5,
   "id": "682902d1",
   "metadata": {
    "ExecuteTime": {
     "end_time": "2023-04-08T10:27:30.840632Z",
     "start_time": "2023-04-08T10:27:30.356458Z"
    }
   },
   "outputs": [
    {
     "data": {
      "text/html": [
       "<div>\n",
       "<style scoped>\n",
       "    .dataframe tbody tr th:only-of-type {\n",
       "        vertical-align: middle;\n",
       "    }\n",
       "\n",
       "    .dataframe tbody tr th {\n",
       "        vertical-align: top;\n",
       "    }\n",
       "\n",
       "    .dataframe thead th {\n",
       "        text-align: right;\n",
       "    }\n",
       "</style>\n",
       "<table border=\"1\" class=\"dataframe\">\n",
       "  <thead>\n",
       "    <tr style=\"text-align: right;\">\n",
       "      <th></th>\n",
       "      <th>Count</th>\n",
       "      <th>Open</th>\n",
       "      <th>High</th>\n",
       "      <th>Low</th>\n",
       "      <th>Close</th>\n",
       "      <th>Volume</th>\n",
       "      <th>VWAP</th>\n",
       "    </tr>\n",
       "  </thead>\n",
       "  <tbody>\n",
       "    <tr>\n",
       "      <th>count</th>\n",
       "      <td>2.136278e+06</td>\n",
       "      <td>2.136278e+06</td>\n",
       "      <td>2.136278e+06</td>\n",
       "      <td>2.136278e+06</td>\n",
       "      <td>2.136278e+06</td>\n",
       "      <td>2.136278e+06</td>\n",
       "      <td>2.136278e+06</td>\n",
       "    </tr>\n",
       "    <tr>\n",
       "      <th>mean</th>\n",
       "      <td>1.140431e+03</td>\n",
       "      <td>1.871015e+04</td>\n",
       "      <td>1.875142e+04</td>\n",
       "      <td>1.867531e+04</td>\n",
       "      <td>1.871015e+04</td>\n",
       "      <td>8.959506e+01</td>\n",
       "      <td>1.870998e+04</td>\n",
       "    </tr>\n",
       "    <tr>\n",
       "      <th>std</th>\n",
       "      <td>1.615133e+03</td>\n",
       "      <td>1.786562e+04</td>\n",
       "      <td>1.787513e+04</td>\n",
       "      <td>1.785035e+04</td>\n",
       "      <td>1.786564e+04</td>\n",
       "      <td>1.509393e+02</td>\n",
       "      <td>1.786544e+04</td>\n",
       "    </tr>\n",
       "    <tr>\n",
       "      <th>min</th>\n",
       "      <td>1.000000e+00</td>\n",
       "      <td>3.149657e+03</td>\n",
       "      <td>3.176910e+03</td>\n",
       "      <td>3.120000e+03</td>\n",
       "      <td>3.151545e+03</td>\n",
       "      <td>1.000000e-04</td>\n",
       "      <td>3.152326e+03</td>\n",
       "    </tr>\n",
       "    <tr>\n",
       "      <th>25%</th>\n",
       "      <td>3.170000e+02</td>\n",
       "      <td>7.123990e+03</td>\n",
       "      <td>7.146973e+03</td>\n",
       "      <td>7.109173e+03</td>\n",
       "      <td>7.124021e+03</td>\n",
       "      <td>2.910561e+01</td>\n",
       "      <td>7.123969e+03</td>\n",
       "    </tr>\n",
       "    <tr>\n",
       "      <th>50%</th>\n",
       "      <td>6.350000e+02</td>\n",
       "      <td>9.504575e+03</td>\n",
       "      <td>9.520100e+03</td>\n",
       "      <td>9.490330e+03</td>\n",
       "      <td>9.504526e+03</td>\n",
       "      <td>5.089676e+01</td>\n",
       "      <td>9.504545e+03</td>\n",
       "    </tr>\n",
       "    <tr>\n",
       "      <th>75%</th>\n",
       "      <td>1.380000e+03</td>\n",
       "      <td>3.223343e+04</td>\n",
       "      <td>3.229500e+04</td>\n",
       "      <td>3.217598e+04</td>\n",
       "      <td>3.223236e+04</td>\n",
       "      <td>9.409524e+01</td>\n",
       "      <td>3.223299e+04</td>\n",
       "    </tr>\n",
       "    <tr>\n",
       "      <th>max</th>\n",
       "      <td>8.747800e+04</td>\n",
       "      <td>6.898612e+04</td>\n",
       "      <td>6.902420e+04</td>\n",
       "      <td>6.873400e+04</td>\n",
       "      <td>6.897356e+04</td>\n",
       "      <td>1.040500e+04</td>\n",
       "      <td>6.889405e+04</td>\n",
       "    </tr>\n",
       "  </tbody>\n",
       "</table>\n",
       "</div>"
      ],
      "text/plain": [
       "              Count          Open          High           Low         Close  \\\n",
       "count  2.136278e+06  2.136278e+06  2.136278e+06  2.136278e+06  2.136278e+06   \n",
       "mean   1.140431e+03  1.871015e+04  1.875142e+04  1.867531e+04  1.871015e+04   \n",
       "std    1.615133e+03  1.786562e+04  1.787513e+04  1.785035e+04  1.786564e+04   \n",
       "min    1.000000e+00  3.149657e+03  3.176910e+03  3.120000e+03  3.151545e+03   \n",
       "25%    3.170000e+02  7.123990e+03  7.146973e+03  7.109173e+03  7.124021e+03   \n",
       "50%    6.350000e+02  9.504575e+03  9.520100e+03  9.490330e+03  9.504526e+03   \n",
       "75%    1.380000e+03  3.223343e+04  3.229500e+04  3.217598e+04  3.223236e+04   \n",
       "max    8.747800e+04  6.898612e+04  6.902420e+04  6.873400e+04  6.897356e+04   \n",
       "\n",
       "             Volume          VWAP  \n",
       "count  2.136278e+06  2.136278e+06  \n",
       "mean   8.959506e+01  1.870998e+04  \n",
       "std    1.509393e+02  1.786544e+04  \n",
       "min    1.000000e-04  3.152326e+03  \n",
       "25%    2.910561e+01  7.123969e+03  \n",
       "50%    5.089676e+01  9.504545e+03  \n",
       "75%    9.409524e+01  3.223299e+04  \n",
       "max    1.040500e+04  6.889405e+04  "
      ]
     },
     "execution_count": 5,
     "metadata": {},
     "output_type": "execute_result"
    }
   ],
   "source": [
    "# Some statistical analysis\n",
    "df.describe()"
   ]
  },
  {
   "cell_type": "markdown",
   "id": "08aaf13d",
   "metadata": {},
   "source": [
    "## Data aggregation"
   ]
  },
  {
   "cell_type": "markdown",
   "id": "4c44dc5a",
   "metadata": {},
   "source": [
    "We are encouraged to add:\n",
    "- additional metrics (RSI, moving averages, ...) and indicators from technical analysis\n",
    "- additional data sources (from historical data API including FTX or Binance APIs)\n",
    "- use of resampling routine to:\n",
    "    - identify patterns\n",
    "    - reduce the length of our data sample"
   ]
  },
  {
   "cell_type": "markdown",
   "id": "908d930f",
   "metadata": {},
   "source": [
    "### Log-returns & Day-time range"
   ]
  },
  {
   "cell_type": "code",
   "execution_count": 11,
   "id": "f3afdb85",
   "metadata": {
    "ExecuteTime": {
     "end_time": "2023-04-08T10:30:04.302588Z",
     "start_time": "2023-04-08T10:30:01.408439Z"
    },
    "code_folding": []
   },
   "outputs": [],
   "source": [
    "# Adding the daytime range for each line\n",
    "try:\n",
    "    df_t = [obs.hour for obs in list(df.index)]\n",
    "    df[\"TimeRange\"] = [Utils.get_daytime_range(time_) for time_ in df_t]\n",
    "except KeyError:\n",
    "    pass"
   ]
  },
  {
   "cell_type": "code",
   "execution_count": 13,
   "id": "9796abda",
   "metadata": {
    "ExecuteTime": {
     "end_time": "2023-04-08T10:32:24.200792Z",
     "start_time": "2023-04-08T10:32:24.163896Z"
    }
   },
   "outputs": [],
   "source": [
    "# Computing log-returns\n",
    "df[\"LogReturns\"] = np.log(df[\"Close\"]).diff()\n",
    "df[\"LogReturns\"].fillna(0, inplace=True)"
   ]
  },
  {
   "cell_type": "code",
   "execution_count": 14,
   "id": "a2c9efcf",
   "metadata": {
    "ExecuteTime": {
     "end_time": "2023-04-08T10:32:25.846774Z",
     "start_time": "2023-04-08T10:32:25.827667Z"
    }
   },
   "outputs": [
    {
     "data": {
      "text/html": [
       "<div>\n",
       "<style scoped>\n",
       "    .dataframe tbody tr th:only-of-type {\n",
       "        vertical-align: middle;\n",
       "    }\n",
       "\n",
       "    .dataframe tbody tr th {\n",
       "        vertical-align: top;\n",
       "    }\n",
       "\n",
       "    .dataframe thead th {\n",
       "        text-align: right;\n",
       "    }\n",
       "</style>\n",
       "<table border=\"1\" class=\"dataframe\">\n",
       "  <thead>\n",
       "    <tr style=\"text-align: right;\">\n",
       "      <th></th>\n",
       "      <th>Count</th>\n",
       "      <th>Open</th>\n",
       "      <th>High</th>\n",
       "      <th>Low</th>\n",
       "      <th>Close</th>\n",
       "      <th>Volume</th>\n",
       "      <th>VWAP</th>\n",
       "      <th>LogReturns</th>\n",
       "      <th>TimeRange</th>\n",
       "    </tr>\n",
       "    <tr>\n",
       "      <th>timestamp</th>\n",
       "      <th></th>\n",
       "      <th></th>\n",
       "      <th></th>\n",
       "      <th></th>\n",
       "      <th></th>\n",
       "      <th></th>\n",
       "      <th></th>\n",
       "      <th></th>\n",
       "      <th></th>\n",
       "    </tr>\n",
       "  </thead>\n",
       "  <tbody>\n",
       "    <tr>\n",
       "      <th>2018-01-01 00:01:00</th>\n",
       "      <td>229</td>\n",
       "      <td>13835.194000</td>\n",
       "      <td>14013.8</td>\n",
       "      <td>13666.11</td>\n",
       "      <td>13850.176000</td>\n",
       "      <td>31.550062</td>\n",
       "      <td>13827.062093</td>\n",
       "      <td>0.000000</td>\n",
       "      <td>5</td>\n",
       "    </tr>\n",
       "    <tr>\n",
       "      <th>2018-01-01 00:02:00</th>\n",
       "      <td>235</td>\n",
       "      <td>13835.036000</td>\n",
       "      <td>14052.3</td>\n",
       "      <td>13680.00</td>\n",
       "      <td>13828.102000</td>\n",
       "      <td>31.046432</td>\n",
       "      <td>13840.362591</td>\n",
       "      <td>-0.001595</td>\n",
       "      <td>5</td>\n",
       "    </tr>\n",
       "    <tr>\n",
       "      <th>2018-01-01 00:03:00</th>\n",
       "      <td>528</td>\n",
       "      <td>13823.900000</td>\n",
       "      <td>14000.4</td>\n",
       "      <td>13601.00</td>\n",
       "      <td>13801.314000</td>\n",
       "      <td>55.061820</td>\n",
       "      <td>13806.068014</td>\n",
       "      <td>-0.001939</td>\n",
       "      <td>5</td>\n",
       "    </tr>\n",
       "    <tr>\n",
       "      <th>2018-01-01 00:04:00</th>\n",
       "      <td>435</td>\n",
       "      <td>13802.512000</td>\n",
       "      <td>13999.0</td>\n",
       "      <td>13576.28</td>\n",
       "      <td>13768.040000</td>\n",
       "      <td>38.780529</td>\n",
       "      <td>13783.598101</td>\n",
       "      <td>-0.002414</td>\n",
       "      <td>5</td>\n",
       "    </tr>\n",
       "    <tr>\n",
       "      <th>2018-01-01 00:05:00</th>\n",
       "      <td>742</td>\n",
       "      <td>13766.000000</td>\n",
       "      <td>13955.9</td>\n",
       "      <td>13554.44</td>\n",
       "      <td>13724.914000</td>\n",
       "      <td>108.501637</td>\n",
       "      <td>13735.586842</td>\n",
       "      <td>-0.003137</td>\n",
       "      <td>5</td>\n",
       "    </tr>\n",
       "    <tr>\n",
       "      <th>...</th>\n",
       "      <td>...</td>\n",
       "      <td>...</td>\n",
       "      <td>...</td>\n",
       "      <td>...</td>\n",
       "      <td>...</td>\n",
       "      <td>...</td>\n",
       "      <td>...</td>\n",
       "      <td>...</td>\n",
       "      <td>...</td>\n",
       "    </tr>\n",
       "    <tr>\n",
       "      <th>2022-01-23 23:56:00</th>\n",
       "      <td>1221</td>\n",
       "      <td>36278.361667</td>\n",
       "      <td>36331.0</td>\n",
       "      <td>36249.00</td>\n",
       "      <td>36293.123333</td>\n",
       "      <td>30.247067</td>\n",
       "      <td>36289.796806</td>\n",
       "      <td>0.000367</td>\n",
       "      <td>4</td>\n",
       "    </tr>\n",
       "    <tr>\n",
       "      <th>2022-01-23 23:57:00</th>\n",
       "      <td>1634</td>\n",
       "      <td>36289.681667</td>\n",
       "      <td>36328.0</td>\n",
       "      <td>36230.72</td>\n",
       "      <td>36261.708333</td>\n",
       "      <td>35.647000</td>\n",
       "      <td>36276.229399</td>\n",
       "      <td>-0.000866</td>\n",
       "      <td>4</td>\n",
       "    </tr>\n",
       "    <tr>\n",
       "      <th>2022-01-23 23:58:00</th>\n",
       "      <td>1570</td>\n",
       "      <td>36262.841667</td>\n",
       "      <td>36319.0</td>\n",
       "      <td>36230.30</td>\n",
       "      <td>36276.223333</td>\n",
       "      <td>49.867700</td>\n",
       "      <td>36274.441548</td>\n",
       "      <td>0.000400</td>\n",
       "      <td>4</td>\n",
       "    </tr>\n",
       "    <tr>\n",
       "      <th>2022-01-23 23:59:00</th>\n",
       "      <td>1459</td>\n",
       "      <td>36268.849570</td>\n",
       "      <td>36313.0</td>\n",
       "      <td>36231.71</td>\n",
       "      <td>36276.623333</td>\n",
       "      <td>43.030556</td>\n",
       "      <td>36274.613301</td>\n",
       "      <td>0.000011</td>\n",
       "      <td>4</td>\n",
       "    </tr>\n",
       "    <tr>\n",
       "      <th>2022-01-24 00:00:00</th>\n",
       "      <td>2917</td>\n",
       "      <td>36262.038571</td>\n",
       "      <td>36302.0</td>\n",
       "      <td>36176.45</td>\n",
       "      <td>36221.987143</td>\n",
       "      <td>110.053151</td>\n",
       "      <td>36247.575361</td>\n",
       "      <td>-0.001507</td>\n",
       "      <td>5</td>\n",
       "    </tr>\n",
       "  </tbody>\n",
       "</table>\n",
       "<p>2136278 rows × 9 columns</p>\n",
       "</div>"
      ],
      "text/plain": [
       "                     Count          Open     High       Low         Close  \\\n",
       "timestamp                                                                   \n",
       "2018-01-01 00:01:00    229  13835.194000  14013.8  13666.11  13850.176000   \n",
       "2018-01-01 00:02:00    235  13835.036000  14052.3  13680.00  13828.102000   \n",
       "2018-01-01 00:03:00    528  13823.900000  14000.4  13601.00  13801.314000   \n",
       "2018-01-01 00:04:00    435  13802.512000  13999.0  13576.28  13768.040000   \n",
       "2018-01-01 00:05:00    742  13766.000000  13955.9  13554.44  13724.914000   \n",
       "...                    ...           ...      ...       ...           ...   \n",
       "2022-01-23 23:56:00   1221  36278.361667  36331.0  36249.00  36293.123333   \n",
       "2022-01-23 23:57:00   1634  36289.681667  36328.0  36230.72  36261.708333   \n",
       "2022-01-23 23:58:00   1570  36262.841667  36319.0  36230.30  36276.223333   \n",
       "2022-01-23 23:59:00   1459  36268.849570  36313.0  36231.71  36276.623333   \n",
       "2022-01-24 00:00:00   2917  36262.038571  36302.0  36176.45  36221.987143   \n",
       "\n",
       "                         Volume          VWAP  LogReturns  TimeRange  \n",
       "timestamp                                                             \n",
       "2018-01-01 00:01:00   31.550062  13827.062093    0.000000          5  \n",
       "2018-01-01 00:02:00   31.046432  13840.362591   -0.001595          5  \n",
       "2018-01-01 00:03:00   55.061820  13806.068014   -0.001939          5  \n",
       "2018-01-01 00:04:00   38.780529  13783.598101   -0.002414          5  \n",
       "2018-01-01 00:05:00  108.501637  13735.586842   -0.003137          5  \n",
       "...                         ...           ...         ...        ...  \n",
       "2022-01-23 23:56:00   30.247067  36289.796806    0.000367          4  \n",
       "2022-01-23 23:57:00   35.647000  36276.229399   -0.000866          4  \n",
       "2022-01-23 23:58:00   49.867700  36274.441548    0.000400          4  \n",
       "2022-01-23 23:59:00   43.030556  36274.613301    0.000011          4  \n",
       "2022-01-24 00:00:00  110.053151  36247.575361   -0.001507          5  \n",
       "\n",
       "[2136278 rows x 9 columns]"
      ]
     },
     "execution_count": 14,
     "metadata": {},
     "output_type": "execute_result"
    }
   ],
   "source": [
    "df"
   ]
  },
  {
   "cell_type": "code",
   "execution_count": 7,
   "id": "7125095b",
   "metadata": {
    "ExecuteTime": {
     "end_time": "2023-04-08T10:27:40.688971Z",
     "start_time": "2023-04-08T10:27:37.528984Z"
    }
   },
   "outputs": [
    {
     "data": {
      "image/png": "[encoded data removed]",
      "text/plain": [
       "<Figure size 1200x500 with 1 Axes>"
      ]
     },
     "metadata": {},
     "output_type": "display_data"
    }
   ],
   "source": [
    "# Plotting log-returns\n",
    "_ = df[\"LogReturns\"].plot()\n",
    "_ = plt.title(\"Log-returns of Bitcoin (All sample)\")\n",
    "_ = plt.xlabel(\"Date/Time\")\n",
    "_ = plt.ylabel(\"Log-returns\")\n",
    "_ = plt.grid()"
   ]
  },
  {
   "cell_type": "code",
   "execution_count": 21,
   "id": "e007ca47",
   "metadata": {
    "ExecuteTime": {
     "end_time": "2023-04-08T10:42:21.148850Z",
     "start_time": "2023-04-08T10:42:19.658415Z"
    }
   },
   "outputs": [
    {
     "data": {
      "image/png": "[encoded data removed]",
      "text/plain": [
       "<Figure size 1200x500 with 1 Axes>"
      ]
     },
     "metadata": {},
     "output_type": "display_data"
    }
   ],
   "source": [
    "# Plotting log-returns\n",
    "_ = df[\"LogReturns\"].hist(bins=1000, density=True)\n",
    "_ = plt.xlim([-0.01, 0.01])\n",
    "_ = plt.title(\"Histogram of log-returns for Bitcoin\")\n",
    "_ = plt.xlabel(\"Log-returns possible values\")\n",
    "_ = plt.ylabel(\"Density\")"
   ]
  },
  {
   "cell_type": "markdown",
   "id": "f19254ad",
   "metadata": {},
   "source": [
    "### Technical analysis indicators"
   ]
  },
  {
   "cell_type": "code",
   "execution_count": 20,
   "id": "f50f5d64",
   "metadata": {
    "ExecuteTime": {
     "end_time": "2023-04-08T10:35:29.292945Z",
     "start_time": "2023-04-08T10:35:29.288188Z"
    }
   },
   "outputs": [],
   "source": [
    "# TODO"
   ]
  },
  {
   "cell_type": "code",
   "execution_count": null,
   "id": "7d1410a0",
   "metadata": {},
   "outputs": [],
   "source": [
    "# RSI\n",
    "# Momentum\n",
    "# Bollinger bands\n",
    "# Standard deviation\n",
    "# ..."
   ]
  },
  {
   "cell_type": "markdown",
   "id": "2a41909f",
   "metadata": {},
   "source": [
    "### Moving averages"
   ]
  },
  {
   "cell_type": "code",
   "execution_count": 19,
   "id": "edd8ae77",
   "metadata": {
    "ExecuteTime": {
     "end_time": "2023-04-08T10:35:28.226980Z",
     "start_time": "2023-04-08T10:35:28.222487Z"
    },
    "code_folding": []
   },
   "outputs": [],
   "source": [
    "# TODO"
   ]
  },
  {
   "cell_type": "code",
   "execution_count": null,
   "id": "777e8c0a",
   "metadata": {},
   "outputs": [],
   "source": [
    "# SLOW, MEDIUM, FAST"
   ]
  },
  {
   "cell_type": "markdown",
   "id": "9d7155fc",
   "metadata": {},
   "source": [
    "### External data sources (e.g. Binance, Coinbase, FTX, ...)"
   ]
  },
  {
   "cell_type": "markdown",
   "id": "306788ef",
   "metadata": {},
   "source": [
    "$\\longrightarrow$ Potential extension"
   ]
  },
  {
   "cell_type": "markdown",
   "id": "54aae690",
   "metadata": {},
   "source": [
    "## Data pre-processing"
   ]
  },
  {
   "cell_type": "code",
   "execution_count": null,
   "id": "9ad9a8d0",
   "metadata": {},
   "outputs": [],
   "source": [
    "# Computation of the target"
   ]
  },
  {
   "cell_type": "code",
   "execution_count": 25,
   "id": "68d4eb13",
   "metadata": {
    "ExecuteTime": {
     "end_time": "2023-04-07T21:59:43.692681Z",
     "start_time": "2023-04-07T21:59:43.688313Z"
    }
   },
   "outputs": [],
   "source": [
    "# Normalization (see YouTube)"
   ]
  },
  {
   "cell_type": "code",
   "execution_count": null,
   "id": "9842ff9d",
   "metadata": {},
   "outputs": [],
   "source": [
    "# X/Y split"
   ]
  },
  {
   "cell_type": "code",
   "execution_count": null,
   "id": "06297fce",
   "metadata": {},
   "outputs": [],
   "source": [
    "# Train/Test/Validation split"
   ]
  },
  {
   "cell_type": "code",
   "execution_count": null,
   "id": "7589850e",
   "metadata": {},
   "outputs": [],
   "source": []
  },
  {
   "cell_type": "code",
   "execution_count": null,
   "id": "38ed92a5",
   "metadata": {},
   "outputs": [],
   "source": []
  },
  {
   "cell_type": "code",
   "execution_count": null,
   "id": "ed2251b0",
   "metadata": {},
   "outputs": [],
   "source": []
  },
  {
   "cell_type": "code",
   "execution_count": null,
   "id": "30f7b054",
   "metadata": {},
   "outputs": [],
   "source": []
  },
  {
   "cell_type": "code",
   "execution_count": null,
   "id": "d0eb3a15",
   "metadata": {},
   "outputs": [],
   "source": []
  },
  {
   "cell_type": "code",
   "execution_count": null,
   "id": "f3cc37cb",
   "metadata": {},
   "outputs": [],
   "source": []
  },
  {
   "cell_type": "code",
   "execution_count": null,
   "id": "3a1a494e",
   "metadata": {},
   "outputs": [],
   "source": []
  },
  {
   "cell_type": "code",
   "execution_count": null,
   "id": "843fc776",
   "metadata": {},
   "outputs": [],
   "source": []
  }
 ],
 "metadata": {
  "kernelspec": {
   "display_name": "Python 3 (ipykernel)",
   "language": "python",
   "name": "python3"
  },
  "language_info": {
   "codemirror_mode": {
    "name": "ipython",
    "version": 3
   },
   "file_extension": ".py",
   "mimetype": "text/x-python",
   "name": "python",
   "nbconvert_exporter": "python",
   "pygments_lexer": "ipython3",
   "version": "3.10.6"
  },
  "toc": {
   "base_numbering": 1,
   "nav_menu": {},
   "number_sections": true,
   "sideBar": true,
   "skip_h1_title": false,
   "title_cell": "Table of Contents",
   "title_sidebar": "Contents",
   "toc_cell": false,
   "toc_position": {},
   "toc_section_display": true,
   "toc_window_display": false
  }
 },
 "nbformat": 4,
 "nbformat_minor": 5
}
